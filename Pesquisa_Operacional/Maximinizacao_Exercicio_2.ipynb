{
 "cells": [
  {
   "cell_type": "markdown",
   "id": "3597beee-9b92-4b87-acd9-11b6511c1579",
   "metadata": {},
   "source": [
    "# PESQUISA OPERACIONAL"
   ]
  },
  {
   "cell_type": "markdown",
   "id": "fd85deec-469d-4c70-b391-8a6890b9d457",
   "metadata": {},
   "source": [
    "## AULA 2 - MAXIMINIZAÇÃO"
   ]
  },
  {
   "cell_type": "markdown",
   "id": "7cd9dd51-5f50-45ea-ba9b-af01bfe61f36",
   "metadata": {},
   "source": [
    "### Exercício 2 (ENADE)"
   ]
  },
  {
   "cell_type": "markdown",
   "id": "c2e1d9a4-23c6-464f-a7c1-cafb354ec004",
   "metadata": {},
   "source": [
    "<p style=\"text-align: justify; text-indent: 2rem\">\n",
    "    Uma fábrica produz dois refrigerantes: A e B. Para produzí-los, utilizam-se vários recursos, entre os quais os extratos e a água são os mais limitantes, devido a problemas ecológicos.\n",
    "</p>\n",
    "\n",
    "<p style=\"text-align: justify; text-indent: 2rem\">\n",
    "    Para produzir um litro do refrigerante A, o processo envolve a dissolução de um pacote do extrato (denominado Delta)em um litro de água, além de outros recursos que não são limitantes.\n",
    "</p>\n",
    "\n",
    "<p style=\"text-align: justify; text-indent: 2rem\">\n",
    "    Já a produção de um litro do refrigerante B, além da dissolução de um pacote de extrato (denominado Gama) em um litro de água, exige mais um litro de outros recursos para o processo de arrefecimento, além de outros recursos não limitantes.\n",
    "</p>"
   ]
  },
  {
   "cell_type": "markdown",
   "id": "0aa4c068-0b5b-41b5-9b92-1fb4ebd2bc85",
   "metadata": {},
   "source": [
    "<p style=\"text-align: justify; text-indent: 2rem\">\n",
    "    Sabe-se que:\n",
    "</p>\n",
    "<p style=\"text-align: justify; text-indent: 2rem\">\n",
    "    a) O lucro gerado por litro de A é R\\$5, enquanto que o lucro por litro de B é R\\$2.\n",
    "</p>\n",
    "<p style=\"text-align: justify; text-indent: 2rem\">\n",
    "    b) O fornecedor de extratos só consegue entregar 3.000 pacotes de extrato Delta e 4.000 pacotes de extrato gama, semanalmente.\n",
    "</p>\n",
    "<p style=\"text-align: justify; text-indent: 2rem\">\n",
    "    c) Há umf ator ambiental limitante de 9.000 litros de água por semana.\n",
    "</p>\n",
    "\n",
    "<p style=\"text-align: justify; text-indent: 2rem\">\n",
    "    Denominando de $X1$ a quantidade de litros de refrigerante A e $X2$, a quantidade de refrigerante B a serem produzidos, qual deverá ser o plano de produção semanal viável para gerar o maior lucro a essa fábrica, dentro das condições apresentadas?\n",
    "</p>"
   ]
  },
  {
   "cell_type": "code",
   "execution_count": null,
   "id": "f97ee8b5-0d6a-44b3-9acf-06fd2d72770f",
   "metadata": {},
   "outputs": [],
   "source": []
  },
  {
   "cell_type": "markdown",
   "id": "d97f3bbf-dec6-48de-83c8-6c335c1e7bb3",
   "metadata": {},
   "source": [
    "**Solução:**"
   ]
  },
  {
   "cell_type": "markdown",
   "id": "2cad8439-0935-40ef-9de2-d29f39f55b3b",
   "metadata": {},
   "source": [
    "Máx $ L(X_{1}, X_{2}) = 5X_{1} + 2X_{2} $"
   ]
  },
  {
   "cell_type": "markdown",
   "id": "ae9ab87f-3745-42c5-a9ed-b99e472a0aec",
   "metadata": {},
   "source": [
    "Sujeito a"
   ]
  },
  {
   "cell_type": "markdown",
   "id": "087b5944-4367-4dd6-9a24-641a84122b46",
   "metadata": {},
   "source": [
    "$X_{1} \\le 3.000 $\n",
    "\n",
    "$X_{2} \\le 4.000 $\n",
    "\n",
    "$5X_{1} + 2X_{2} \\le 9.000 $\n",
    "\n",
    "$X_{1} , X_{2} \\ge 0 $"
   ]
  },
  {
   "cell_type": "markdown",
   "id": "d68e00a1-cc90-44d8-a8e0-813996d272e3",
   "metadata": {},
   "source": [
    "![](grafico-ex-2.png)"
   ]
  },
  {
   "cell_type": "code",
   "execution_count": null,
   "id": "5ec4158f-f09b-4662-abf0-e124d346e251",
   "metadata": {},
   "outputs": [],
   "source": []
  }
 ],
 "metadata": {
  "kernelspec": {
   "display_name": "Python 3 (ipykernel)",
   "language": "python",
   "name": "python3"
  },
  "language_info": {
   "codemirror_mode": {
    "name": "ipython",
    "version": 3
   },
   "file_extension": ".py",
   "mimetype": "text/x-python",
   "name": "python",
   "nbconvert_exporter": "python",
   "pygments_lexer": "ipython3",
   "version": "3.12.1"
  }
 },
 "nbformat": 4,
 "nbformat_minor": 5
}
