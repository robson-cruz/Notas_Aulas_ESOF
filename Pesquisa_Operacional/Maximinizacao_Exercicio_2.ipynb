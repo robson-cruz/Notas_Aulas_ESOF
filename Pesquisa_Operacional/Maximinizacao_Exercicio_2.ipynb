{
 "cells": [
  {
   "cell_type": "markdown",
   "id": "3597beee-9b92-4b87-acd9-11b6511c1579",
   "metadata": {},
   "source": [
    "# PESQUISA OPERACIONAL"
   ]
  },
  {
   "cell_type": "markdown",
   "id": "fd85deec-469d-4c70-b391-8a6890b9d457",
   "metadata": {},
   "source": [
    "## MAXIMINIZAÇÃO"
   ]
  },
  {
   "cell_type": "markdown",
   "id": "7cd9dd51-5f50-45ea-ba9b-af01bfe61f36",
   "metadata": {},
   "source": [
    "### Exercício 2 (ENADE)"
   ]
  },
  {
   "cell_type": "markdown",
   "id": "c2e1d9a4-23c6-464f-a7c1-cafb354ec004",
   "metadata": {},
   "source": [
    "<p style=\"text-align: justify; text-indent: 2rem\">\n",
    "    Uma fábrica produz dois refrigerantes: A e B. Para produzí-los, utilizam-se vários recursos, entre os quais os extratos e a água são os mais limitantes, devido a problemas ecológicos.\n",
    "</p>\n",
    "\n",
    "<p style=\"text-align: justify; text-indent: 2rem\">\n",
    "    Para produzir um litro do refrigerante A, o processo envolve a dissolução de um pacote do extrato (denominado Delta)em um litro de água, além de outros recursos que não são limitantes.\n",
    "</p>\n",
    "\n",
    "<p style=\"text-align: justify; text-indent: 2rem\">\n",
    "    Já a produção de um litro do refrigerante B, além da dissolução de um pacote de extrato (denominado Gama) em um litro de água, exige mais um litro de outros recursos para o processo de arrefecimento, além de outros recursos não limitantes.\n",
    "</p>"
   ]
  },
  {
   "cell_type": "markdown",
   "id": "0aa4c068-0b5b-41b5-9b92-1fb4ebd2bc85",
   "metadata": {},
   "source": [
    "<p style=\"text-align: justify; text-indent: 2rem\">\n",
    "    Sabe-se que:\n",
    "</p>\n",
    "<p style=\"text-align: justify; text-indent: 2rem\">\n",
    "    a) O lucro gerado por litro de A é R\\$5, enquanto que o lucro por litro de B é R\\$2.\n",
    "</p>\n",
    "<p style=\"text-align: justify; text-indent: 2rem\">\n",
    "    b) O fornecedor de extratos só consegue entregar 3.000 pacotes de extrato Delta e 4.000 pacotes de extrato Gama, semanalmente.\n",
    "</p>\n",
    "<p style=\"text-align: justify; text-indent: 2rem\">\n",
    "    c) Há umf ator ambiental limitante de 9.000 litros de água por semana.\n",
    "</p>\n",
    "\n",
    "<p style=\"text-align: justify; text-indent: 2rem\">\n",
    "    Denominando de $X1$ a quantidade de litros de refrigerante A e $X2$, a quantidade de refrigerante B a serem produzidos, qual deverá ser o plano de produção semanal viável para gerar o maior lucro a essa fábrica, dentro das condições apresentadas?\n",
    "</p>"
   ]
  },
  {
   "cell_type": "code",
   "execution_count": null,
   "id": "f97ee8b5-0d6a-44b3-9acf-06fd2d72770f",
   "metadata": {},
   "outputs": [],
   "source": []
  },
  {
   "cell_type": "markdown",
   "id": "d97f3bbf-dec6-48de-83c8-6c335c1e7bb3",
   "metadata": {},
   "source": [
    "## Solução pelo Método Gráfico:"
   ]
  },
  {
   "cell_type": "markdown",
   "id": "2cad8439-0935-40ef-9de2-d29f39f55b3b",
   "metadata": {},
   "source": [
    "Máx $ L(X_{1}, X_{2}) = 5X_{1} + 2X_{2} $"
   ]
  },
  {
   "cell_type": "markdown",
   "id": "ae9ab87f-3745-42c5-a9ed-b99e472a0aec",
   "metadata": {},
   "source": [
    "Sujeito a"
   ]
  },
  {
   "cell_type": "markdown",
   "id": "087b5944-4367-4dd6-9a24-641a84122b46",
   "metadata": {},
   "source": [
    "$X_{1} \\le 3.000 $\n",
    "\n",
    "$X_{2} \\le 4.000 $\n",
    "\n",
    "$X_{1} + 2X_{2} \\le 9.000 $\n",
    "\n",
    "$X_{1} , X_{2} \\ge 0 $"
   ]
  },
  {
   "cell_type": "markdown",
   "id": "d68e00a1-cc90-44d8-a8e0-813996d272e3",
   "metadata": {},
   "source": [
    "![](grafico-ex-2.png)"
   ]
  },
  {
   "cell_type": "markdown",
   "id": "06e6625c-c728-4315-aed6-3540fbe34be3",
   "metadata": {},
   "source": [
    "$ A(0,0) \\quad \\quad \\quad L_{A} = 0$"
   ]
  },
  {
   "cell_type": "markdown",
   "id": "d1bdf399-5cef-4851-9e77-c6ee68bdd762",
   "metadata": {},
   "source": [
    "$ B(3000,0) \\quad \\quad \\quad L_{B} = 5.3000 + 2.0 = 15.000$"
   ]
  },
  {
   "cell_type": "markdown",
   "id": "dc9621c9-8252-4f60-9098-eef0eb178662",
   "metadata": {},
   "source": [
    "$ C(3000,3000) \\quad \\quad \\quad L_{C} = 5.3000 + 2.3000 = 21.000$"
   ]
  },
  {
   "cell_type": "markdown",
   "id": "51c94913-69d0-4c55-8fbc-a0bad8befa8d",
   "metadata": {},
   "source": [
    "$ D(1000,4000) \\quad \\quad \\quad L_{D} = 5.1000 + 2.4000 = 13.000$"
   ]
  },
  {
   "cell_type": "markdown",
   "id": "061142bd-1cb0-4f05-924e-bc9dbaba8b7e",
   "metadata": {},
   "source": [
    "$ E(0,4000) \\quad \\quad \\quad L_{E} = 5.0 + 2.4000 = 8.000$"
   ]
  },
  {
   "cell_type": "code",
   "execution_count": null,
   "id": "f8e76786-6e1d-4d87-9e4e-96b3a5c3c8fa",
   "metadata": {},
   "outputs": [],
   "source": []
  },
  {
   "cell_type": "markdown",
   "id": "18bd3070-20b7-4ac0-82c3-796b36a8cf02",
   "metadata": {},
   "source": [
    "## Solução pelo Método Simplex"
   ]
  },
  {
   "cell_type": "markdown",
   "id": "7d824151-6256-4f4b-90ad-8fc40bb65656",
   "metadata": {},
   "source": [
    "**1. Inserir as variáveis de folga**"
   ]
  },
  {
   "cell_type": "markdown",
   "id": "2b19cc07-a7ca-40d4-8e7c-cd6eb47ad688",
   "metadata": {},
   "source": [
    "$ L -5X_{1} - 2X_{2} = 0 $"
   ]
  },
  {
   "cell_type": "markdown",
   "id": "6c02264f-008e-497b-8418-1e547e2f21dc",
   "metadata": {},
   "source": [
    "$ X_{1} + f_{1} = 3000 $"
   ]
  },
  {
   "cell_type": "markdown",
   "id": "dd16f227-d14d-4b3a-a50e-7ce49570773e",
   "metadata": {},
   "source": [
    "$ X_{2} + f_{2} = 4000 $"
   ]
  },
  {
   "cell_type": "markdown",
   "id": "d4783887-a6e7-4976-a240-ecd681bf0c3d",
   "metadata": {},
   "source": [
    "$ X_{1} + 2X_{2} + f_{3} = 9000 $"
   ]
  },
  {
   "cell_type": "markdown",
   "id": "cae58cd7-74a4-4b5b-8f59-3929a05542eb",
   "metadata": {},
   "source": [
    "**2. Construção do Tabela inicial**"
   ]
  },
  {
   "cell_type": "markdown",
   "id": "85b6a3bc-4f35-4b3d-ba4e-2822ae88fc17",
   "metadata": {},
   "source": [
    "|    | L  | $X_{1}$ | $X_{2}$ | $f_{1}$ | $f_{2}$ | $f_{3}$ | LD |\n",
    "|:--:|:--:|:-----:|:-----:|:-----:|:-----:|:-----:|:---:|\n",
    "|**L1**| 1 | -5 | -2 | 0 | 0 | 0 | 0 |\n",
    "|**L2**| 0 | 1 | 0 | 1 | 0 | 0 | 3000 |\n",
    "|**L3**| 0 | 0 | 1 | 0 | 1 | 0 | 4000 |\n",
    "|**L4**| 0 | 1 | 2 | 0 | 0 | 1 | 9000 |"
   ]
  },
  {
   "cell_type": "markdown",
   "id": "24e70d70-c1fd-4875-849d-bd3f6117664a",
   "metadata": {},
   "source": [
    "A linha L1 é referente a função objetivo (L). A linha L2 é a primeira variável de folga ($f_{1}$) e assim por diante."
   ]
  },
  {
   "cell_type": "code",
   "execution_count": null,
   "id": "2690228d-67eb-4e03-beba-ec0727af43f9",
   "metadata": {},
   "outputs": [],
   "source": []
  },
  {
   "cell_type": "markdown",
   "id": "2ac9d8d0-028a-490a-8efc-899be40b43c5",
   "metadata": {},
   "source": [
    "**3. Seleção da Coluna Pivô**\n",
    "   \n",
    "A coluna pivô é coluna que tem o maior valor absoluta entre varáveis não básicas ($X_{1}$ e $X_{2}$).\n",
    "\n",
    "Calcular a coluna Quociente dividindo os valores de LD pelos valores da colunas pivô."
   ]
  },
  {
   "cell_type": "markdown",
   "id": "01e0099d-2ed1-424c-b56c-0de3a8531f1f",
   "metadata": {},
   "source": [
    "|    | L  | $\\color{red}X_{1}$ | $X_{2}$ | $f_{1}$ | $f_{2}$ | $f_{3}$ | LD | $\\color{blue}Quociente$ |\n",
    "|:--:|:--:|:------------------:|:-------:|:-------:|:-------:|:-------:|:--:|:---------:|\n",
    "|**L1**| 1 | $\\color{red}-5$ | -2 | 0 | 0 | 0 | 0 | $\\color{blue}-$ |\n",
    "|**L2**| 0 | $\\color{red}1$ | 0 | 1 | 0 | 0 | 3000 | $\\color{blue}3000$ |\n",
    "|**L3**| 0 | $\\color{red}0$ | 1 | 0 | 1 | 0 | 4000 | $\\color{blue}-$ |\n",
    "|**L4**| 0 | $\\color{red}1$ | 2 | 0 | 0 | 1 | 9000 | $\\color{blue}9000$ |"
   ]
  },
  {
   "cell_type": "markdown",
   "id": "6bb91d1b-791d-4be5-a9b3-6241ddb663e1",
   "metadata": {},
   "source": [
    "**4. Seleção da Linha Pivô (LP)**\n",
    "\n",
    "A linha pivô é a que possui o menor valor de quociente."
   ]
  },
  {
   "cell_type": "markdown",
   "id": "56d93953-313b-4c19-8c60-d7468612ff43",
   "metadata": {},
   "source": [
    "|    | L  | $\\color{red}X_{1}$ | $X_{2}$ | $f_{1}$ | $f_{2}$ | $f_{3}$ | LD | $\\color{blue}Quociente$ |\n",
    "|:--:|:--:|:------------------:|:-------:|:-------:|:-------:|:-------:|:--:|:---------:|\n",
    "|**L1**| 1 | $\\color{red}-5$ | -2 | 0 | 0 | 0 | 0 | $\\color{blue}-$ |\n",
    "|**$\\color{red}L2$**| $\\color{red}0$ | $\\color{red}1$ |$\\color{red}0$ | $\\color{red}1$ | $\\color{red}0$| $\\color{red}0$ | | $\\color{red}3000$ | $\\color{red}3000$ |\n",
    "|**L3**| 0 | $\\color{red}0$ | 1 | 0 | 1 | 0 | 4000 | $\\color{blue}-$ |\n",
    "|**L4**| 0 | $\\color{red}1$ | 2 | 0 | 0 | 1 | 9000 | $\\color{blue}9000$ |"
   ]
  },
  {
   "cell_type": "markdown",
   "id": "00581600-7384-40b5-bf80-9246f9fe8cb6",
   "metadata": {},
   "source": [
    "A interseção entre a coluna pivô e a linha pivô, indica o elemento pivô, que no presente caso é 1."
   ]
  },
  {
   "cell_type": "markdown",
   "id": "b08a9c49-8764-40d0-a166-64ae152dd0eb",
   "metadata": {},
   "source": [
    "**5. Calcular a Nova Linha Pivô (NLP)**"
   ]
  },
  {
   "cell_type": "markdown",
   "id": "cf4d16d0-7114-4dcc-964f-97b9f8cdcfd4",
   "metadata": {},
   "source": [
    "$ NLP = \\displaystyle\\frac{1}{pivô}.LP$"
   ]
  },
  {
   "cell_type": "markdown",
   "id": "2ee7e353-94a7-4e5e-b179-79167714a40a",
   "metadata": {},
   "source": [
    "Onde: $pivô$ = elemento pivô"
   ]
  },
  {
   "cell_type": "markdown",
   "id": "cd0a116e-513f-4ebe-a8e6-e02504d1a94e",
   "metadata": {},
   "source": [
    "$ NLP = \\displaystyle\\frac{1}{1}.(0,1,0,1,0,0,3000)$"
   ]
  },
  {
   "cell_type": "markdown",
   "id": "6895539d-4db7-4600-9acd-b20a78acf257",
   "metadata": {},
   "source": [
    "$ NLP = (0,1,0,1,0,0,3000)$"
   ]
  },
  {
   "cell_type": "markdown",
   "id": "d9aeb1d0-56da-44a4-b2f9-a1386673a5c3",
   "metadata": {},
   "source": [
    "**6. Primeira Iteração**"
   ]
  },
  {
   "cell_type": "markdown",
   "id": "0b5d3b5a-8e6d-407b-8869-9b3a6b8ff277",
   "metadata": {},
   "source": [
    "Mantem-se a nova linha pivô na tabele e calcula-se a nova linha 1 (L1)."
   ]
  },
  {
   "cell_type": "markdown",
   "id": "3c1b0593-7ad5-47ab-b1a7-e1fa0b73a8cc",
   "metadata": {},
   "source": [
    "$ NL1 = L1 - coeficiente \\,da \\,linha1 \\,. NLP$"
   ]
  },
  {
   "cell_type": "markdown",
   "id": "7b369c0a-c511-4afb-9bef-e0e424d6ff77",
   "metadata": {},
   "source": [
    "$NL1 = (1,-5,-2,0,0,0,0) - (-5) . (0,1,0,1,0,0,3000)$"
   ]
  },
  {
   "cell_type": "markdown",
   "id": "ad0767f5-af1a-4e34-aea9-b9ae90b9b899",
   "metadata": {},
   "source": [
    "$NL1 = (1,-5,-2,0,0,0,0) + (0,5,0,5,0,0,15000)$"
   ]
  },
  {
   "cell_type": "markdown",
   "id": "9abb223d-51f1-4234-970c-040dd73ac9ba",
   "metadata": {},
   "source": [
    "$NL1 = (1, 0, -2, 5, 0, 0, 15000)$"
   ]
  },
  {
   "cell_type": "markdown",
   "id": "8f36227f-4788-47d7-a7fe-9b078a62ca26",
   "metadata": {},
   "source": [
    "|    | L  | $X_{1}$ | $X_{2}$ | $f_{1}$ | $f_{2}$ | $f_{3}$ | LD |\n",
    "|:--:|:--:|:-----:|:-----:|:-----:|:-----:|:-----:|:---:|\n",
    "|**L1**| 1 | 0 | -2 | 5 | 0 | 0 | 15000 |\n",
    "|**L2**| 0 | 1 | 0 | 1 | 0 | 0 | 3000 |\n",
    "|**L3**|  |  |  |  |  |  |  |\n",
    "|**L4**|  |  |  |  |  |  |  |"
   ]
  },
  {
   "cell_type": "markdown",
   "id": "9eb14a77-b14a-4924-a514-99efb89e699a",
   "metadata": {},
   "source": [
    "Calcular as interações para a nova linha 3 (NL3) e a nova linha 4 9L4)."
   ]
  },
  {
   "cell_type": "markdown",
   "id": "49d356d4-2afc-408a-af43-9df206e64377",
   "metadata": {},
   "source": [
    "$NL3 = L3 - coeficiente \\,da \\,linha3 \\,. NLP$"
   ]
  },
  {
   "cell_type": "markdown",
   "id": "23b64ae0-5f72-4be7-a99f-9eea160893a0",
   "metadata": {},
   "source": [
    "$NL3 = (0, 0, 1, 0, 1, 0, 4000) - 0 . (0,1,0,1,0,0,3000)$"
   ]
  },
  {
   "cell_type": "markdown",
   "id": "77d58e56-0fe4-42a3-ab4b-223cbcdc5825",
   "metadata": {},
   "source": [
    "$NL3 = (0, 0, 1, 0, 1, 0, 4000)$"
   ]
  },
  {
   "cell_type": "markdown",
   "id": "c8e8360b-cdf9-4293-8016-5656d74f85c1",
   "metadata": {},
   "source": [
    "|    | L  | $X_{1}$ | $X_{2}$ | $f_{1}$ | $f_{2}$ | $f_{3}$ | LD |\n",
    "|:--:|:--:|:-----:|:-----:|:-----:|:-----:|:-----:|:---:|\n",
    "|**L1**| 1 | 0 | -2 | 5 | 0 | 0 | 15000 |\n",
    "|**L2**| 0 | 1 | 0 | 1 | 0 | 0 | 3000 |\n",
    "|**L3**| 0 | 0 | 1 | 0 | 1 | 0 | 4000 |\n",
    "|**L4**|  |  |  |  |  |  |  |"
   ]
  },
  {
   "cell_type": "markdown",
   "id": "10438356-35e4-4f15-b12a-503ad0bd18b7",
   "metadata": {},
   "source": [
    "$NL4 = L4 - coeficiente \\,da \\,linha4 \\,. NLP$"
   ]
  },
  {
   "cell_type": "markdown",
   "id": "1b1962e9-a80e-4ad2-a899-7fddaf4bce55",
   "metadata": {},
   "source": [
    "$NL4 = (0,1,2,0,0,1,9000) - 1 \\,. (0,1,0,1,0,0,3000)$"
   ]
  },
  {
   "cell_type": "markdown",
   "id": "0a8c6a74-1b95-4730-a085-c755672557c8",
   "metadata": {},
   "source": [
    "$NL4 = (0,1,2,0,0,1,9000) - (0,1,0,1,0,0,3000)$"
   ]
  },
  {
   "cell_type": "markdown",
   "id": "0a4e34cd-f902-4231-9501-eff987778d4a",
   "metadata": {},
   "source": [
    "$NL4 = (0,0,2,-1,0,1,6000)$"
   ]
  },
  {
   "cell_type": "markdown",
   "id": "1a8e8992-91e8-475d-9649-e7aea2439af1",
   "metadata": {},
   "source": [
    "|    | L  | $X_{1}$ | $X_{2}$ | $f_{1}$ | $f_{2}$ | $f_{3}$ | LD |\n",
    "|:--:|:--:|:-----:|:-----:|:-----:|:-----:|:-----:|:---:|\n",
    "|**L1**| 1 | 0 | -2 | 5 | 0 | 0 | 15000 |\n",
    "|**L2**| 0 | 1 | 0 | 1 | 0 | 0 | 3000 |\n",
    "|**L3**| 0 | 0 | 1 | 0 | 1 | 0 | 4000 |\n",
    "|**L4**| 0 | 0 | 2 | -1 | 0 | 1 | 6000 |"
   ]
  },
  {
   "cell_type": "markdown",
   "id": "b5ad119d-09aa-4c66-8b88-fb8b7ce4764d",
   "metadata": {},
   "source": [
    "O valor negativo -2 na variável não básica $X_{2}$ indica que a iteração ainda não acabou."
   ]
  },
  {
   "cell_type": "markdown",
   "id": "f6f1463c-1af5-43f1-b141-92576abd4c9b",
   "metadata": {},
   "source": [
    "**7. Preparação para Segunda Interação**"
   ]
  },
  {
   "cell_type": "markdown",
   "id": "80033909-9832-4a49-8674-783f64883638",
   "metadata": {},
   "source": [
    "A coluna da variável não básica $X_{2}$ possui o maior valor absoluto entre as varíaveis não básicas, portanto é a nova coluna pivô."
   ]
  },
  {
   "cell_type": "markdown",
   "id": "3d3501d1-1b29-4970-9ef6-7234eaca4394",
   "metadata": {},
   "source": [
    "|    | L  | $X_{1}$ | $\\color{red}X_{2}$ | $f_{1}$ | $f_{2}$ | $f_{3}$ | LD | $\\color{blue}Quaciente$ |\n",
    "|:--:|:--:|:-----:|:-----:|:-----:|:-----:|:-----:|:---:|:------------:|\n",
    "|**L1**| 1 | 0 | $\\color{red}-2$ | 5 | 0 | 0 | 15000 | $\\color{blue} -$|\n",
    "|**L2**| 0 | 1 | $\\color{red}0$ | 1 | 0 | 0 | 3000 |$\\color{blue} -$|\n",
    "|**L3**| 0 | 0 | $\\color{red}1$ | 0 | 1 | 0 | 4000 |$\\color{blue} 4000$|\n",
    "|**L4**| 0 | 0 | $\\color{red}2$ | -1 | 0 | 1 | 6000 |$\\color{blue} 3000$|"
   ]
  },
  {
   "cell_type": "markdown",
   "id": "0592bfd1-45ed-4e4f-952f-69261befb997",
   "metadata": {},
   "source": [
    "A linha L4 é a linha pivô, pois possui o menor valor de quociente."
   ]
  },
  {
   "cell_type": "markdown",
   "id": "c48d516d-ca4f-41a1-9ce8-221bab134ac1",
   "metadata": {},
   "source": [
    "|    | L  | $X_{1}$ | $\\color{red}X_{2}$ | $f_{1}$ | $f_{2}$ | $f_{3}$ | LD | $\\color{blue}Quaciente$ |\n",
    "|:--:|:--:|:-----:|:-----:|:-----:|:-----:|:-----:|:---:|:------------:|\n",
    "|**L1**| 1 | 0 | $\\color{red}-2$ | 5 | 0 | 0 | 15000 | $\\color{blue} -$|\n",
    "|**L2**| 0 | 1 | $\\color{red}0$ | 1 | 0 | 0 | 3000 |$\\color{blue} -$|\n",
    "|**L3**| 0 | 0 | $\\color{red}1$ | 0 | 1 | 0 | 4000 |$\\color{blue} 4000$|\n",
    "|**$\\color{red}L4$**| $\\color{red}0$ | $\\color{red}0$ | $\\color{red}2$ | $\\color{red}-1$ | $\\color{red}0 $| $\\color{red}1$ | $\\color{red}6000$ |$\\color{red} 3000$|"
   ]
  },
  {
   "cell_type": "markdown",
   "id": "9654da6c-b86d-455c-9334-cda819815036",
   "metadata": {},
   "source": [
    "**8. Calcular a nova linha Pivô**"
   ]
  },
  {
   "cell_type": "markdown",
   "id": "aa4c166f-7d03-4ab8-ac45-f10c5dce1f76",
   "metadata": {},
   "source": [
    "$ NLP = \\displaystyle\\frac{1}{pivô}.LP$"
   ]
  },
  {
   "cell_type": "markdown",
   "id": "690d8939-8e9a-49e9-b265-0767ffcadf59",
   "metadata": {},
   "source": [
    "$ NLP = \\displaystyle\\frac{1}{2}.(0,0,2,-1,0,1,6000)$"
   ]
  },
  {
   "cell_type": "markdown",
   "id": "ee171e98-cd85-4917-a40f-bd1a1c986ab0",
   "metadata": {},
   "source": [
    "$ NLP = (0,0,1,-0.5,0,0.5,3000)$"
   ]
  },
  {
   "cell_type": "markdown",
   "id": "e2ae5e4a-d112-41e3-ab5e-1a00059df88c",
   "metadata": {},
   "source": [
    "**9. Calcular a Segunda Iteração**"
   ]
  },
  {
   "cell_type": "markdown",
   "id": "a53ababc-146f-4558-9d0a-56786257fe69",
   "metadata": {},
   "source": [
    "Mantem-se a nova linha pivô e calcula-se as novas linhas 1, 2 e 3.\n",
    "\n",
    "A linha 3 não foi modificada, assim permanece associada a variável de folga 2 ($f_{2}$). A linha 1 indica a varível objetivo, a linha 2 representa a variável não básica $X_{1}$, e a linha 4 representa a variável não básica $X_{2}$"
   ]
  },
  {
   "cell_type": "markdown",
   "id": "afd53395-e05f-40cd-9be3-706c4a38be5b",
   "metadata": {},
   "source": [
    "|    | L  | $X_{1}$ | $X_{2}$ | $f_{1}$ | $f_{2}$ | $f_{3}$ | LD |\n",
    "|:--:|:--:|:-----:|:-----:|:-----:|:-----:|:-----:|:---:|\n",
    "|**L1**|  |  |  |  |  |  |  |\n",
    "|**L2**|  |  |  |  |  |  |  |\n",
    "|**L3**|  |  |  |  |  |  |  |\n",
    "|**L4**| 0 | 0 | 1 | -0.5 | 0 | 0.5 | 3000 |"
   ]
  },
  {
   "cell_type": "markdown",
   "id": "fb44ccd6-f3b8-4cfc-8868-0bfebf10ddd9",
   "metadata": {},
   "source": [
    "$NL1 = L1 - coeficiente \\,da \\,linha1 \\,. NLP$"
   ]
  },
  {
   "cell_type": "markdown",
   "id": "9dff2e9a-420a-45e3-a275-81704b876fce",
   "metadata": {},
   "source": [
    "$NL1 = (1,0,-2,5,0,0,15000) - (-2).(0,0,1,-0.5,0,0.5,3000)$"
   ]
  },
  {
   "cell_type": "markdown",
   "id": "74e57951-70e3-4492-8e4a-fa0a772e46ad",
   "metadata": {},
   "source": [
    "$NL1 = (1,0,-2,5,0,0,15000) + (0,0,2,-1,0,1,6000)$"
   ]
  },
  {
   "cell_type": "markdown",
   "id": "4c9ca6dc-d34d-4526-9070-dfe069e79454",
   "metadata": {},
   "source": [
    "$NL1 = (1,0,0,4,0,1,21000)$"
   ]
  },
  {
   "cell_type": "markdown",
   "id": "bdef728a-ce72-4f58-af7d-341d732cdcda",
   "metadata": {},
   "source": [
    "|    | L  | $X_{1}$ | $X_{2}$ | $f_{1}$ | $f_{2}$ | $f_{3}$ | LD |\n",
    "|:--:|:--:|:-----:|:-----:|:-----:|:-----:|:-----:|:---:|\n",
    "|**L1**| 1 | 0 | 0 | 4 | 0 | 1 | 21000 |\n",
    "|**L2**|  |  |  |  |  |  |  |\n",
    "|**L3**|  |  |  |  |  |  |  |\n",
    "|**L4**| 0 | 0 | 1 | -0.5 | 0 | 0.5 | 3000 |"
   ]
  },
  {
   "cell_type": "markdown",
   "id": "10b5eab1-06de-4d42-b8c4-45877db68454",
   "metadata": {},
   "source": [
    "Em razão de todas as varíaveis não básicas serem iguaias a zero, indica que a iteração acabou. Outro indicativo de fim de iteração é quando estas variáveis são todas positivas. Assim, não é necessário calcular as linhas 2 e 3, porém, vamos calcular."
   ]
  },
  {
   "cell_type": "markdown",
   "id": "1ca3d5f7-0b08-4169-83af-a2c61f356509",
   "metadata": {},
   "source": [
    "$NL2 = L2 - coeficiente \\,da \\,linha2 \\,. NLP$"
   ]
  },
  {
   "cell_type": "markdown",
   "id": "4f2b912a-387a-4467-ba60-a37cf7e52db2",
   "metadata": {},
   "source": [
    "$NL2 = (0,1,0,1,0,0,3000) - 0.(0,0,1,-0.5,0,0.5,3000)$"
   ]
  },
  {
   "cell_type": "markdown",
   "id": "b27bf6a7-e3b7-4663-a781-15ae975cab5b",
   "metadata": {},
   "source": [
    "$NL2 = (0,1,0,1,0,0,3000)$"
   ]
  },
  {
   "cell_type": "markdown",
   "id": "d6520b0e-20ba-4c78-8b95-eab223eadcff",
   "metadata": {},
   "source": [
    "$NL3 = L3 - coeficiente \\,da \\,linha3 \\,. NLP$"
   ]
  },
  {
   "cell_type": "markdown",
   "id": "b46e0116-cc82-4544-9d22-68da9663e81f",
   "metadata": {},
   "source": [
    "$NL3 = (0,0,1,0,1,0,4000) - 1.(0,0,1,-0.5,0,0.5,3000)$"
   ]
  },
  {
   "cell_type": "markdown",
   "id": "ee7182bc-b180-463b-8df0-0272edb14bb0",
   "metadata": {},
   "source": [
    "$NL3 = (0,0,1,0,1,0,4000) - (0,0,1,-0.5,0,0.5,3000)$"
   ]
  },
  {
   "cell_type": "markdown",
   "id": "af5bec00-c198-4ca8-8cb0-d494ce5b48a4",
   "metadata": {},
   "source": [
    "$NL3 = (0,0,0,0.5,1,-0.5,1000)$"
   ]
  },
  {
   "cell_type": "markdown",
   "id": "c742444d-fca1-4b43-b26e-eb624a021ec8",
   "metadata": {},
   "source": [
    "|    | L  | $X_{1}$ | $X_{2}$ | $f_{1}$ | $f_{2}$ | $f_{3}$ | LD |\n",
    "|:--:|:--:|:-----:|:-----:|:-----:|:-----:|:-----:|:---:|\n",
    "|**L1**| 1 | 0 | 0 | 4 | 0 | 1 | 21000 |\n",
    "|**L2**| 0 | 1 | 0 |1  | 0 | 0 | 3000 |\n",
    "|**L3**| 0 | 0 | 0 | 0.5 | 1 | -0.5 | 1000 |\n",
    "|**L4**| 0 | 0 | 1 | -0.5 | 0 | 0.5 | 3000 |"
   ]
  },
  {
   "cell_type": "markdown",
   "id": "adb872bd-94b9-4423-a4ec-ac6a738c15b0",
   "metadata": {},
   "source": [
    "A linha 1 indica que o lucro máximo será de 21.000"
   ]
  },
  {
   "cell_type": "markdown",
   "id": "7c269a59-05b6-4c57-a568-401b57ee2627",
   "metadata": {},
   "source": [
    "As linhas 2 e 4 indicam que as quantidades dos refrigerantes $X_{1}$ e $X_{2}$ que devem ser produzidas para maximinizar o lucro são 3.000 litros de cada."
   ]
  },
  {
   "cell_type": "markdown",
   "id": "5ef9dee1-208d-459b-b53a-82d5a5e1f693",
   "metadata": {},
   "source": [
    "A linha 3, associada a variável de folga 2, indica que ao final do processo de produção sobrarão 1000 litros do extrato Gama."
   ]
  },
  {
   "cell_type": "markdown",
   "id": "75f108df-4d11-44dd-bd6e-38cf0bdd0848",
   "metadata": {},
   "source": [
    "## Solução usando o Solver do Excel"
   ]
  },
  {
   "cell_type": "markdown",
   "id": "a02ea413-41e4-48ef-bb91-cc324ba6a312",
   "metadata": {},
   "source": [
    "![](Maximinizacao_Exercicio_2.gif)"
   ]
  },
  {
   "cell_type": "code",
   "execution_count": null,
   "id": "6e36c5ba-58a3-482c-9dd7-00a1191c3ef2",
   "metadata": {},
   "outputs": [],
   "source": []
  }
 ],
 "metadata": {
  "kernelspec": {
   "display_name": "Python 3 (ipykernel)",
   "language": "python",
   "name": "python3"
  },
  "language_info": {
   "codemirror_mode": {
    "name": "ipython",
    "version": 3
   },
   "file_extension": ".py",
   "mimetype": "text/x-python",
   "name": "python",
   "nbconvert_exporter": "python",
   "pygments_lexer": "ipython3",
   "version": "3.12.1"
  }
 },
 "nbformat": 4,
 "nbformat_minor": 5
}
