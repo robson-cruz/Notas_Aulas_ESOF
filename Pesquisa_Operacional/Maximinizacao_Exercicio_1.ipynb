{
 "cells": [
  {
   "cell_type": "markdown",
   "id": "3597beee-9b92-4b87-acd9-11b6511c1579",
   "metadata": {},
   "source": [
    "# PESQUISA OPERACIONAL"
   ]
  },
  {
   "cell_type": "markdown",
   "id": "fd85deec-469d-4c70-b391-8a6890b9d457",
   "metadata": {},
   "source": [
    "## AULA 2 - MAXIMINIZAÇÃO"
   ]
  },
  {
   "cell_type": "markdown",
   "id": "8c2563cd-04d3-400e-ac9e-edd4b56544ea",
   "metadata": {},
   "source": [
    "### Exercício 1"
   ]
  },
  {
   "cell_type": "markdown",
   "id": "ecf77d95-ae9d-4b7a-a86d-4c08c8c685c2",
   "metadata": {},
   "source": [
    "<p style=\"text-align: justify; text-indent: 2rem\">\n",
    "    Uma indústria produz dois produtos: A e B. Cada um deles deve ser processado por duas máquinas, M<sub>1</sub> e M<sub>2</sub>. Devido à programação de outros produtos, que também utilizam as máquinas, a máquina M<sub>1</sub> tem 24 horas de tempo disponível para os produtos A e B, enquanto a máquina M<sub>2</sub> tem 16 horas de tempo disponível.\n",
    "</p>\n",
    "\n",
    "<p style=\"text-align: justify; text-indent: 2rem\n",
    "    \">Para produzir uma unidade do produto A, gastam-se 4 horas em cada uma das duas máquinas M<sub>1</sub> e M<sub>2</sub>. Para produzir uma unidade do produto B, gastam-se 6 horas na máquina M<sub>1</sub> e\n",
    "2 horas na máquina M<sub>2</sub>.\n",
    "</p>\n",
    "\n",
    "<p style=\"text-align: justify; text-indent: 2rem\">\n",
    "    Cada unidade vendida do produto A gera lucro de R\\$ 80 e cada unidade do produto B, um lucro de R\\$ 60. Existe uma previsão máxima de demanda para o produto B de 3 unidades, não havendo restrições quanto à demanda do produto A.\n",
    "</p>\n",
    "\n",
    "<p style=\"text-align: justify; text-indent: 2rem\">\n",
    "    Escreva o modelo matemático para determinação de quantas unidades dos produtos de A e B que devem ser produzidos, de forma a maximizar o lucro e, ao mesmo tempo, obedecer a todas as restrições.\n",
    "</p>"
   ]
  },
  {
   "cell_type": "code",
   "execution_count": null,
   "id": "a18cb6e9-4bb6-4219-8dc6-cb8d7e9f1fb3",
   "metadata": {},
   "outputs": [],
   "source": []
  },
  {
   "cell_type": "markdown",
   "id": "501956a9-e46f-47a8-b887-392b3106f366",
   "metadata": {},
   "source": [
    "**Solução**: Inicialmente, vamos resumir as informações em uma tabela."
   ]
  },
  {
   "cell_type": "markdown",
   "id": "b9ae93d1-33b1-4ede-a9a1-0a4876552c55",
   "metadata": {},
   "source": [
    "| Produto | Horas Gastas em M1 | Horas Gastas em M2 | Demanda Máxima | Lucro Unitário (R\\$) |\n",
    "|:-------:|:------------------:|:------------------:|:--------------:|:--------------------:|\n",
    "| **A** | 4 | 4 | ilimitada | 80 |\n",
    "| **B** | 6 | 2 | 3 | 60 |\n",
    "| **Horas Disponíveis** | 24 | 16 | - | - |\n"
   ]
  },
  {
   "cell_type": "markdown",
   "id": "c3311853-b890-4c13-8504-abd8fdf8d12e",
   "metadata": {},
   "source": [
    "<p style=\"text-align: justify; text-indent: 2rem\">\n",
    "Sejam x e y as quantidades (em unidades) dos produtos A e B, respectivamente, que devem ser produzidos por essa indústria de tal forma que seu lucro seja máximo com essa produção \n",
    "</p>"
   ]
  },
  {
   "cell_type": "markdown",
   "id": "3c3d695a-3475-4954-9206-c36acfc44202",
   "metadata": {},
   "source": [
    "<p style=\"text-align: justify; text-indent: 2rem\">Vamos determinar a função objetivo:</p>"
   ]
  },
  {
   "cell_type": "markdown",
   "id": "f35b53d2-5d68-4a70-a6c9-32d3d525ae84",
   "metadata": {},
   "source": [
    "$$L(x,y) = 80x + 60y$$"
   ]
  },
  {
   "cell_type": "markdown",
   "id": "2e24f60d-a855-4294-99b7-7c4741258a3a",
   "metadata": {},
   "source": [
    "<p style=\"text-align: justify; text-indent: 2rem\">\n",
    "Agora, vamos escrever as restrições:\n",
    "</p>"
   ]
  },
  {
   "cell_type": "markdown",
   "id": "078ec05b-3148-43a1-88bb-c94cdf927ae3",
   "metadata": {},
   "source": [
    "- Disponibilidade M1: $4x + 6y \\le 24$\n",
    "- Disponibilidade M2: $4x + 2y \\le 16$\n",
    "- Demanda de B: $y \\le 3$\n",
    "- Restrição de não negatividade: $x,y \\ge 0$"
   ]
  },
  {
   "cell_type": "code",
   "execution_count": null,
   "id": "520cf37b-ab21-43f7-9376-b5ef6a66a345",
   "metadata": {},
   "outputs": [],
   "source": []
  },
  {
   "cell_type": "markdown",
   "id": "067e2697-c6f8-4df6-a9c2-1c7b40f167e1",
   "metadata": {},
   "source": [
    "<p style=\"text-align: justify; text-indent: 2rem\">O problema na forma canônica é:</p>"
   ]
  },
  {
   "cell_type": "markdown",
   "id": "5f549bc9-ddb1-42ab-8833-35f08ae7734d",
   "metadata": {},
   "source": [
    "$$maximinizar \\quad L = 80x + 60y$$\n",
    "$$Sujeito \\quad a: $$\n",
    "$$ \\quad \\quad \\quad \\quad \\quad \\quad \\quad \\quad \\quad 4x + 6y \\le 24$$\n",
    "$$ \\quad \\quad \\quad \\quad \\quad \\quad \\quad \\quad \\quad 4x + 2y \\le 16$$\n",
    "$$ \\quad \\quad \\quad \\quad \\quad \\quad \\quad \\quad \\quad y \\le 3$$\n",
    "$$ \\quad \\quad \\quad \\quad \\quad \\quad \\quad \\quad \\quad x \\ge 0$$\n",
    "$$ \\quad \\quad \\quad \\quad \\quad \\quad \\quad \\quad \\quad y \\ge 0$$"
   ]
  },
  {
   "cell_type": "markdown",
   "id": "18dfe8bc-6e3c-44d4-a8f3-e6bd62f824ff",
   "metadata": {},
   "source": [
    "![](grafico-ex-1.png)"
   ]
  },
  {
   "cell_type": "markdown",
   "id": "6f2fef81-bd63-41ca-8b5c-ff5919e6c120",
   "metadata": {},
   "source": [
    "$ A(0,0) \\quad \\quad \\quad L_{A}=0 $"
   ]
  },
  {
   "cell_type": "markdown",
   "id": "322f1891-0b6c-45d4-9911-187d4b8a33c3",
   "metadata": {},
   "source": [
    "$ B(4,0) \\quad \\quad \\quad L_{B}=80.4 + 60.0 = 320$"
   ]
  },
  {
   "cell_type": "markdown",
   "id": "74f9a0af-da41-4e7b-a7f9-8ee460cb9f2a",
   "metadata": {},
   "source": [
    "$ C(3,2) \\quad \\quad \\quad L_{C}=80.3 + 60.2 = 360 $"
   ]
  },
  {
   "cell_type": "markdown",
   "id": "b87e330e-bfcc-4fb2-92b4-7bc974390953",
   "metadata": {},
   "source": [
    "$ D(1.5,3) \\quad \\quad \\quad L_{D}=80.1,5 + 60.3 = 300 $"
   ]
  },
  {
   "cell_type": "markdown",
   "id": "729f6a15-b9a3-45bf-a09c-9772ae6a614b",
   "metadata": {},
   "source": [
    "$ E(0,3) \\quad \\quad \\quad L_{A}=80.0+60.3 = 180 $"
   ]
  },
  {
   "cell_type": "markdown",
   "id": "9724fbc4-16c0-474e-82c5-97de55508c4f",
   "metadata": {},
   "source": [
    "Para o lucro ser máximo, devem ser produzidas 3 unidades do produto A e 2 do produto B."
   ]
  },
  {
   "cell_type": "code",
   "execution_count": null,
   "id": "7d9238aa-3f3b-49fa-a137-fe3243feb44a",
   "metadata": {},
   "outputs": [],
   "source": []
  }
 ],
 "metadata": {
  "kernelspec": {
   "display_name": "Python 3 (ipykernel)",
   "language": "python",
   "name": "python3"
  },
  "language_info": {
   "codemirror_mode": {
    "name": "ipython",
    "version": 3
   },
   "file_extension": ".py",
   "mimetype": "text/x-python",
   "name": "python",
   "nbconvert_exporter": "python",
   "pygments_lexer": "ipython3",
   "version": "3.12.1"
  }
 },
 "nbformat": 4,
 "nbformat_minor": 5
}
