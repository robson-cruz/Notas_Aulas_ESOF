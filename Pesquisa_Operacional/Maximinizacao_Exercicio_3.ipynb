{
 "cells": [
  {
   "cell_type": "markdown",
   "id": "d93ebbab-acc0-4e25-9d03-1844eeca348e",
   "metadata": {},
   "source": [
    "# Pesquisa Operacional\n",
    "\n",
    "## Maximinização"
   ]
  },
  {
   "cell_type": "markdown",
   "id": "5f627e7f-5995-41a0-a711-9df547265d5f",
   "metadata": {},
   "source": [
    "### Exercício 3"
   ]
  },
  {
   "cell_type": "markdown",
   "id": "dc8c65f4-4196-450c-b0b8-14639b81a967",
   "metadata": {},
   "source": [
    "<p style=\"text-align: justify; text-indent: 2rem\">\n",
    "    Uma pequena malharia produz dois tipos de camisas: de manga curta e de manga comprida. Toda produção feita é vendida para um distribuidor, que compra tudo o que é produzido.\n",
    "</p>\n",
    "<p style=\"text-align: justify; text-indent: 2rem\">\n",
    "    A confecção passa por três seções de trabalho: corte, costura e acabamento. A table 1 apresenta os tempos necessários em cada seção e a disponibilidade de cada seção.\n",
    "</p>"
   ]
  },
  {
   "cell_type": "markdown",
   "id": "669c345f-f86e-4cf6-9a11-784091082466",
   "metadata": {},
   "source": [
    "<h4 style=\"text-align: center;\">Tabela 1 - Tempos necessários e disponíveis por seção.</h4>"
   ]
  },
  {
   "cell_type": "markdown",
   "id": "8a432c67-e314-4e3f-b427-e967b33d911c",
   "metadata": {},
   "source": [
    "| Produto        | Corte         | Costura     | Acabamento  |\r\n",
    "|:--------------:|:-------------:|:-----------:|:-----------:|\r\n",
    "| Manga curta    | 3 h           | 1,5 h       | 5 h         |\r\n",
    "| Manga comprida | 3 h           | 3 h         | 3 h         |\r\n",
    "| Disponibilidade| 210 h/semana  | 160 h/semana| 330 h/semana|"
   ]
  },
  {
   "cell_type": "markdown",
   "id": "2d73070c-5ee9-4f24-96cc-bcbf00922632",
   "metadata": {},
   "source": [
    "<p style=\"text-align: justify; text-indent: 2rem\">\n",
    "    Determine a quantidade de cada tipo de camisa que deve ser fabricada de forma a maximinizar o lucro da empresa, sabendo que o lucro unitário proporcionado pela camisa de manga curta é de R\\$20,00 e o proporcionado pela manga comprida é de R\\$30,00.\n",
    "</p>"
   ]
  },
  {
   "cell_type": "markdown",
   "id": "52650cde-1486-4cd6-a227-6ac786758b3c",
   "metadata": {},
   "source": [
    "### Solução:"
   ]
  },
  {
   "cell_type": "markdown",
   "id": "2a1c29e0-e0d1-467a-a469-264c1aab3924",
   "metadata": {},
   "source": [
    "Sejam: $x$ e $y$ as quantidades das camisas de manga curta e manga longa a serem produzidas, respectivamente."
   ]
  },
  {
   "cell_type": "markdown",
   "id": "b1e748d6-3de5-4521-ab23-f97a2da1d26f",
   "metadata": {},
   "source": [
    "**Função Objetivo**:   $ Máx. L(x,y) = 20x + 30y$"
   ]
  },
  {
   "cell_type": "markdown",
   "id": "0697cc5a-3204-44d3-a5c9-1a0ae6e0d06c",
   "metadata": {},
   "source": [
    "**Restrições**"
   ]
  },
  {
   "cell_type": "markdown",
   "id": "47a7e460-ec9d-4f04-a164-daf208802c79",
   "metadata": {},
   "source": [
    "- Corte: $ 3x + 3y \\le 210 $"
   ]
  },
  {
   "cell_type": "markdown",
   "id": "9f3acba1-a12d-46ef-bd67-8134a64316bb",
   "metadata": {},
   "source": [
    "- Costura: $ 1,5x + 3y \\le 160 $"
   ]
  },
  {
   "cell_type": "markdown",
   "id": "f1a9b364-8141-4df5-af50-cfd1f2c7010d",
   "metadata": {},
   "source": [
    "- Acabamento: $ 5x + 3y \\le 330 $"
   ]
  },
  {
   "cell_type": "markdown",
   "id": "10a45a49-c8c1-4d77-9bf7-20c5d5da8faa",
   "metadata": {},
   "source": [
    "- Não Negatividade: $ x, y \\ge 0 $"
   ]
  },
  {
   "cell_type": "markdown",
   "id": "fce20d48-81cc-47c9-931f-926a7fa45408",
   "metadata": {},
   "source": [
    "- Variáveis Devem Ser Inteiros: $ x, y \\in \\mathbb{Z} $"
   ]
  },
  {
   "cell_type": "markdown",
   "id": "3a9160b7-ee48-4a03-be25-3c5eb6ae5840",
   "metadata": {},
   "source": [
    "**Utilizando o Solver do Excel para resolver o problema com programação linear simplex**"
   ]
  },
  {
   "cell_type": "markdown",
   "id": "4068b2d1-0833-4a14-9e95-814aec5d4ee6",
   "metadata": {},
   "source": [
    "![](5_excel-solver-maximinizacao-ex-3.png)"
   ]
  },
  {
   "cell_type": "markdown",
   "id": "b2cf120b-9b81-4d68-b963-0d284d9a9f71",
   "metadata": {},
   "source": [
    "![](6_excel-solver-maximinizacao-ex-3.png)"
   ]
  },
  {
   "cell_type": "markdown",
   "id": "6d93ac51-1074-4492-8c90-cf165615b79f",
   "metadata": {},
   "source": [
    "<p style=\"text-align: justify; text-indent: 2rem\">\n",
    "    As quantidades de camisas que devem ser produzidas para maximinizar o lucro da empresa são: 34 manga curta e 36 manga longa, gerando um lucro de R\\$1.700,00.\n",
    "</p>\n",
    "\n",
    "<p style=\"text-align: justify; text-indent: 2rem\">\n",
    "    Para esta produção são necessários 210 h semanais para a atividade de corte, 159 h para costura e 278 h para o acamento.\n",
    "</p>"
   ]
  },
  {
   "cell_type": "code",
   "execution_count": null,
   "id": "a2466785-adb1-46ca-91b8-383bbbaf9dda",
   "metadata": {},
   "outputs": [],
   "source": []
  }
 ],
 "metadata": {
  "kernelspec": {
   "display_name": "Python 3 (ipykernel)",
   "language": "python",
   "name": "python3"
  },
  "language_info": {
   "codemirror_mode": {
    "name": "ipython",
    "version": 3
   },
   "file_extension": ".py",
   "mimetype": "text/x-python",
   "name": "python",
   "nbconvert_exporter": "python",
   "pygments_lexer": "ipython3",
   "version": "3.11.7"
  }
 },
 "nbformat": 4,
 "nbformat_minor": 5
}
