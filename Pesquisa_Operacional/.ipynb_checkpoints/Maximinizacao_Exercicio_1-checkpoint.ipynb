{
 "cells": [
  {
   "cell_type": "markdown",
   "id": "3597beee-9b92-4b87-acd9-11b6511c1579",
   "metadata": {},
   "source": [
    "# PESQUISA OPERACIONAL"
   ]
  },
  {
   "cell_type": "markdown",
   "id": "fd85deec-469d-4c70-b391-8a6890b9d457",
   "metadata": {},
   "source": [
    "## AULA 2 - MAXIMINIZAÇÃO"
   ]
  },
  {
   "cell_type": "markdown",
   "id": "8c2563cd-04d3-400e-ac9e-edd4b56544ea",
   "metadata": {},
   "source": [
    "### Exercício 1"
   ]
  },
  {
   "cell_type": "markdown",
   "id": "ecf77d95-ae9d-4b7a-a86d-4c08c8c685c2",
   "metadata": {},
   "source": [
    "<p style=\"text-align: justify; text-indent: 2rem\">\n",
    "    Uma indústria produz dois produtos: A e B. Cada um deles deve ser processado por duas máquinas, M<sub>1</sub> e M<sub>2</sub>. Devido à programação de outros produtos, que também utilizam as máquinas, a máquina M<sub>1</sub> tem 24 horas de tempo disponível para os produtos A e B, enquanto a máquina M<sub>2</sub> tem 16 horas de tempo disponível.\n",
    "</p>\n",
    "\n",
    "<p style=\"text-align: justify; text-indent: 2rem\n",
    "    \">Para produzir uma unidade do produto A, gastam-se 4 horas em cada uma das duas máquinas M<sub>1</sub> e M<sub>2</sub>. Para produzir uma unidade do produto B, gastam-se 6 horas na máquina M<sub>1</sub> e\n",
    "2 horas na máquina M<sub>2</sub>.\n",
    "</p>\n",
    "\n",
    "<p style=\"text-align: justify; text-indent: 2rem\">\n",
    "    Cada unidade vendida do produto A gera lucro de R\\$ 80 e cada unidade do produto B, um lucro de R\\$ 60. Existe uma previsão máxima de demanda para o produto B de 3 unidades, não havendo restrições quanto à demanda do produto A.\n",
    "</p>\n",
    "\n",
    "<p style=\"text-align: justify; text-indent: 2rem\">\n",
    "    Escreva o modelo matemático para determinação de quantas unidades dos produtos de A e B que devem ser produzidos, de forma a maximizar o lucro e, ao mesmo tempo, obedecer a todas as restrições.\n",
    "</p>"
   ]
  },
  {
   "cell_type": "code",
   "execution_count": null,
   "id": "a18cb6e9-4bb6-4219-8dc6-cb8d7e9f1fb3",
   "metadata": {},
   "outputs": [],
   "source": []
  },
  {
   "cell_type": "markdown",
   "id": "501956a9-e46f-47a8-b887-392b3106f366",
   "metadata": {},
   "source": [
    "**Solução**: Inicialmente, vamos resumir as informações em uma tabela."
   ]
  },
  {
   "cell_type": "markdown",
   "id": "b9ae93d1-33b1-4ede-a9a1-0a4876552c55",
   "metadata": {},
   "source": [
    "| Produto | Horas Gastas em M1 | Horas Gastas em M2 | Demanda Máxima | Lucro Unitário (R\\$) |\n",
    "|:-------:|:------------------:|:------------------:|:--------------:|:--------------------:|\n",
    "| **A** | 4 | 4 | ilimitada | 80 |\n",
    "| **B** | 6 | 2 | 3 | 60 |\n",
    "| **Horas Disponíveis** | 24 | 16 | - | - |\n"
   ]
  },
  {
   "cell_type": "markdown",
   "id": "c3311853-b890-4c13-8504-abd8fdf8d12e",
   "metadata": {},
   "source": [
    "<p style=\"text-align: justify; text-indent: 2rem\">\n",
    "Sejam x e y as quantidades (em unidades) dos produtos A e B, respectivamente, que devem ser produzidos por essa indústria de tal forma que seu lucro seja máximo com essa produção \n",
    "</p>"
   ]
  },
  {
   "cell_type": "markdown",
   "id": "3c3d695a-3475-4954-9206-c36acfc44202",
   "metadata": {},
   "source": [
    "<p style=\"text-align: justify; text-indent: 2rem\">Vamos determinar a função objetivo:</p>"
   ]
  },
  {
   "cell_type": "markdown",
   "id": "f35b53d2-5d68-4a70-a6c9-32d3d525ae84",
   "metadata": {},
   "source": [
    "$$L(x,y) = 80x + 60y$$"
   ]
  },
  {
   "cell_type": "markdown",
   "id": "2e24f60d-a855-4294-99b7-7c4741258a3a",
   "metadata": {},
   "source": [
    "<p style=\"text-align: justify; text-indent: 2rem\">\n",
    "Agora, vamos escrever as restrições:\n",
    "</p>"
   ]
  },
  {
   "cell_type": "markdown",
   "id": "078ec05b-3148-43a1-88bb-c94cdf927ae3",
   "metadata": {},
   "source": [
    "- Disponibilidade M1: $4x + 6y \\le 24$\n",
    "- Disponibilidade M2: $4x + 2y \\le 16$\n",
    "- Demanda de B: $y \\le 3$\n",
    "- Restrição de não negatividade: $x,y \\ge 0$"
   ]
  },
  {
   "cell_type": "code",
   "execution_count": null,
   "id": "520cf37b-ab21-43f7-9376-b5ef6a66a345",
   "metadata": {},
   "outputs": [],
   "source": []
  },
  {
   "cell_type": "markdown",
   "id": "067e2697-c6f8-4df6-a9c2-1c7b40f167e1",
   "metadata": {},
   "source": [
    "<p style=\"text-align: justify; text-indent: 2rem\">O problema na forma canônica é:</p>"
   ]
  },
  {
   "cell_type": "markdown",
   "id": "5f549bc9-ddb1-42ab-8833-35f08ae7734d",
   "metadata": {},
   "source": [
    "$$maximinizar \\quad L = 80x + 60y$$\n",
    "$$Sujeito \\quad a: $$\n",
    "$$ \\quad \\quad \\quad \\quad \\quad \\quad \\quad \\quad \\quad 4x + 6y \\le 24$$\n",
    "$$ \\quad \\quad \\quad \\quad \\quad \\quad \\quad \\quad \\quad 4x + 2y \\le 16$$\n",
    "$$ \\quad \\quad \\quad \\quad \\quad \\quad \\quad \\quad \\quad y \\le 3$$\n",
    "$$ \\quad \\quad \\quad \\quad \\quad \\quad \\quad \\quad \\quad x \\ge 0$$\n",
    "$$ \\quad \\quad \\quad \\quad \\quad \\quad \\quad \\quad \\quad y \\ge 0$$"
   ]
  },
  {
   "cell_type": "code",
   "execution_count": null,
   "id": "e99e94b9-73c1-4e06-be06-d403a2908887",
   "metadata": {},
   "outputs": [],
   "source": []
  }
 ],
 "metadata": {
  "kernelspec": {
   "display_name": "Python 3 (ipykernel)",
   "language": "python",
   "name": "python3"
  },
  "language_info": {
   "codemirror_mode": {
    "name": "ipython",
    "version": 3
   },
   "file_extension": ".py",
   "mimetype": "text/x-python",
   "name": "python",
   "nbconvert_exporter": "python",
   "pygments_lexer": "ipython3",
   "version": "3.12.1"
  }
 },
 "nbformat": 4,
 "nbformat_minor": 5
}
