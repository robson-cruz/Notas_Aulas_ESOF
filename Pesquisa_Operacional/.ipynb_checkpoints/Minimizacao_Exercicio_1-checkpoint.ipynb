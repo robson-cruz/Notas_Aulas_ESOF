{
 "cells": [
  {
   "cell_type": "markdown",
   "id": "3597beee-9b92-4b87-acd9-11b6511c1579",
   "metadata": {},
   "source": [
    "# PESQUISA OPERACIONAL"
   ]
  },
  {
   "cell_type": "markdown",
   "id": "fd85deec-469d-4c70-b391-8a6890b9d457",
   "metadata": {},
   "source": [
    "## MINIMIZAÇÃO"
   ]
  },
  {
   "cell_type": "code",
   "execution_count": null,
   "id": "a18cb6e9-4bb6-4219-8dc6-cb8d7e9f1fb3",
   "metadata": {},
   "outputs": [],
   "source": []
  },
  {
   "cell_type": "markdown",
   "id": "501956a9-e46f-47a8-b887-392b3106f366",
   "metadata": {},
   "source": [
    "**Solução**: Inicialmente, vamos resumir as informações em uma tabela."
   ]
  },
  {
   "cell_type": "markdown",
   "id": "b9ae93d1-33b1-4ede-a9a1-0a4876552c55",
   "metadata": {},
   "source": [
    "| Produto | Horas Gastas em M1 | Horas Gastas em M2 | Demanda Máxima | Lucro Unitário (R\\$) |\n",
    "|:-------:|:------------------:|:------------------:|:--------------:|:--------------------:|\n",
    "| **A** | 4 | 4 | ilimitada | 80 |\n",
    "| **B** | 6 | 2 | 3 | 60 |\n",
    "| **Horas Disponíveis** | 24 | 16 | - | - |\n"
   ]
  },
  {
   "cell_type": "markdown",
   "id": "c3311853-b890-4c13-8504-abd8fdf8d12e",
   "metadata": {},
   "source": [
    "<p style=\"text-align: justify; text-indent: 2rem\">\n",
    "Sejam x e y as quantidades (em unidades) dos produtos A e B, respectivamente, que devem ser produzidos por essa indústria de tal forma que seu lucro seja máximo com essa produção \n",
    "</p>"
   ]
  },
  {
   "cell_type": "markdown",
   "id": "3c3d695a-3475-4954-9206-c36acfc44202",
   "metadata": {},
   "source": [
    "<p style=\"text-align: justify; text-indent: 2rem\">Vamos determinar a função objetivo:</p>"
   ]
  },
  {
   "cell_type": "markdown",
   "id": "f35b53d2-5d68-4a70-a6c9-32d3d525ae84",
   "metadata": {},
   "source": [
    "$$L(x,y) = 80x + 60y$$"
   ]
  },
  {
   "cell_type": "markdown",
   "id": "2e24f60d-a855-4294-99b7-7c4741258a3a",
   "metadata": {},
   "source": [
    "<p style=\"text-align: justify; text-indent: 2rem\">\n",
    "Agora, vamos escrever as restrições:\n",
    "</p>"
   ]
  },
  {
   "cell_type": "markdown",
   "id": "078ec05b-3148-43a1-88bb-c94cdf927ae3",
   "metadata": {},
   "source": [
    "- Disponibilidade M1: $4x + 6y \\le 24$\n",
    "- Disponibilidade M2: $4x + 2y \\le 16$\n",
    "- Demanda de B: $y \\le 3$\n",
    "- Restrição de não negatividade: $x,y \\ge 0$"
   ]
  },
  {
   "cell_type": "code",
   "execution_count": null,
   "id": "520cf37b-ab21-43f7-9376-b5ef6a66a345",
   "metadata": {},
   "outputs": [],
   "source": []
  },
  {
   "cell_type": "markdown",
   "id": "067e2697-c6f8-4df6-a9c2-1c7b40f167e1",
   "metadata": {},
   "source": [
    "<p style=\"text-align: justify; text-indent: 2rem\">O problema na forma canônica é:</p>"
   ]
  },
  {
   "cell_type": "markdown",
   "id": "5f549bc9-ddb1-42ab-8833-35f08ae7734d",
   "metadata": {},
   "source": [
    "$$maximinizar \\quad L = 80x + 60y$$\n",
    "$$Sujeito \\quad a: $$\n",
    "$$ \\quad \\quad \\quad \\quad \\quad \\quad \\quad \\quad \\quad 4x + 6y \\le 24$$\n",
    "$$ \\quad \\quad \\quad \\quad \\quad \\quad \\quad \\quad \\quad 4x + 2y \\le 16$$\n",
    "$$ \\quad \\quad \\quad \\quad \\quad \\quad \\quad \\quad \\quad y \\le 3$$\n",
    "$$ \\quad \\quad \\quad \\quad \\quad \\quad \\quad \\quad \\quad x \\ge 0$$\n",
    "$$ \\quad \\quad \\quad \\quad \\quad \\quad \\quad \\quad \\quad y \\ge 0$$"
   ]
  },
  {
   "cell_type": "code",
   "execution_count": null,
   "id": "e99e94b9-73c1-4e06-be06-d403a2908887",
   "metadata": {},
   "outputs": [],
   "source": []
  },
  {
   "cell_type": "markdown",
   "id": "33a6a6d0-270e-4712-aee0-2ebb93f2c837",
   "metadata": {},
   "source": [
    "### Exercício 1"
   ]
  },
  {
   "cell_type": "markdown",
   "id": "1963ec78-b8d1-4f77-aea2-d6c627660351",
   "metadata": {},
   "source": [
    "<p style=\"text-align: justify; text-indent: 2rem\">\n",
    "    Uma empresa brasileira e produtora de sucos cítricos está interessada em otimizar os custos de transporte de seus produtos para seu mercado consumidor. A empresa possui 3 regiões produtoras no brasil e 5 regiões destinos (mercado consumidor).\n",
    "</p>"
   ]
  },
  {
   "cell_type": "markdown",
   "id": "2bae0707-85ef-4c2f-ba1c-e29d0c032796",
   "metadata": {},
   "source": [
    "<p style=\"text-align: justify; text-indent: 2rem\">\n",
    "    A tabela a seguir as regiões produtoras, consumidoras e , também, os custos de transporte entre origens e destinos. A empresa tem interesse em escoar toda a produção, atentendo aos mercadores consumidores com custo de transporte mínimo. Com base nesses dados, desenvolva um modelo que descreva a situação problema.\n",
    "</p>"
   ]
  },
  {
   "cell_type": "markdown",
   "id": "599c960d-579b-4194-ab04-59d6c4eb0834",
   "metadata": {},
   "source": [
    "|    |    |  |    | Mercado Consumidor |    |    | Produção (x 1000 m<sup>3</sup>)|\n",
    "|:--:|:--:|:--:|:--:|:--:|:--:|:------------------:|:------------------------------:|\n",
    "| Região produtora | Unidade | Argentina | Chile | Alemanha | Japão | China |\n",
    "| São Paulo | US\\$/m<sup>3<sup> | 52 | 77 | 145 | 280 | 267 | 771 |\n",
    "| Paraná | US\\$/m<sup>3<sup> | 60 | 85 | 150 | 285 | 272 | 964 |\n",
    "| Nordeste | US\\$/m<sup>3<sup> | 110 | 135 | 115 | 301 | 287 | 193 |\n",
    "| Demanda do Setor | 1.000 m<sup>3<sup> | 18 | 7 | 1.680 | 159 | 64 | 1.927 |\n",
    "| Exportação do Setor | US\\$ M | 9 | 4 | 840 | 79 | 32 | 964 |"
   ]
  },
  {
   "cell_type": "code",
   "execution_count": null,
   "id": "582aab11-1d53-450e-9186-560be4dcd1c1",
   "metadata": {},
   "outputs": [],
   "source": []
  },
  {
   "cell_type": "markdown",
   "id": "321edc21-e753-4e5a-abea-cda474255346",
   "metadata": {},
   "source": [
    "<p style=\"text-align: justify; text-indent: 2rem\">\n",
    "    <strong>Solução</strong>: nessa situação as variáveis de decisão devem ser relacionadas com as quantidades\r\n",
    "enviadas das regiões produtoras para os mercados consumidores. Para tal denotaremos de xij o\r\n",
    "número de milhares de metros cúbicos de suco da região produtora i (1 = São Paulo; 2 = Paraná; 3\r\n",
    "= Nordeste) para o mercado consumidor j (1 = Argentina; 2 = Chile; 3 = Alemanha; 4 = Japão; 5 =\r\n",
    "China).\n",
    "</p>"
   ]
  },
  {
   "cell_type": "markdown",
   "id": "0ebd5909-1e23-4413-8e9d-82257e4bbcf8",
   "metadata": {},
   "source": [
    "|       | Argentina (1) | Chile (2) | Alemanha (3) | Japão (4) | China (5) |\n",
    "|:-----:|:------------:|:----------:|:----------:|:----------:|:----------:|\n",
    "| Saão Paulo (1) | X<sub>11</sub> | X<sub>12</sub> | X<sub>13</sub> | X<sub>14</sub> | X<sub>15</sub> |\n",
    "| Paraná (2)     | X<sub>21</sub> | X<sub>22</sub> | X<sub>23</sub> | X<sub>24</sub> | X<sub>25</sub> |\n",
    "| Nordeste (3)   | X<sub>31</sub> | X<sub>32</sub> | X<sub>33</sub> | X<sub>34</sub> | X<sub>35</sub> |"
   ]
  },
  {
   "cell_type": "markdown",
   "id": "15c353c0-d961-4ede-867d-1cee8f0201ee",
   "metadata": {},
   "source": [
    "**Função Objetivo**:\n",
    "$$ Mín \\quad Z = 52X_{11} + 77X_{12} + 145X_{13} + 280X_{14} + 267X{15} + 60X{21} + 85X{22} + 150X{23} + 285X{24} + 272X{25} + 110X{31} + 135X{32} + 115X{33} + 301X{34} + 287X{35}$$"
   ]
  },
  {
   "cell_type": "code",
   "execution_count": null,
   "id": "37c62067-790b-4754-9176-4a508bb3bd86",
   "metadata": {},
   "outputs": [],
   "source": []
  },
  {
   "cell_type": "markdown",
   "id": "39969849-e11a-46b2-8061-0b65ffe180e8",
   "metadata": {},
   "source": [
    "No problema as restrições serão divididas em dois grupos:"
   ]
  },
  {
   "cell_type": "markdown",
   "id": "e67d335a-1e96-4a7e-92f1-4fc0bfe163a9",
   "metadata": {},
   "source": [
    "i) Todas a produção deve ser esoada\n",
    "\n",
    "ii) Toda demanda deverá ser atendida."
   ]
  },
  {
   "cell_type": "code",
   "execution_count": null,
   "id": "6f0ca4c5-963b-41f2-a48b-650ad51dd1e1",
   "metadata": {},
   "outputs": [],
   "source": []
  }
 ],
 "metadata": {
  "kernelspec": {
   "display_name": "Python 3 (ipykernel)",
   "language": "python",
   "name": "python3"
  },
  "language_info": {
   "codemirror_mode": {
    "name": "ipython",
    "version": 3
   },
   "file_extension": ".py",
   "mimetype": "text/x-python",
   "name": "python",
   "nbconvert_exporter": "python",
   "pygments_lexer": "ipython3",
   "version": "3.12.1"
  }
 },
 "nbformat": 4,
 "nbformat_minor": 5
}
