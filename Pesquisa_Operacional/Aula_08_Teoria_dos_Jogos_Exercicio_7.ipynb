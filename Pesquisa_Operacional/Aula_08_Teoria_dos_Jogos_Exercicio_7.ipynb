{
 "cells": [
  {
   "attachments": {
    "06f739d8-31c0-4c1c-a860-1f6ac0629e22.png": {
     "image/png": "[encoded data removed]"
    }
   },
   "cell_type": "markdown",
   "id": "5e825279-902e-4a6b-897d-dd378cb2d87a",
   "metadata": {},
   "source": [
    "![logo.png](attachment:06f739d8-31c0-4c1c-a860-1f6ac0629e22.png)"
   ]
  },
  {
   "cell_type": "markdown",
   "id": "f91fc0c6-a9d9-4cf0-90b2-bfc60d6c30ad",
   "metadata": {},
   "source": [
    "# Pesquisa Operacional\n",
    "\n",
    "## Aula Ao Vivo 08\n",
    "## Exercício 7"
   ]
  },
  {
   "cell_type": "markdown",
   "id": "020ad2c5-fa34-47ab-901b-35b3e0311932",
   "metadata": {},
   "source": [
    "<p style=\"text-align: justify; text-indent: 2rem\">\n",
    "    Sejam B1 e B2 duas estratégias de mercado para a empresa B e H1 e H2 duas estratégias de  mercado para a empresa H, como ilustrado a seguir:\n",
    "</p>"
   ]
  },
  {
   "cell_type": "markdown",
   "id": "7aa46f67-55f2-474a-971b-f88c4c507816",
   "metadata": {},
   "source": [
    "|       | H1   |  H2  |\n",
    "|-------|------|------|\n",
    "|**B1** | 1000 | 600  |\n",
    "|**B2** | -100 | 2000 |"
   ]
  },
  {
   "cell_type": "markdown",
   "id": "dfabe552-13e5-4d20-8674-9919073134fc",
   "metadata": {},
   "source": [
    "A) Há uma estratégia dominante?"
   ]
  },
  {
   "cell_type": "markdown",
   "id": "1c98e5a7-6d2b-434f-9b6c-7ce93b90f6ca",
   "metadata": {},
   "source": [
    "B) Qual a estratégia a ser usada nesse caso?"
   ]
  },
  {
   "cell_type": "markdown",
   "id": "c5a74848-18d4-46c5-b73e-e06d092946ab",
   "metadata": {},
   "source": []
  },
  {
   "cell_type": "markdown",
   "id": "a18f92be-fa57-4444-9555-56ac8c8c24de",
   "metadata": {},
   "source": [
    "### Solução\n",
    "\n"
   ]
  },
  {
   "cell_type": "markdown",
   "id": "21810bb0-cbc3-4a2d-b457-248ff69d643d",
   "metadata": {},
   "source": [
    "A) Não Há uma estratégia dominante."
   ]
  },
  {
   "cell_type": "markdown",
   "id": "9fdd27a8-1e36-42bb-a89b-a63c332ad701",
   "metadata": {},
   "source": [
    "B) Qual a estratégia a ser usada nesse caso?"
   ]
  },
  {
   "cell_type": "markdown",
   "id": "44739b24-07ed-43da-aef8-b79d2c6c4493",
   "metadata": {},
   "source": [
    "Utilizando o critério Maximin e estratégia Minmax:"
   ]
  },
  {
   "cell_type": "markdown",
   "id": "97bf01d4-c52e-4c33-b862-26fe4ba22b75",
   "metadata": {},
   "source": [
    "i) Determinar, em cada linha, a recompensa mínima\n",
    "\n",
    "ii) Determinar, em cada coluna, a recompensa máxima.\n",
    "\n",
    "iii) determinar o ponto de sela, que corresponde ao ponto que seja ao mesmo tempo o máximo e commun em coluna e em linha."
   ]
  },
  {
   "cell_type": "markdown",
   "id": "89049204-2b81-4a2e-93e7-0563ef702b74",
   "metadata": {},
   "source": [
    "|       | H1   |  H2  | Min Linhas |\n",
    "|-------|------|------|-----------:|\n",
    "|**B1** | 1000 | 600  |  **600**    |\n",
    "|**B2** | -100 | 2000 |  **-100**   |\n",
    "|**Max Colunas** | **1000** | **2000** | "
   ]
  },
  {
   "cell_type": "markdown",
   "id": "9dd420f9-176a-4c6a-8b0a-f0f4aa653b90",
   "metadata": {},
   "source": [
    "O critério Maxmin neste caso falha, pois não valores coincidentes entre linhas e colunas."
   ]
  },
  {
   "cell_type": "markdown",
   "id": "c4fd9de2-d5e7-4136-9d08-22a98f50afb0",
   "metadata": {},
   "source": [
    "Sejam $P1$ e $P2$ o percentual de inventimento em cada estratégia a ser adotada, e $V$ o valor ganho."
   ]
  },
  {
   "cell_type": "markdown",
   "id": "f4a73ad7-2a98-45f3-ad25-4c268f4b5be3",
   "metadata": {},
   "source": [
    "$V$ quando a empresa $H$ adota a estratégia 1 ($H1$): $ V = 1000P1 + (-100)P2 $"
   ]
  },
  {
   "cell_type": "markdown",
   "id": "a47ef86d-98d2-4ac4-8639-dbcb241e289b",
   "metadata": {},
   "source": [
    "$V$ quando a empresa $H$ adota a estratégia 2 ($H2$): $ V = 600P1 + 2000P2 $"
   ]
  },
  {
   "cell_type": "markdown",
   "id": "3383312d-d235-4bec-acad-4536e7a43214",
   "metadata": {},
   "source": [
    "Restrição Percentual de Investimento: $P1 + P2 = 1 $"
   ]
  },
  {
   "cell_type": "markdown",
   "id": "18c71851-be24-4eb3-a757-2be5c2707903",
   "metadata": {},
   "source": [
    "\\begin{align*}\n",
    "\\begin{cases} \n",
    "V = 1000P_1 + (-100)P_2 \\\\\n",
    "V = 600P_1 + 2000P_2 \n",
    "\\end{cases}\n",
    "\\end{align*}\n",
    "\n",
    "\\begin{align*}\n",
    "1000P_1 + (-100)P_2 = 600P_1 + 2000P_2\n",
    "\\end{align*}\n",
    "\n",
    "\\begin{align*}\n",
    "\\begin{cases} \n",
    "400P_1 - 2100P_2 = 0 \\\\\n",
    "P_1 + P_2 = 1 \n",
    "\\end{cases}\n",
    "\\end{align*}\n",
    "\n",
    "\\begin{align*}\n",
    "\\begin{cases}\\displaystyle \n",
    "400P_1 - 2100P_2 = 0\\\\\n",
    "\\displaystyle P_1 + P_2 = 1 \\quad \\quad \\quad \\quad \\quad \\times (-400)\n",
    "\\end{cases}\n",
    "\\end{align*}\n",
    "\n",
    "\\begin{align*}\n",
    "\\begin{cases}\n",
    "\\cancel{400P_1} - 2100P_2 \\,\\, = 0\\\\\n",
    "\\displaystyle \\cancel{-400P_1} -400P_2 = -400\n",
    "\\over \\displaystyle -2500P2 = -400\n",
    "\\end{cases}\n",
    "\\end{align*}\n",
    "\n",
    "\\begin{align*}\n",
    "\\boxed{P2 = 0,16}\\\\\n",
    "\\therefore \\boxed{P1 = 0,84}\n",
    "\\end{align*}\n",
    "\n",
    "\\begin{align*}\n",
    "V = 1000P1 - 100P2\\\\\n",
    "V = 1000 \\cdot 0,84 1 100 \\cdot 0,16\\\\\n",
    "\\boxed{V = 840 - 16}\\\\\n",
    "\\boxed{V = 824}\n",
    "\\end{align*}"
   ]
  },
  {
   "cell_type": "markdown",
   "id": "0c136350-e07f-4171-8762-26c647df72db",
   "metadata": {},
   "source": [
    "Sob a perspectiva da empresa H, a maximinização do lucro é conseguida quando há investimento de 84% na estratégia 1 e 16% na estratégia 2."
   ]
  },
  {
   "cell_type": "code",
   "execution_count": null,
   "id": "e3ad9212-bbc6-4d64-9f86-8f371eea93fc",
   "metadata": {},
   "outputs": [],
   "source": []
  }
 ],
 "metadata": {
  "kernelspec": {
   "display_name": "Python 3 (ipykernel)",
   "language": "python",
   "name": "python3"
  },
  "language_info": {
   "codemirror_mode": {
    "name": "ipython",
    "version": 3
   },
   "file_extension": ".py",
   "mimetype": "text/x-python",
   "name": "python",
   "nbconvert_exporter": "python",
   "pygments_lexer": "ipython3",
   "version": "3.9.17"
  }
 },
 "nbformat": 4,
 "nbformat_minor": 5
}
