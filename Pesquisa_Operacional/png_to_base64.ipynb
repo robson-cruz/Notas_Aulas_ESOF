{
 "cells": [
  {
   "cell_type": "code",
   "execution_count": null,
   "id": "8dbb7f8a-33be-48bf-afe1-4c021dd33cf6",
   "metadata": {
    "scrolled": true
   },
   "outputs": [],
   "source": [
    "import base64\n",
    "\n",
    "# Read the image file in binary mode\n",
    "with open('logo.png', 'rb') as image_file:\n",
    "    # Convert the binary data to base64 encoding\n",
    "    base64_encoded_image = base64.b64encode(image_file.read())\n",
    "\n",
    "# Convert the base64 encoded data to a string\n",
    "base64_encoded_string = base64_encoded_image.decode('utf-8')\n",
    "\n",
    "# Print or use the base64 encoded string\n",
    "print(base64_encoded_string)\n"
   ]
  },
  {
   "cell_type": "code",
   "execution_count": null,
   "id": "ac177b13-081b-4d60-90fd-00430e4fd03a",
   "metadata": {},
   "outputs": [],
   "source": []
  }
 ],
 "metadata": {
  "kernelspec": {
   "display_name": "Python 3 (ipykernel)",
   "language": "python",
   "name": "python3"
  },
  "language_info": {
   "codemirror_mode": {
    "name": "ipython",
    "version": 3
   },
   "file_extension": ".py",
   "mimetype": "text/x-python",
   "name": "python",
   "nbconvert_exporter": "python",
   "pygments_lexer": "ipython3",
   "version": "3.11.7"
  }
 },
 "nbformat": 4,
 "nbformat_minor": 5
}
