{
 "cells": [
  {
   "cell_type": "markdown",
   "id": "22862bbb-3fb8-4df5-811b-46d1ea3db9a7",
   "metadata": {},
   "source": [
    "# ATIVIDADE 1 - ESOFT - PROJETO, IMPLEMENTAÇÃO E TESTE DE SOFTWARE - 53/2023\n",
    "\n",
    "**QUESTÃO 1**"
   ]
  },
  {
   "cell_type": "markdown",
   "id": "926d62fe-5f31-4baf-8eff-59bf9caaa5b7",
   "metadata": {},
   "source": [
    "<p>Caro(a) estudante,</p>\n",
    "\n",
    "<p style=\"text-align: justify; text-indent:1.75em\">Nesta atividade, você é convidado(a) a verificar como a disciplina em questão pode contribuir na sua experiência e formação profissional. Por esse motivo, nesta atividade discursiva, você é instigado(a) a solucionar um problema voltado para sua área de formação. Com o auxílio dos professores e demais estudantes, o(a) aluno(a) deixa de apenas absorver conteúdos e passa a construir conhecimento. Abre-se, dessa forma, espaço para a pesquisa, a exposição de ideias, os debates e, principalmente, para o raciocínio criativo. Dessa forma, o(a) aluno(a) se transforma em um(a) aliado(a) na busca pelo conhecimento, uma vez que a faculdade o motiva na criação da construção da aprendizagem.</p>\n",
    "\n",
    "<p style=\"text-align: justify; text-indent:1.75em\">Agora, vejamos o contexto apresentado a seguir:<p>\n",
    "\n",
    "<p style=\"text-align: justify; text-indent:1.75em\">Conforme Pressman (2011, p. 229), o “projeto de arquitetura representa a estrutura de dados e os componentes de programa necessários para construir um sistema computacional”. Um dos modelos arquiteturais mais conhecidos é o MVC (Modelo-Visão-Controlador), padrão, considerado a base do gerenciamento de interações para muitos dos sistemas que são baseados em Web. Confira a Figura 1 a seguir:</p>"
   ]
  },
  {
   "cell_type": "markdown",
   "id": "c1472b2e-01b0-45bd-bb8e-de049424d226",
   "metadata": {},
   "source": [
    "<figure style=\"text-align:center; margin:0px 20px;\">\n",
    "    <img src=\"MVC_img.png\" alt=\"MVC\" />\n",
    "    <br />\n",
    "    <ficaption style=\"text-align:center; padding: 2px; margin-top: 10px;\">Figura 1 - Padrão Model-View-Controller</ficaption>\n",
    "    <figcaption style=\"text-align:center; padding: 2px; margin-top: 2px;\">Fonte: https://medium.com/edersonmelo/arquitetura-android-mvc-x-mvp-x-mvvm-d4f71c62cb7​. Acesso em: 13 jul. 2023.</figcaption>\n",
    "</figure>"
   ]
  },
  {
   "cell_type": "markdown",
   "id": "69d8eb26-da2e-471c-8851-65cd6cfdd73e",
   "metadata": {},
   "source": [
    "<p style=\"text-align: justify; text-indent: 1.75em;\">A partir do exposto, explique de forma detalhada o padrão MVC (Model-View-Controller) e como ele promove a separação de responsabilidades em um sistema de software. Discorra também sobre as vantagens e desvantagens do uso desse padrão de projeto, destacando casos em que sua aplicação pode ser mais adequada.</p>"
   ]
  },
  {
   "cell_type": "markdown",
   "id": "c56122e6-13a3-4aa5-95f3-e9b104513ebc",
   "metadata": {},
   "source": [
    "**Como enviar a sua resposta:**\n",
    "- A sua resposta deve ser preenchida no campo destinado à resposta da atividade.\n",
    "\n",
    "**ATENÇÃO**\n",
    "- Cuidado com plágio. Se identificado, você poderá ter sua atividade zerada.\n",
    "- Não compartilhe a sua resposta com os demais colegas.​\n",
    "- Se você realizar a sua atividade em grupo, cada aluno deve escrever o seu próprio texto; caso contrário, cairá no plágio.\n",
    "- Atenção ao prazo de entrega da atividade. Sugerimos que envie sua atividade antes do prazo final para evitar transtornos e lentidão nos servidores. Evite envio de atividade em cima do prazo.\n",
    "\n",
    "**Sugestão para a escrita:**\n",
    "- Realize pesquisas em base de dados cientificas e coloque as fontes de pesquisas que estará utiizando na sua resposta. O mais importante é que você escreva com suas próprias palavras."
   ]
  },
  {
   "cell_type": "markdown",
   "id": "d276aa68-4403-4695-89e2-61875ce11c0b",
   "metadata": {},
   "source": [
    "**Fonte:**\n",
    "\n",
    "GAMMA, E. et al. Design Patterns: Elements of Reusable Object-Oriented Software. Addison-Wesley, 1995.\n",
    "\n",
    "FOWLER, M. Patterns of Enterprise Application Architecture. Addison-Wesley Professional, 2004.\n",
    "\n",
    "LEFF, A.; RAYFIELD, J. T. Web-application development using the model/view/controller design pattern. ACM SIGPLAN Notices, v. 36, n. 11, p. 1-11, 2001.\n",
    "\n",
    "KRASNER, G. E.; POPE, S. T. A description of the model-view-controller user interface paradigm in the Smalltalk-80 system. Journal of Object-Oriented Programming, v. 1, n. 3, p. 26-49, 1988."
   ]
  },
  {
   "cell_type": "code",
   "execution_count": null,
   "id": "4296e42a-fbc4-4cfb-a43a-423306a7f9f4",
   "metadata": {},
   "outputs": [],
   "source": []
  }
 ],
 "metadata": {
  "kernelspec": {
   "display_name": "Python 3 (ipykernel)",
   "language": "python",
   "name": "python3"
  },
  "language_info": {
   "codemirror_mode": {
    "name": "ipython",
    "version": 3
   },
   "file_extension": ".py",
   "mimetype": "text/x-python",
   "name": "python",
   "nbconvert_exporter": "python",
   "pygments_lexer": "ipython3",
   "version": "3.9.12"
  }
 },
 "nbformat": 4,
 "nbformat_minor": 5
}
