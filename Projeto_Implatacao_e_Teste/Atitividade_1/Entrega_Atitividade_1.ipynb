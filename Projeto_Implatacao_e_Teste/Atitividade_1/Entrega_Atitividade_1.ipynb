{
 "cells": [
  {
   "cell_type": "markdown",
   "id": "321d1f03-885c-4f18-95fb-93ca6920b716",
   "metadata": {},
   "source": [
    "<figure style=\"text-align: center;\">\n",
    "    <img src=\"logo_mapa.png\" />\n",
    "</figure>"
   ]
  },
  {
   "cell_type": "markdown",
   "id": "bc50c507-dc56-4bce-b37c-26c101538b0e",
   "metadata": {},
   "source": [
    "<h2 style=\"text-align: center\">ATIVIDADE 1 - ESOFT - PROJETO, IMPLEMENTAÇÃO E TESTE DE SOFTWARE - 53/2023</h2>"
   ]
  },
  {
   "cell_type": "markdown",
   "id": "f2c732be-c2b3-4f59-bb60-2c4f6dddf920",
   "metadata": {},
   "source": [
    "<table style=\"border: 1px solid black; margin-bottom: 20px\">\n",
    "    <tr>\n",
    "        <td><b>Acadêmico</b>: Robson Cruz Santos</td>\n",
    "        <td><b>R.A</b>: 22117001-5</td>\n",
    "    </tr>\n",
    "    <tr>\n",
    "        <td><b>Curso</b>: Engenharia de Software</td>\n",
    "    </tr>\n",
    "    <tr>\n",
    "        <td><b>Disciplina</b>: Projeto, Implementação e Teste de Software</td>\n",
    "    </tr>\n",
    "    <tr>\n",
    "        <td><b>Valor da Atividade</b>: 0,5</td>\n",
    "        <td><b>Prazo</b>: 18/08/2023</td>\n",
    "    </tr>\n",
    "</table>"
   ]
  },
  {
   "cell_type": "markdown",
   "id": "db8dfbcf-b454-47f6-9c88-56e39b110681",
   "metadata": {},
   "source": [
    "<p style=\"text-align: justify; text-indent: 2em\">O padrão de arquitetura MVC (<i>Model-View-Controller</i>) é um paradigma de <i>design</i> amplamente utilizado no desenvolvimento de <i>software</i>, especialmente em aplicações de interface gráfica e <i>web</i>. Ele separa as preocupações de uma aplicação em três componentes principais: Modelo, Visão e Controlador. O objetivo principal do MVC é facilitar a manutenção, extensibilidade e reutilização de código, ao mesmo tempo em que promove a clareza e a organização do projeto. A seguir é apresentado um resumo dos componentes do padrão MVC:</p>"
   ]
  },
  {
   "cell_type": "markdown",
   "id": "0823a8a0-5ac4-4578-b75a-350eb85f14fe",
   "metadata": {},
   "source": [
    "<ol>\n",
    "<li>Modelo (Model):</li>\n",
    "<p style=\"text-align: justify; text-indent: 2em\">O Modelo representa a camada de dados e a lógica de negócios da aplicação. Ele é responsável por gerenciar os dados, regras de validação e manipulação de informações. O Modelo não possui conhecimento sobre a interface do usuário (UI) ou como os dados são apresentados.</p>\n",
    "\n",
    "<li>Visão (View):</li>\n",
    "<p style=\"text-align: justify; text-indent: 2em\">A Visão é responsável por exibir os dados ao usuário. Ela representa a interface do usuário e apresenta as informações do Modelo de maneira compreensível. A Visão não contém lógica de negócios; seu papel é puramente exibir os dados de forma adequada. A Visão é atualizada para refletir as mudanças no Modelo.</p>\n",
    "\n",
    "<li>Controlador (Controller):</li>\n",
    "<p style=\"text-align: justify; text-indent: 2em\">O Controlador atua como intermediário entre o Modelo e a Visão. Ele recebe os eventos do usuário ou do sistema, processa esses eventos e coordena as ações apropriadas no Modelo e na Visão. A lógica de controle e tomada de decisões é implementada no Controlador.</p>\n",
    "</ol>\n",
    "\n",
    "<p style=\"text-align: justify; text-indent: 2em\">O fluxo de interação típico no padrão MVC é o seguinte:</p>\n",
    "<ul style=\"text-align: justify; text-indent: 2em\">\n",
    "    <li>1. O usuário interage com a interface do usuário (Visão).</li>\n",
    "    <li>2. A Visão notifica o Controlador sobre a interação do usuário.</li>\n",
    "    <li>3. O Controlador processa a interação, atualiza o Modelo conforme necessário e atualiza a Visão.</li>\n",
    "</ul>\n",
    "\n",
    "<h2>Benefícios do padrão MVC:</h2>\n",
    "\n",
    "<p style=\"text-align: justify; text-indent: 2em\"><b>Separação de preocupações</b>: A divisão clara entre o Modelo, Visão e Controlador facilita a manutenção e a evolução do código, pois cada componente tem um foco específico.</p>\n",
    "<p style=\"text-align: justify; text-indent: 2em\"><b>Reutilização de código</b>: Como os componentes são independentes, é mais fácil reutilizar o Modelo, a Visão ou o Controlador em diferentes partes da aplicação.</p>\n",
    "<p style=\"text-align: justify; text-indent: 2em\"><b>Testabilidade</b>: A separação dos componentes facilita a criação de testes unitários, pois cada parte pode ser testada separadamente.</p>\n",
    "    \n",
    "<p style=\"text-align: justify; text-indent: 2em\">O padrão MVC tem sido fundamental para o desenvolvimento de aplicativos complexos e escaláveis, permitindo que equipes de desenvolvimento colaborem de maneira eficaz e mantenham uma arquitetura organizada. Além disso, muitos frameworks e bibliotecas populares adotaram princípios do MVC para fornecer estruturas robustas e flexíveis para a construção de software.</p>\n",
    "\n",
    "<h2>Aplicação do MVC</h2>\n",
    "<p style=\"text-align: justify; text-indent: 2em\">O padrão de arquitetura MVC (Model-View-Controller) é particularmente adequado para cenários em que a separação de preocupações, a organização do código e a escalabilidade são importantes.</p>\n",
    "\n",
    "<h2>Exemplo Prático</h2>\n",
    "<p style=\"text-align: justify; text-indent: 2em\">Como exemplo prático de uma aplicação web que utiliza o padrão MVC, podemos citar uma aplicação utilizada para gerenciar uma lista de tarefas, onde o usuário pode adicionar tarefas, marcar como concluída uma tarefa e remover tarefas. A aplicação é desenvolvida no <i>framework Flask</i>, utilizando linguagem de programação <i>Python</i>. A aplicação contém uma estrutura de dados do tipo lista que armazena as informações sobre cada tarefa a ser executada: título da tarefa e <i>status</i> de conclusão</p>\n",
    "\n",
    "Modelo (Model):\n",
    "<p style=\"text-align: justify; text-indent: 2em\">O Modelo neste caso possui uma classe responsável por gerenciar os dados das tarefas. Ele contém uma estrutura de dados do tipo lista que armazena informações sobre cada tarefa, como o título da tarefa e o <i>status</i> de conclusão. A classe do Modelo também inclui métodos para adicionar, remover e atualizar as tarefas do usuário. A seguir é demonstrado o Modelo em um arquivo denominado \"modelo.py\" em linguagem de programação Python.</p>"
   ]
  },
  {
   "cell_type": "code",
   "execution_count": null,
   "id": "bd04f105-c75b-4b38-83c4-f0e59c33cc03",
   "metadata": {},
   "outputs": [],
   "source": [
    "class TaskModel:\n",
    "    def __init__(self):\n",
    "        self.tasks = []\n",
    "\n",
    "    def add_task(self, title):\n",
    "        self.tasks.append({'title': title, 'completed': False})\n",
    "\n",
    "    def remove_task(self, index):\n",
    "        del self.tasks[index]\n",
    "\n",
    "    def mark_completed(self, index):\n",
    "        self.tasks[index]['completed'] = True\n"
   ]
  },
  {
   "cell_type": "markdown",
   "id": "548cfe5c-b92a-4ede-be46-aa6c32da8d0d",
   "metadata": {},
   "source": [
    "<h2>Visão (<i>View</i>):</h2>\n",
    "<p style=\"text-align: justify; text-indent: 2em\">A Visão é responsável por apresentar os dados das tarefas aos usuários. Neste exemplo, a Visão poderia ser uma página HTML que lista as tarefas em uma tabela e oferece opções para marcar como concluídas ou remover tarefas. A seguir é demonstrada a Visão através de um arquivo denominado \"index.html\" em linguagem de marcação de texto HTML.</p>"
   ]
  },
  {
   "cell_type": "code",
   "execution_count": null,
   "id": "c4ca9803-f920-4f56-a119-db220398a38f",
   "metadata": {},
   "outputs": [],
   "source": [
    "<!DOCTYPE html>\n",
    "<html>\n",
    "<head>\n",
    "    <title>Lista de Tarefas</title>\n",
    "</head>\n",
    "<body>\n",
    "    <h1>Lista de Tarefas</h1>\n",
    "    <table>\n",
    "        <tr>\n",
    "            <th>Tarefa</th>\n",
    "            <th> Concluída</th>\n",
    "            <th> Ações</th>\n",
    "        </tr>\n",
    "        <!-- Loop through tasks and generate rows -->\n",
    "        {% for index, task in tasks %}\n",
    "        <tr>\n",
    "            <td>{{ task.title }}</td>\n",
    "            <td>{{ \"Sim\" if task.completed else \"Não\" }}</td>\n",
    "            <td>\n",
    "                <a href=\"{{ url_for('complete_task', index=index) }}\">Marcar como Concluída</a>\n",
    "                <a href=\"{{ url_for('remove_task', index=index) }}\">Remover</a>\n",
    "            </td>\n",
    "        </tr>\n",
    "        {% endfor %}\n",
    "    </table>\n",
    "    <form method=\"POST\" action=\"/add\">\n",
    "        <input type=\"text\" name=\"new_task\" placeholder=\"Nova Tarefa\">\n",
    "        <input type=\"submit\" value=\"Adicionar Tarefa\">\n",
    "    </form>\n",
    "</body>\n",
    "</html>\n"
   ]
  },
  {
   "cell_type": "markdown",
   "id": "74c0885b-a356-481e-8da3-17232f84ea86",
   "metadata": {},
   "source": [
    "<h2>Controlador (<i>Controller</i>):</h2>\n",
    "<p style=\"text-align: justify; text-indent: 2em\">O Controlador recebe as solicitações do usuário, processa os dados e interage com o Modelo e a Visão. Ele lida com a adição, remoção e marcação de tarefas. A seguir é demonstrado o Controller por meio de em um arquivo em Python denominado \"main.py\".</p>"
   ]
  },
  {
   "cell_type": "code",
   "execution_count": null,
   "id": "9badeaec-0d7c-4e11-a0e5-0ba044c40f6e",
   "metadata": {},
   "outputs": [],
   "source": [
    "from flask import Flask, render_template, request, redirect\n",
    "from controle import TaskModel\n",
    "\n",
    "\n",
    "app = Flask(__name__)\n",
    "task_model = TaskModel()\n",
    "\n",
    "\n",
    "@app.route('/')\n",
    "def home():\n",
    "    tasks_with_indices = [(index, task) for index, task in enumerate(task_model.tasks)]\n",
    "    return render_template('index.html', tasks=tasks_with_indices)\n",
    "\n",
    "\n",
    "@app.route('/add', methods=['POST'])\n",
    "def add_task():\n",
    "    new_task = request.form.get('new_task')\n",
    "    if new_task:\n",
    "        task_model.add_task(new_task)\n",
    "    return redirect('/')\n",
    "\n",
    "\n",
    "@app.route('/complete/<int:index>')\n",
    "def complete_task(index):\n",
    "    task_model.mark_completed(index)\n",
    "    return redirect('/')\n",
    "\n",
    "\n",
    "@app.route('/remove/<int:index>')\n",
    "def remove_task(index):\n",
    "    task_model.remove_task(index)\n",
    "    return redirect('/')\n",
    "\n",
    "\n",
    "if __name__ == '__main__':\n",
    "    app.run()\n"
   ]
  },
  {
   "cell_type": "markdown",
   "id": "2796a67a-9a41-4239-aeb8-344c646c048f",
   "metadata": {},
   "source": [
    "<p style=\"text-align: justify; text-indent: 2em\">Neste exemplo, o <i>Flask</i> é usado como <i>framework web</i> para implementar o Controlador. As rotas definidas no Controlador correspondem às ações do usuário, como adicionar, marcar como concluída e remover tarefas. O Controlador interage com o Modelo para manipular os dados das tarefas e com a Visão para renderizar a página HTML com as informações atualizadas.</p>\n",
    "\n",
    "<p style=\"text-align: justify; text-indent: 2em\">Isso ilustra como o padrão MVC pode ser aplicado para separar as preocupações e construir um aplicativo <i>web</i> de lista de tarefas de maneira organizada e modular.</p>"
   ]
  },
  {
   "cell_type": "markdown",
   "id": "6ab8a40b-2d8b-42dc-8bd4-281a2ce3c386",
   "metadata": {},
   "source": [
    "<h2>Desvantagens do MVC</h2>\n",
    "<p style=\"text-align: justify; text-indent: 2em\">Embora o padrão de arquitetura MVC tenha muitas vantagens, também possui algumas desvantagens e desafios. Aqui estão algumas das desvantagens mais comuns associadas ao uso do MVC:</p>\n",
    "\n",
    "<p style=\"text-align: justify; text-indent: 2em\">1. <b>Complexidade Inicial</b>: Implementar o padrão MVC pode adicionar uma camada adicional de complexidade ao projeto, principalmente para desenvolvedores iniciantes. A necessidade de dividir a lógica de negócios em três componentes distintos (Modelo, Visão e Controlador) pode parecer excessivamente complicada para projetos pequenos ou simples.</p>\n",
    "\n",
    "<p style=\"text-align: justify; text-indent: 2em\">2. <b><i>Overhead</i></b>: A divisão das preocupações em três componentes separados pode levar a algum <i>overhead</i> (custo adicional) devido à comunicação entre esses componentes. Isso pode resultar em um código mais verboso e uma possível perda de desempenho em comparação com abordagens mais simples.</p>\n",
    "\n",
    "<p style=\"text-align: justify; text-indent: 2em\">3. <b>Aprendizado</b>: Se você estiver começando com o desenvolvimento de software, pode levar algum tempo para entender completamente o padrão MVC e como aplicá-lo corretamente. A curva de aprendizado pode ser um obstáculo inicial.</p>\n",
    "\n",
    "<p style=\"text-align: justify; text-indent: 2em\">4. <b>Tamanho do Projeto</b>: O padrão MVC pode ser mais adequado para projetos de tamanho médio a grande, onde a separação de preocupações é benéfica. Em projetos pequenos, a implementação do MVC pode ser excessiva e aumentar a complexidade desnecessariamente.</p>\n",
    "\n",
    "<p style=\"text-align: justify; text-indent: 2em\">5. <b>Sincronização Complexa</b>: Manter a sincronização entre o Modelo e a Visão pode ser um desafio, especialmente em aplicativos complexos com muitos dados em tempo real. A atualização da interface do usuário (UI) para refletir as alterações no Modelo pode ser complexa e requerer abordagens como a utilização de padrões <i>Observer</i> ou bibliotecas de gerenciamento de estado.</p>\n",
    "\n",
    "<p style=\"text-align: justify; text-indent: 2em\">6. <b>Complexidade do Controlador</b>: O Controlador pode se tornar complexo e inchado à medida que mais lógica de negócios é adicionada. Isso pode ocorrer se a lógica de decisão se acumular no Controlador, em vez de ser modularizada e organizada.</p>\n",
    "\n",
    "<p style=\"text-align: justify; text-indent: 2em\">7. <b>Customização Excessiva</b>: Em alguns casos, os desenvolvedores podem optar por uma customização excessiva do padrão MVC, adicionando camadas ou subdivisões que não são realmente necessárias para o projeto. Isso pode levar a uma arquitetura excessivamente complexa e difícil de manter.</p>\n",
    "\n",
    "<p style=\"text-align: justify; text-indent: 2em\">8. <b>Menos Adequado para Projetos Simples</b>: Em projetos muito simples ou protótipos rápidos, a implementação do MVC pode ser um exagero e adicionar um tempo de desenvolvimento extra sem trazer muitos benefícios tangíveis.</p>\n",
    "\n",
    "<p style=\"text-align: justify; text-indent: 2em\">Apesar dessas desvantagens, o padrão de arquitetura MVC continua sendo uma abordagem popular e amplamente adotada, especialmente em projetos maiores e mais complexos, onde a organização e a escalabilidade são essenciais. Como em qualquer decisão de design, é importante equilibrar as vantagens e desvantagens em relação aos requisitos específicos do projeto.</p>"
   ]
  },
  {
   "cell_type": "code",
   "execution_count": null,
   "id": "18ee62bc-5549-4fe0-8bcd-22fc0cda904c",
   "metadata": {},
   "outputs": [],
   "source": []
  }
 ],
 "metadata": {
  "kernelspec": {
   "display_name": "Python 3 (ipykernel)",
   "language": "python",
   "name": "python3"
  },
  "language_info": {
   "codemirror_mode": {
    "name": "ipython",
    "version": 3
   },
   "file_extension": ".py",
   "mimetype": "text/x-python",
   "name": "python",
   "nbconvert_exporter": "python",
   "pygments_lexer": "ipython3",
   "version": "3.9.12"
  }
 },
 "nbformat": 4,
 "nbformat_minor": 5
}
