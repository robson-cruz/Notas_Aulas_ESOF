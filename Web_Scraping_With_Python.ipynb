{
 "cells": [
  {
   "cell_type": "markdown",
   "id": "894fa1b0",
   "metadata": {},
   "source": [
    "## Web Scraping with Python"
   ]
  },
  {
   "cell_type": "code",
   "execution_count": 4,
   "id": "49d59c12",
   "metadata": {},
   "outputs": [],
   "source": [
    "# Import package\n",
    "import requests\n",
    "from bs4 import BeautifulSoup\n",
    "\n",
    "\n",
    "# Specify the url: url\n",
    "url = \"https://www.python.org/~guido/\"\n",
    "\n",
    "# Packages the request, send the request and catch the response: r\n",
    "r = requests.get(url)\n",
    "\n",
    "# Extract the response: html_doc\n",
    "html_doc = r.text\n",
    "\n",
    "# Create a BeautifulSoup object from the html: soup\n",
    "soup = BeautifulSoup(html_doc)"
   ]
  },
  {
   "cell_type": "markdown",
   "id": "da19387a",
   "metadata": {},
   "source": [
    "## Extract the Response and Print the HTML"
   ]
  },
  {
   "cell_type": "code",
   "execution_count": 5,
   "id": "9f71acbb",
   "metadata": {},
   "outputs": [
    {
     "name": "stdout",
     "output_type": "stream",
     "text": [
      "<HTML>\n",
      "\n",
      "<HEAD>\n",
      "<TITLE>Guido's Personal Home Page</TITLE>\n",
      "</HEAD>\n",
      "\n",
      "<BODY BGCOLOR=\"#FFFFFF\" TEXT=\"#000000\">\n",
      "\n",
      "<!-- Built from main -->\n",
      "<H1>\n",
      "<a href=\"pics.html\"><img border=\"0\" src=\"images/IMG_2192.jpg\"></a>\n",
      "Guido van Rossum - Personal Home Page\n",
      "<a href=\"pics.html\"><img border=0 width=270 height=216 src=\"images/guido-headshot-2019.jpg\"></a>\n",
      "</H1>\n",
      "\n",
      "<P><A\n",
      "HREF=\"http://www.washingtonpost.com/wp-srv/business/longterm/microsoft/stories/1998/raymond120398.htm\" \n",
      "><i>\"Gawky and proud of it.\"</i></A>\n",
      "\n",
      "\n",
      "<H3><a href=\"images/df20000406.jpg\" >Who I Am</a></H3>\n",
      "\n",
      "<p>Read\n",
      "my <a href=\"http://neopythonic.blogspot.com/2016/04/kings-day-speech.html\">\"King's\n",
      "Day Speech\"</a> for some inspiration.\n",
      "\n",
      "<P>I am the author of the <A HREF=\"http://www.python.org\" >Python</A>\n",
      "programming language.  See also my <A HREF=\"Resume.html\">resume</A>\n",
      "and my <A HREF=\"Publications.html\">publications list</A>, a <A\n",
      "HREF=\"bio.html\" >brief bio</A>, assorted <a\n",
      "href=\"http://legacy.python.org/doc/essays/\">writings</a>, <a\n",
      "href=\"http://legacy.python.org/doc/essays/ppt/\">presentations</a> and <a\n",
      "href=\"interviews.html\">interviews</a> (all about Python), some\n",
      "<a href=\"pics.html\">pictures of me</a>,\n",
      "<a href=\"http://neopythonic.blogspot.com\">my new blog</a>, and\n",
      "my <a href=\"http://www.artima.com/weblogs/index.jsp?blogger=12088\">old\n",
      "blog</a> on Artima.com.  I am\n",
      "<a href=https://twitter.com/gvanrossum>@gvanrossum</a> on Twitter.\n",
      "\n",
      "<p>I am currently a Distinguished Engineer at Microsoft.\n",
      "I have worked for Dropbox, Google, Elemental Security, Zope\n",
      "Corporation, BeOpen.com, CNRI, CWI, and SARA.  (See\n",
      "my <a href=Resume.html>resume</a>.)  I created Python while at CWI.\n",
      "\n",
      "<H3>How to Reach Me</H3>\n",
      "\n",
      "<P>You can send email for me to guido (at) python.org.\n",
      "I read everything sent there, but I receive too much email to respond\n",
      "to everything.\n",
      "\n",
      "<H3>My Name</H3>\n",
      "\n",
      "<P>My name often poses difficulties for Americans.\n",
      "\n",
      "<P><b>Pronunciation:</b> in Dutch, the \"G\" in Guido is a hard G,\n",
      "pronounced roughly like the \"ch\" in Scottish \"loch\".  (Listen to the\n",
      "<A HREF=\"guido.au\">sound clip</A>.)  However, if you're\n",
      "American, you may also pronounce it as the Italian \"Guido\".  I'm not\n",
      "too worried about the associations with mob assassins that some people\n",
      "have. :-)\n",
      "\n",
      "<P><b>Spelling:</b> my last name is two words, and I'd like to keep it\n",
      "that way, the spelling on some of my credit cards notwithstanding.\n",
      "Dutch spelling rules dictate that when used in combination with my\n",
      "first name, \"van\" is not capitalized: \"Guido van Rossum\".  But when my\n",
      "last name is used alone to refer to me, it is capitalized, for\n",
      "example: \"As usual, Van Rossum was right.\"\n",
      "\n",
      "<P><b>Alphabetization:</b> in America, I show up in the alphabet under\n",
      "\"V\".  But in Europe, I show up under \"R\".  And some of my friends put\n",
      "me under \"G\" in their address book...\n",
      "\n",
      "\n",
      "<H3>More Hyperlinks</H3>\n",
      "\n",
      "<UL>\n",
      "\n",
      "<LI>Here's a collection of <A HREF =\n",
      "\"http://legacy.python.org/doc/essays/\" >essays</A> relating to Python\n",
      "that I've written, including the foreword I wrote for Mark Lutz' book\n",
      "\"Programming Python\".<P>\n",
      "\n",
      "<li>I own the official <a href=\"images/license.jpg\"><img align=\"center\"\n",
      "border=\"0\" width=\"100\" height=\"75\" src=\"images/license_thumb.jpg\">\n",
      "Python license.</a><p>\n",
      "\n",
      "</UL>\n",
      "\n",
      "<H3>The Audio File Formats FAQ</H3>\n",
      "\n",
      "<P>I was the original creator and maintainer of the Audio File Formats\n",
      "FAQ.  It is now maintained by Chris Bagwell\n",
      "at <A HREF=\"http://www.cnpbagwell.com/audio-faq\"\n",
      ">http://www.cnpbagwell.com/audio-faq</A>.  And here is a link to\n",
      "<a href=http://sox.sourceforge.net/>SOX</a>, to which I contributed\n",
      "some early code.\n",
      "\n",
      "</UL>\n",
      "\n",
      "<HR>\n",
      "\n",
      "<A HREF=\"images/internetdog.gif\">\"On the Internet, nobody knows you're\n",
      "a dog.\"</A>\n",
      "\n",
      "<HR>\n",
      "\n",
      "</BODY>\n",
      "\n"
     ]
    }
   ],
   "source": [
    "# Print the html\n",
    "print(html_doc)"
   ]
  },
  {
   "cell_type": "markdown",
   "id": "fede51a1",
   "metadata": {},
   "source": [
    "## Get the Title of the Web Page"
   ]
  },
  {
   "cell_type": "code",
   "execution_count": 7,
   "id": "273d6010",
   "metadata": {},
   "outputs": [
    {
     "name": "stdout",
     "output_type": "stream",
     "text": [
      "<title>Guido's Personal Home Page</title>\n"
     ]
    }
   ],
   "source": [
    "print(soup.title)"
   ]
  },
  {
   "cell_type": "markdown",
   "id": "b34c8bd1",
   "metadata": {},
   "source": [
    "## Find all Hyperlinks in the Web page "
   ]
  },
  {
   "cell_type": "code",
   "execution_count": 9,
   "id": "671e983e",
   "metadata": {},
   "outputs": [
    {
     "data": {
      "text/plain": [
       "['pics.html',\n",
       " 'pics.html',\n",
       " 'http://www.washingtonpost.com/wp-srv/business/longterm/microsoft/stories/1998/raymond120398.htm',\n",
       " 'images/df20000406.jpg',\n",
       " 'http://neopythonic.blogspot.com/2016/04/kings-day-speech.html',\n",
       " 'http://www.python.org',\n",
       " 'Resume.html',\n",
       " 'Publications.html',\n",
       " 'bio.html',\n",
       " 'http://legacy.python.org/doc/essays/',\n",
       " 'http://legacy.python.org/doc/essays/ppt/',\n",
       " 'interviews.html',\n",
       " 'pics.html',\n",
       " 'http://neopythonic.blogspot.com',\n",
       " 'http://www.artima.com/weblogs/index.jsp?blogger=12088',\n",
       " 'https://twitter.com/gvanrossum',\n",
       " 'Resume.html',\n",
       " 'guido.au',\n",
       " 'http://legacy.python.org/doc/essays/',\n",
       " 'images/license.jpg',\n",
       " 'http://www.cnpbagwell.com/audio-faq',\n",
       " 'http://sox.sourceforge.net/',\n",
       " 'images/internetdog.gif']"
      ]
     },
     "execution_count": 9,
     "metadata": {},
     "output_type": "execute_result"
    }
   ],
   "source": [
    "links = []\n",
    "\n",
    "# Find all 'a' tags (which define hyperlinks): a_tags\n",
    "a_tags = soup.find_all('a')\n",
    "\n",
    "# Put each link in the links list\n",
    "for link in a_tags:\n",
    "    url = link.get('href')\n",
    "    links.append(url)\n",
    "\n",
    "links"
   ]
  },
  {
   "cell_type": "code",
   "execution_count": null,
   "id": "4b16fd37",
   "metadata": {},
   "outputs": [],
   "source": []
  }
 ],
 "metadata": {
  "kernelspec": {
   "display_name": "Python 3 (ipykernel)",
   "language": "python",
   "name": "python3"
  },
  "language_info": {
   "codemirror_mode": {
    "name": "ipython",
    "version": 3
   },
   "file_extension": ".py",
   "mimetype": "text/x-python",
   "name": "python",
   "nbconvert_exporter": "python",
   "pygments_lexer": "ipython3",
   "version": "3.9.12"
  }
 },
 "nbformat": 4,
 "nbformat_minor": 5
}
