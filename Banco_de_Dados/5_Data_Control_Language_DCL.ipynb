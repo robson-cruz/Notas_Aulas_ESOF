{
 "cells": [
  {
   "cell_type": "markdown",
   "id": "8ccffbb6-5477-431c-8cd2-1659407cb548",
   "metadata": {},
   "source": [
    "# SQL\n",
    "## DATA CONTROL LANGUAGE - DCL\n",
    "### GRANT"
   ]
  },
  {
   "cell_type": "markdown",
   "id": "4a22dc8f-f898-4f88-bc6e-55816ab05161",
   "metadata": {},
   "source": [
    "Após a criação de um usuário, é possível conceder privilégios de sistema específicos: `CREATE TABLE`, `CREATE VIEW`, `CREATE PROCEDURE`, `CREATE TRIGGER`..."
   ]
  },
  {
   "cell_type": "markdown",
   "id": "1df47490-f9e6-4309-adc9-55dc6b1f8b49",
   "metadata": {},
   "source": [
    "O código a seguir mostra a atribuição de alguns privilégios ao usuário `robson`"
   ]
  },
  {
   "cell_type": "markdown",
   "id": "839811f8-f8d1-4b58-b156-6441ef36b921",
   "metadata": {},
   "source": [
    "- Oracle Database:"
   ]
  },
  {
   "cell_type": "raw",
   "id": "b9e373cf-5e07-4eb9-9fc3-26c769a96c80",
   "metadata": {},
   "source": [
    "GRANT \n",
    "    CREATE SESSION,\n",
    "    CREATE VIEW,\n",
    "    CREATE SEQUENCE\n",
    "TO robson;"
   ]
  },
  {
   "cell_type": "markdown",
   "id": "58af0346-93f0-432d-a7c6-652c652f2792",
   "metadata": {},
   "source": [
    "É possível atribuir privilégios a grupo de usuários, bastando criar uma função com o nome do grupo. O exemplor a seguir mostra a criação da função `data_scientist` como grupo, depois é concedido privilégios a esta função e da função para o grupo."
   ]
  },
  {
   "cell_type": "markdown",
   "id": "c9ba171b-6f6e-4b9c-8c0c-8feeb28ca2b5",
   "metadata": {},
   "source": [
    "- Oracle Databse"
   ]
  },
  {
   "cell_type": "raw",
   "id": "da3265d2-841b-4054-b330-1301eae782e6",
   "metadata": {},
   "source": [
    "-- Criar a função para o grupo\n",
    "CREATE ROLE data_scientist;\n",
    "\n",
    "\n",
    "-- Conceder privilégios ao grupo\n",
    "GRANT SELECT ON customer TO data_scientist;\n",
    "GRANT UPDATE ON customer TO data_scientist;\n",
    "\n",
    "-- Conceder privilégios dO grupo 'data_scientist' ao usuário Robson\n",
    "GRANT data_scientist TO robson;\n"
   ]
  },
  {
   "cell_type": "markdown",
   "id": "6253f8f5-e1b7-4bf8-abc9-22e4c475f49b",
   "metadata": {},
   "source": [
    "### REVOKE"
   ]
  },
  {
   "cell_type": "markdown",
   "id": "a5dd4f1b-1ff4-44a7-aa97-4ab2b11bc92d",
   "metadata": {},
   "source": [
    "### LOCK"
   ]
  },
  {
   "cell_type": "code",
   "execution_count": null,
   "id": "377a4db6-c0f6-4396-9a95-4454e0d2ca08",
   "metadata": {},
   "outputs": [],
   "source": []
  }
 ],
 "metadata": {
  "kernelspec": {
   "display_name": "Python 3 (ipykernel)",
   "language": "python",
   "name": "python3"
  },
  "language_info": {
   "codemirror_mode": {
    "name": "ipython",
    "version": 3
   },
   "file_extension": ".py",
   "mimetype": "text/x-python",
   "name": "python",
   "nbconvert_exporter": "python",
   "pygments_lexer": "ipython3",
   "version": "3.11.7"
  }
 },
 "nbformat": 4,
 "nbformat_minor": 5
}
