{
 "cells": [
  {
   "cell_type": "markdown",
   "id": "929540f2-1d97-45d2-8e32-3c6079e45d2a",
   "metadata": {},
   "source": [
    "# SQL"
   ]
  },
  {
   "cell_type": "markdown",
   "id": "662b7968-d80a-498f-b229-7277ec62ca0e",
   "metadata": {},
   "source": [
    "### WINDOW FUNCTIOS - FUNÇÕES DE AGREGAÇÃO"
   ]
  },
  {
   "cell_type": "markdown",
   "id": "6281a433-7af2-4d66-b709-5fe684e87add",
   "metadata": {},
   "source": [
    "As funções de agregação em SQL são usadas para realizar cálculos em um conjunto de valores e retornar um único valor resumido. Aqui estão algumas das funções de agregação mais comuns em SQL:\n",
    "\n",
    "**1. COUNT**: Conta o número de linhas em um conjunto de resultados.\n",
    "\n",
    "**2. SUM**: Calcula a soma dos valores em uma coluna.\n",
    "\n",
    "**3. AVG**: Calcula a média dos valores em uma coluna.\n",
    "\n",
    "**4. MIN**: Retorna o valor mínimo em uma coluna.\n",
    "\n",
    "**5. MAX**: Retorna o valor máximo em uma coluna.\n",
    "\n",
    "Essas funções são frequentemente usadas em conjunto com a cláusula GROUP BY para calcular valores agregados para grupos específicos de dados. Por exemplo, você pode usar `GROUP BY` com `SUM` para calcular a soma dos valores para cada grupo distinto de valores em uma coluna específica."
   ]
  },
  {
   "cell_type": "markdown",
   "id": "99e8cfd8-6f5b-4562-9206-9601d3661da3",
   "metadata": {},
   "source": [
    "O **Oracle Database** oferece algumas funções de agregação específicas que podem não estar disponíveis em outros sistemas de gerenciamento de banco de dados. Aqui estão algumas delas:\n",
    "\n",
    "\n",
    "- `MEDIAN`: Retorna a mediana de um conjunto de valores.\n",
    "\n",
    "- `WM_CONCAT`: Concatena os valores de uma coluna em uma única string, similar à função GROUP_CONCAT em outros sistemas de banco de dados.\n",
    "\n",
    "- `CORR`: Calcula o coeficiente de correlação entre dois conjuntos de valores.\n",
    "\n",
    "- `REGR_SLOPE`: Calcula a inclinação (slope) da linha de regressão linear para um conjunto de valores.\n",
    "\n",
    "- `REGR_INTERCEPT`: Calcula o intercepto da linha de regressão linear para um conjunto de valores.\n",
    "\n",
    "- `REGR_R2`: Calcula o coeficiente de determinação (R²) da linha de regressão linear para um conjunto de valores.\n",
    "\n",
    "Essas são algumas das funções de agregação específicas do Oracle Database. Elas podem ser úteis em casos de uso específicos, como análise estatística avançada e manipulação de strings. É importante verificar a documentação específica da versão do Oracle que você está utilizando para obter a lista completa de funções disponíveis."
   ]
  },
  {
   "cell_type": "markdown",
   "id": "f2036385-619a-45cd-9eae-71267495b46e",
   "metadata": {},
   "source": [
    "O **Microsoft SQL Server** tem suas próprias funções de agregação específicas, algumas das quais não estão disponíveis em outros sistemas de gerenciamento de banco de dados. Aqui estão algumas das funções de agregação específicas do SQL Server:\n",
    "\n",
    "- `CHECKSUM_AGG`: Calcula um valor de soma de verificação para uma expressão especificada em um conjunto de valores.\n",
    "- `GROUPING`: Indica se uma coluna em uma instrução GROUP BY é agregada ou não.\n",
    "- `STDEV` / `STDEVP`: Calcula o desvio padrão (STDEV) ou a população (STDEVP) de um conjunto de valores.\n",
    "- `VAR` / `VARP`: Calcula a variância (VAR) ou a população (VARP) de um conjunto de valores.\n",
    "- `STRING_AGG`: Concatena os valores de uma coluna em uma única string, separados por um delimitador específico.\n",
    "- `PERCENT_RANK`: Calcula a classificação percentual de um valor em um conjunto de valores.\n",
    "- `PERCENTILE_CONT`: Calcula um valor que é o k-ésimo percentil de um conjunto de valores.\n",
    "- `PERCENTILE_DISC`: Retorna o valor discreto que corresponde ao k-ésimo percentil de um conjunto de valores.\n",
    "\n",
    "Essas são apenas algumas das funções de agregação específicas do SQL Server. Cada versão do SQL Server pode introduzir novas funções ou aprimorar as existentes, portanto, é sempre bom consultar a documentação oficial para a versão específica que você está usando."
   ]
  },
  {
   "cell_type": "markdown",
   "id": "ebdbfed5-1232-4e45-858f-133c8cdd2313",
   "metadata": {},
   "source": [
    "O **PostgreSQL**, sendo um sistema de gerenciamento de banco de dados bastante poderoso e extensível, oferece uma variedade de funções de agregação além das funções padrão do SQL. Algumas das funções de agregação específicas do PostgreSQL incluem:\n",
    "\n",
    "- `PERCENTILE_CONT`: Calcula um valor que é o percentil especificado de uma expressão de ordenação em um conjunto de valores.\n",
    "- `PERCENTILE_DISC`: Retorna o valor discreto que corresponde à mediana especificada de uma expressão de ordenação em um conjunto de valores.\n",
    "- `MODE`: Retorna o valor mais comum (moda) de uma expressão em um conjunto de valores.\n",
    "- `JSON_AGG` / `JSONB_AGG`: Agrega valores em uma matriz JSON ou JSONB.\n",
    "- `STRING_AGG`: Concatena os valores de uma coluna em uma única string, separados por um delimitador específico.\n",
    "- `BIT_AND` / `BIT_OR` / `BOOL_AND` / `BOOL_OR`: Realiza operações lógicas (AND, OR) ou bit a bit em valores booleanos ou de bits em um conjunto de valores.\n",
    "\n",
    "Essas são apenas algumas das funções de agregação específicas do PostgreSQL. O PostgreSQL é conhecido por sua riqueza de recursos e suporte a extensões, então a lista de funções de agregação disponíveis pode variar dependendo da versão e de quaisquer extensões adicionais que estejam sendo usadas."
   ]
  },
  {
   "cell_type": "code",
   "execution_count": null,
   "id": "631f144f-ca8f-428a-8e43-50bbc1397bbb",
   "metadata": {},
   "outputs": [],
   "source": []
  }
 ],
 "metadata": {
  "kernelspec": {
   "display_name": "Python 3 (ipykernel)",
   "language": "python",
   "name": "python3"
  },
  "language_info": {
   "codemirror_mode": {
    "name": "ipython",
    "version": 3
   },
   "file_extension": ".py",
   "mimetype": "text/x-python",
   "name": "python",
   "nbconvert_exporter": "python",
   "pygments_lexer": "ipython3",
   "version": "3.11.7"
  }
 },
 "nbformat": 4,
 "nbformat_minor": 5
}
