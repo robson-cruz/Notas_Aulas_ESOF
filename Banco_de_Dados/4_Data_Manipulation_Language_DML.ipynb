{
 "cells": [
  {
   "cell_type": "markdown",
   "id": "b6e21579-87cb-4b84-b79d-eacd50c10a16",
   "metadata": {},
   "source": [
    "# SQL"
   ]
  },
  {
   "cell_type": "markdown",
   "id": "faa0b393-966d-4c15-ae6a-e34af54b5cfc",
   "metadata": {},
   "source": [
    "## Data Manipulation Language (DML)"
   ]
  },
  {
   "cell_type": "markdown",
   "id": "23162207-c4fb-4b56-ba5b-44a4c9b47b5d",
   "metadata": {},
   "source": [
    "As principais cláusulas DML em SQL são:\n",
    "- INSERT INTO\n",
    "- UPDATE\n",
    "- DELETE"
   ]
  },
  {
   "cell_type": "markdown",
   "id": "7d540854-d34a-4fb4-b0a8-94063da18a85",
   "metadata": {},
   "source": [
    "### INSERIR DADOS EM UMA TABELA"
   ]
  },
  {
   "cell_type": "markdown",
   "id": "8bc6420a-3fe3-483e-a97d-ac3759a3ba6c",
   "metadata": {},
   "source": [
    "Vamos inserir na coluna `descricao` da tabela `marca` os seguintes dados: Olympikus, Addidas, Mizuno, Nike, Grendene e Polo."
   ]
  },
  {
   "cell_type": "markdown",
   "id": "73466715-9c57-4f92-acd5-884430abcf64",
   "metadata": {},
   "source": [
    "### ATUALIZAR DADOS EM UMA TABELA"
   ]
  },
  {
   "cell_type": "code",
   "execution_count": null,
   "id": "da3faa49-1746-4553-b6f1-c500089bddf2",
   "metadata": {},
   "outputs": [],
   "source": []
  },
  {
   "cell_type": "markdown",
   "id": "2c70e78d-d26a-4a08-b88d-12d6190c4992",
   "metadata": {},
   "source": [
    "## Transactional and Locking Statements"
   ]
  },
  {
   "cell_type": "raw",
   "id": "bf773938-b0d1-46c1-8f95-70bb58bca631",
   "metadata": {},
   "source": [
    "INSERT INTO marca (descricao)\n",
    "VALUES (\"Olympikus\"),(\"Addidas\"),(\"Mizuno\"),(\"Nike\"),(\"Grendene\"),(\"Polo\");"
   ]
  },
  {
   "cell_type": "markdown",
   "id": "e5392e3b-c9c7-49e1-8ea1-0dfcf6236682",
   "metadata": {},
   "source": [
    "Cabe observar que foi necessário apenas informar os dados para a coluna `descricao`, pois a coluna `id` por possuir a _constraint_ `AUTO_INCREMENT`, não precisa ter informados valores de `id`, eles são preenchidos automaticamente pelo SGBD."
   ]
  },
  {
   "cell_type": "code",
   "execution_count": null,
   "id": "a418b463-1dd6-4d19-80ca-dd521f350e01",
   "metadata": {},
   "outputs": [],
   "source": []
  }
 ],
 "metadata": {
  "kernelspec": {
   "display_name": "Python 3 (ipykernel)",
   "language": "python",
   "name": "python3"
  },
  "language_info": {
   "codemirror_mode": {
    "name": "ipython",
    "version": 3
   },
   "file_extension": ".py",
   "mimetype": "text/x-python",
   "name": "python",
   "nbconvert_exporter": "python",
   "pygments_lexer": "ipython3",
   "version": "3.11.7"
  }
 },
 "nbformat": 4,
 "nbformat_minor": 5
}
