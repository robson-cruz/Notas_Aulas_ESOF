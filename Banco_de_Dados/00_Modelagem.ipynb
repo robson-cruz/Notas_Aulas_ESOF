{
 "cells": [
  {
   "cell_type": "markdown",
   "id": "603b4c6e-c730-4765-bf70-80633970fb97",
   "metadata": {},
   "source": [
    "# BANCO DE DADOS\n",
    "## MODELAGEM DE BANCO DE DADOS"
   ]
  },
  {
   "cell_type": "markdown",
   "id": "b5a1cccc-1741-47db-97f9-69bb9d4ae5f4",
   "metadata": {},
   "source": [
    "A modelagem de banco de dados é o processo de criar uma estrutura lógica para armazenar e organizar dados de maneira eficiente. Esse processo envolve várias etapas e conceitos chave:"
   ]
  },
  {
   "cell_type": "markdown",
   "id": "20513e29-95d3-47d2-89ad-0c90768ce009",
   "metadata": {},
   "source": [
    "1. **Análise de Requisitos**: Compreender as necessidades e os requisitos do negócio ou sistema para determinar quais dados precisam ser armazenados e como serão usados. O Modelo Entidade Relacionamento (MER) começa a ser formulado com base nos requisitos coletados.\n",
    "2. **Modelo Conceitual**: Este modelo é independente de qualquer sistema de gerenciamento de banco de dados específico. Aqui, o DER é desenvolvido para representar as entidades principais, seus atributos e os relacionamentos entre elas de forma visual. Esta fase é crucial para garantir que todos os _stakeholders_ entendam e concordem com a estrutura básica dos dados antes de prosseguir.\n",
    "  3. **Modelo Lógico**: O modelo conceitual é refinado em um modelo lógico, detalhando mais os atributos e relacionamentos, e começando a considerar aspectos como tipos de dados e restrições.\n",
    "  4. **Modelo Físico**: Traduzir o modelo lógico para um modelo físico que pode ser implementado em um sistema de gerenciamento de banco de dados específico (como MySQL, PostgreSQL, Oracle). Isso inclui a definição de tabelas, colunas, índices, chaves primárias e estrangeiras, e outras estruturas de dados.\n",
    "  5. **Normalização**: Aplicar regras para organizar os dados de modo a minimizar redundâncias e dependências indesejadas. A normalização geralmente envolve decompor tabelas grandes em tabelas menores e eliminar redundâncias de dados, seguindo formas normais (1NF, 2NF, 3NF, etc.).\n",
    "  6. **Desempenho e Otimização**: Ajustar o modelo físico para melhorar o desempenho do banco de dados, o que pode envolver a denormalização, criação de índices, particionamento de tabelas e outras técnicas de otimização.\n",
    "  7. **Documentação e Manutenção**: Documentar o modelo de dados para garantir que todos os stakeholders compreendam a estrutura do banco de dados e possam mantê-lo adequadamente no futuro."
   ]
  },
  {
   "cell_type": "markdown",
   "id": "efec901b-77fc-4213-8079-91bf71b99a01",
   "metadata": {},
   "source": [
    "### Benefícios:\n",
    "\n",
    "- **Organização e Clareza**: Facilita a compreensão e o gerenciamento dos dados.\n",
    "- **Eficiência**: Melhora a eficiência de armazenamento e consulta de dados.\n",
    "- **Flexibilidade e Escalabilidade**: Permite adaptações futuras sem grandes reestruturações.\n",
    "- **Redução de Redundância**: Minimiza a duplicação de dados e mantém a integridade dos mesmos."
   ]
  },
  {
   "cell_type": "markdown",
   "id": "17e00420-2c9d-4b60-98d9-627996cfb59d",
   "metadata": {},
   "source": [
    "### Modelo Entidade-Relacionamento (MER) e o Diagrama Entidade-Relacionamento (DER)\n",
    "\n",
    "O Modelo Entidade-Relacionamento (MER) e o Diagrama Entidade-Relacionamento (DER) são ferramentas fundamentais na modelagem de banco de dados, sendo o MER usado para mostrar uma visão gráfica de forma mais abstrata e compreensível entre as entidades do banco de dados. O DER pode ser utilizado para representar tanto o MER na fase do modelo conceitual do banco de dados qunto na fase de desenvolvimento do modelo lógico de dados."
   ]
  },
  {
   "cell_type": "markdown",
   "id": "6501e234-5f8a-4a38-b4a3-7da6c2435c6c",
   "metadata": {},
   "source": [
    "### Diagrama Entidade-Relacionamento (DER)\n",
    "O DER é uma representação gráfica do MER, usada para visualizar e documentar o relacionamento entre eentidades em um banco de dados. Ele inclui:\n",
    "\n",
    "- **Retângulos**: Representam as entidades.\n",
    "- **Elipses**: Representam os atributos das entidades.\n",
    "- **Losangos**: Representam os relacionamentos entre entidades.\n",
    "- **Linhas**: Conectam entidades a seus atributos e relacionamentos."
   ]
  },
  {
   "cell_type": "markdown",
   "id": "23425844-88a5-4fe2-872b-cd3f3f66c877",
   "metadata": {},
   "source": [
    "### Modelo Entidade-Relacionamento (MER) - Projeto Conceitual\n",
    "\n",
    "O MER é uma abordagem teórica para a modelagem de dados que utiliza conceitos de entidades, atributos e relacionamentos para representar as informações e suas interações em um sistema. Ele foi introduzido por Peter Pin-Shan Chen em 1976.\n",
    "\n",
    "- **Entidades**: Representam objetos ou conceitos do mundo real que possuem existência independente. Por exemplo, em um sistema de gerenciamento de biblioteca, entidades podem ser Livros, Autores e Membros.\n",
    "- **Atributos**: São propriedades ou características das entidades. Por exemplo, um Livro pode ter atributos como Título, ISBN e Data de Publicação.\n",
    "- **Relacionamentos**: Definem como as entidades interagem entre si. Por exemplo, um Autor pode \"escrever\" um Livro, e um Membro pode \"emprestar\" um Livro. Os relacionamento são representados por um losângulo.\n",
    "\n",
    "**NOTAÇÕES UTILIZADAS NO MER**:\n",
    "- **Entidades**: A notação para entidade é um retângulo.\n",
    "- **Atributos**: São representados por uma elípse ou um círculo, com destaque para os seguintes atributos:\n",
    "    -  Chave primária que é sublinhada.\n",
    "    -  Atributos multivalorados apresentam um `*`\n",
    "    -  Atributos compostos em negrito\n",
    "- **Relacionamentos**: São representados por um losângulo.\n",
    "\n",
    "Os tipos de relacionamento são defindos pela cardinalidade, que define quantas instâncias de uma entidade se relacionam com quantas instâncias de outra entidade. Assim, a cardinalidae determina como as entidades se relacionam entre si, e compreender e definir corretamente a cardinalidade é essencial para criar um banco de dados eficiente, consistente e que atenda às necessidades do negócio."
   ]
  },
  {
   "cell_type": "markdown",
   "id": "8d764c31-8409-451e-b91f-aff919a353c3",
   "metadata": {},
   "source": [
    "### Projeto Lógico\n",
    "No projeto lógico são apresentadas todas as tabelas, seus atributos e tipo de dado de cada atributo, relacionamento entre tabelas e cardinalidade, definição de atributos que são chaves primárias ou chaves estrangeiras, restrições de dados...\n",
    "\n",
    "#### Tipos de cardinalidade:\n",
    "\n",
    "1. **Um-para-Um (1:1)**:\n",
    "    - Cada instância de uma entidade se relaciona com exatamente uma instância de outra entidade.\n",
    "    - Exemplo: Cada pessoa tem um único passaporte, e cada passaporte pertence a uma única pessoa.\n",
    "\n",
    "2. **Um-para-Muitos (1:N)**:\n",
    "    - Uma instância de uma entidade se relaciona com múltiplas instâncias de outra entidade.\n",
    "    - Exemplo: Um autor pode escrever muitos livros, mas cada livro é escrito por um único autor.\n",
    "\n",
    "3. **Muitos-para-Um (N:1)**:\n",
    "    - Muitas instâncias de uma entidade se relacionam com uma única instância de outra entidade.\n",
    "    Exemplo: Muitos alunos estão matriculados em uma única turma, mas cada turma pode ter muitos alunos.\n",
    "\n",
    "4. **Muitos-para-Muitos (N:M) ou (N:N)**:\n",
    "    - Muitas instâncias de uma entidade se relacionam com muitas instâncias de outra entidade.\n",
    "    - Exemplo: Estudantes podem estar matriculados em muitos cursos, e cada curso pode ter muitos estudantes."
   ]
  },
  {
   "cell_type": "markdown",
   "id": "970682b2-a713-4763-9125-0a71707d799c",
   "metadata": {},
   "source": [
    "## NORMALIZAÇÃO DE BANCO DE DADOS"
   ]
  },
  {
   "cell_type": "markdown",
   "id": "7001ecc9-1601-45fe-b38f-7fcc61e6011f",
   "metadata": {},
   "source": [
    "Normalização de banco de dados é o processo de organização dos dados em um banco de dados relacional de forma a eliminar anomalias para reduzir a redundância e melhorar a integridade dos dados. O objetivo principal é estruturar o banco de dados de modo que ele minimize a duplicação de informações e possibilite a manutenção eficiente e consistente dos dados."
   ]
  },
  {
   "cell_type": "markdown",
   "id": "33a91749-411e-41b0-a10b-2dc5ca082bcd",
   "metadata": {},
   "source": [
    "**Tipos de Anomalias**:\n",
    "\n",
    "- **Anomalias de Inserção**: Dificuldade ou impossibilidade de inserir novos dados devido a restrições de integridade.\n",
    "- **Anomalias de Atualização**: Resultam em inconsistências ou valores indesejados após atualizações.\n",
    "- **Anomalias de Exclusão**: Perda de informações importantes ou referências inválidas após exclusões.\n",
    "- **Redundância de Dados**: Armazenamento repetido dos mesmos dados.\n",
    "- **Dependências Funcionais Indesejadas**: Relações mal definidas entre dados.\n",
    "- **Inconsistências de Dados**: Dados desatualizados ou conflitantes.\n",
    "- **Dependências Multivaloradas**: Conjuntos de atributos que determinam diferentes valores para outros atributos.\n",
    "- **Anomalias de Junção**: Informações incorretas após a junção de tabelas."
   ]
  },
  {
   "cell_type": "markdown",
   "id": "2adaa8bf-800b-4711-ac10-5297f9417545",
   "metadata": {},
   "source": [
    "## Formas Normais Mais Comuns Utilizadas no Processo de Normalização:"
   ]
  },
  {
   "cell_type": "markdown",
   "id": "d79d92b1-2eb2-4ca1-a208-8d7c28e82a52",
   "metadata": {},
   "source": [
    "**1. Primeira Forma Normal (1FN):**\n",
    "\n",
    "- Garantir que todos os campos em uma tabela contenham apenas valores atômicos (não divisíveis).\n",
    "- Eliminar atributos compostos e multivalorados.\n",
    "- Eliminar grupos repetidos, criando uma nova tabela para cada conjunto de dados relacionados e identificando cada conjunto com uma chave primária."
   ]
  },
  {
   "cell_type": "markdown",
   "id": "811faacf-670c-4d25-99b4-4e8929fb86f9",
   "metadata": {},
   "source": [
    "**2. Segunda Forma Normal (2FN):**\n",
    "\n",
    "- Atender aos requisitos da 1FN.\n",
    "- Eliminar dependência parcial e garantir que todos os atributos não-chave sejam totalmente dependentes da chave primária inteira. Isso significa que nenhuma parte da chave primária deve determinar parcialmente um atributo não-chave."
   ]
  },
  {
   "cell_type": "markdown",
   "id": "5b0bf053-b951-48f7-a1f8-f3d60e1ecd41",
   "metadata": {},
   "source": [
    "**3. Terceira Forma Normal (3FN):**\n",
    "\n",
    "- Atender aos requisitos da 2FN.\n",
    "- Eliminar dependências funcionais transitivas. Ou seja, atributos não-chave não devem depender de outros atributos não-chave."
   ]
  },
  {
   "cell_type": "markdown",
   "id": "d27e5235-7af8-48a4-b598-a0126133d6d2",
   "metadata": {},
   "source": [
    "**4. Forma Normal de Boyce-Codd (BCNF):**\n",
    "\n",
    "- Uma versão mais rigorosa da 3FN.\n",
    "- Cada determinação deve ser uma dependência funcional, onde cada determinante é uma superchave."
   ]
  },
  {
   "cell_type": "markdown",
   "id": "03f43be0-21f8-4c51-9dcb-ecd40604110b",
   "metadata": {},
   "source": [
    "**5. Quarta Forma Normal (4FN):**\n",
    "\n",
    "- Atender aos requisitos da BCNF.\n",
    "- Garantir que não existam dependências multivaloradas. Isso significa que uma tabela não deve conter mais de um conjunto de atributos multivalorados independentes."
   ]
  },
  {
   "cell_type": "markdown",
   "id": "c237068b-489b-413b-9799-2b71662a3d63",
   "metadata": {},
   "source": [
    "**6. Quinta Forma Normal (5FN):**\n",
    "\n",
    "- Atender aos requisitos da 4FN.\n",
    "- Eliminar a ocorrência de dependências de junção. Essa forma normal é raramente necessária e se aplica a casos complexos de dependência."
   ]
  },
  {
   "cell_type": "markdown",
   "id": "fcb91f43-3225-493b-96e3-430122b9a28e",
   "metadata": {},
   "source": [
    "### Benefícios da Normalização\n",
    "- **Redução da Redundância**: Elimina a duplicação de dados, o que economiza espaço de armazenamento e facilita a manutenção.\n",
    "- **Melhoria da Integridade**: Reduz o risco de inconsistências, pois as alterações nos dados são refletidas de maneira uniforme em todo o banco de dados.\n",
    "- **Facilidade de Manutenção**: Simplifica a atualização, inserção e exclusão de dados.\n",
    "- **Eficiência das Consultas**: Pode melhorar o desempenho das consultas ao eliminar redundâncias e normalizar as relações entre tabelas."
   ]
  },
  {
   "cell_type": "markdown",
   "id": "d28e9d1e-5210-4782-a31b-0a66ca3a6ce1",
   "metadata": {},
   "source": [
    "**Desvantagens da Normalização**\n",
    "\n",
    "- **Complexidade**: A estrutura resultante pode ser mais complexa, exigindo mais tabelas e relacionamentos.\n",
    "- **Desempenho das Consultas**: Em alguns casos, pode ser necessário realizar muitas junções de tabelas, o que pode afetar negativamente o desempenho das consultas.\n",
    " \n",
    "O processo de normalização deve ser balanceado com as necessidades específicas do sistema de banco de dados e o desempenho desejado. Em alguns casos, pode ser benéfico desnormalizar certas partes do banco de dados para otimizar a performance de consultas específicas."
   ]
  },
  {
   "cell_type": "code",
   "execution_count": null,
   "id": "7118c9c4-b087-4865-92ea-850eb8860ac1",
   "metadata": {},
   "outputs": [],
   "source": []
  }
 ],
 "metadata": {
  "kernelspec": {
   "display_name": "Python 3 (ipykernel)",
   "language": "python",
   "name": "python3"
  },
  "language_info": {
   "codemirror_mode": {
    "name": "ipython",
    "version": 3
   },
   "file_extension": ".py",
   "mimetype": "text/x-python",
   "name": "python",
   "nbconvert_exporter": "python",
   "pygments_lexer": "ipython3",
   "version": "3.11.7"
  }
 },
 "nbformat": 4,
 "nbformat_minor": 5
}
