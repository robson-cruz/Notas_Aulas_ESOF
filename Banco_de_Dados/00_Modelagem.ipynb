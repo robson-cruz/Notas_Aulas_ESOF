{
 "cells": [
  {
   "cell_type": "markdown",
   "id": "603b4c6e-c730-4765-bf70-80633970fb97",
   "metadata": {},
   "source": [
    "# BANCO DE DADOS\n",
    "## MODELAGEM DE BANCO DE DADOS"
   ]
  },
  {
   "cell_type": "markdown",
   "id": "b5a1cccc-1741-47db-97f9-69bb9d4ae5f4",
   "metadata": {},
   "source": [
    "A modelagem de banco de dados é o processo de criar uma estrutura lógica para armazenar e organizar dados de maneira eficiente. Esse processo envolve várias etapas e conceitos chave:"
   ]
  },
  {
   "cell_type": "markdown",
   "id": "20513e29-95d3-47d2-89ad-0c90768ce009",
   "metadata": {},
   "source": [
    "1. **Análise de Requisitos**: Compreender as necessidades e os requisitos do negócio ou sistema para determinar quais dados precisam ser armazenados e como serão usados. O Modelo Entidade Relacionamento (MER) começa a ser formulado com base nos requisitos coletados.\n",
    "2. **Modelo Conceitual**: Este modelo é independente de qualquer sistema de gerenciamento de banco de dados específico. Aqui, o DER é desenvolvido para representar as entidades principais, seus atributos e os relacionamentos entre elas de forma visual. Esta fase é crucial para garantir que todos os _stakeholders_ entendam e concordem com a estrutura básica dos dados antes de prosseguir.\n",
    "  3. **Modelo Lógico**: O modelo conceitual é refinado em um modelo lógico, detalhando mais os atributos e relacionamentos, e começando a considerar aspectos como tipos de dados e restrições. O DER é ajustado para incluir esses detalhes.\n",
    "  4. **Modelo Físico**: Traduzir o modelo lógico para um modelo físico que pode ser implementado em um sistema de gerenciamento de banco de dados específico (como MySQL, PostgreSQL, Oracle). Isso inclui a definição de tabelas, colunas, índices, chaves primárias e estrangeiras, e outras estruturas de dados.\n",
    "  5. **Normalização**: Aplicar regras para organizar os dados de modo a minimizar redundâncias e dependências indesejadas. A normalização geralmente envolve decompor tabelas grandes em tabelas menores e eliminar redundâncias de dados, seguindo formas normais (1NF, 2NF, 3NF, etc.).\n",
    "  6. **Desempenho e Otimização**: Ajustar o modelo físico para melhorar o desempenho do banco de dados, o que pode envolver a denormalização, criação de índices, particionamento de tabelas e outras técnicas de otimização.\n",
    "  7. **Documentação e Manutenção**: Documentar o modelo de dados para garantir que todos os stakeholders compreendam a estrutura do banco de dados e possam mantê-lo adequadamente no futuro."
   ]
  },
  {
   "cell_type": "markdown",
   "id": "efec901b-77fc-4213-8079-91bf71b99a01",
   "metadata": {},
   "source": [
    "### Benefícios:\n",
    "\n",
    "- **Organização e Clareza**: Facilita a compreensão e o gerenciamento dos dados.\n",
    "- **Eficiência**: Melhora a eficiência de armazenamento e consulta de dados.\n",
    "- **Flexibilidade e Escalabilidade**: Permite adaptações futuras sem grandes reestruturações.\n",
    "- **Redução de Redundância**: Minimiza a duplicação de dados e mantém a integridade dos mesmos."
   ]
  },
  {
   "cell_type": "markdown",
   "id": "17e00420-2c9d-4b60-98d9-627996cfb59d",
   "metadata": {},
   "source": [
    "### Modelo Entidade-Relacionamento (MER) e o Diagrama Entidade-Relacionamento (DER)\n",
    "\n",
    "O Modelo Entidade-Relacionamento (MER) e o Diagrama Entidade-Relacionamento (DER) são ferramentas fundamentais na modelagem de banco de dados, usadas para representar a estrutura lógica dos dados de um sistema de forma visual e compreensível. Eles são essenciais nas fases iniciais do desenvolvimento de um banco de dados."
   ]
  },
  {
   "cell_type": "markdown",
   "id": "23425844-88a5-4fe2-872b-cd3f3f66c877",
   "metadata": {},
   "source": [
    "### Modelo Entidade-Relacionamento (MER)\n",
    "\n",
    "O MER é uma abordagem teórica para a modelagem de dados que utiliza conceitos de entidades, atributos e relacionamentos para representar as informações e suas interações em um sistema. Ele foi introduzido por Peter Pin-Shan Chen em 1976.\n",
    "\n",
    "- **Entidades**: Representam objetos ou conceitos do mundo real que possuem existência independente. Por exemplo, em um sistema de gerenciamento de biblioteca, entidades podem ser Livros, Autores e Membros.\n",
    "- **Atributos**: São propriedades ou características das entidades. Por exemplo, um Livro pode ter atributos como Título, ISBN e Data de Publicação.\n",
    "- **Relacionamentos**: Definem como as entidades interagem entre si. Por exemplo, um Autor pode \"escrever\" um Livro, e um Membro pode \"emprestar\" um Livro. Os relacionamento são representados por um losângulo.\n",
    "\n",
    "**NOTAÇÕES UTILIZADAS NO MER**:\n",
    "- **Entidades**: A notação para entidade é um retângulo.\n",
    "- **Atributos**: São representados por uma elípse ou um círculo, com destaque para o atributo que define a chave primária.\n",
    "- **Relacionamentos**: São representados por um losângulo.\n",
    "\n",
    "Os tipos de relacionamento são defindos pela cardinalidade, que define quantas instâncias de uma entidade se relacionam com quantas instâncias de outra entidade. Assim, a cardinalidae determina como as entidades se relacionam entre si, e compreender e definir corretamente a cardinalidade é essencial para criar um banco de dados eficiente, consistente e que atenda às necessidades do negócio.\n",
    "\n",
    "#### Tipos de cardinalidade:\n",
    "\n",
    "1. **Um-para-Um (1:1)**:\n",
    "    - Cada instância de uma entidade se relaciona com exatamente uma instância de outra entidade.\n",
    "    - Exemplo: Cada pessoa tem um único passaporte, e cada passaporte pertence a uma única pessoa.\n",
    "\n",
    "2. **Um-para-Muitos (1:N)**:\n",
    "    - Uma instância de uma entidade se relaciona com múltiplas instâncias de outra entidade.\n",
    "    - Exemplo: Um autor pode escrever muitos livros, mas cada livro é escrito por um único autor.\n",
    "\n",
    "3. **Muitos-para-Um (N:1)**:\n",
    "    - Muitas instâncias de uma entidade se relacionam com uma única instância de outra entidade.\n",
    "    Exemplo: Muitos alunos estão matriculados em uma única turma, mas cada turma pode ter muitos alunos.\n",
    "\n",
    "4. **Muitos-para-Muitos (N:M) ou (N:N)**:\n",
    "    - Muitas instâncias de uma entidade se relacionam com muitas instâncias de outra entidade.\n",
    "    - Exemplo: Estudantes podem estar matriculados em muitos cursos, e cada curso pode ter muitos estudantes."
   ]
  },
  {
   "cell_type": "markdown",
   "id": "6501e234-5f8a-4a38-b4a3-7da6c2435c6c",
   "metadata": {},
   "source": [
    "### Diagrama Entidade-Relacionamento (DER)\n",
    "O DER é uma representação gráfica do MER, usada para visualizar e documentar a estrutura de dados de um sistema. Ele inclui:\n",
    "\n",
    "- **Retângulos**: Representam as entidades.\n",
    "- **Elipses**: Representam os atributos das entidades.\n",
    "- **Losangos**: Representam os relacionamentos entre entidades.\n",
    "- **Linhas**: Conectam entidades a seus atributos e relacionamentos."
   ]
  },
  {
   "cell_type": "code",
   "execution_count": null,
   "id": "a0142da5-2cb4-4a13-b4af-3e1fb0ceeaba",
   "metadata": {},
   "outputs": [],
   "source": []
  },
  {
   "cell_type": "code",
   "execution_count": null,
   "id": "1a8d6258-f444-4065-a47f-1293bfebe5ad",
   "metadata": {},
   "outputs": [],
   "source": []
  }
 ],
 "metadata": {
  "kernelspec": {
   "display_name": "Python 3 (ipykernel)",
   "language": "python",
   "name": "python3"
  },
  "language_info": {
   "codemirror_mode": {
    "name": "ipython",
    "version": 3
   },
   "file_extension": ".py",
   "mimetype": "text/x-python",
   "name": "python",
   "nbconvert_exporter": "python",
   "pygments_lexer": "ipython3",
   "version": "3.11.7"
  }
 },
 "nbformat": 4,
 "nbformat_minor": 5
}
