{
 "cells": [
  {
   "cell_type": "markdown",
   "id": "9532b4de-638d-4aef-a821-7ade6cb1d455",
   "metadata": {},
   "source": [
    "# Cálculo de IP pelo Terminal do Linux\n",
    "\n",
    "O pacote `ipcalc` permite realizar o cálculo de IP via terminal. A instalação pode ser feita através do comando: `apt-get install ipcalc`\n",
    "\n",
    "Um exemplo seria a configuração do IP 192.168.0.10. Para tal basta usar o comando `ipcalc 192.168.0.10`"
   ]
  },
  {
   "cell_type": "markdown",
   "id": "9e3c4187-bd73-403d-8d7b-e84e8adad47d",
   "metadata": {},
   "source": [
    "<img src=\"./img/ipcalc.png\">"
   ]
  },
  {
   "cell_type": "code",
   "execution_count": null,
   "id": "205d1aae-3920-4ad3-9170-e6f90afa1a1f",
   "metadata": {},
   "outputs": [],
   "source": []
  }
 ],
 "metadata": {
  "kernelspec": {
   "display_name": "Python 3 (ipykernel)",
   "language": "python",
   "name": "python3"
  },
  "language_info": {
   "codemirror_mode": {
    "name": "ipython",
    "version": 3
   },
   "file_extension": ".py",
   "mimetype": "text/x-python",
   "name": "python",
   "nbconvert_exporter": "python",
   "pygments_lexer": "ipython3",
   "version": "3.12.0"
  }
 },
 "nbformat": 4,
 "nbformat_minor": 5
}
