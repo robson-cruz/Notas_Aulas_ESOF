{
 "cells": [
  {
   "cell_type": "markdown",
   "id": "446adc93-2bd6-4a00-808b-1343de9d1aa7",
   "metadata": {},
   "source": [
    "# Inspeção, Monitormento e Logs"
   ]
  },
  {
   "cell_type": "markdown",
   "id": "b2e355cf-30ce-4cdd-8a26-e2408908ca4f",
   "metadata": {},
   "source": [
    "No diretório `/proc` encontram-se os arquivos de hardware"
   ]
  },
  {
   "cell_type": "markdown",
   "id": "7deeb9c3-41f9-41f0-95ab-4cc899310539",
   "metadata": {},
   "source": [
    "<img src=\"./img/proc.png\" />"
   ]
  },
  {
   "cell_type": "code",
   "execution_count": null,
   "id": "350b9160-9f53-4f6c-bd02-d4f012541694",
   "metadata": {},
   "outputs": [],
   "source": []
  },
  {
   "cell_type": "markdown",
   "id": "4f2d3699-fa81-4698-b14d-69705409817a",
   "metadata": {},
   "source": [
    "## Informações da CPU"
   ]
  },
  {
   "cell_type": "markdown",
   "id": "7b36984a-01a5-421b-b4b7-54051f9ad3d7",
   "metadata": {},
   "source": [
    "O arquivo `cpuinfo` contém as informações sobre a CPU."
   ]
  },
  {
   "cell_type": "markdown",
   "id": "533c99ff-e069-4a10-8ac1-31941fbbbfc0",
   "metadata": {},
   "source": [
    "<img src=\"./img/cpuinfo.png\" />"
   ]
  },
  {
   "cell_type": "code",
   "execution_count": null,
   "id": "10150a2d-8a30-4d41-8bd9-b2f73432106f",
   "metadata": {},
   "outputs": [],
   "source": []
  },
  {
   "cell_type": "markdown",
   "id": "c6a023eb-729d-4627-9499-cace66bf6cc2",
   "metadata": {},
   "source": [
    "## Versão do Kernel e Distribuição"
   ]
  },
  {
   "cell_type": "markdown",
   "id": "f9f8a3be-bc41-47e2-b73c-7bb6827167b3",
   "metadata": {},
   "source": [
    "O arquivo `version` possui informação sobre a versão da distribuição e do kernel:"
   ]
  },
  {
   "cell_type": "markdown",
   "id": "f201312a-dcf0-4a2e-bda6-703d210dcaef",
   "metadata": {},
   "source": [
    "<img src=\"./img/version.png\" />"
   ]
  },
  {
   "cell_type": "code",
   "execution_count": null,
   "id": "74a6a9aa-8386-4ed5-988c-154f6ee0408d",
   "metadata": {},
   "outputs": [],
   "source": []
  },
  {
   "cell_type": "markdown",
   "id": "dc913566-dc2f-4107-9607-af41427e8bba",
   "metadata": {},
   "source": [
    "## Dispositivos PCI"
   ]
  },
  {
   "cell_type": "markdown",
   "id": "63303bc1-a496-48e4-ac5f-487727eabbaa",
   "metadata": {},
   "source": [
    "O comando `lspci` mostra os dispositivos PCI da placa mãe."
   ]
  },
  {
   "cell_type": "markdown",
   "id": "9998102e-6ca1-4970-8241-40a4d05bbef2",
   "metadata": {},
   "source": [
    "<img src=\"./img/lspci-2.png\" />"
   ]
  },
  {
   "cell_type": "markdown",
   "id": "075ef09a-2d5d-447f-927a-fadbe93e70de",
   "metadata": {},
   "source": [
    "Para obter detalhes um dispositivo PCI específico usa-se o comando `lspci -S` seguido ID do dispositivo e da _flag_ -v. Por exemplo, para obter mais detalhes sobre o adaptador de rede, cujo ID é `00:03.0`, usa-se o comando: `lspci 00:03.0 -v`"
   ]
  },
  {
   "cell_type": "markdown",
   "id": "8964028a-a0d2-4bbb-9c4c-bd8d01559d06",
   "metadata": {},
   "source": [
    "<img src=\"./img/lspci-rede.png\" />"
   ]
  },
  {
   "cell_type": "code",
   "execution_count": null,
   "id": "1ec8df97-9927-43b4-9dee-e61c347117ce",
   "metadata": {},
   "outputs": [],
   "source": []
  },
  {
   "cell_type": "markdown",
   "id": "cc09282a-27ca-4da2-9cb8-8c6f9f846f3d",
   "metadata": {},
   "source": [
    "## Módulos de Drivers Instalados"
   ]
  },
  {
   "cell_type": "markdown",
   "id": "f623668f-a2eb-4756-b981-17aa627a557d",
   "metadata": {},
   "source": [
    "Para obter todos os módulos instalados:"
   ]
  },
  {
   "cell_type": "markdown",
   "id": "539657c2-9edf-4ecd-8030-03f3d3ba023a",
   "metadata": {},
   "source": [
    "`lsmod | less`"
   ]
  },
  {
   "cell_type": "code",
   "execution_count": null,
   "id": "b4f40c9a-fac0-4590-b184-3b8edd072266",
   "metadata": {},
   "outputs": [],
   "source": []
  },
  {
   "cell_type": "markdown",
   "id": "972d7dcc-a5c9-4366-b89b-89c3a61bd6c9",
   "metadata": {},
   "source": [
    "## Dispositivos USB"
   ]
  },
  {
   "cell_type": "markdown",
   "id": "e12c00d3-51d6-4053-838a-d1343cc996e1",
   "metadata": {},
   "source": [
    "`lsusb`"
   ]
  },
  {
   "cell_type": "code",
   "execution_count": null,
   "id": "4659b66b-d3dd-4b09-8f5d-b4c22af4bd9a",
   "metadata": {},
   "outputs": [],
   "source": []
  },
  {
   "cell_type": "markdown",
   "id": "c56d0fb2-b8a4-451f-a29b-67242770d114",
   "metadata": {},
   "source": [
    "## Tempo de Execução de Recursos\n",
    "\n",
    "`uptime`"
   ]
  },
  {
   "cell_type": "markdown",
   "id": "b31ef0b1-6026-4719-89ae-869e30d39181",
   "metadata": {},
   "source": [
    "<img src=\"./img/uptime.png\" />"
   ]
  },
  {
   "cell_type": "code",
   "execution_count": null,
   "id": "eadf62ff-f82b-4e8a-ad3d-0e54cc0b2fc6",
   "metadata": {},
   "outputs": [],
   "source": []
  },
  {
   "cell_type": "markdown",
   "id": "f9aebd63-8a81-4b8c-b5c5-8777af9c2042",
   "metadata": {},
   "source": [
    "## Uso de Memória\n",
    "\n",
    "`free -m -t`"
   ]
  },
  {
   "cell_type": "markdown",
   "id": "de3bef44-1077-4e49-bc4f-6151720390bb",
   "metadata": {},
   "source": [
    "<img src=\"./img/free-m-t.png\" />"
   ]
  },
  {
   "cell_type": "code",
   "execution_count": null,
   "id": "5492bf15-92ae-407c-a583-7a7deb8bea6c",
   "metadata": {},
   "outputs": [],
   "source": []
  },
  {
   "cell_type": "markdown",
   "id": "08fd7b11-333d-4480-a570-55fd312c1798",
   "metadata": {},
   "source": [
    "## Uso de Disco por Partição\n",
    "\n",
    "`df -h`"
   ]
  },
  {
   "cell_type": "markdown",
   "id": "5882f6d5-613f-4369-aad5-3077b3bf36de",
   "metadata": {},
   "source": [
    "<img src=\"./img/df-h.png\" />"
   ]
  },
  {
   "cell_type": "code",
   "execution_count": null,
   "id": "e8b36d2e-e84a-4b2d-b232-c278ab5cfad4",
   "metadata": {},
   "outputs": [],
   "source": []
  },
  {
   "cell_type": "markdown",
   "id": "4c74bed5-96c2-432c-b355-bbc260f075a4",
   "metadata": {},
   "source": [
    "## Processos\n",
    "\n",
    "`top`"
   ]
  },
  {
   "cell_type": "code",
   "execution_count": null,
   "id": "b3a88bec-c456-4569-8065-a412346d836f",
   "metadata": {},
   "outputs": [],
   "source": []
  },
  {
   "cell_type": "markdown",
   "id": "7158e935-aefb-48fb-af8d-77af4a61956f",
   "metadata": {},
   "source": [
    "## Logs\n",
    "\n",
    "Os logs são armazenados no diretório `etc/var/log`"
   ]
  },
  {
   "cell_type": "markdown",
   "id": "9c64d2b4-95f8-4162-9bfe-e8c25a147f17",
   "metadata": {},
   "source": []
  }
 ],
 "metadata": {
  "kernelspec": {
   "display_name": "Python 3 (ipykernel)",
   "language": "python",
   "name": "python3"
  },
  "language_info": {
   "codemirror_mode": {
    "name": "ipython",
    "version": 3
   },
   "file_extension": ".py",
   "mimetype": "text/x-python",
   "name": "python",
   "nbconvert_exporter": "python",
   "pygments_lexer": "ipython3",
   "version": "3.12.0"
  }
 },
 "nbformat": 4,
 "nbformat_minor": 5
}
