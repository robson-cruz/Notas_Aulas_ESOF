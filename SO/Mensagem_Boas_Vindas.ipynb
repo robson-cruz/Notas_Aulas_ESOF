{
 "cells": [
  {
   "cell_type": "markdown",
   "id": "ab09d1f7-dad0-403a-b4d8-f6a312652613",
   "metadata": {},
   "source": [
    "# Personaliza Mensagem de Boas Vindas e Adicionar Logo Marca no LINUX"
   ]
  },
  {
   "cell_type": "markdown",
   "id": "2f1ebf9a-2d98-453c-8417-428b77a38d91",
   "metadata": {},
   "source": [
    "Os arquivos referentes à logomarca do Linux, se instalados, são `issue.linuxlogo` e `issue.linuxlogo.ascii`."
   ]
  },
  {
   "cell_type": "markdown",
   "id": "1d24f60f-8a80-4207-9a3b-6346d65a4715",
   "metadata": {},
   "source": [
    "<img src=\"./img/issue.png\" />"
   ]
  },
  {
   "cell_type": "markdown",
   "id": "5555cd1d-822c-435d-b64d-3362309ba236",
   "metadata": {},
   "source": [
    "Para baixar a logo do linux, basta usar o comando `apt-get install linuxlogo`"
   ]
  },
  {
   "cell_type": "markdown",
   "id": "ec389398-e147-4644-9cf2-14e1dafb7abe",
   "metadata": {},
   "source": [
    "Após executar o comando acima, é mostrado dois novos arquivos referentes à logo marca do Linux."
   ]
  },
  {
   "cell_type": "markdown",
   "id": "8014bf10-7b8b-4a62-adbc-4ae6e9af75e4",
   "metadata": {},
   "source": [
    "<img src=\"./img/issue2.png\" />"
   ]
  },
  {
   "cell_type": "markdown",
   "id": "7cf673be-11f1-4c02-b5ba-d8e79cd08427",
   "metadata": {},
   "source": [
    "Alterar o arquivo `/etc/issue` para que mostre a logomarca do Linux Debian."
   ]
  },
  {
   "cell_type": "markdown",
   "id": "2fd3686d-9a85-403f-9ecf-b28e2c113919",
   "metadata": {},
   "source": [
    "<img src=\"./img/edit-issue.png\" />"
   ]
  },
  {
   "cell_type": "markdown",
   "id": "d9de256a-e498-4424-97e8-1aeef1c6a979",
   "metadata": {},
   "source": [
    "O arquivo `/etc/motd` contém a mensagem de boas vindas padrão do Linux."
   ]
  },
  {
   "cell_type": "markdown",
   "id": "ae51fb46-1335-45ce-919a-46b45dc3d3c0",
   "metadata": {},
   "source": [
    "<img src=\"./img/motd-standard.png\" />"
   ]
  },
  {
   "cell_type": "markdown",
   "id": "58ad2c8e-1677-4ede-a5e2-b73cf6da03a1",
   "metadata": {},
   "source": [
    "Por segurança deve-se fazer fazer um backup do arquivo e criar um novo com a mensagem personalizada."
   ]
  },
  {
   "cell_type": "markdown",
   "id": "9e25ed6b-e88a-4fcc-bf31-7ff4b89e3cb2",
   "metadata": {},
   "source": [
    "<img src=\"./img/edit-motd.png\" />"
   ]
  },
  {
   "cell_type": "code",
   "execution_count": null,
   "id": "b997bac9-af5b-4750-a9bd-0a9816d69a7b",
   "metadata": {},
   "outputs": [],
   "source": []
  },
  {
   "cell_type": "markdown",
   "id": "23a1538d-e537-48eb-ae5f-3e74a519badc",
   "metadata": {},
   "source": [
    "A seguir a mensagem de boas vindas padrão seguida da logomarca e mensagem personalizada."
   ]
  },
  {
   "cell_type": "markdown",
   "id": "49fe3718-9eb6-4364-b833-af59d422bffa",
   "metadata": {},
   "source": [
    "<img src=\"./img/msg-issue-standard.png\" />"
   ]
  },
  {
   "cell_type": "code",
   "execution_count": null,
   "id": "feada2de-ad5b-433e-a59a-aa6d897a23a7",
   "metadata": {},
   "outputs": [],
   "source": []
  },
  {
   "cell_type": "markdown",
   "id": "53380f0d-9652-4805-9a31-f3f789474984",
   "metadata": {},
   "source": [
    "<img src=\"./img/new-logo.png\" />"
   ]
  },
  {
   "cell_type": "code",
   "execution_count": null,
   "id": "831b81b8-859b-4093-9fb7-533ddeb73b01",
   "metadata": {},
   "outputs": [],
   "source": []
  },
  {
   "cell_type": "code",
   "execution_count": null,
   "id": "7c60ccac-e3b4-45e0-9a62-5e1fe5d2585e",
   "metadata": {},
   "outputs": [],
   "source": []
  }
 ],
 "metadata": {
  "kernelspec": {
   "display_name": "Python 3 (ipykernel)",
   "language": "python",
   "name": "python3"
  },
  "language_info": {
   "codemirror_mode": {
    "name": "ipython",
    "version": 3
   },
   "file_extension": ".py",
   "mimetype": "text/x-python",
   "name": "python",
   "nbconvert_exporter": "python",
   "pygments_lexer": "ipython3",
   "version": "3.12.0"
  }
 },
 "nbformat": 4,
 "nbformat_minor": 5
}
