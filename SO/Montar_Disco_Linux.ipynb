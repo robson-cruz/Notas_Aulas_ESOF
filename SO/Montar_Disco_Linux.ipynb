{
 "cells": [
  {
   "cell_type": "markdown",
   "id": "b1d03502-b227-460a-a395-e16911ed6269",
   "metadata": {},
   "source": [
    "# Montando Pendrive e HD Externo no Linux"
   ]
  },
  {
   "cell_type": "markdown",
   "id": "17b6d865-0d79-4f92-9db4-871165f2ccd3",
   "metadata": {},
   "source": [
    "O diretório que contém as configurações de montagem de discos e pendrives no Linux é o `/mnt`"
   ]
  },
  {
   "cell_type": "markdown",
   "id": "0564a400-d007-467b-905e-1fe88b6cd45a",
   "metadata": {},
   "source": [
    "Para montar um pendrive (flash drive) ou um disco, deve-se primeiramente criar um diretório para o disco ou pendrive, no presente caso foi criado um diretório chamdo `flash_drive`. Para momntagem de discos com formatação `NTFS` é necessário instalar o drive `ntfs-3g` por meio do comando `apt-get install ntfs-3g`"
   ]
  },
  {
   "cell_type": "markdown",
   "id": "69e12c9b-8593-40e6-ac40-3861329ebe25",
   "metadata": {},
   "source": [
    "Para listar todos os discos e suas partições: `fdisk -l`"
   ]
  },
  {
   "cell_type": "markdown",
   "id": "6c5a3e09-52a1-4098-a6a8-5e57824f3ccb",
   "metadata": {},
   "source": [
    "<img src=\"./img/fdisk-l.png\" />"
   ]
  },
  {
   "cell_type": "code",
   "execution_count": null,
   "id": "aba3b68e-51ed-43f9-9770-a1d1c8e43a9a",
   "metadata": {},
   "outputs": [],
   "source": []
  },
  {
   "cell_type": "markdown",
   "id": "0b358f53-5497-4b9b-8a21-3420bedd2b77",
   "metadata": {},
   "source": [
    "Conhecendo o nome do dispositivo através da saída do comando `fdisk -l`, pode-se montar o pendrive através do comando `mount nome-do-disco /mnt/nome-do-diretorio-do-disco`, que para o presente caso é: `mount /dev/sdb1 /mnt/flash_drive`"
   ]
  },
  {
   "cell_type": "code",
   "execution_count": null,
   "id": "f7aec01e-1d02-4707-ba0d-52e2ba6bb99c",
   "metadata": {},
   "outputs": [],
   "source": []
  },
  {
   "cell_type": "markdown",
   "id": "072038a4-e767-4f5b-861e-4e543c27a78c",
   "metadata": {},
   "source": [
    "## Montar HD Externo"
   ]
  },
  {
   "cell_type": "markdown",
   "id": "cccabbfc-9c09-403a-888f-2ab30cc1d679",
   "metadata": {},
   "source": [
    "Para montagem de um hd externo no diretório `/mnt/hd_externo`: `mount -t ntfs-3g /dev/nome-do-disco /mnt/hd_externo`"
   ]
  },
  {
   "cell_type": "code",
   "execution_count": null,
   "id": "e3d36eb7-b687-4ad9-94c9-5d5a4b43041d",
   "metadata": {},
   "outputs": [],
   "source": []
  },
  {
   "cell_type": "markdown",
   "id": "2ff47704-fafc-4aac-9dd1-4d7c5918e979",
   "metadata": {},
   "source": [
    "## Desmontar um Dispositivo de Disco\n",
    "Para desmontar o pendrive:\n",
    "\n",
    "`umount /dev/sdb1`"
   ]
  },
  {
   "cell_type": "code",
   "execution_count": null,
   "id": "536d1a1d-185f-4e58-9206-fcf53693f9dd",
   "metadata": {},
   "outputs": [],
   "source": []
  }
 ],
 "metadata": {
  "kernelspec": {
   "display_name": "Python 3 (ipykernel)",
   "language": "python",
   "name": "python3"
  },
  "language_info": {
   "codemirror_mode": {
    "name": "ipython",
    "version": 3
   },
   "file_extension": ".py",
   "mimetype": "text/x-python",
   "name": "python",
   "nbconvert_exporter": "python",
   "pygments_lexer": "ipython3",
   "version": "3.12.0"
  }
 },
 "nbformat": 4,
 "nbformat_minor": 5
}
