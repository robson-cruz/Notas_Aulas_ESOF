{
 "cells": [
  {
   "cell_type": "markdown",
   "id": "0068e362-d8a8-4d39-b3d2-5aff0343b09e",
   "metadata": {},
   "source": [
    "# Acesso Remoto ao Servidor Linux"
   ]
  },
  {
   "cell_type": "markdown",
   "id": "2abcc183-4760-4e70-8c5d-7b52d9a8d976",
   "metadata": {},
   "source": [
    "Uma maneira segura de acessar remotamente o servidor é utilizando o protocolo Secure Shell (`SSH`) através da ferramenta `putty`."
   ]
  },
  {
   "cell_type": "markdown",
   "id": "bd43ab90-8455-43a1-a28d-0ff2f4d300cb",
   "metadata": {},
   "source": [
    "Para utilizar o `putty` no Windows para acessar o servidor Linux, é necessário que o adaptador de rede do Virtual Box esteja conectada no modo bridge."
   ]
  },
  {
   "cell_type": "markdown",
   "id": "80756955-bbd4-42a9-b7bb-ccd3a3db3a85",
   "metadata": {},
   "source": [
    "<img src=\"./img/putty.png\" />"
   ]
  },
  {
   "cell_type": "code",
   "execution_count": null,
   "id": "b6765b9b-9dcd-4325-b5e9-f2406f2f03ff",
   "metadata": {},
   "outputs": [],
   "source": []
  }
 ],
 "metadata": {
  "kernelspec": {
   "display_name": "Python 3 (ipykernel)",
   "language": "python",
   "name": "python3"
  },
  "language_info": {
   "codemirror_mode": {
    "name": "ipython",
    "version": 3
   },
   "file_extension": ".py",
   "mimetype": "text/x-python",
   "name": "python",
   "nbconvert_exporter": "python",
   "pygments_lexer": "ipython3",
   "version": "3.12.0"
  }
 },
 "nbformat": 4,
 "nbformat_minor": 5
}
