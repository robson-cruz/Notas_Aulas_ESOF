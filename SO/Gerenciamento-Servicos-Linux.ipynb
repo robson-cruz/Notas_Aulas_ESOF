{
 "cells": [
  {
   "cell_type": "markdown",
   "id": "88fb1b5a-d9f6-4b1d-8cfe-6855b55d0d40",
   "metadata": {},
   "source": [
    "# Gerenciamento de Serviços no Servidor Linux\n",
    "## Comando systemd-analyze"
   ]
  },
  {
   "cell_type": "markdown",
   "id": "a2e00005-3bd1-46c7-9f4d-57a43bdb3be7",
   "metadata": {},
   "source": [
    "<p style=\"text-align: justify;\">O comando <em>systemd-analyze</em> é usado no Linux para analisar e obter informações sobre o sistema de inicialização do <em>systemd</em>, que é um sistema de inicialização amplamente adotado em muitas distribuições Linux modernas, como o Debian, Ubuntu, Fedora, CentOS e outras.</p>"
   ]
  },
  {
   "cell_type": "markdown",
   "id": "9636a01e-db66-440f-b753-722fd8b51e2d",
   "metadata": {},
   "source": [
    "<p>O comando <em>systemd-analyze</em>em> fornece um resumo da inicialização, mostrando o tempo total que levou para inicializar o sistema, bem como a distribuição de tempos entre diferentes estágios da inicialização.</p>"
   ]
  },
  {
   "cell_type": "markdown",
   "id": "13e384dd-fc9d-474b-9a2a-39933d4ee188",
   "metadata": {},
   "source": [
    "<img src=\"./img/systemd-analyze.PNG\" />"
   ]
  },
  {
   "cell_type": "markdown",
   "id": "2fdba5b5-e32e-46dc-99a1-857ea4a42be8",
   "metadata": {},
   "source": [
    "## Análise de tempo de inicialização\n",
    "<p style=\"text-align:justify\">O comando <em>systemd-analyze</em> blame mostra quais unidades (serviços, alvos, montagens de sistema de arquivos, etc.) contribuíram mais para o tempo de inicialização, classificando-os em ordem decrescente de impacto.</p>"
   ]
  },
  {
   "cell_type": "markdown",
   "id": "25b829af-451e-417b-a97a-387b17f89345",
   "metadata": {},
   "source": [
    "<img src=\"./img/systemd-analyze-blame.PNG\" />"
   ]
  },
  {
   "cell_type": "markdown",
   "id": "673eb5aa-b10a-4f7b-846f-5c518f7b943e",
   "metadata": {},
   "source": [
    "## Visualização da árvore de dependências\n",
    "<p style=\"text-align:justify;\">Você pode usar o comando <em>systemd-analyze dot</em> para gerar um arquivo DOT que representa a árvore de dependências das unidades de serviço do systemd. Esse arquivo DOT pode ser usado para criar visualizações gráficas da árvore de dependências, que ajudam a entender como os serviços são iniciados e dependem uns dos outros.</p>"
   ]
  },
  {
   "cell_type": "markdown",
   "id": "63c566b3-5e0f-4787-a69f-daeeffbe50ac",
   "metadata": {},
   "source": [
    "<img src=\"./img/systemd-analyze-dot.PNG\" />"
   ]
  },
  {
   "cell_type": "markdown",
   "id": "77791f88-77c4-4e26-9c02-1bbdefbe5585",
   "metadata": {},
   "source": [
    "## Listagem de alvos de inicialização\n",
    "<p style=\"text-align:justify\">O comando systemd-analyze <em>list-dependencies</em> pode listar os alvos (targets) disponíveis que podem ser usados durante a inicialização do sistema.</p>"
   ]
  },
  {
   "cell_type": "markdown",
   "id": "fbadf0d7-3139-4d3e-8ded-1cff783352f9",
   "metadata": {},
   "source": [
    "## Comando systemctl\n",
    "<p style=\"text-align:justify\">O <em>systemctl</em> é usado para controlar serviços do sistema, unidades e soquetes.</p>"
   ]
  },
  {
   "cell_type": "markdown",
   "id": "7215f21b-a08b-46d5-b5b3-5ab190914ce7",
   "metadata": {},
   "source": [
    "## Verificar o Status de um Serviço\n",
    "<p style=\"text-align:justify\">O comando <em>systemctl status</em> exibe informações sobre o status atual de um serviço, incluindo se ele está em execução ou parado. A seguir é mostrado a saída desse comando para mostrar o satutus do ssh.service, um serviço relacionado ao SSH (Secure Shell), que é um protocolo de rede usado para permitir a comunicação segura e criptografada entre dois sistemas. O SSH é amplamente utilizado para acesso remoto a servidores e dispositivos Linux, permitindo que os administradores e usuários gerenciem sistemas de forma segura e acessem remotamente recursos.</p>"
   ]
  },
  {
   "cell_type": "markdown",
   "id": "77d4efcc-1372-4978-9cf9-b71e79e0f787",
   "metadata": {},
   "source": [
    "<img src=\"./img/systemctl-status.PNG\" />"
   ]
  },
  {
   "cell_type": "markdown",
   "id": "7502364f-a892-4258-9ec4-84081f3f56ca",
   "metadata": {},
   "source": [
    "<p style=\"text-align:justify\">Quando o ssh.service é habilitado e iniciado, ele permite que o sistema aceite conexões SSH de clientes remotos. Os administradores podem configurar o SSH para autenticação baseada em senha ou chaves públicas e definir várias políticas de segurança para proteger o acesso.</p>"
   ]
  },
  {
   "cell_type": "markdown",
   "id": "09dfa294-1219-4756-9420-e2c42d393db3",
   "metadata": {},
   "source": [
    "## Saber se um Serviço Inicia junto com o Servidor Linux\n",
    "<p style=\"text-align:justify\">Para saber se o ssh.service inicia junto com a inicialização do servidor linux, basta usar o comando <em>systemctl is-enabled + nome do serviço<em/>.</p>"
   ]
  },
  {
   "cell_type": "markdown",
   "id": "1d4f13f6-9d24-45e6-a38c-839b4fca07a6",
   "metadata": {},
   "source": [
    "<img src=\"./img/systemctl-is-enabled.PNG\" />"
   ]
  },
  {
   "cell_type": "markdown",
   "id": "a8fd4901-aa96-43ba-a845-55b156433fb2",
   "metadata": {},
   "source": [
    "## Parar um serviço\n",
    "Para interromper um serviço em execução"
   ]
  },
  {
   "cell_type": "markdown",
   "id": "89bcf4ef-22d7-4462-a9f7-be3ee87f790e",
   "metadata": {},
   "source": [
    "<img src=\"./img/systemctl-stop.PNG\" />"
   ]
  },
  {
   "cell_type": "markdown",
   "id": "4e92f4ce-af44-4599-b32a-4bb247a3463f",
   "metadata": {},
   "source": [
    "<p style=\"text-align:justify;\">Após o comand systemctl stop ssh.service o serviço SSH será reinicializado após a reinicialização do servidor. Para parar o serviço definitivamente, sem que inicie na iniciaçização do servidor Linux, deve ser utilizado o comando <em>systemctl disable ssh.service</em></p>"
   ]
  },
  {
   "cell_type": "markdown",
   "id": "87e484f2-f5ad-43cf-ac48-80dc550fd5a3",
   "metadata": {},
   "source": [
    "## Inicializar e Reinicializar um Serviço no Servidor LINUX\n",
    "### Inicializar um Serviço no Servidor\r",
    "`\n",
    "systemctl start ssh.servic`e\r\n",
    "\r\n",
    "### Reiniciar um Serv\n",
    "`systemctl restart ssh.service`iço"
   ]
  },
  {
   "cell_type": "markdown",
   "id": "2b38af25-99b8-40ac-b9b0-0692070a1e19",
   "metadata": {},
   "source": [
    "As diferenças entre os comandos `systemctl start ssh.service` e `systemctl restart ssh.service` estão relacionadas ao que eles fazem com o serviço em questão:\n",
    "\n",
    "* `systemctl start ssh.service`:\n",
    "\n",
    "Este comando inicia o serviço SSH se ele não estiver em execução. Se o serviço já estiver em execução, ele não terá efeito.\n",
    "É usado para iniciar o serviço apenas uma vez, sem reiniciá-lo.\n",
    "\n",
    "* `systemctl restart ssh.service`:"
   ]
  },
  {
   "cell_type": "markdown",
   "id": "b45eea42-f11c-498f-9104-96e8f9b26009",
   "metadata": {},
   "source": [
    "<p style=\"text-align:justify;\"> Este comando reinicia o serviço SSH, independentemente de ele estar em execução ou não. Se o serviço estiver em execução, ele será primeiro interrompido e, em seguida, reiniciado. Se o serviço não estiver em execução, ele será iniciado.</p>\n",
    "<p style=\"text-align:justify;\">É usado para reiniciar o serviço SSH, o que pode ser útil quando você fez alterações na configuração do SSH e deseja aplicar essas alterações sem reiniciar todo o sistema.</p>\n",
    "\n",
    "<p style=\"text-align:justify;\">Em resumo, start é usado para iniciar um serviço, enquanto restart é usado para reiniciá-lo. A escolha entre eles depende do que você deseja alcançar em um determinado momento. Se você acabou de instalar o SSH e deseja iniciar o serviço, você usaria start. Se você fez alterações na configuração do SSH e deseja aplicá-las, você usaria restart para reiniciar o serviço.</p>"
   ]
  },
  {
   "cell_type": "markdown",
   "id": "f132e47e-0614-4c5b-9624-02d285be36ad",
   "metadata": {},
   "source": [
    "## Mostrar Detalhes sobre um Serviço\n",
    "<p style=\"text-align:justify;\">O comando <em>systemctl cat ssh.service</em> mostra os detalhes do serviço SSH.</p>"
   ]
  },
  {
   "cell_type": "markdown",
   "id": "abb50723-3e55-43c6-a26a-43094e30dcbc",
   "metadata": {},
   "source": [
    "<img src=\"./img/systemctl-cat.PNG\" />"
   ]
  },
  {
   "cell_type": "markdown",
   "id": "3e125f55-ec1e-4305-a810-45f971eca1f4",
   "metadata": {},
   "source": [
    "## O comando hostnamectl\n",
    "<p style=\"text-align:justify;\">O comando <em>hostnamectl</em> é usado em sistemas Linux para controlar e configurar o nome do host (hostname) de uma máquina. O hostname é usado para identificar uma máquina em uma rede e é uma parte importante da configuração de rede em sistemas Linux. Com o <em>hostnamectl</em>, você pode realizar várias operações relacionadas ao nome do host, incluindo:</p>"
   ]
  },
  {
   "cell_type": "markdown",
   "id": "ecae9be8-b298-4c06-8734-e46e6f7eec55",
   "metadata": {},
   "source": [
    "* Visualização do nome do host atual"
   ]
  },
  {
   "cell_type": "markdown",
   "id": "3b82d0a2-b9b3-42c7-80bf-ddcc0826150c",
   "metadata": {},
   "source": [
    " <img src=\"./img/hostnamectl.PNG\" />"
   ]
  },
  {
   "cell_type": "markdown",
   "id": "6a2ce562-91de-437d-b3a5-94f59956dc2f",
   "metadata": {},
   "source": [
    "* Definir o nome do host\n",
    "<p style=\"text-align:justify;\">Para alterar o hostname, você pode usar o <em>set-hostname</em> seguido pelo novo nome desejado: <em>sudo hostnamectl set-hostname novo-nome\r\n",
    "</em></p>"
   ]
  },
  {
   "cell_type": "markdown",
   "id": "6cddd18f-86cb-4ce6-92b4-4a0cca7ad67b",
   "metadata": {},
   "source": [
    "* Definir um nome estático ou transitório\n",
    "<p style=\"text-align:justify;\">Você pode configurar um hostname estático (permanente) ou transitório (temporário) usando as opções <em>--static</em> ou <em>--transient</em>.\n",
    "    \n",
    "<em>sudo hostnamectl set-hostname --static nome-estatico</em>\n",
    "    \r",
    "<em>\n",
    "sudo hostnamectl set-hostname --transient nome-transitori</em>o\r\n"
   ]
  },
  {
   "cell_type": "markdown",
   "id": "3119cfeb-06b5-4ad7-aab1-e3b46158e9a3",
   "metadata": {},
   "source": [
    "<p style=\"text-align:justify;\">O comando <em>hostnamectl</em> é útil para configurar o nome do host de uma máquina de forma consistente e documentada, o que pode ser importante em ambientes de rede e para manter a organização e rastreamento de sistemas. Certifique-se de que você tem permissões de administrador (geralmente, usando sudo) ao usar o <em>hostnamectl</em> para fazer alterações no nome do host, pois isso pode afetar a conectividade de rede e a identificação da máquina na rede.</p>"
   ]
  },
  {
   "cell_type": "markdown",
   "id": "44782878-4da4-45f1-9c09-149ccd2fa540",
   "metadata": {},
   "source": [
    "## Reiniciar o Servidor e todos os Serviços\n",
    "<p style=\"text-align:justify;\">O comando <em>systemctl reboot</em> é usado no sistema operacional Linux para reiniciar o sistema. Quando executado, o sistema irá realizar um reinício completo, o que significa que ele desligará todos os serviços, programas e processos em execução e, em seguida, iniciará o sistema novamente. Isso é útil quando é preciso reiniciar o sistema para aplicar atualizações do kernel, corrigir problemas de configuração, ou simplesmente para reiniciar o sistema por qualquer motivo.</p>\r\n",
    "<p style=\"text-align:justify;\">\r\n",
    "Para usar o comand<em> \"systemctl rebo</em>t\"ê normalmenté e precosa ter permissões de superusuário (root) ou usar o comando com o \"sudo\" para autorização. O comando é geralmente seguido por uma opção, como \"now\" para reiniciar imediatamente, ou por um horário específico, como \"10:00\" para agendar o reinício para as 10 horas da manhã.</p>"
   ]
  },
  {
   "cell_type": "code",
   "execution_count": null,
   "id": "849391d9-30dd-46cf-b269-d9e8324f72e9",
   "metadata": {},
   "outputs": [],
   "source": []
  }
 ],
 "metadata": {
  "kernelspec": {
   "display_name": "Python 3 (ipykernel)",
   "language": "python",
   "name": "python3"
  },
  "language_info": {
   "codemirror_mode": {
    "name": "ipython",
    "version": 3
   },
   "file_extension": ".py",
   "mimetype": "text/x-python",
   "name": "python",
   "nbconvert_exporter": "python",
   "pygments_lexer": "ipython3",
   "version": "3.12.0"
  }
 },
 "nbformat": 4,
 "nbformat_minor": 5
}
