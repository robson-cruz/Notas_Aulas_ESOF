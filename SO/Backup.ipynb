{
 "cells": [
  {
   "cell_type": "markdown",
   "id": "501dc8cf-c1c6-4397-92ee-d8d7bd902c7c",
   "metadata": {},
   "source": [
    "# Backup"
   ]
  },
  {
   "cell_type": "markdown",
   "id": "5d7adf0c-3221-42b8-89d0-7c73c72c3836",
   "metadata": {},
   "source": [
    "O arquivo mostrado abaixo possui a extenção `.tar.gz`, onde `.tar` indica que o arquivo é compostos por vários arquivos e diretórios, e `.gz` é o algorítmo de compressão utizado para juntar e compactar arquivos e/ou diretórios."
   ]
  },
  {
   "cell_type": "markdown",
   "id": "9dc9c1a5-2b9b-4732-aced-aa4615e94c00",
   "metadata": {},
   "source": [
    "<img src=\"./img/tar-gz.png\" />"
   ]
  },
  {
   "cell_type": "markdown",
   "id": "2036e791-bdd5-4492-b6f3-3b0719a41209",
   "metadata": {},
   "source": [
    "Para extrair um arquivo `.tar.gz` no diretório atual: `tar xzvf nome-do-arquivo`"
   ]
  },
  {
   "cell_type": "markdown",
   "id": "7aa3fcbb-b593-45e6-96ce-38e2cfc0ee3e",
   "metadata": {},
   "source": [
    "Para extrair um arquivo `.tar.gz` no diretório /home: `tar xzvf nome-do-arquivo -C /`"
   ]
  },
  {
   "cell_type": "markdown",
   "id": "51e407d0-f426-4ee6-a570-ed52658b2223",
   "metadata": {},
   "source": [
    "## Backup para Flash Drive"
   ]
  },
  {
   "cell_type": "markdown",
   "id": "309786b6-4524-418a-91b1-7674520899e0",
   "metadata": {},
   "source": [
    "Para fazer backup do diretório `/home/robson-cruz/downloads/R-3.3.0` para o pendrive montado em `/mnt/flash_drive`:\n",
    "\n",
    "`tar czvf backup.tar.gz /home/robson-cruz/downloads/R-3.3.0`"
   ]
  },
  {
   "cell_type": "code",
   "execution_count": null,
   "id": "4b0f8776-48e3-4d33-b584-c1bf1ca62f87",
   "metadata": {},
   "outputs": [],
   "source": []
  }
 ],
 "metadata": {
  "kernelspec": {
   "display_name": "Python 3 (ipykernel)",
   "language": "python",
   "name": "python3"
  },
  "language_info": {
   "codemirror_mode": {
    "name": "ipython",
    "version": 3
   },
   "file_extension": ".py",
   "mimetype": "text/x-python",
   "name": "python",
   "nbconvert_exporter": "python",
   "pygments_lexer": "ipython3",
   "version": "3.12.0"
  }
 },
 "nbformat": 4,
 "nbformat_minor": 5
}
