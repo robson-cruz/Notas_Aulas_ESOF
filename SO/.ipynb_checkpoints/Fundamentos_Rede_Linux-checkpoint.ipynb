{
 "cells": [
  {
   "cell_type": "markdown",
   "id": "77b11c94-2651-4a72-bd90-0f2d60aaeb96",
   "metadata": {},
   "source": [
    "# Fundamentos de Rede - Servidor Linux\n",
    "## Barramentos e Dispositivos PCI (Peripheral Component Interconnect)"
   ]
  },
  {
   "cell_type": "markdown",
   "id": "32306d85-b02c-442c-a86a-b9174efc944f",
   "metadata": {},
   "source": [
    "O comando `lspci` mostra informações detalhadas sobre todos os barramentos e dispositivos PCI no sistema."
   ]
  },
  {
   "cell_type": "markdown",
   "id": "ea66282a-0a7c-4df0-b0da-22bf6a4ef814",
   "metadata": {},
   "source": [
    "<img src='./img/lspci.PNG' />"
   ]
  },
  {
   "cell_type": "markdown",
   "id": "fc4de57c-3e0e-4538-90b1-138a2a0050ee",
   "metadata": {},
   "source": [
    "## Interfaces de Rede"
   ]
  },
  {
   "cell_type": "markdown",
   "id": "955b47bd-573d-4db4-8f1d-29e63ab2d183",
   "metadata": {},
   "source": [
    "O comando `ip address`, podendo ser escrito como `ip addr` ou `ip a`, é utilizado para obter informações sobre os endereços e dispositivos de rede."
   ]
  },
  {
   "cell_type": "markdown",
   "id": "d20b597e-cdd3-4a5f-8544-5a0e4ffd5332",
   "metadata": {},
   "source": [
    "<img src=\"./img/ip-address.PNG\" />"
   ]
  },
  {
   "cell_type": "markdown",
   "id": "756bd100-e843-4da3-8a68-4ffbd52054f0",
   "metadata": {},
   "source": [
    "### _Detalhando as Interfaces de Rede_\n",
    "* `lo` (LOOPBACK, UP, LOWER_UP) é uma interface de rede virtual que permite um cliente e um servidor no mesmo host se comuniquem via protocolo TCP/IP. Para a interface `lo` é reservado o endereço `127.0.0.1/8`\n",
    "\n",
    "`\\8` é equivalente à máscara `255.0.0.0`"
   ]
  },
  {
   "cell_type": "markdown",
   "id": "33309fc7-dc59-4bbd-b4bd-e5100436ff69",
   "metadata": {},
   "source": [
    "* `enp0s3` (BROADCAST, MULTICAST, UP, LOWER_UP) é a placa de rede do computador.\n",
    "* O endereço inet 10.0.2.15/24 é o IP do computador.\n",
    "* `/24` equivale a máscara `255.255.255.0`\n",
    "* `brd` é uma abreviação para broadcast, utilizada pelos hosts para encontrar e enviar requisições de IP."
   ]
  },
  {
   "cell_type": "markdown",
   "id": "41a097a4-a415-4ae7-9139-5b35e36533d3",
   "metadata": {},
   "source": [
    "## Resetar as configurações de IP\n",
    "`ifdown enp0s3`\n",
    "\n",
    "`ifup enp0s3`"
   ]
  },
  {
   "cell_type": "markdown",
   "id": "943ac104-9313-4fe1-b2f6-6b332b373858",
   "metadata": {},
   "source": [
    "## Configurar IP fixo"
   ]
  },
  {
   "cell_type": "markdown",
   "id": "e746ca69-3432-4631-a4e2-6e3e49b08d20",
   "metadata": {},
   "source": [
    "Configurar um endereço IP fixo (também conhecido como endereço IP estático) em um dispositivo ou em uma rede tem suas vantagens e desvantagens. Aqui estão algumas delas:\n",
    "\n",
    "_Vantagens de configurar um IP fixo:_\n",
    "\n",
    "1. Estabilidade: Um endereço IP fixo permanece constante, o que pode ser útil para dispositivos ou serviços que precisam ser acessados de forma consistente. Isso é particularmente importante em servidores, sistemas de segurança e dispositivos de rede críticos.\n",
    "\n",
    "2. Facilidade de gerenciamento: Um IP fixo facilita o gerenciamento de dispositivos em uma rede. Você sempre sabe onde encontrar um dispositivo específico, o que pode simplificar a administração e a resolução de problemas.\n",
    "\n",
    "3. Acesso remoto: Se você deseja acessar um dispositivo ou serviço em sua rede de fora dela (por exemplo, para acessar remotamente uma câmera de segurança ou servidor), um IP fixo torna o processo mais simples, pois o endereço não muda.\n",
    "\n",
    "4. DNS: Se você está executando serviços que precisam ser acessíveis pela Internet, um IP fixo é útil para vincular seu domínio a um endereço IP constante por meio do DNS.\n",
    "\n",
    "_Desvantagens de configurar um IP fixo:_\n",
    "\n",
    "1. Complexidade de configuração: Configurar um IP fixo pode ser mais complicado do que usar o DHCP (Protocolo de Configuração Dinâmica de Host). Você precisa definir manualmente o endereço IP em cada dispositivo, o que pode ser demorado em redes maiores.\n",
    "\n",
    "2. Risco de conflitos: Se não houver cuidado na atribuição de endereços IP fixos, pode ocorrer conflitos de IP na rede. Dois dispositivos podem acabar com o mesmo endereço IP, causando problemas de conectividade.\n",
    "\n",
    "3. Falta de flexibilidade: Um endereço IP fixo pode ser inflexível, especialmente em redes que precisam ser reconfiguradas com frequência. Pode ser inconveniente se você estiver usando dispositivos em locais diferentes ou conectando-se a redes diferentes.\n",
    "\n",
    "4. Segurança: Em algumas situações, ter um IP fixo pode tornar um dispositivo mais vulnerável a ataques, uma vez que os invasores podem saber exatamente onde encontrá-lo.\n",
    "\n",
    "Em resumo, a escolha de usar um endereço IP fixo ou um endereço IP atribuído dinamicamente (DHCP) depende das necessidades e requisitos específicos da rede e dos dispositivos. Em muitos casos, uma combinação de ambas as abordagens pode ser a solução mais adequada."
   ]
  },
  {
   "cell_type": "markdown",
   "id": "2d292c1d-baa3-430a-aa65-3c20e7e7ca21",
   "metadata": {},
   "source": [
    "No Linux para definir um IP fixo, é necessário editar o arquivo `interfaces` localizado no diretório `/etc/network`"
   ]
  },
  {
   "cell_type": "markdown",
   "id": "a4b1645a-d5c2-48ab-a628-48333c902dc5",
   "metadata": {},
   "source": [
    "<img src=\"./img/interfaces1.PNG\"/>"
   ]
  },
  {
   "cell_type": "markdown",
   "id": "23286c9c-03a7-4b95-be43-bf1779d12fd2",
   "metadata": {},
   "source": [
    "Para definir o IP fixo 192.168.0.67, basta comentar a linha 12: `iface enp0s3 inet dhcp` e inserir os dados do IP a ser fixado."
   ]
  },
  {
   "cell_type": "markdown",
   "id": "22a7a743-f4d8-4890-b297-8cbf52405856",
   "metadata": {},
   "source": [
    "<img src=\"./img/interfaces2.PNG\"/>"
   ]
  },
  {
   "cell_type": "markdown",
   "id": "a3d13b91-ca35-4515-889f-1fe4d57fe8fc",
   "metadata": {},
   "source": [
    "Em seguida deve-se editar o DNS através do arquivo `resolv.conf`, localizado no diretório `/etc` e reiniciar o servidor através do comando `reboot`. No caso de máquina virtual utilizando o Orcle VirtulBox, a placa de rede deve estar configurada no modo bridge."
   ]
  },
  {
   "cell_type": "code",
   "execution_count": null,
   "id": "5f749eae-bd75-411d-b5f0-07bbef5fcf74",
   "metadata": {},
   "outputs": [],
   "source": []
  }
 ],
 "metadata": {
  "kernelspec": {
   "display_name": "Python 3 (ipykernel)",
   "language": "python",
   "name": "python3"
  },
  "language_info": {
   "codemirror_mode": {
    "name": "ipython",
    "version": 3
   },
   "file_extension": ".py",
   "mimetype": "text/x-python",
   "name": "python",
   "nbconvert_exporter": "python",
   "pygments_lexer": "ipython3",
   "version": "3.12.0"
  }
 },
 "nbformat": 4,
 "nbformat_minor": 5
}
