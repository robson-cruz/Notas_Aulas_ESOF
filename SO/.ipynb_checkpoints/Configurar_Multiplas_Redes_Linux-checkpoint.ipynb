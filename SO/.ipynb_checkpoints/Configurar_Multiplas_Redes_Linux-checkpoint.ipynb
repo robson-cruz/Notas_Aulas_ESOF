{
 "cells": [
  {
   "cell_type": "markdown",
   "id": "5b30f585-206b-4543-93ee-44fc7609ddf1",
   "metadata": {},
   "source": [
    "# Configurar Múltiplas Redes no Servidor linux"
   ]
  },
  {
   "cell_type": "markdown",
   "id": "497ccafe-9c9e-4c0b-af07-d773130bfab2",
   "metadata": {},
   "source": [
    "<img src=\"./img/rede1.png\" />"
   ]
  },
  {
   "cell_type": "code",
   "execution_count": null,
   "id": "545f10a1-e21f-42f2-b166-314870c144b1",
   "metadata": {},
   "outputs": [],
   "source": []
  },
  {
   "cell_type": "markdown",
   "id": "9b21f9ef-536b-4062-9dc0-9ef0137888f5",
   "metadata": {},
   "source": [
    "<img src=\"./img/rede2.png\" />"
   ]
  },
  {
   "cell_type": "markdown",
   "id": "e4438dd7-1fdf-4ae4-ad64-c98ab6e7d1da",
   "metadata": {},
   "source": []
  },
  {
   "cell_type": "markdown",
   "id": "d2b4c69d-e7ac-4484-a734-710cdc0d06ff",
   "metadata": {},
   "source": [
    "Através do comando `lspci` é possível verificar se o Linux identificou o segundo adaptador de rede."
   ]
  },
  {
   "cell_type": "markdown",
   "id": "e210bb92-4e2e-4971-b621-52413f253c37",
   "metadata": {},
   "source": [
    "<img src=\"./img/adaptadores-rede.png\" />"
   ]
  },
  {
   "cell_type": "code",
   "execution_count": null,
   "id": "1e55decb-3f56-4c46-af5b-e103f42330cb",
   "metadata": {},
   "outputs": [],
   "source": []
  },
  {
   "cell_type": "markdown",
   "id": "05f0bf5e-d0d4-4a34-8618-10a6901872b5",
   "metadata": {},
   "source": [
    "Através do comando `ip a` é possível verificar que o adaptador de rede 2 não está configurado:"
   ]
  },
  {
   "cell_type": "markdown",
   "id": "68d2be07-88aa-4d6b-b47c-d833f98b6809",
   "metadata": {},
   "source": [
    "<img src=\"./img/ip-a.png\" />"
   ]
  },
  {
   "cell_type": "code",
   "execution_count": null,
   "id": "0c729768-91f1-42e8-a07c-837d3d53bae3",
   "metadata": {},
   "outputs": [],
   "source": []
  },
  {
   "cell_type": "markdown",
   "id": "db4b329c-b29c-4500-846d-c8ee58a851c6",
   "metadata": {},
   "source": [
    "Para configurar o segundo adaptador rede é necessário editar o arquivo `interfaces`, localizado no diretório `/etc/network`"
   ]
  },
  {
   "cell_type": "markdown",
   "id": "1e822239-11d7-4112-b695-c55e7027cee0",
   "metadata": {},
   "source": [
    "<img src=\"./img/interfaces-editado.png\" />"
   ]
  },
  {
   "cell_type": "code",
   "execution_count": null,
   "id": "a7c4d9f4-56bd-47a7-8887-59ff455370f0",
   "metadata": {},
   "outputs": [],
   "source": []
  },
  {
   "cell_type": "markdown",
   "id": "5c212df2-c35c-405f-a8e0-7f20f4e4e3dc",
   "metadata": {},
   "source": [
    "Após a edição do arquivo interfaces é necessário reiniciar o serviço de rede através do comando `systemctl restart networking` e fazser um ping em uma webpage para verificar se a internet está funcionando."
   ]
  },
  {
   "cell_type": "code",
   "execution_count": null,
   "id": "1b606168-408a-4581-b8c9-6a920a7fcba9",
   "metadata": {},
   "outputs": [],
   "source": []
  },
  {
   "cell_type": "code",
   "execution_count": null,
   "id": "e87b8f0c-4e57-422a-aaeb-24cef1e3421c",
   "metadata": {},
   "outputs": [],
   "source": []
  }
 ],
 "metadata": {
  "kernelspec": {
   "display_name": "Python 3 (ipykernel)",
   "language": "python",
   "name": "python3"
  },
  "language_info": {
   "codemirror_mode": {
    "name": "ipython",
    "version": 3
   },
   "file_extension": ".py",
   "mimetype": "text/x-python",
   "name": "python",
   "nbconvert_exporter": "python",
   "pygments_lexer": "ipython3",
   "version": "3.12.0"
  }
 },
 "nbformat": 4,
 "nbformat_minor": 5
}
