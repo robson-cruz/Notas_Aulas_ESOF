{
 "cells": [
  {
   "cell_type": "markdown",
   "id": "321030d3-ae36-4ff4-8466-d376f0d95a99",
   "metadata": {},
   "source": [
    "# Atualização do Kernel do Linux"
   ]
  },
  {
   "cell_type": "markdown",
   "id": "979073c7-bba3-474d-a27a-ec5ed5647403",
   "metadata": {},
   "source": [
    "A atualização do kernel dificulta ataques ao servidor Linux. Por segurança é recomendado que a atualização seja realizada em um ambiente de teste e fazer backup dos dados do servidor."
   ]
  },
  {
   "cell_type": "markdown",
   "id": "4d9576f8-0aa7-4a36-b07f-d792e985be75",
   "metadata": {},
   "source": [
    "A versão atual do kernel, assim como a versão da distribuição Linux podem ser obtidas através do comando `hostnamectl`"
   ]
  },
  {
   "cell_type": "markdown",
   "id": "c86e1067-4dee-4e3d-9fba-d1d17bcd4d6f",
   "metadata": {},
   "source": [
    "<img src=\"./img/hostnamectl2.png\" />"
   ]
  },
  {
   "cell_type": "markdown",
   "id": "566ec786-d6b6-4994-b6e6-56c06a089ed1",
   "metadata": {},
   "source": [
    "Mais detalhes sobre a versão do kernel podem ser obtidas por meio do comando `uname -a`"
   ]
  },
  {
   "cell_type": "markdown",
   "id": "42d1fd44-29f4-4762-9096-2e07908547f1",
   "metadata": {},
   "source": [
    "<img src=\"./img/uname-a.png\" />"
   ]
  },
  {
   "cell_type": "code",
   "execution_count": null,
   "id": "3d2ede93-287a-46cf-8295-cdb6effb71ff",
   "metadata": {},
   "outputs": [],
   "source": []
  },
  {
   "cell_type": "markdown",
   "id": "ace41e7f-3fcc-4d98-b8c8-8a88f103f1dd",
   "metadata": {},
   "source": [
    "A atualização do repositório do Debian é feita através do comando `apt-get update`"
   ]
  },
  {
   "cell_type": "markdown",
   "id": "ffb10251-7e9a-4e40-affd-2e562b141aad",
   "metadata": {},
   "source": [
    "Após atualizar o repositório de pacotes do Debian, pode ser feito a atualização do kernel através do comando `apt-get -u full-upgrade`\n",
    "Após atualizar reiniciar o servidor através do comando `reboot`"
   ]
  },
  {
   "cell_type": "code",
   "execution_count": null,
   "id": "69c6fe9c-3a2b-4962-9671-faba564fb294",
   "metadata": {},
   "outputs": [],
   "source": []
  }
 ],
 "metadata": {
  "kernelspec": {
   "display_name": "Python 3 (ipykernel)",
   "language": "python",
   "name": "python3"
  },
  "language_info": {
   "codemirror_mode": {
    "name": "ipython",
    "version": 3
   },
   "file_extension": ".py",
   "mimetype": "text/x-python",
   "name": "python",
   "nbconvert_exporter": "python",
   "pygments_lexer": "ipython3",
   "version": "3.12.0"
  }
 },
 "nbformat": 4,
 "nbformat_minor": 5
}
