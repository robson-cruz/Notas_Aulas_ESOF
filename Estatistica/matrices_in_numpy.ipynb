{
 "cells": [
  {
   "cell_type": "code",
   "execution_count": 1,
   "id": "74db1fa4",
   "metadata": {},
   "outputs": [],
   "source": [
    "import numpy as np"
   ]
  },
  {
   "cell_type": "code",
   "execution_count": 4,
   "id": "76f1cbef",
   "metadata": {},
   "outputs": [],
   "source": [
    "a = np.matrix('1, 2, 3; 4, 5, 6')"
   ]
  },
  {
   "cell_type": "code",
   "execution_count": 5,
   "id": "7f74bc46",
   "metadata": {},
   "outputs": [
    {
     "data": {
      "text/plain": [
       "matrix([[1, 2, 3],\n",
       "        [4, 5, 6]])"
      ]
     },
     "execution_count": 5,
     "metadata": {},
     "output_type": "execute_result"
    }
   ],
   "source": [
    "a"
   ]
  },
  {
   "cell_type": "code",
   "execution_count": 8,
   "id": "3068e71f",
   "metadata": {},
   "outputs": [],
   "source": [
    "b = np.matrix('7, 10; 8, 11; 9, 12')"
   ]
  },
  {
   "cell_type": "code",
   "execution_count": 9,
   "id": "17a09038",
   "metadata": {},
   "outputs": [
    {
     "data": {
      "text/plain": [
       "matrix([[ 7, 10],\n",
       "        [ 8, 11],\n",
       "        [ 9, 12]])"
      ]
     },
     "execution_count": 9,
     "metadata": {},
     "output_type": "execute_result"
    }
   ],
   "source": [
    "b"
   ]
  },
  {
   "cell_type": "code",
   "execution_count": 11,
   "id": "3dc684b0",
   "metadata": {},
   "outputs": [
    {
     "data": {
      "text/plain": [
       "matrix([[ 50,  68],\n",
       "        [122, 167]])"
      ]
     },
     "execution_count": 11,
     "metadata": {},
     "output_type": "execute_result"
    }
   ],
   "source": [
    "a*b"
   ]
  },
  {
   "cell_type": "code",
   "execution_count": 12,
   "id": "5d4ad030",
   "metadata": {},
   "outputs": [
    {
     "data": {
      "text/plain": [
       "matrix([[ 50,  68],\n",
       "        [122, 167]])"
      ]
     },
     "execution_count": 12,
     "metadata": {},
     "output_type": "execute_result"
    }
   ],
   "source": [
    "a.dot(b)"
   ]
  },
  {
   "cell_type": "code",
   "execution_count": 13,
   "id": "89660abf",
   "metadata": {},
   "outputs": [
    {
     "data": {
      "text/plain": [
       "21"
      ]
     },
     "execution_count": 13,
     "metadata": {},
     "output_type": "execute_result"
    }
   ],
   "source": [
    "a.sum()"
   ]
  },
  {
   "cell_type": "code",
   "execution_count": 14,
   "id": "a443d2c4",
   "metadata": {},
   "outputs": [
    {
     "data": {
      "text/plain": [
       "720"
      ]
     },
     "execution_count": 14,
     "metadata": {},
     "output_type": "execute_result"
    }
   ],
   "source": [
    "a.prod()"
   ]
  },
  {
   "cell_type": "code",
   "execution_count": 17,
   "id": "1e7d6a5c",
   "metadata": {},
   "outputs": [
    {
     "data": {
      "text/plain": [
       "6"
      ]
     },
     "execution_count": 17,
     "metadata": {},
     "output_type": "execute_result"
    }
   ],
   "source": [
    "a.size"
   ]
  },
  {
   "cell_type": "markdown",
   "id": "f351c601",
   "metadata": {},
   "source": [
    "### Frobenius norm:"
   ]
  },
  {
   "cell_type": "markdown",
   "id": "f7943361",
   "metadata": {},
   "source": [
    "$\\displaystyle\\big|\\big|m\\big|\\big|_{F}=\\left( \\sum_{i,j=1}^{n} m_{ij}^2\\right)^\\frac{1}{2} $"
   ]
  },
  {
   "cell_type": "code",
   "execution_count": 31,
   "id": "6888c87c",
   "metadata": {},
   "outputs": [
    {
     "data": {
      "text/plain": [
       "297.00336698428185"
      ]
     },
     "execution_count": 31,
     "metadata": {},
     "output_type": "execute_result"
    }
   ],
   "source": [
    "np.sqrt(((a*b) ** 2).sum())"
   ]
  },
  {
   "cell_type": "markdown",
   "id": "6ec3c414",
   "metadata": {},
   "source": [
    "### Standard Deviation:"
   ]
  },
  {
   "cell_type": "markdown",
   "id": "5b1396bd",
   "metadata": {},
   "source": [
    "$\\displaystyle\\sqrt{\\frac{1}{n-1}\\sum_{i=1}^{n}\\left(x_{i}-\\bar x\\right)^2}$"
   ]
  },
  {
   "cell_type": "code",
   "execution_count": 35,
   "id": "1268302f",
   "metadata": {},
   "outputs": [],
   "source": [
    "m = np.matrix('2, 3; 4, 7')"
   ]
  },
  {
   "cell_type": "code",
   "execution_count": 36,
   "id": "0d7ea757",
   "metadata": {},
   "outputs": [
    {
     "data": {
      "text/plain": [
       "2.0"
      ]
     },
     "execution_count": 36,
     "metadata": {},
     "output_type": "execute_result"
    }
   ],
   "source": [
    "np.sqrt((1/(m.size - 1)) * ((m - m.mean()) ** 2).sum())"
   ]
  },
  {
   "cell_type": "code",
   "execution_count": null,
   "id": "ef970662",
   "metadata": {},
   "outputs": [],
   "source": []
  }
 ],
 "metadata": {
  "kernelspec": {
   "display_name": "Python 3 (ipykernel)",
   "language": "python",
   "name": "python3"
  },
  "language_info": {
   "codemirror_mode": {
    "name": "ipython",
    "version": 3
   },
   "file_extension": ".py",
   "mimetype": "text/x-python",
   "name": "python",
   "nbconvert_exporter": "python",
   "pygments_lexer": "ipython3",
   "version": "3.9.17"
  }
 },
 "nbformat": 4,
 "nbformat_minor": 5
}
