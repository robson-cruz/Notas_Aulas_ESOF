{
 "cells": [
  {
   "cell_type": "markdown",
   "id": "8aa2cc26-c987-4689-b87a-49630542df60",
   "metadata": {},
   "source": [
    "# Limite de uma Função"
   ]
  },
  {
   "cell_type": "markdown",
   "id": "98e5f71c",
   "metadata": {},
   "source": [
    "## Noção intuitiva de limite de uma função"
   ]
  },
  {
   "cell_type": "markdown",
   "id": "8a22bc38",
   "metadata": {},
   "source": [
    "$$f(x) = x^2 + 4x \\quad \\quad x \\rightarrow 1$$\n",
    "<img src=\"../img/fun-limit.PNG\" style=\"width:650px;height:450px\"/>"
   ]
  },
  {
   "cell_type": "markdown",
   "id": "d323a02f",
   "metadata": {},
   "source": [
    "| $x$  | $$f(x)=x^2+4x$$ |\n",
    "|:--:|:---------------:|\n",
    "|0|0|\n",
    "|0.5|2.25|\n",
    "|0.6|2.75|\n",
    "|0.8|0.6400000000000001|\n",
    "|0.99|4.9401|\n",
    "|$$\\vdots$$|$$\\vdots$$|\n",
    "|1,01|5.0601|\n",
    "|1.5|8.25|\n",
    "|2|12|"
   ]
  },
  {
   "cell_type": "markdown",
   "id": "f6b1b54c",
   "metadata": {},
   "source": [
    "$$\\lim_{x \\rightarrow 1} x^2 + 4x = 5$$"
   ]
  },
  {
   "cell_type": "code",
   "execution_count": null,
   "id": "2e0e3003",
   "metadata": {},
   "outputs": [],
   "source": []
  },
  {
   "cell_type": "markdown",
   "id": "6ecba467",
   "metadata": {},
   "source": [
    "\\begin{gather*}\n",
    "f(x)=\\frac{x^2-4}{x-2} \\quad\\quad x \\rightarrow 2\n",
    "\\end{gather*}\n",
    "\n",
    "\\begin{align}\n",
    "D(f)=\\{x \\in \\mathbb{R} | x \\neq 2\\}\n",
    "\\end{align}"
   ]
  },
  {
   "cell_type": "markdown",
   "id": "5ac990fc",
   "metadata": {},
   "source": [
    "<img src=\"../img/fun-limit2.PNG\" style=\"width:650px;height:450px\" />"
   ]
  },
  {
   "cell_type": "markdown",
   "id": "47bf04a2",
   "metadata": {},
   "source": [
    "| $x$  | $$f(x)=\\frac{x^2-4}{x-2}$$ |\n",
    "|:--:|:---------------:|\n",
    "|0|2|\n",
    "|1.5|3.5|\n",
    "|1.99|3.99|\n",
    "|$$\\vdots$$|$$\\vdots$$|\n",
    "|2,01|4.01|\n",
    "|2.5|4.5|\n",
    "|3|5|"
   ]
  },
  {
   "cell_type": "markdown",
   "id": "37a4faed",
   "metadata": {},
   "source": [
    "$$\\lim_{x \\rightarrow 1} f(x)=\\frac{x^2-4}{x-2} = 4$$"
   ]
  },
  {
   "cell_type": "markdown",
   "id": "3254690f",
   "metadata": {},
   "source": [
    "# Limite de uma função\n",
    "Seja uma função $f(x)$ qualquer, queremos saber para qual valor ela se aproxima quando o número $x$ se aproxima, e está sificientemente perto, de algum determinado número $a$. Representamos essa ideia de aproximação por:\n",
    "$$\\lim_{x \\rightarrow a} f(x) = L$$\n",
    "\n",
    "que se lê $f(x)$ está suficientemente próximo de $L$ quando $x$ está suficientemente próximo do ponto $a$"
   ]
  },
  {
   "cell_type": "code",
   "execution_count": null,
   "id": "aba445d1",
   "metadata": {},
   "outputs": [],
   "source": []
  },
  {
   "cell_type": "markdown",
   "id": "f80a8634",
   "metadata": {},
   "source": [
    "# Definição formal do limite de uma função\n",
    "Seja uma função $f(x)$ definida em um intervalo aberto contendo $a$, exceto possivelmente em $x=a$, e seja $L$ um número real, então $\\displaystyle{\\lim_{x \\rightarrow a} f(x) = L}$ significa que para todo $\\epsilon > 0$, existe um $\\delta > 0$, tal que se $0<|x-a|<\\delta$, então $|f(x)-L|< \\epsilon$."
   ]
  },
  {
   "cell_type": "markdown",
   "id": "b4650f54-2892-418a-a3c8-c5c376228d47",
   "metadata": {},
   "source": [
    "Utilizando a definição de limite para provar que $\\displaystyle{\\lim_{x \\to 2} 2x - 3 = 1}$"
   ]
  },
  {
   "cell_type": "markdown",
   "id": "80444935-9528-4dd3-8b90-8eab167b20b9",
   "metadata": {},
   "source": [
    "Para tal é preciso mostrar que para $\\epsilon > 0$ existe $\\delta > 0$, tal que:\n",
    "se $o < |x-2| < \\delta$, então $|(2x-3)-1|< \\epsilon$"
   ]
  },
  {
   "cell_type": "markdown",
   "id": "c1abbc52-3470-43ca-8031-0e139fe3f1dc",
   "metadata": {},
   "source": [
    "\\begin{equation*}\n",
    "|(2x-3)-1| < \\epsilon\n",
    "\\end{equation*}\n",
    "\\begin{align}\n",
    "|2x-4|< \\epsilon\\\\\n",
    "|2(x-2)|<\\epsilon\\\\\n",
    "2|x-2|<\\epsilon\\\\\n",
    "|x-2|<\\frac{\\epsilon}{2}\n",
    "\\end{align}\n"
   ]
  },
  {
   "cell_type": "markdown",
   "id": "218e3ab6-e916-474d-ae9b-8e69b9a7058f",
   "metadata": {},
   "source": [
    "Fazendo $\\delta=\\frac{\\epsilon}{2}$ e observando que se a última desigualdade é verdadeira, a primeira também é, e temos que:\n",
    "Se $0<|x-2|>\\delta$, então $|(2x-3)-1| < \\epsilon$, logo o $\\displaystyle\\lim_{x \\to 2}2x-3=1$"
   ]
  },
  {
   "cell_type": "markdown",
   "id": "7c6cedab-5950-4a11-8e19-0dde1ae89e10",
   "metadata": {},
   "source": [
    "## Propriedades do limite de uma função\n",
    "Supondo que $a$ e $c$ são números reais quaisquer e os limites $\\displaystyle\\lim_{x \\to a}f(x)$ e $\\displaystyle\\lim_{x \\to a}g(x)$ existam, então:\n",
    "1. ${\\displaystyle\\lim_{x \\to a}[f(x) + g(x)] = \\lim_{x \\to a}f(x) + \\lim_{x \\to a}g(x)}$\n",
    "\n",
    "2. ${\\displaystyle\\lim_{x \\to a}[f(x) - g(x)] = \\lim_{x \\to a}f(x) - \\lim_{x \\to a}g(x)}$\n",
    "\n",
    "3. ${\\displaystyle\\lim_{x \\to a}[cf(x)] = c\\lim_{x \\to a}f(x)}$\n",
    "\n",
    "4. ${\\displaystyle\\lim_{x \\to a}[f(x) . g(x)] = \\lim_{x \\to a}f(x) . \\lim_{x \\to a}g(x)}$\n",
    "\n",
    "5. ${\\displaystyle\\lim_{x \\to a} \\frac{f(x)}{g(x)}} = \\frac{\\lim_{x \\to a}f(x)}{\\lim_{x \\to a}g(x)} se \\displaystyle\\lim_{x \\to a}g(x) \\neq 0$"
   ]
  },
  {
   "cell_type": "markdown",
   "id": "337a3a5d-2caf-4b07-865a-8f314633f0ff",
   "metadata": {},
   "source": [
    "Se $a$ e $c$ são números reais quaisquer, então:\n",
    "1. $\\displaystyle\\lim_{x \\to a}c=c$\n",
    "2. $\\displaystyle\\lim_{x \\to a}x=a$"
   ]
  },
  {
   "cell_type": "markdown",
   "id": "990e09c5-a07a-4313-997f-4588e93c4210",
   "metadata": {},
   "source": [
    "Supondo que $a$ e $c$ são números reais quaisquer e os limites $\\displaystyle\\lim_{x \\to a}f(x)$ e $\\displaystyle\\lim_{x \\to a}g(x)$ existam, então:\n",
    "1. $\\displaystyle\\lim_{x \\to a}[f(x)]^n = \\left[\\lim_{x \\to a}f(x)\\right]^n$\n",
    "2. $\\displaystyle\\lim_{x \\to a}x^n = a^n$\n",
    "3. $\\displaystyle\\lim_{x \\to a} \\sqrt[n]{x} = \\sqrt[n]{a}$, em que $n$ é um número inteiro."
   ]
  },
  {
   "cell_type": "markdown",
   "id": "ef4839f9-ed44-4a6a-a105-76962dd9e462",
   "metadata": {},
   "source": [
    "### Exemplos\n",
    "$\\text{Ex.: 1}\\quad\\quad\\displaystyle\\lim_{x \\to 2} x^2 + 2x + 5 $"
   ]
  },
  {
   "cell_type": "markdown",
   "id": "86843723-5d83-4363-88a0-5fd8a46ab72e",
   "metadata": {},
   "source": [
    "\\begin{equation*}\n",
    "\\displaystyle\\lim_{x \\to 2} x^2 + \\displaystyle\\lim_{x \\to 2} 2x + \\displaystyle\\lim_{x \\to 2} 5\n",
    "\\end{equation*}\n",
    "\\begin{align}\n",
    "2^2 + 2\\displaystyle\\lim_{x \\to 2} + 5\\\\\n",
    "\\end{align}\n",
    "\\begin{align}\n",
    "4+2.2+5\n",
    "\\end{align}\n",
    "\\begin{align}\n",
    "4+4+5\n",
    "\\end{align}\n",
    "\\begin{align}\n",
    "\\boxed{13}\n",
    "\\end{align}"
   ]
  },
  {
   "cell_type": "markdown",
   "id": "77566eaa-f896-4cc9-a5f3-d3b433c5b796",
   "metadata": {},
   "source": [
    "<img src=\"../img/fun-limit3.PNG\" style=\"width:650px;height:450px\" />"
   ]
  },
  {
   "cell_type": "code",
   "execution_count": null,
   "id": "55265764-e4de-47ed-b3ff-90efb7a532f3",
   "metadata": {},
   "outputs": [],
   "source": []
  },
  {
   "cell_type": "markdown",
   "id": "e00643df-ef44-44af-9da8-0de8dacaada4",
   "metadata": {},
   "source": [
    "$\\text{Ex.: 2}\\quad\\quad\\displaystyle\\lim_{x \\to 1} \\frac{4x^2 - x} {x + 1} $"
   ]
  },
  {
   "cell_type": "markdown",
   "id": "4b705f25-4fc2-4f29-83ab-df5f57dfdc94",
   "metadata": {},
   "source": [
    "$$D(f)=\\{x \\in \\mathbb{R} | x \\neq -1\\}$$"
   ]
  },
  {
   "cell_type": "markdown",
   "id": "d34e2a32-e6f3-4a58-b66c-a8c79bd09ca4",
   "metadata": {},
   "source": [
    "\\begin{equation*}\n",
    "\\frac{\\displaystyle\\lim_{x \\to 1}4x^2 - \\lim_{x \\to 1}x} {\\displaystyle\\lim_{x \\to 1}x + \\lim_{x \\to 1}1}\n",
    "\\end{equation*}\n",
    "\\begin{align}\n",
    "\\frac{4.1^2 - 1}{1+1}\n",
    "\\end{align}\n",
    "\\begin{align}\n",
    "\\frac{4-1}{2}\n",
    "\\end{align}\n",
    "\\begin{align}\n",
    "\\boxed{\\frac{3}{2}}\n",
    "\\end{align}"
   ]
  },
  {
   "cell_type": "code",
   "execution_count": null,
   "id": "e97f4e83-e891-4771-b6ff-cae597ecd8ee",
   "metadata": {},
   "outputs": [],
   "source": []
  },
  {
   "cell_type": "markdown",
   "id": "6977bd05-99ee-4653-a0d7-849ff0542fe0",
   "metadata": {},
   "source": [
    "$\\text{Ex.: 3}\\quad\\quad\\displaystyle\\lim_{x \\to 1} \\frac{x^2 - 1} {x - 1} $"
   ]
  },
  {
   "cell_type": "markdown",
   "id": "40df1075-ba03-4eed-9775-f99590d51533",
   "metadata": {},
   "source": [
    "O domínio da função é dado por: $$D(f)=\\{x \\in \\mathbb{R} | x \\neq 1\\}$$ Do contrário teríamos:"
   ]
  },
  {
   "cell_type": "markdown",
   "id": "92e26910-d1ef-426b-9f65-51f1adc3c0ce",
   "metadata": {},
   "source": [
    "\\begin{equation*}\n",
    "\\frac{\\displaystyle\\lim_{x \\to 1}x^2 - \\lim_{x \\to 1}1} {\\displaystyle\\lim_{x \\to 1}x - \\lim_{x \\to 1}1}\n",
    "\\end{equation*}\n",
    "\\begin{align}\n",
    "\\frac{1^2 - 1}{1 - 1}\n",
    "\\end{align}\n",
    "\\begin{align}\n",
    "\\frac{0}{0}\n",
    "\\end{align}"
   ]
  },
  {
   "cell_type": "markdown",
   "id": "aff18d8f-2732-441a-935f-8bacf9a1f395",
   "metadata": {},
   "source": [
    "Reescrevendo o denominador da função, considerando a restrição imposta pelo seu domínio, temos:\n",
    "\\begin{equation*}\n",
    "\\displaystyle\\lim_{x \\to 1} \\frac{x^2 - 1} {x - 1}\n",
    "\\end{equation*}\n",
    "\n",
    "\\begin{align}\n",
    "\\displaystyle\\lim_{x \\to 1} \\frac{\\cancel{(x-1)}(x+1)} {\\cancel{(x - 1)}}\n",
    "\\end{align}\n",
    "\n",
    "\\begin{align}\n",
    "\\displaystyle\\lim_{x \\to 1} x+1\n",
    "\\end{align}\n",
    "\n",
    "\\begin{align}\n",
    "\\displaystyle\\lim_{x \\to 1} x + \\lim_{x \\to 1} 1\n",
    "\\end{align}\n",
    "\n",
    "\\begin{align}\n",
    "1+1\n",
    "\\end{align}\n",
    "\n",
    "\\begin{align}\n",
    "2\n",
    "\\end{align}"
   ]
  },
  {
   "cell_type": "markdown",
   "id": "7db254ad-788a-4873-a893-13e343c46693",
   "metadata": {},
   "source": [
    "$\\text{Ex.: 3.}\\quad \\text{Mostre que}\\quad \\displaystyle\\lim_{x \\to 0} x^2 sen \\frac{1}{x^3}=0 $"
   ]
  },
  {
   "cell_type": "markdown",
   "id": "eed95dca-7a7a-464e-9a7f-ae4d2ae92133",
   "metadata": {},
   "source": [
    "## Teorema do Sanduíche\n",
    "Se $f(x) \\leq g(x) \\leq h(x)$ quando $x$ está próximo a $a$, exceto possivelmente em $a$, e $\\displaystyle\\lim_{x \\to a} f(x) = L$, então $\\displaystyle\\lim_{x \\to a}g(x)=L$.\n",
    "\n",
    "<img src=\"../img/teorema-do-sanduba.PNG\" style=\"width:450px;height:250px\" />"
   ]
  },
  {
   "cell_type": "markdown",
   "id": "a9aacece-2010-4bcf-a02d-54496543ec7f",
   "metadata": {},
   "source": [
    "Como a função trigonométrica seno é limitada com imagem apresentado $-1 \\leq y \\leq 1$, logo: \n",
    "\\begin{equation*}\n",
    "-1 \\leq sen x \\leq 1\n",
    "\\end{equation*}\n",
    "\\begin{align}\n",
    "-1 \\leq sen \\frac{1}{x^3} \\leq 1\n",
    "\\end{align}\n",
    "\\begin{align}\n",
    "-1 \\leq sen \\frac{1}{x^3} \\leq 1 \\quad \\color{red}{.(x^2)}\n",
    "\\end{align}\n",
    "\\begin{align}\n",
    "-x^2 \\leq x^2 sen \\frac{1}{x^3} \\leq x^2\n",
    "\\end{align}\n",
    "\n",
    "Utilizando o Teorema do Sanduíche:\n",
    "\n",
    "\\begin{align}\n",
    "\\displaystyle\\lim_{x \\to 0} -x^2 = 0\\\\\n",
    "\\displaystyle\\lim_{x \\to 0} x^2 = 0\\\\\n",
    "\\therefore \\displaystyle\\lim_{x \\to 0} x^2 sen \\frac{1}{x^3}=0\n",
    "\\end{align}"
   ]
  },
  {
   "cell_type": "code",
   "execution_count": null,
   "id": "127eeb76-cf90-4b9f-8b86-cd6863246986",
   "metadata": {},
   "outputs": [],
   "source": []
  }
 ],
 "metadata": {
  "kernelspec": {
   "display_name": "Python 3 (ipykernel)",
   "language": "python",
   "name": "python3"
  },
  "language_info": {
   "codemirror_mode": {
    "name": "ipython",
    "version": 3
   },
   "file_extension": ".py",
   "mimetype": "text/x-python",
   "name": "python",
   "nbconvert_exporter": "python",
   "pygments_lexer": "ipython3",
   "version": "3.12.0"
  }
 },
 "nbformat": 4,
 "nbformat_minor": 5
}
