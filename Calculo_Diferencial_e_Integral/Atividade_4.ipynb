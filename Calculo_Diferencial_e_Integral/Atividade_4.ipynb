{
 "cells": [
  {
   "cell_type": "markdown",
   "id": "3b1d74af-b966-4989-a300-79032d480eab",
   "metadata": {},
   "source": [
    "**Questão 1)** \r\n",
    "\r\n",
    "O lucro que uma empresa obtém em cima de seu produto é a diferença entre o valor que ela recebe de suas vendas (receita) e seu custo de produção. Se unidades são vendidas, podemos escrever:\r\n",
    "\r\n",
    "$$L(x) = R(x) - C(x)$$\r\n",
    "\r\n",
    "$(x)$ = Lucro da venda de unidades;\r\n",
    "\r\n",
    "$R(x)$ = Receita da venda de unidades;\r\n",
    "\r\n",
    "$C(x)$ = Custo de produção de cada unidade.\r\n",
    "\r\n",
    "Em geral, a receita é obtida usando a seguinte equação:\r\n",
    "\r\n",
    "$$R(x)=ax$$\r\n",
    "\r\n",
    "Onde:\r\n",
    "\r\n",
    "$a$ é o preço por unidade;\r\n",
    "\r\n",
    "$x$ é o número de unidades vendidas."
   ]
  },
  {
   "cell_type": "markdown",
   "id": "56e18601-3790-4d75-87e2-e1842a09d374",
   "metadata": {},
   "source": [
    "Alternativas\n",
    "\n",
    "Alternativa 1:\n",
    "\n",
    "R$ 6.000,00\n",
    "\n",
    "Alternativa 2:\n",
    "\n",
    "R$ 45.000,00\n",
    "\n",
    "Alternativa 3:\n",
    "\n",
    "R$ 100.000,00.\n",
    "\n",
    "Alternativa 4:\n",
    "\n",
    "R$ 120.000,00\n",
    "\n",
    "Alternativa 5:\n",
    "\n",
    "R$ 150.000,00"
   ]
  },
  {
   "cell_type": "markdown",
   "id": "e4ce188b-361b-437b-abf0-3f772e309402",
   "metadata": {},
   "source": [
    "Uma fábrica de eletrônicos possui um produto que deseja vender a $R\\$ \\,60,00$ cada  um. O custo fixo da produção será de $R\\$ \\,150.000,00$ mais $R\\$ 15,00$ para cada unidade produzida e vendida. Considerando a função lucro, é possível dizer que o valor do lucro arrecadado para a venda de 6000 produtos será de:"
   ]
  },
  {
   "cell_type": "markdown",
   "id": "0e70dd35-01fe-4586-8e26-4900b4e5ba04",
   "metadata": {},
   "source": [
    "$L(x) = ax - (C+15x)$"
   ]
  },
  {
   "cell_type": "markdown",
   "id": "8a7fa94d-714e-46b6-9ff1-a8d23ab40544",
   "metadata": {},
   "source": [
    "$L(6000) = 60.6000 - (150000+15.6000)$"
   ]
  },
  {
   "cell_type": "markdown",
   "id": "e57470e1-acf9-4529-ae05-35099a74a2e7",
   "metadata": {},
   "source": [
    "$L(6000) = 360000 - 240000$"
   ]
  },
  {
   "cell_type": "markdown",
   "id": "1b684826-b308-4ea5-9593-a1cba1765370",
   "metadata": {},
   "source": [
    "$L(6000)=120000$"
   ]
  },
  {
   "cell_type": "code",
   "execution_count": null,
   "id": "92f36c5b-8f5c-4597-ba68-659516c13245",
   "metadata": {},
   "outputs": [],
   "source": []
  },
  {
   "cell_type": "markdown",
   "id": "c8e23826-7af6-4041-b70f-358ca4ae4709",
   "metadata": {},
   "source": [
    "**Questão 2)**\n",
    "A regra de L'Hôpital, também conhecida como regra de L'Hôpital's, é uma técnica usada para calcular limites de funções quando a forma indeterminada \"0/0\" ou \"∞/∞\" é obtida. Ela foi desenvolvida pelo matemático francês Guillaume de l'Hôpital. A regra de L'Hôpital é especialmente útil quando se está calculando limites envolvendo frações com funções trigonométricas, exponenciais ou logarítmicas.\n",
    "\n",
    "Seja o limite da função:\n",
    "\n",
    "$\\displaystyle\\lim_{x \\to -1} \\frac{x^2-4x-5}{x^4-x3-2x^2}$\r\n",
    "\n",
    "​O valor do limite da função em questão é melhor representado em:\n",
    "\n"
   ]
  },
  {
   "cell_type": "markdown",
   "id": "f287890d-64b4-4cf5-81ea-e0bac44b541a",
   "metadata": {},
   "source": [
    "Alternativas\n",
    "\r\n",
    "Alternativa 1:\r\n",
    "-3.\r\n",
    "\r\n",
    "Alternativa 2:\r\n",
    "-2.\r\n",
    "\r\n",
    "Alternativa 3:\r\n",
    "0.\r\n",
    "\r\n",
    "Alternativa 4:\r\n",
    "2.\r\n",
    "\r\n",
    "Alternativa 5:\r\n",
    "1.\r\n",
    "\r\n"
   ]
  },
  {
   "cell_type": "code",
   "execution_count": null,
   "id": "10bd85f2-3291-4f0b-9560-250119ef3776",
   "metadata": {},
   "outputs": [],
   "source": []
  },
  {
   "cell_type": "markdown",
   "id": "a6783a53-a2db-49d3-b9ca-b9e24fc2f4c6",
   "metadata": {},
   "source": [
    "$\\displaystyle\\lim_{x \\to -1}\\frac{f'(x)}{g'(x)}$"
   ]
  },
  {
   "cell_type": "markdown",
   "id": "3a0f302a-5953-4c6f-b8fe-2568c9b11d3e",
   "metadata": {},
   "source": [
    "$\\displaystyle\\lim_{x \\to -1}\\frac{f'(x)}{g'(x)} = \\displaystyle\\frac{2x-4}{4x^3-2x^2-4x}$"
   ]
  },
  {
   "cell_type": "markdown",
   "id": "b6f3d30b-c3f5-4ef7-b6cb-1893ab362641",
   "metadata": {},
   "source": [
    "$\\displaystyle\\lim_{x \\to -1}\\frac{f'(x)}{g'(x)} = \\displaystyle\\frac{2(-1)-4}{4(-1)^3-2(-1)^2-4(-1)}$"
   ]
  },
  {
   "cell_type": "markdown",
   "id": "f6f25e31-b09d-486e-9ce5-cec2c5971045",
   "metadata": {},
   "source": [
    "$\\displaystyle\\lim_{x \\to -1}\\frac{f'(x)}{g'(x)} = \\displaystyle\\frac{-2-4}{-4-2+4}$"
   ]
  },
  {
   "cell_type": "markdown",
   "id": "569407d8-7e54-4e6b-aef5-b6f3a6d87847",
   "metadata": {},
   "source": [
    "$\\displaystyle\\lim_{\\ \\to -1}\\frac{f'(x)}{g'(x)} = \\displaystyle\\frac{-6}{-2}$"
   ]
  },
  {
   "cell_type": "markdown",
   "id": "b8b46808-44fe-405d-a8d3-20398d1aed90",
   "metadata": {},
   "source": [
    "$\\boxed{\\displaystyle\\lim_{\\ \\to -1}\\frac{f'(x)}{g'(x)} = 2}$"
   ]
  },
  {
   "cell_type": "markdown",
   "id": "6e0294af-c35e-4186-aeee-2b2d1d3a7bba",
   "metadata": {},
   "source": [
    "**QUESTÃO 3**\n",
    "\n",
    "O limite de uma função descreve o comportamento da função à medida que a variável independente se aproxima de um valor específico. Ele é uma ferramenta fundamental na análise de funções e é denotado por símbolos como \"lim\" seguido da variável independente se aproximando de um valor, como em \"lim x -> a\", onde \"x\" é a variável independente e \"a\" é o valor ao qual \"x\" se aproxima.\n",
    "\n",
    "Seja o seguinte limite da função:"
   ]
  },
  {
   "cell_type": "markdown",
   "id": "9ff47e81-1997-419b-9de6-51763f95853b",
   "metadata": {},
   "source": [
    "$\\displaystyle\\lim_{x \\to 1}\\frac{x^2+2x-3}{x^2-3x+2}$"
   ]
  },
  {
   "cell_type": "markdown",
   "id": "7ae25bd9-658d-4573-a7d1-2e8abb9d81f0",
   "metadata": {},
   "source": [
    "É possível dizer que o valor do limite para a função dada é:\n",
    "\n",
    "Alternativas\n",
    "\r\n",
    "Alternativa 1:\r\n",
    "2.\r\n",
    "\r\n",
    "Alternativa 2:\r\n",
    "Não existe.\r\n",
    "\r\n",
    "Alternativa 3:\r\n",
    "0.\r\n",
    "\r\n",
    "Alternativa 4:\r\n",
    "-4.\r\n",
    "\r\n",
    "Alternativa 5:\r\n",
    "-1."
   ]
  },
  {
   "cell_type": "markdown",
   "id": "5c25b2cd-238e-47d4-9644-2224e02554c1",
   "metadata": {},
   "source": []
  },
  {
   "cell_type": "markdown",
   "id": "7db6ee91-e0e6-4958-ad22-3a7315b1c1e2",
   "metadata": {},
   "source": [
    "Raízes da função do numerador: $x'=1$ e $x''=-3$"
   ]
  },
  {
   "cell_type": "markdown",
   "id": "a14dd509-bce5-428d-a31e-7060666c8cfb",
   "metadata": {},
   "source": [
    "Raízes da função do denominador: $x'=2$ e $x''=1$"
   ]
  },
  {
   "cell_type": "markdown",
   "id": "2c44b77b-2eef-46ab-bc91-3c0603744742",
   "metadata": {},
   "source": [
    "$\\displaystyle\\lim_{x \\to 1}\\frac{x^2+2x-3}{x^2-3x+2} = \\frac{\\cancel{(x-1)}(x+3)}{(x-2)\\cancel{(x-1)}}$"
   ]
  },
  {
   "cell_type": "markdown",
   "id": "6011e348-1246-4af1-afb5-aa6c854b516d",
   "metadata": {},
   "source": [
    "$\\displaystyle\\lim_{x \\to 1}\\frac{x^2+2x-3}{x^2-3x+2} = \\frac{x+3}{x-2}$"
   ]
  },
  {
   "cell_type": "markdown",
   "id": "ab95170d-8d0b-4e24-ae5a-c39495bb4975",
   "metadata": {},
   "source": [
    "$\\displaystyle\\lim_{x \\to 1}\\frac{x^2+2x-3}{x^2-3x+2} = \\frac{1+3}{1-2}=\\frac{4}{-1}=-4$"
   ]
  },
  {
   "cell_type": "code",
   "execution_count": null,
   "id": "2500c511-2d67-4581-9b92-159cafbf7467",
   "metadata": {},
   "outputs": [],
   "source": []
  },
  {
   "cell_type": "code",
   "execution_count": null,
   "id": "28a14afa-786e-479a-9d92-5f3df19346ff",
   "metadata": {},
   "outputs": [],
   "source": []
  },
  {
   "cell_type": "markdown",
   "id": "c3381f22-a599-44a2-98eb-011ba555168b",
   "metadata": {},
   "source": [
    "**Questão 4)** A integral definida é uma extensão da integral indefinida e é usada para calcular a área sob uma curva em um intervalo específico. Enquanto a integral indefinida produz uma família de funções (com uma constante de integração), a integral definida fornece um valor numérico que representa a área de uma região delimitada pela curva, o eixo x e os limites de integração.\n",
    " \n",
    "Seja a integral definida:\n",
    "\n",
    "$\\displaystyle\\int_{0}^{4}\\frac{x}{\\sqrt{1+2x}}dx$\n",
    "\n",
    "​É possível dizer que o valor da integral é representado em:\n",
    " \n",
    "Alternativas\n",
    "\n",
    "a) 10/3\n",
    "\n",
    "b) 10/2\n",
    "\n",
    "c) 10\n",
    "\n",
    "d) 3\n",
    "\n",
    "e) 0"
   ]
  },
  {
   "cell_type": "code",
   "execution_count": null,
   "id": "c41f6055-0477-4657-9e74-8f48b30a85ac",
   "metadata": {},
   "outputs": [],
   "source": []
  },
  {
   "cell_type": "markdown",
   "id": "b6212265-547a-49ea-afab-b474a5a53771",
   "metadata": {},
   "source": [
    "**Questão 5)** O conceito de limite da derivada é importante quando se estuda a taxa de variação instantânea de uma função à medida que o ponto de interesse se aproxima de um determinado valor. Isso pode ser útil para entender como a inclinação da curva da função está mudando em um ponto específico. Esse limite representa a taxa de variação instantânea da função no ponto a. Em outras palavras, é a inclinação da reta tangente à curva da função no ponto a.\n",
    "\n",
    "\n",
    "Seja a função $f(x) = \\displaystyle\\left(\\frac{x-1}{x^2+1}\\right)^3$ é possível dizer que o valor de $\\displaystyle\\lim_{x \\to -1}f'(x)$\n",
    "\n",
    "\n",
    "Alternativas:\n",
    "\n",
    "a) 1\n",
    "\n",
    "b) 2\n",
    "\n",
    "c) 3\n",
    "\n",
    "d) -3\n",
    "\n",
    "e) -3/2\n"
   ]
  },
  {
   "cell_type": "code",
   "execution_count": null,
   "id": "31d7fe4f-4565-47a3-bb76-a246da55f166",
   "metadata": {},
   "outputs": [],
   "source": []
  },
  {
   "cell_type": "markdown",
   "id": "c1167d73-f462-446c-aeaf-1c1c29909b7c",
   "metadata": {},
   "source": [
    "$f(x) = \\displaystyle\\left( \\displaystyle\\frac{g(x)}{h(x)}\\right)^n \\rightarrow f'(x) = n.\\displaystyle\\left( \\frac{g(x)}{h(x)}\\right)^{n-1}.\\displaystyle\\frac{g'(x).h(x)-g(x).h'(x)}{[h(x)]^2}$"
   ]
  },
  {
   "cell_type": "markdown",
   "id": "d9a806e1-c00d-4061-8bff-7077251cf39c",
   "metadata": {},
   "source": [
    "$\\displaystyle\\lim_{x \\to -1} n.\\displaystyle\\left( \\displaystyle\\frac{g(x)}{h(x)}\\right)^{n-1}.\\displaystyle\\frac{g'(x).h(x)-g(x).h'(x)}{[h(x)]^2}$"
   ]
  },
  {
   "cell_type": "markdown",
   "id": "83978215-1061-4599-9952-881cfc129fa5",
   "metadata": {},
   "source": [
    "$3.\\displaystyle\\left(\\displaystyle\\frac{x-1}{x^2+1}\\right)^2.\\displaystyle\\frac{1(x^2+1)-(x-1)(2x)}{(x^2+1)^2}$"
   ]
  },
  {
   "cell_type": "markdown",
   "id": "fc772517-9989-40ef-8677-d0580ae52d64",
   "metadata": {},
   "source": [
    "$3.\\displaystyle\\left(\\frac{x-1}{x^2+1}\\right)^2.\\frac{1(x^2+1)-(2x^2-2x)}{x^2+2x+1}$"
   ]
  },
  {
   "cell_type": "markdown",
   "id": "5132c456-09b2-4a45-8108-277f3c977919",
   "metadata": {},
   "source": [
    "$3.\\displaystyle \\left(\\frac{-1-1}{(-1)^2+1}\\right)^2 .\\displaystyle\\frac{((-1)^2+1) - (2(-1)^2-2(-1))} {(-1)^2 +2(-1)^2+1}$"
   ]
  },
  {
   "cell_type": "markdown",
   "id": "80cf14fa-58a6-4940-abfb-6f270ef02ba1",
   "metadata": {},
   "source": [
    "$3.\\displaystyle\\left( \\displaystyle\\frac{-2}{2} \\right)^2 . \\displaystyle \\frac{1+1-2-2}{1+2+1}$"
   ]
  },
  {
   "cell_type": "markdown",
   "id": "bc7c72f2-f9c3-482e-94ec-c144db93e4d5",
   "metadata": {},
   "source": [
    "$3.\\displaystyle\\frac{-2}{4}$"
   ]
  },
  {
   "cell_type": "markdown",
   "id": "9dda8f0d-7706-4aab-92bb-360116a2060e",
   "metadata": {},
   "source": [
    "$\\displaystyle\\frac{-6}{4}$"
   ]
  },
  {
   "cell_type": "markdown",
   "id": "aa6ed39d-a14f-44eb-9117-1ae9bc6e834f",
   "metadata": {},
   "source": [
    "$\\displaystyle\\frac{-3}{2}$"
   ]
  },
  {
   "cell_type": "markdown",
   "id": "d3407fb3-34f4-404c-a375-7ca0ced24748",
   "metadata": {},
   "source": [
    "$\\displaystyle\\frac{y^3}{3}.y^{3/2}.\\displaystyle\\frac{2}{3}$"
   ]
  },
  {
   "cell_type": "code",
   "execution_count": null,
   "id": "2c4a21d9-cb7e-4a9b-b229-d3097e496294",
   "metadata": {},
   "outputs": [],
   "source": []
  }
 ],
 "metadata": {
  "kernelspec": {
   "display_name": "Python 3 (ipykernel)",
   "language": "python",
   "name": "python3"
  },
  "language_info": {
   "codemirror_mode": {
    "name": "ipython",
    "version": 3
   },
   "file_extension": ".py",
   "mimetype": "text/x-python",
   "name": "python",
   "nbconvert_exporter": "python",
   "pygments_lexer": "ipython3",
   "version": "3.12.0"
  }
 },
 "nbformat": 4,
 "nbformat_minor": 5
}
