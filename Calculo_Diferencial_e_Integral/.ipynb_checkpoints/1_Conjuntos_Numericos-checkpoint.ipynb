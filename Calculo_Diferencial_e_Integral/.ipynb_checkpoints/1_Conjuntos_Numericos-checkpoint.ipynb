{
 "cells": [
  {
   "cell_type": "markdown",
   "id": "2453e439",
   "metadata": {},
   "source": [
    "# Conjuntos Numéricos\n",
    "# Conjunto dos Números Naturais"
   ]
  },
  {
   "cell_type": "markdown",
   "id": "5e002cdb",
   "metadata": {},
   "source": [
    "O conjunto dos números naturais é denotado por $\\mathbb{N}$"
   ]
  },
  {
   "cell_type": "markdown",
   "id": "77e467b7",
   "metadata": {},
   "source": [
    "Enumerando alguns de seus elmentos temos: $\\mathbb{N}=\\{0, 1, 2, 3, 4, ... \\}$"
   ]
  },
  {
   "cell_type": "markdown",
   "id": "c10d563b",
   "metadata": {},
   "source": [
    "* Conjunto dos números naturais não nulos: $\\mathbb{N}*=\\{1, 2, 3, 4, ...\\}$"
   ]
  },
  {
   "cell_type": "markdown",
   "id": "68084e80",
   "metadata": {},
   "source": [
    "| Propriedade                     | Adição                    | Multiplicação     |\n",
    "| :------------------------------ | :-----------------------: | :---------------: |\n",
    "| Fechamento                      | $$ a+b \\in \\mathbb{N} $$               | $$ a.b \\in \\mathbb{N} $$  |\n",
    "| Associatividade                 | $$ (a+b) + c = a + (b+c)$$   | $$ (a.b).c = a.(b.c) $$ |\n",
    "| Comutatividade                  | $$ a+b = b+a $$              | $$ a.b = b.a $$ |\n",
    "| Existência de um elemento neutro| $$ a+0 = a $$                 | $$ a.1 = a $$   |\n",
    "| Distributividade                | $$ a.(b+c) = a.b+a.c $$ "
   ]
  },
  {
   "cell_type": "markdown",
   "id": "f7783d03",
   "metadata": {},
   "source": [
    "## Conjunto dos Números Inteiros\n",
    "O conjunto dos números inteiros é denotado por $\\mathbb{Z}$.\n",
    "Enumerando alguns de seus elçementos, temos: $\\mathbb{Z}=\\{...,-3,-2-1,0,1,2,3,...\\}$"
   ]
  },
  {
   "cell_type": "markdown",
   "id": "828429b6",
   "metadata": {},
   "source": [
    "* Conjunto dos números inteiros não negativos: $\\mathbb{Z}_{+}=\\{x \\in \\mathbb{Z} | x \\geq 0\\}$\n",
    "* Conjunto dos números inteiros não positivos: $\\mathbb{Z}_{-}=\\{x \\in \\mathbb{Z} | x \\leq 0\\}$\n",
    "* Conjunto dos números inteiros não nulos: $\\mathbb{Z}^*=\\{x \\in \\mathbb{Z} | x \\ne 0\\}$\n",
    "* Conjunto dos números inteiros positivos: $\\mathbb{Z}_{+}^*=\\{x \\in \\mathbb{Z} | x > 0\\}$\n",
    "* Conjunto dos números inteiros negativos: $\\mathbb{Z}_{-}^*=\\{x \\in \\mathbb{Z} | x < 0\\}$"
   ]
  },
  {
   "cell_type": "markdown",
   "id": "a085aa71",
   "metadata": {},
   "source": [
    "|Propriedade|Adição|\n",
    "|:----------|:-----|\n",
    "|Existência de um simétrico|Para todo $a \\in \\mathbb{Z}$, existe um $-a \\in \\mathbb{Z}$, tal que $a+(-a)=0$|       "
   ]
  },
  {
   "cell_type": "markdown",
   "id": "3dcb1fd7",
   "metadata": {},
   "source": [
    "## Conjunto dos Números Racionais\n",
    "O conjunto dos números racionais, denotado por $\\mathbb{Q}$, é constituído por números que podem ser escritos na forma de uma razão $\\frac {p}{q}$, em que $p \\in \\mathbb{Z}$ e $q \\in \\mathbb{Z}^*$:\n",
    "\n",
    "\n",
    "$$Q= \\left\\{ x|x = \\frac{p}{q}, p \\in \\mathbb{Z} \\quad \\text{e} \\quad q \\in *\\mathbb{Z} \\right\\}$$\n"
   ]
  },
  {
   "cell_type": "markdown",
   "id": "e64ed67d",
   "metadata": {},
   "source": [
    "* Inteiros: $\\frac{4}{2}$\n",
    "* Decimais finitos: $\\frac{2}{4}$\n",
    "* Dízimas períodicas: $\\frac{1}{3}$"
   ]
  },
  {
   "cell_type": "markdown",
   "id": "68aa8c79",
   "metadata": {},
   "source": [
    "* Conjunto dos números racionais não negativos: $\\mathbb{Q}_{+} = \\left\\{ x \\in Q | x \\geq 0 \\right\\}$\n",
    "* Conjunto dos números racionais não positivos: $\\mathbb{Q}_{-} = \\left\\{ x \\in Q | x \\leq 0 \\right\\}$\n",
    "* Conjunto dos números racionais não nulos: $\\mathbb{Q}^* = \\left\\{ x \\in Q | x \\ne 0 \\right\\}$\n",
    "* Conjunto dos números racionais positivos: $\\mathbb{Q}_{+}^* = \\left\\{ x \\in Q | x > 0 \\right\\}$\n",
    "* Conjunto dos números racionais negativos: $\\mathbb{Q}_{-}^* = \\left\\{ x \\in Q | x < 0 \\right\\}$"
   ]
  },
  {
   "cell_type": "markdown",
   "id": "78155fa8",
   "metadata": {},
   "source": [
    "|Propriedade | multiplicação|\n",
    "|:-----------|:-------------|\n",
    "|Existência de um inverso | Para todo $\\frac{a}{b} \\in \\mathbb{Q}^*$, tal que $\\frac{a}{b}.\\frac{b}{a}=1$ |"
   ]
  },
  {
   "cell_type": "markdown",
   "id": "b393e958",
   "metadata": {},
   "source": [
    "## Conjunto dos Números Irracionais\n",
    "O conjunto dos números irracionais, denotado por $\\mathbb{I}$, reúne números representados na forma decimal, com infinitos algarismos e que não apresentam periodicidade."
   ]
  },
  {
   "cell_type": "markdown",
   "id": "ed0cef0d",
   "metadata": {},
   "source": [
    "* Algébricos: $\\sqrt{2}$\n",
    "* Transcendentes: $\\pi=3,14159265358979323846.....$, $e=2,718281828$"
   ]
  },
  {
   "cell_type": "markdown",
   "id": "ecec1c6a",
   "metadata": {},
   "source": [
    "## Conjunto dos Números Reais\n",
    "O conjunto dos números reais, denotado por $\\mathbb{R}$, reúne o conjunto dos números rqacionais e o conjunto dos númneros irracionais $\\mathbb{R}=\\mathbb{Q} \\cup \\mathbb{I}$.\n",
    "* Conjunto dos números reais não negativos: $\\mathbb{R}_{+} = \\{x \\in \\mathbb{R} | x \\geq 0 \\}$\n",
    "* Conjunto dos números reais não positivos: $\\mathbb{R}_{-} = \\{x \\in \\mathbb{R} | x \\leq 0 \\}$\n",
    "* Conjunto dos números reais não nulos: $\\mathbb{R}^* = \\{x \\in \\mathbb{R} | x \\ne 0 \\}$ ou $\\mathbb{R}-\\{0\\}$\n",
    "* Conjunto dos números reais positivos: $ \\mathbb{R}_{+}^* = \\{x \\in \\mathbb{R} | x > 0 \\} $\n",
    "* Conjunto dos números reais negativos: $ \\mathbb{R}_{-}^* = \\{x \\in \\mathbb{R} | x < 0 \\} $"
   ]
  },
  {
   "cell_type": "markdown",
   "id": "9815b663",
   "metadata": {},
   "source": [
    "## Desigualdades\n",
    "Se $a, b$ e $c$ são números reais quaisquer, então:\n",
    "* Se $a>b$, então, $a+c<b+c$\n",
    "* Se $a<b$ e $c > 0$, então, $ac<bc$\n",
    "* Se $a<b$ e $c<0$, então, $ac > bc$"
   ]
  },
  {
   "cell_type": "markdown",
   "id": "7e48bf6d",
   "metadata": {},
   "source": [
    "## Inequações"
   ]
  },
  {
   "cell_type": "markdown",
   "id": "fa2a7361",
   "metadata": {},
   "source": [
    "\\begin{gather*}\n",
    "5x - 3 \\leq 7\n",
    "\\end{gather*}\n",
    "\n",
    "\\begin{align}\n",
    "5x \\leq 7 + 3\\\\\n",
    "5x \\leq 10\\\\\n",
    "x \\leq \\frac{10}{2}\\\\\n",
    "x \\leq 5\n",
    "\\end{align}\n",
    "\n",
    "\\begin{align}\n",
    "S=\\{x \\in \\mathbb{R} | x \\leq 5\\}\n",
    "\\end{align}"
   ]
  },
  {
   "cell_type": "code",
   "execution_count": null,
   "id": "decc426e",
   "metadata": {},
   "outputs": [],
   "source": []
  },
  {
   "cell_type": "markdown",
   "id": "00e89bb6",
   "metadata": {},
   "source": [
    "\\begin{gather*}\n",
    "2 + 4x < 5x + 7\n",
    "\\end{gather*}\n",
    "\n",
    "\\begin{align}\n",
    "4x - 5x < 7 - 2\\\\\n",
    "-x < 5 \\quad \\color{red}.\\color{red}(\\color{red}-\\color{red}1\\color{red})\\\\\n",
    "x > -5\n",
    "\\end{align}\n",
    "\n",
    "\\begin{align}\n",
    "S = \\{x \\in \\mathbb{R} | x > -5\\}\n",
    "\\end{align}"
   ]
  },
  {
   "cell_type": "code",
   "execution_count": null,
   "id": "d45a1ee0",
   "metadata": {},
   "outputs": [],
   "source": []
  },
  {
   "cell_type": "markdown",
   "id": "90e18f64-3e06-423f-a3d7-d1a394e86802",
   "metadata": {},
   "source": [
    "\\begin{gather*}\n",
    "x^2 - 7x + 10 > 0\n",
    "\\end{gather*}"
   ]
  },
  {
   "cell_type": "markdown",
   "id": "f2069320-d289-4579-a498-2003e177fe10",
   "metadata": {},
   "source": [
    "$x^2+7x+10$ é uma função quadrática, logo: $f(x)=x^2-7x+10$. Essa função quadrática tem concavidade voltada para cima, pois o coeficiente $a$ é maior do que 0."
   ]
  },
  {
   "cell_type": "markdown",
   "id": "a50b90c6-0c8a-4c4f-8ac2-c2eb2048184d",
   "metadata": {},
   "source": [
    "Para calcular as raízes da equação, onde a parábola intercepta o eixo $x$, igualamos $f(x)$ a zero: $x^2-7x+10=0$. Para encontrar as raízes a partir da equação, utilizaremos a fórmula de Baskara."
   ]
  },
  {
   "cell_type": "markdown",
   "id": "5b8e0d4f-0c97-43a0-89f5-9b67d6cd4d8f",
   "metadata": {},
   "source": [
    "$x=\\frac{-b\\pm\\sqrt(\\Delta)}{2.a}$"
   ]
  },
  {
   "cell_type": "markdown",
   "id": "33221c6a-b96c-42bc-8e67-15f000b21e5a",
   "metadata": {
    "scrolled": true
   },
   "source": [
    "$\\Delta=b^2-4.a.c$"
   ]
  },
  {
   "cell_type": "markdown",
   "id": "b78bd787-5198-4be9-9d9c-1cfdf3865e4b",
   "metadata": {},
   "source": [
    "Calculando o discriminante $\\Delta$:\n",
    "\\begin{align}\n",
    "\\Delta=b^2-4.a.c\\\\\n",
    "\\Delta=(-7)^2-4.1.10\\\\\n",
    "\\Delta=49-40\\\\\n",
    "\\Delta=9\n",
    "\\end{align}"
   ]
  },
  {
   "cell_type": "markdown",
   "id": "67fadd87-589b-4edf-8deb-9e7a04c9c2f7",
   "metadata": {},
   "source": [
    "Calculando a primeira raíz:\n",
    "\\begin{align}\n",
    "x'=\\frac{-b+\\sqrt(\\Delta)}{2.a}\\\\\n",
    "x'=\\frac{-(-7)+\\sqrt(9)}{2.1}\\\\\n",
    "x'=\\frac{7+3}{2}\\\\\n",
    "x'=\\frac{10}{2}\\\\\n",
    "x'=5\n",
    "\\end{align}"
   ]
  },
  {
   "cell_type": "markdown",
   "id": "f970a9eb-e4e6-44db-97f2-9281a3c7c548",
   "metadata": {},
   "source": [
    "Calculando a segunda raíz:\n",
    "\\begin{align}\n",
    "x''=\\frac{-b-\\sqrt(\\Delta)}{2.a}\\\\\n",
    "x''=\\frac{-(-7)-\\sqrt(9)}{2.1}\\\\\n",
    "x''=\\frac{7-3}{2}\\\\\n",
    "x''=\\frac{4}{2}\\\\\n",
    "x''=2\n",
    "\\end{align}"
   ]
  },
  {
   "cell_type": "markdown",
   "id": "f0efb393-b6fb-4d8f-ba90-699021f99376",
   "metadata": {},
   "source": [
    "$$S=\\{\\,]-\\infty,2[\\,\\, \\cup \\,\\,]5,+\\infty\\}$$"
   ]
  },
  {
   "cell_type": "markdown",
   "id": "2c09382d-2e1a-4581-a522-e8377f0b8572",
   "metadata": {},
   "source": [
    "<img src=\"../img/grafico-inequacao.PNG\" />"
   ]
  },
  {
   "cell_type": "code",
   "execution_count": null,
   "id": "41235f4c-aa2d-40f5-895e-0c268c3cb625",
   "metadata": {},
   "outputs": [],
   "source": []
  }
 ],
 "metadata": {
  "kernelspec": {
   "display_name": "Python 3 (ipykernel)",
   "language": "python",
   "name": "python3"
  },
  "language_info": {
   "codemirror_mode": {
    "name": "ipython",
    "version": 3
   },
   "file_extension": ".py",
   "mimetype": "text/x-python",
   "name": "python",
   "nbconvert_exporter": "python",
   "pygments_lexer": "ipython3",
   "version": "3.12.0"
  }
 },
 "nbformat": 4,
 "nbformat_minor": 5
}
