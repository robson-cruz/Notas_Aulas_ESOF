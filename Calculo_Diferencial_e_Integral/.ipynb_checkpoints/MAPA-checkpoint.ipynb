{
 "cells": [
  {
   "cell_type": "markdown",
   "id": "a0e48c87-72fa-4a0a-ae6b-fa2ee9224a6b",
   "metadata": {},
   "source": [
    "|    |\n",
    "|:--:|\n",
    "![](./img/logo_mapa.png)"
   ]
  },
  {
   "cell_type": "markdown",
   "id": "ea4fb0b9-ce51-4270-8932-fb4878bf1c47",
   "metadata": {},
   "source": [
    "<h3 style=\"text-align: center; color: #0766AD\">MAPA - Material de Avaliação Prática e Aprendizagem</h1>"
   ]
  },
  {
   "cell_type": "markdown",
   "id": "74f09a3a-81f3-4e40-9680-bb94bb7a88f0",
   "metadata": {},
   "source": [
    "![](./img/header.jpg)"
   ]
  },
  {
   "cell_type": "markdown",
   "id": "ac685ead-dadd-4b89-9afb-4faf811ba0d6",
   "metadata": {},
   "source": [
    "<p style=\"text-alig: justify\">Como engenheiro de software, você foi contratado para que pudesse fazer a análise de um sistema constituído de fibra óptica e precisa coletar alguns dados. Um dos resultados obtidos foi a curva relativa à atenuação-Comprimento de Onda e as Janelas de Transmissão de uma Fibra Óptica que foi definida pela seguinte função:</p>"
   ]
  },
  {
   "cell_type": "markdown",
   "id": "acfc4fef-ae7d-4759-84e7-25690ed1705f",
   "metadata": {},
   "source": [
    "$$f(x)=3x^4-4x^3-12x^2+5$$"
   ]
  },
  {
   "cell_type": "markdown",
   "id": "efc4ab5c-f7a6-4306-8eb6-3bd78c27bbcd",
   "metadata": {},
   "source": [
    "Para a avaliação desta atividade, responda aos itens a), b), c) e d):\n",
    "\n",
    "**a)\tQuais são as regiões onde essa curva será crescente ou decrescente? (Mostre os cálculos).**"
   ]
  },
  {
   "cell_type": "markdown",
   "id": "0175063f-b7f0-4c1d-8f7d-bd89b97e1671",
   "metadata": {},
   "source": [
    "<p style=\"text-alig: justify\">Devemos calcular e analisar a primeira derivada da função para encontrar os pontos críticos e observar onde a curva é crescente ou decrescente.</p>"
   ]
  },
  {
   "cell_type": "markdown",
   "id": "6dc02b37-5ddb-49a0-844a-f96f8cd77fd1",
   "metadata": {},
   "source": [
    "$f'(x)=12x^3-12x^2-24x$"
   ]
  },
  {
   "cell_type": "markdown",
   "id": "24c227c5-8f5e-4c09-b897-2aff50fe1dae",
   "metadata": {},
   "source": [
    "_Igualando a primeira derivada a zero, encontramos seus pontos críticos._"
   ]
  },
  {
   "cell_type": "markdown",
   "id": "ec25b659-bd43-4fe5-95af-de38cd1e87e4",
   "metadata": {},
   "source": [
    "$12x^3-12x^2-24x = 0$"
   ]
  },
  {
   "cell_type": "markdown",
   "id": "1fe41281-bded-41c2-aa3d-035903bf4455",
   "metadata": {},
   "source": [
    "$12x(x^2-x-2)=0$"
   ]
  },
  {
   "cell_type": "markdown",
   "id": "7b7ce9a6-3a1c-45a9-b90d-bc36185f6b85",
   "metadata": {},
   "source": [
    "Portanto, os pontos críticos são: $x=0$, $x=2$, e $x=−1$."
   ]
  },
  {
   "cell_type": "markdown",
   "id": "c3692960-05ea-4791-ace8-5833ffa3d153",
   "metadata": {},
   "source": [
    "* Para $x < -1$, escolhemos $x=-2$ para testar a derivada."
   ]
  },
  {
   "cell_type": "markdown",
   "id": "f5c7fd02-9025-41cc-828d-da7e0a0c552c",
   "metadata": {},
   "source": [
    "$f'(-2) = 12(-2)^3 - 12(-2)^2 - 24(-2)$"
   ]
  },
  {
   "cell_type": "markdown",
   "id": "10772c01-c023-4d93-b8e5-e0c78e72c770",
   "metadata": {},
   "source": [
    "$f'(-2) = -96 - 48 + 48 = -96$"
   ]
  },
  {
   "cell_type": "markdown",
   "id": "5bfaa4aa-22b0-47d3-b37f-f0f3438315a9",
   "metadata": {},
   "source": [
    "Como $f'(-2) < 0$, a função é decrescente em $(-\\infty, -1)$"
   ]
  },
  {
   "cell_type": "markdown",
   "id": "cb39078a-05d9-4cd5-8b4c-fa35da0934c7",
   "metadata": {},
   "source": [
    "* Para $-1 < x < 0$, escolhemos $x = -\\frac{1}{2}$ (um númmero entre -1 e 0) para testar a derivada."
   ]
  },
  {
   "cell_type": "markdown",
   "id": "8e67be53-13c8-43ed-bfdc-158566cabb1c",
   "metadata": {},
   "source": [
    "$ f'(-\\displaystyle\\frac{1}{2}) = 12(-\\frac{1}{2})^3 - 12(-\\frac{1}{2})^2 -24(-\\frac{1}{2})$"
   ]
  },
  {
   "cell_type": "markdown",
   "id": "83cbb5fd-9845-4bff-b194-e094e8bd697e",
   "metadata": {},
   "source": [
    "$ f'(-\\displaystyle\\frac{1}{2}) = 12(-\\frac{1}{8}) - 12(\\frac{1}{4}) + 12$"
   ]
  },
  {
   "cell_type": "markdown",
   "id": "533ebbfb-49b9-445e-bb0b-4cd2ec89b796",
   "metadata": {},
   "source": [
    "$f'(-\\displaystyle\\frac{1}{2}) = -\\frac{3}{2} - 3 + 12 = \\frac{15}{2}$"
   ]
  },
  {
   "cell_type": "markdown",
   "id": "444c24fc-39e1-40b8-b0dc-3ec196dd4f99",
   "metadata": {},
   "source": [
    "Como $f'(-\\frac{1}{2}) > 0$, a função é crescente em $(-1, 0)$."
   ]
  },
  {
   "cell_type": "markdown",
   "id": "f952d3bf-fd14-4d7a-9117-e8992a7311fc",
   "metadata": {},
   "source": [
    "* Para $ < x < 2$, escolhemos $x=1$ (um número entre 0 e 2) para testar a derivada."
   ]
  },
  {
   "cell_type": "markdown",
   "id": "9b40b83b-330f-4b28-9c4d-23d314d4fd88",
   "metadata": {},
   "source": [
    "$f'(1) = 12(1)^3 - 12(1)^2 - 24(1)$"
   ]
  },
  {
   "cell_type": "markdown",
   "id": "d2d5d85e-3992-46fd-a89e-f0d303d6692f",
   "metadata": {},
   "source": [
    "$f'(1) = 12 - 12 - 24 = -24$"
   ]
  },
  {
   "cell_type": "markdown",
   "id": "aa2af4c1-a2ea-486e-880d-3b412fdc4cbd",
   "metadata": {},
   "source": [
    "Como $f'(1) < 0$, a função é decrescente em $(0, 2)$."
   ]
  },
  {
   "cell_type": "markdown",
   "id": "7ac3fd7d-6390-4f81-81ce-5709dd53cdb6",
   "metadata": {},
   "source": [
    "Em resumo:\n",
    "* A função é decrescenter em $(-\\infty, -1) \\cup (0,2)$\n",
    "* A função é crescenter em $(-1, 0) \\cup (2,\\infty)$"
   ]
  },
  {
   "cell_type": "code",
   "execution_count": null,
   "id": "62e6c72c-f613-4b31-b8bb-44fbc0dc4723",
   "metadata": {},
   "outputs": [],
   "source": []
  },
  {
   "cell_type": "markdown",
   "id": "025a6765-e9ad-40b2-8454-21d76b45bcb2",
   "metadata": {},
   "source": [
    "**b) Qual será o gráfico para a função em questão indicando os pontos máximos e mínimos em coordenadas?**"
   ]
  },
  {
   "cell_type": "markdown",
   "id": "1398c2f2-f849-4b92-b058-a04f49070c6a",
   "metadata": {},
   "source": [
    "![](./img/grafico-mapa.jpg)"
   ]
  },
  {
   "cell_type": "code",
   "execution_count": null,
   "id": "1deb973b-fc0e-4244-90aa-6c47253f7707",
   "metadata": {},
   "outputs": [],
   "source": []
  },
  {
   "cell_type": "markdown",
   "id": "61b1e13b-04b6-4a2e-8d4d-f6d7498b9cd0",
   "metadata": {},
   "source": [
    "<p style=\"text-alig: justify\">Nessa mesma análise foi constatado que a frequência de propagação das fibras se dá de forma gradual cujos comprimentos das ondas e sua amplitude se dão de forma constante em relação ao tempo.</p>"
   ]
  },
  {
   "cell_type": "markdown",
   "id": "870a018c-6f07-4f2f-81bb-dfe95b9fd58c",
   "metadata": {},
   "source": [
    "![](./img/img1-mapa.jpg)"
   ]
  },
  {
   "cell_type": "markdown",
   "id": "f191b745-5d1f-468b-b659-38185a5ad9aa",
   "metadata": {},
   "source": [
    "<p style=\"text-alig: justify\">​Em um determinado ponto da conexão houve uma danificação da fibra fazendo com que essa frequência fosse interrompida, se tornando totalmente desordenada. Para que fosse calculada a quantidade de perda de sinal em relação ao índice de refração dos feixes, foi determinada a reta tangente para essa curva em alguns pontos. Com isso, responda:</p>"
   ]
  },
  {
   "cell_type": "markdown",
   "id": "782a84f8-9956-4304-9800-fef3db677e83",
   "metadata": {},
   "source": [
    "**c) Qual é a reta tangente para os pontos em que $x=1$ e $x=2$, considerando a função $f(x)=3x^4-4x^3-12x^2+5$**"
   ]
  },
  {
   "cell_type": "markdown",
   "id": "aae3c1e6-9957-4100-9832-e74d6db2387c",
   "metadata": {},
   "source": [
    "Para $x=1 $, a coordenada $y$ é $f(1)$, e para $x=2$, a coordenada $y$ é $f(2)$."
   ]
  },
  {
   "cell_type": "markdown",
   "id": "69bb6cb8-ae4e-4da3-8ef4-5fe6b361876f",
   "metadata": {},
   "source": [
    "$f(1) = 3(1)^4 -4(1)^3 -12(1)^2 + 5 = 3 - 4 - 12 + 5 = -8$"
   ]
  },
  {
   "cell_type": "markdown",
   "id": "2bff27e4-7e02-4042-9505-9cf90bb5802d",
   "metadata": {},
   "source": [
    "Portanto, o ponto de tangência em $x=1$ é $(1,-8)$."
   ]
  },
  {
   "cell_type": "markdown",
   "id": "cd69b47d-818c-4248-b4a5-f27cfea04c24",
   "metadata": {},
   "source": [
    "$f(2) = 3(2)^4 -4(2)^3 -12(2)^2 + 5 = 48 - 32 - 48 + 5 = -27$"
   ]
  },
  {
   "cell_type": "markdown",
   "id": "dac14ab4-7679-42fc-bbbf-515b5a4a2338",
   "metadata": {},
   "source": [
    "Portanto ponto de tangência em $x=2$ é $(2, -27)$."
   ]
  },
  {
   "cell_type": "markdown",
   "id": "cb6af1d6-fd1f-4fa1-a921-dd731bb64d04",
   "metadata": {},
   "source": [
    "Substituindo os valores de $x$ na primeira derivada encontramos o coeficiente angular da reta tangente."
   ]
  },
  {
   "cell_type": "markdown",
   "id": "018c0305-1270-4b44-9695-b3f20027253d",
   "metadata": {},
   "source": [
    "* Para $x=1$:"
   ]
  },
  {
   "cell_type": "markdown",
   "id": "458fbd62-d7cc-4318-9a20-9a1f640edbae",
   "metadata": {},
   "source": [
    "$m = f'(1) = 12(1)^3 - 12(1)^2 - 24(1) = 12 - 12 - 24 = - 24$"
   ]
  },
  {
   "cell_type": "markdown",
   "id": "1aee53c4-8559-4bd9-9d3e-fed7719ee2c4",
   "metadata": {},
   "source": [
    "* Para $x=2$:"
   ]
  },
  {
   "cell_type": "markdown",
   "id": "fef83187-8fb8-4eee-8940-09821faebf22",
   "metadata": {},
   "source": [
    "$m = f'(2) = 12(2)^3 - 12(2)^2 - 24(2) = 96 - 48 - 48 = 0$"
   ]
  },
  {
   "cell_type": "markdown",
   "id": "86c7b6d3-6378-4b1c-b3d0-95b4e74ee120",
   "metadata": {},
   "source": [
    "Então, a inclinação da reta tangente em $x=1$ é $m=-24$, e em $x=2$ é $m=0$."
   ]
  },
  {
   "cell_type": "markdown",
   "id": "9537fa16-6132-4fd1-a7fd-203f9960c01d",
   "metadata": {},
   "source": [
    "Usando a fórmula $y-y_{0} = m(x-x_{0})$, podemos determinar a equação da reta tangente:"
   ]
  },
  {
   "cell_type": "markdown",
   "id": "42e67c61-da7a-41ae-9dec-2459f29fcb89",
   "metadata": {},
   "source": [
    "A equação da reta tangetne em $x=1$ é:"
   ]
  },
  {
   "cell_type": "markdown",
   "id": "2899778b-81f9-49fb-8eec-257dbca3c9ae",
   "metadata": {},
   "source": [
    "$y - (-8) = -24(x-1)$"
   ]
  },
  {
   "cell_type": "markdown",
   "id": "26c69a55-575d-4712-99d1-3e13b3e8522e",
   "metadata": {},
   "source": [
    "$y+8 = -24x + 24$"
   ]
  },
  {
   "cell_type": "markdown",
   "id": "e3608911-f31b-4a90-b16b-5a82fa47412d",
   "metadata": {},
   "source": [
    "$y = -24x+24-8$"
   ]
  },
  {
   "cell_type": "markdown",
   "id": "86f6f0cd-8e8c-4bdc-ab0a-dee27a4b694d",
   "metadata": {},
   "source": [
    "$y =  -24x +16$"
   ]
  },
  {
   "cell_type": "markdown",
   "id": "504bcf14-e21a-45ca-8c9b-dca4237c5e15",
   "metadata": {},
   "source": [
    "A equação da reta tangetne em $x=2$ é:"
   ]
  },
  {
   "cell_type": "markdown",
   "id": "2fd6071d-c73a-420a-bc73-0774a498a4c2",
   "metadata": {},
   "source": [
    "$y-(-27) = 0(x-(-27))$"
   ]
  },
  {
   "cell_type": "markdown",
   "id": "0c7dc68c-1c1a-4147-bc09-4836f909c613",
   "metadata": {},
   "source": [
    "$y+27 = 0$"
   ]
  },
  {
   "cell_type": "markdown",
   "id": "3770e44b-3d8f-4e97-9ea9-456c9333be33",
   "metadata": {},
   "source": [
    "$y = 27$"
   ]
  },
  {
   "cell_type": "code",
   "execution_count": null,
   "id": "88593454-0887-4662-af70-bf0bb5442024",
   "metadata": {},
   "outputs": [],
   "source": []
  },
  {
   "cell_type": "markdown",
   "id": "6b43e792-dbfa-48ca-b119-18d7a73ab6be",
   "metadata": {},
   "source": [
    "O Cabo de fibra óptica é definido através da coroa circular formada pelos círculos de raio 2 e de raio 1 cujas funções são:\r\n"
   ]
  },
  {
   "cell_type": "markdown",
   "id": "cbf6ab2d-aaaf-4afd-a640-bc9edb48373e",
   "metadata": {},
   "source": [
    "$y^2+x^2=4$ e $y^2+x^2=1$"
   ]
  },
  {
   "cell_type": "markdown",
   "id": "b07aa267-ed62-4930-8184-11291e11e461",
   "metadata": {},
   "source": [
    "​Seja a seção transversal da fibra:\n"
   ]
  },
  {
   "cell_type": "markdown",
   "id": "6555a1dd-fa7f-42b0-851c-172ba1d07fa0",
   "metadata": {},
   "source": [
    "![](./img/img2-mapa.jpg)"
   ]
  },
  {
   "cell_type": "markdown",
   "id": "72d7d97c-f568-4527-b279-976566961f0a",
   "metadata": {},
   "source": [
    "**d) Qual será a área da seção transversal circular delimitada pelas circunferências de raio 2 e de raio 1? Faça o cálculo através de integral.**"
   ]
  },
  {
   "cell_type": "markdown",
   "id": "ebfa5f7d-389f-4170-a7d9-18425cb18f37",
   "metadata": {},
   "source": [
    "Área do círculo maior:\n",
    "\n",
    "$ A_{maior} = \\displaystyle \\int_{-2}^{2} \\sqrt{4-x^2} dx$"
   ]
  },
  {
   "cell_type": "markdown",
   "id": "3e3cd16a-7faf-4819-9eb7-8403defebb3c",
   "metadata": {},
   "source": [
    "Para resolver a integral acima, podemos usar o fato de que a integral representar a metade de um círculo de raio 2 com centro na origem. Portanto, podemos reescrever a integral como sendo a área da metade superior deste círculo no intervalo $(-2, 2)$."
   ]
  },
  {
   "cell_type": "markdown",
   "id": "5a8c8be1-5cf7-4b03-a063-ea49456a7693",
   "metadata": {},
   "source": [
    "A área da metade superior do círculo é metade da área total do círculo, então podemos escrever:"
   ]
  },
  {
   "cell_type": "markdown",
   "id": "71815062-7fe5-466e-b326-3f797bfe5271",
   "metadata": {},
   "source": [
    "$A_{maior} = \\displaystyle \\int_{-1}^{1} \\sqrt{4-x^2} dx = \\frac{1}{2}$"
   ]
  },
  {
   "cell_type": "markdown",
   "id": "da54f0bc-7ee2-4a2d-ae4f-56db291cf6de",
   "metadata": {},
   "source": [
    "A área de um círculo com raio $r$ é dada por $Area = \\pi r^2$. Neste caso $r=2$, logo a área do círculo é $area = \\pi .2^2 = 4\\pi$."
   ]
  },
  {
   "cell_type": "markdown",
   "id": "e7d451fc-b30b-4ec5-8c77-49cb29c37da3",
   "metadata": {},
   "source": [
    "Agora substituindo na integral temos:\n",
    "\n",
    "$A_{maior} = \\displaystyle \\int_{-1}^{1} \\sqrt{4-x^2} dx = \\frac{1}{2}.4\\pi = 2\\pi$"
   ]
  },
  {
   "cell_type": "code",
   "execution_count": null,
   "id": "3fdea61c-5783-430a-9ada-88d3e2fd2677",
   "metadata": {},
   "outputs": [],
   "source": []
  },
  {
   "cell_type": "markdown",
   "id": "e6297871-9df5-47e9-8ce0-a14675be8cd5",
   "metadata": {},
   "source": [
    "Área do círculo menor:\n",
    "\n",
    "$A_{menor} = \\displaystyle \\int_{-1}^{1} \\sqrt{1-x^2} dx$"
   ]
  },
  {
   "cell_type": "markdown",
   "id": "c9d0f851-c2d5-4614-9e24-2049b5663950",
   "metadata": {},
   "source": [
    "$A_{menor} = \\displaystyle \\int_{-1}^{1} \\sqrt{1-x^2} dx = \\pi .1^2 = \\frac{\\pi}{2}$"
   ]
  },
  {
   "cell_type": "markdown",
   "id": "7f303e2e-9952-40ff-8cad-f4d461add789",
   "metadata": {},
   "source": []
  },
  {
   "cell_type": "markdown",
   "id": "0842dc44-8e13-481c-b093-f07d286c93a0",
   "metadata": {},
   "source": [
    "A área da seção transversal circular ($A$) é dada pela diferença entre as áreas sob essas duas curvas. Portanto, a área $A$ pode ser encontrada pela diferença entre a área maior $A_{maior}$ e a área menor $A_{menor}$."
   ]
  },
  {
   "cell_type": "markdown",
   "id": "c2213f74-9cd8-4d71-9c47-f845036cdd66",
   "metadata": {},
   "source": [
    "$A = A_{maior} - A_{menor}$"
   ]
  },
  {
   "cell_type": "markdown",
   "id": "6a9e0624-9458-48da-ad65-cce2d6747447",
   "metadata": {},
   "source": [
    "$A = 2\\pi - \\frac{\\pi}{2} = 3\\displaystyle\\frac{\\pi}{2}$"
   ]
  },
  {
   "cell_type": "markdown",
   "id": "2f764a05-0cb6-4248-8684-b45357e1d354",
   "metadata": {},
   "source": [
    "Portanto, a área da seção transversal circular é $3\\displaystyle\\frac{\\pi}{2}$ unidades de área."
   ]
  },
  {
   "cell_type": "code",
   "execution_count": null,
   "id": "37ea1fed-5f84-4170-86c6-4d7d364c0156",
   "metadata": {},
   "outputs": [],
   "source": []
  }
 ],
 "metadata": {
  "kernelspec": {
   "display_name": "Python 3 (ipykernel)",
   "language": "python",
   "name": "python3"
  },
  "language_info": {
   "codemirror_mode": {
    "name": "ipython",
    "version": 3
   },
   "file_extension": ".py",
   "mimetype": "text/x-python",
   "name": "python",
   "nbconvert_exporter": "python",
   "pygments_lexer": "ipython3",
   "version": "3.12.0"
  }
 },
 "nbformat": 4,
 "nbformat_minor": 5
}
