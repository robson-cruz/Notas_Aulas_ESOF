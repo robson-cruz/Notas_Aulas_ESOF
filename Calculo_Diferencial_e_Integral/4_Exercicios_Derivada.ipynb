{
 "cells": [
  {
   "cell_type": "markdown",
   "id": "315c111e",
   "metadata": {},
   "source": [
    "# Exercícios Derivada"
   ]
  },
  {
   "cell_type": "markdown",
   "id": "2f43b106",
   "metadata": {},
   "source": [
    "Seja a função $f(x)=x^2$, determinar a inclinação da reta tangente ou $f'(x) $ da função no ponto $(2,4)$."
   ]
  },
  {
   "cell_type": "markdown",
   "id": "52d15975",
   "metadata": {},
   "source": [
    "$f'(a)=\\displaystyle\\lim_{h \\to0}\\frac{f(a+h)-f(a)}{h}$"
   ]
  },
  {
   "cell_type": "markdown",
   "id": "9e01f58e",
   "metadata": {},
   "source": [
    "$f'(2)=\\displaystyle\\lim_{h \\to 0}\\frac{f(2+h)-f(2)}{h}$"
   ]
  },
  {
   "cell_type": "markdown",
   "id": "59fdaf7a",
   "metadata": {},
   "source": [
    "$f'(2)=\\displaystyle\\frac{(2+h)^2-(2)^2}{h}$"
   ]
  },
  {
   "cell_type": "markdown",
   "id": "dd8084c1",
   "metadata": {},
   "source": [
    "$f'(2)=\\displaystyle\\frac{4+4h+h^2-4}{h}$"
   ]
  },
  {
   "cell_type": "markdown",
   "id": "9900dcdc",
   "metadata": {},
   "source": [
    "$f'(2)=\\displaystyle\\frac{4h+h^2}{h}$"
   ]
  },
  {
   "cell_type": "markdown",
   "id": "44ae99ce",
   "metadata": {},
   "source": [
    "$f'(2)=\\displaystyle\\frac{\\cancel{h}(4+h)}{\\cancel{h}}$"
   ]
  },
  {
   "cell_type": "markdown",
   "id": "42335821",
   "metadata": {},
   "source": [
    "$f'(2)=4+h$"
   ]
  },
  {
   "cell_type": "markdown",
   "id": "a7530ed1",
   "metadata": {},
   "source": [
    "$f'(2)=4+0$"
   ]
  },
  {
   "cell_type": "markdown",
   "id": "4bc81d2c",
   "metadata": {},
   "source": [
    "$f'(2)=4$"
   ]
  },
  {
   "cell_type": "code",
   "execution_count": null,
   "id": "9331057f",
   "metadata": {},
   "outputs": [],
   "source": []
  },
  {
   "cell_type": "markdown",
   "id": "b29f1183",
   "metadata": {},
   "source": [
    "## Derivada do Produto"
   ]
  },
  {
   "cell_type": "markdown",
   "id": "21145dd4",
   "metadata": {},
   "source": [
    "Regra: $\\quad(f.g)'(x)=f'(x)g(x)+f(x)g'(x)$"
   ]
  },
  {
   "cell_type": "code",
   "execution_count": null,
   "id": "659928ab",
   "metadata": {},
   "outputs": [],
   "source": []
  },
  {
   "cell_type": "markdown",
   "id": "f4a5b72d",
   "metadata": {},
   "source": [
    "Considere as funções: $f(x)=x^3+2x$ e $g(x)=3x+1$"
   ]
  },
  {
   "cell_type": "markdown",
   "id": "78d19d6d",
   "metadata": {},
   "source": [
    "Determinar $f.g'(x)$"
   ]
  },
  {
   "cell_type": "markdown",
   "id": "0a72bfe3",
   "metadata": {},
   "source": [
    "$f.g(x)=(x^3+2x).(3x+1)$"
   ]
  },
  {
   "cell_type": "markdown",
   "id": "a9b7d00d",
   "metadata": {},
   "source": [
    "$f.g'(x)=(3.x^{3-1}+2).(3x+1)+(x^3+2x).(3+0)$"
   ]
  },
  {
   "cell_type": "markdown",
   "id": "21a18382",
   "metadata": {},
   "source": [
    "$f.g'(x)=(3x^2+2).(3x+1)+(x^3+2x).(3+0)$"
   ]
  },
  {
   "cell_type": "markdown",
   "id": "69e13184",
   "metadata": {},
   "source": [
    "$f.g'(x)=9x^3+3x^2+6x+2+3x^3+6x$"
   ]
  },
  {
   "cell_type": "markdown",
   "id": "4a5ed2f8",
   "metadata": {},
   "source": [
    "$\\boxed{f.g'(x)=12x^3+3x^2+12x+2}$"
   ]
  },
  {
   "cell_type": "code",
   "execution_count": null,
   "id": "ee2b7b09",
   "metadata": {},
   "outputs": [],
   "source": []
  },
  {
   "cell_type": "markdown",
   "id": "0a58a32d",
   "metadata": {},
   "source": [
    "## Derivada do Quociente"
   ]
  },
  {
   "cell_type": "markdown",
   "id": "8ac80293",
   "metadata": {},
   "source": [
    "Regra: $\\quad\\displaystyle\\left(\\frac{f}{g}\\right)'(x)=\\displaystyle\\frac{f'(x)g(x)-f(x)g'(x)}{g(x)^2}$"
   ]
  },
  {
   "cell_type": "code",
   "execution_count": null,
   "id": "bdf6a0bc",
   "metadata": {},
   "outputs": [],
   "source": []
  },
  {
   "cell_type": "markdown",
   "id": "908be4bd",
   "metadata": {},
   "source": [
    "Considere as funções: $f(x)=x^3+2x$ e $g(x)=3x+1$\n",
    "\n",
    "Determinar: $\\displaystyle\\left(\\frac{f}{g}\\right)'(x)$"
   ]
  },
  {
   "cell_type": "code",
   "execution_count": null,
   "id": "95392be7",
   "metadata": {},
   "outputs": [],
   "source": []
  },
  {
   "cell_type": "markdown",
   "id": "c67f0827",
   "metadata": {},
   "source": [
    "$\\displaystyle\\left(\\frac{f}{g}\\right)'(x)=\\displaystyle\\frac{f'(x^3+2x).(3x+1)-(x^3+2x).f'(3x+1)}{(3x+1)^2}$"
   ]
  },
  {
   "cell_type": "markdown",
   "id": "7246f47e",
   "metadata": {},
   "source": [
    "$\\displaystyle\\left(\\frac{f}{g}\\right)'(x)=\\displaystyle\\frac{(3x^2+2).(3x+1)-(x^3+2x).(3)}{(3x+1)^2}$"
   ]
  },
  {
   "cell_type": "markdown",
   "id": "76861edf",
   "metadata": {},
   "source": [
    "$\\displaystyle\\left(\\frac{f}{g}\\right)'(x)=\\displaystyle\\frac{(3x^2+2).(3x+1)-(x^3+2x).(3)}{(3x+1)^2}$"
   ]
  },
  {
   "cell_type": "markdown",
   "id": "b42dbc75",
   "metadata": {},
   "source": [
    "$\\displaystyle\\left(\\frac{f}{g}\\right)'(x)=\\displaystyle\\frac{(9x^3+3x^2+6x+2)-(9x^2+6)}{9x^2+6x+1}$"
   ]
  },
  {
   "cell_type": "markdown",
   "id": "b22f5cf2",
   "metadata": {},
   "source": [
    "$\\displaystyle\\left(\\frac{f}{g}\\right)'(x)=\\displaystyle\\frac{9x^3+3x^2+6x+2-9x^2-6}{9x^2+6x+1}$"
   ]
  },
  {
   "cell_type": "markdown",
   "id": "b628cd80",
   "metadata": {},
   "source": [
    "$\\displaystyle\\left(\\frac{f}{g}\\right)'(x)=\\displaystyle\\frac{9x^3+3x^2+6x+2-9x^2-6}{9x^2+6x+1}$"
   ]
  },
  {
   "cell_type": "markdown",
   "id": "f1e75f74",
   "metadata": {},
   "source": [
    "$\\displaystyle\\left(\\frac{f}{g}\\right)'(x)=\\displaystyle\\frac{9x^3-6x^2+6x-4}{9x^2+6x+1}$"
   ]
  },
  {
   "cell_type": "code",
   "execution_count": null,
   "id": "4ca34784",
   "metadata": {},
   "outputs": [],
   "source": []
  },
  {
   "cell_type": "markdown",
   "id": "60262950-5a73-49d5-bf1d-94427e3e286c",
   "metadata": {},
   "source": [
    "## Pontos Críticos\n",
    "\n",
    "Ache os pontos críticos e classifique-os\n",
    "\n",
    "$f(x) = 3x^4 - 8x^3 -18x^2 + 12$"
   ]
  },
  {
   "cell_type": "code",
   "execution_count": null,
   "id": "91ef8469-0e01-4203-a028-7d4cf43dc4a8",
   "metadata": {},
   "outputs": [],
   "source": []
  },
  {
   "cell_type": "markdown",
   "id": "1b63f6cc-a2f9-4a3a-9692-d6fe523452cf",
   "metadata": {},
   "source": [
    "$f'(x)= 12x^3 - 24x^2 -36x + 0$"
   ]
  },
  {
   "cell_type": "markdown",
   "id": "c75e7f2d-10f2-48dd-8c3d-c0cfccbf3fd2",
   "metadata": {},
   "source": [
    "$\\boxed{f'(x)= 12x^3 - 24x^2 -36x}$"
   ]
  },
  {
   "cell_type": "code",
   "execution_count": null,
   "id": "c9c5db75-3a93-40ab-9398-b6538780e937",
   "metadata": {},
   "outputs": [],
   "source": []
  },
  {
   "cell_type": "markdown",
   "id": "22f1741b-6c46-4d96-98a3-46d2e37f47da",
   "metadata": {},
   "source": [
    "$12x^3-24x^2-36x=0$"
   ]
  },
  {
   "cell_type": "markdown",
   "id": "0cc74408-fb45-42b8-b8d2-2442f1e9c17b",
   "metadata": {},
   "source": [
    "$12x(x^2-2x-3)=0$"
   ]
  },
  {
   "cell_type": "markdown",
   "id": "3b4977fe-533d-4cf1-a81d-2d5617c43d1c",
   "metadata": {},
   "source": [
    "$12x=0 \\to \\boxed{x=0}$"
   ]
  },
  {
   "cell_type": "code",
   "execution_count": null,
   "id": "358bd36b-fdf7-4059-8cb0-32afb7bea116",
   "metadata": {},
   "outputs": [],
   "source": []
  },
  {
   "cell_type": "markdown",
   "id": "88350603-1a59-44af-badf-de7830e1895b",
   "metadata": {},
   "source": [
    "$x^2-2x-3=0$"
   ]
  },
  {
   "cell_type": "markdown",
   "id": "f56ed586-0ffc-41ed-a980-49a8734a6011",
   "metadata": {},
   "source": [
    "$(x-3)(x+1)=0$"
   ]
  },
  {
   "cell_type": "markdown",
   "id": "a57446ae-f64e-4671-b239-fb650c5b0706",
   "metadata": {},
   "source": [
    "$\\boxed{x=3}$\n",
    "\n",
    "$\\boxed{x=-1}$"
   ]
  },
  {
   "cell_type": "markdown",
   "id": "acef849d-3210-4b30-bed2-c3ed677a2e46",
   "metadata": {},
   "source": [
    "Fazer  segunda derivada para encontrar os pontos de máximo e mínimo"
   ]
  },
  {
   "cell_type": "markdown",
   "id": "4cec0977-1759-4344-8551-50ebaac7b33a",
   "metadata": {},
   "source": [
    "$f''(x)=12x^3-24x^2-36x$"
   ]
  },
  {
   "cell_type": "markdown",
   "id": "be3cfa00-f144-43a8-96fe-d3cfd1367c19",
   "metadata": {},
   "source": [
    "$\\boxed{f''(x)=36x^2-48x-36}$"
   ]
  },
  {
   "cell_type": "markdown",
   "id": "08b3dc79-ea08-45a8-b024-b280ed79330d",
   "metadata": {},
   "source": [
    "$f''(0)=36.0^2-48.0-36$"
   ]
  },
  {
   "cell_type": "markdown",
   "id": "d1ad1e5f-91ea-43af-9a17-edc5ba7fdfbe",
   "metadata": {},
   "source": [
    "$\\boxed{f''(0)=-36} \\to máximo$"
   ]
  },
  {
   "cell_type": "code",
   "execution_count": null,
   "id": "452e66ce-4782-419f-9f7e-4ab5d0a1f6c1",
   "metadata": {},
   "outputs": [],
   "source": []
  },
  {
   "cell_type": "markdown",
   "id": "e69c34c4-bdf1-48a7-b8d2-9602ef87e952",
   "metadata": {},
   "source": [
    "$f''(3)=36.3^2-24.3^2-36$"
   ]
  },
  {
   "cell_type": "markdown",
   "id": "44c8ae59-6361-464e-b88d-999eafc454c6",
   "metadata": {},
   "source": [
    "$f''(3)=324-21-36$"
   ]
  },
  {
   "cell_type": "markdown",
   "id": "c985586d-aae3-4815-90db-1567a3369eb3",
   "metadata": {},
   "source": [
    "$\\boxed{f''(3)=8} \\to mínimo$"
   ]
  },
  {
   "cell_type": "code",
   "execution_count": null,
   "id": "ab4d2221-88eb-4dff-900f-6caae049bade",
   "metadata": {},
   "outputs": [],
   "source": []
  },
  {
   "cell_type": "markdown",
   "id": "8d789811-b121-4e78-a76f-26a36c774798",
   "metadata": {},
   "source": [
    "$f''(-1)=36.(-1)^2-48.(-1)-36$"
   ]
  },
  {
   "cell_type": "markdown",
   "id": "334b3503-d08c-4215-a2ca-134003745c51",
   "metadata": {},
   "source": [
    "$f''(-1)=36+48-36$"
   ]
  },
  {
   "cell_type": "markdown",
   "id": "dae6aa76-5605-46d4-a6fe-5315e8ba1002",
   "metadata": {},
   "source": [
    "$\\boxed{f''(-1)=48} \\to mínimo$"
   ]
  },
  {
   "cell_type": "code",
   "execution_count": null,
   "id": "c49165dd-7b8d-4622-9cd0-e8b34cf5131c",
   "metadata": {},
   "outputs": [],
   "source": []
  },
  {
   "cell_type": "markdown",
   "id": "617a4b3e-c7de-4cbd-a37f-91a953cd7fc0",
   "metadata": {},
   "source": [
    "# Regras de L'Hôspital"
   ]
  },
  {
   "cell_type": "markdown",
   "id": "7cba4234-084a-4984-8040-9dd8abd96a67",
   "metadata": {},
   "source": [
    "Limites do tipo $\\frac{0}{0}$ ou $\\frac{\\infty}{\\infty}$"
   ]
  },
  {
   "cell_type": "markdown",
   "id": "b4df0e2a-84d3-48fe-9854-5c4ad6366ed1",
   "metadata": {},
   "source": [
    "Exemplo:"
   ]
  },
  {
   "cell_type": "markdown",
   "id": "39560268-d61a-4cfa-bd74-f260b5a3e768",
   "metadata": {},
   "source": [
    "$\\displaystyle\\lim_{x \\to \\infty} \\frac{x^2-1}{2x^2+1} = \\displaystyle\\lim_{x\\to\\infty}\\displaystyle\\frac{1-\\displaystyle\\displaystyle\\frac{1}{x^2}}{2+\\displaystyle\\frac{1}{x^2}} = \\displaystyle\\lim_{x\\to\\infty}\\displaystyle\\frac{1-\\displaystyle\\displaystyle\\frac{1}{\\infty}}{2+\\displaystyle\\frac{1}{\\infty}} = \\frac{1-0}{2+0} = \\frac{1}{2}$"
   ]
  },
  {
   "cell_type": "code",
   "execution_count": null,
   "id": "6c3b70b0-4c1b-4816-948e-b5df11aef51d",
   "metadata": {},
   "outputs": [],
   "source": []
  },
  {
   "cell_type": "markdown",
   "id": "0bac62e2-0ad0-4a44-b70a-9f38e48849bc",
   "metadata": {},
   "source": [
    "Exemplo:"
   ]
  },
  {
   "cell_type": "markdown",
   "id": "7b9e1241-398a-4100-aea4-b57afb0ace87",
   "metadata": {},
   "source": [
    "$\\displaystyle\\lim_{x \\to o} \\frac{\\sin{x}}{x} = \\frac{\\sin{x'}}{x'} = \\frac{\\cos{x}}{1} = \\cos{x}=1$"
   ]
  },
  {
   "cell_type": "code",
   "execution_count": null,
   "id": "61e9225e-b765-42bc-9bca-e53d69cd0f49",
   "metadata": {},
   "outputs": [],
   "source": []
  },
  {
   "cell_type": "markdown",
   "id": "ef35a509-c0ef-4ed2-8980-9e59dcc58645",
   "metadata": {},
   "source": [
    "## Regra da Cadeia"
   ]
  },
  {
   "cell_type": "markdown",
   "id": "47db7900-2cb1-458e-a1b9-978c9b7aeb77",
   "metadata": {},
   "source": [
    "$$\\displaystyle[f(g(x))]' = f'(g(x)).g'(x)$$"
   ]
  },
  {
   "cell_type": "code",
   "execution_count": null,
   "id": "f51da4ad-44b2-47ec-b852-1d4f97da164a",
   "metadata": {},
   "outputs": [],
   "source": []
  },
  {
   "cell_type": "markdown",
   "id": "b7a4d6c8-dd0f-45c6-a801-e23f1083ddb0",
   "metadata": {},
   "source": [
    "Exemplo:"
   ]
  },
  {
   "cell_type": "markdown",
   "id": "7de3fb5f-b5ac-45ab-aa08-398a69b4e364",
   "metadata": {},
   "source": [
    "$j(x)=(x^2+2x)^2 = 2.(x^2+2x).(2x+2)$"
   ]
  },
  {
   "cell_type": "markdown",
   "id": "10277211-684e-4ac5-9674-47a4c6f73e42",
   "metadata": {},
   "source": [
    "$(2x^2+4x).(2x+2) = 4x^3+4x^2+8x^2+8x$"
   ]
  },
  {
   "cell_type": "markdown",
   "id": "56cba34b-f2fa-41bf-9456-fdc1c936a9d7",
   "metadata": {},
   "source": [
    "$j'(x) = 4x^3 + 12x^2 + 8x$"
   ]
  },
  {
   "cell_type": "code",
   "execution_count": null,
   "id": "458c82a9-7965-4cc2-8989-b68867d4b479",
   "metadata": {},
   "outputs": [],
   "source": []
  },
  {
   "cell_type": "markdown",
   "id": "eca80353-03f1-478f-ad13-54a69eff01ca",
   "metadata": {},
   "source": [
    "Exemplo:"
   ]
  },
  {
   "cell_type": "markdown",
   "id": "7c7c7188-eb2c-4736-be39-647763db9035",
   "metadata": {},
   "source": [
    "$r(x)=\\sqrt{x^3+2}$"
   ]
  },
  {
   "cell_type": "markdown",
   "id": "4033f3f9-8f0d-45b8-9c93-ebb34b5ac162",
   "metadata": {},
   "source": [
    "$r'(x) = (x^3+2)^{\\displaystyle\\frac{1}{2}} = \\frac{1}{2}.(x^3+2)^{\\displaystyle\\frac{1}{2}-1}.(3x^2)$"
   ]
  },
  {
   "cell_type": "markdown",
   "id": "10042c29-4765-4148-8770-0f311bcf5cf5",
   "metadata": {},
   "source": [
    "$r'(x) = \\frac{1}{2}.(x^3+2)^{-\\displaystyle\\frac{1}{2}}.(3x^2)$"
   ]
  },
  {
   "cell_type": "markdown",
   "id": "a6870ecd-8050-4461-a495-0ff83d2d72f9",
   "metadata": {},
   "source": [
    "$r'(x) = \\displaystyle\\frac{1}{2}.\\frac{1}{\\sqrt{(x^3+2)}}.(3x^2) = \\frac{3x^2}{2\\sqrt{(3x^2+2)}}$"
   ]
  },
  {
   "cell_type": "code",
   "execution_count": null,
   "id": "eb079a24-801b-4434-b7b8-16ff98560fcd",
   "metadata": {},
   "outputs": [],
   "source": []
  },
  {
   "cell_type": "markdown",
   "id": "7aa63031-bf1a-46d3-80f4-cbf1ba8df3a6",
   "metadata": {},
   "source": [
    "Exemplo:"
   ]
  },
  {
   "cell_type": "markdown",
   "id": "e8985bfb-f3b1-4c98-b0ef-703699ca2d9e",
   "metadata": {},
   "source": [
    "$g'(x) = \\left( \\displaystyle\\frac{2x+1}{3x^2+2x} \\right)^2$"
   ]
  },
  {
   "cell_type": "markdown",
   "id": "f0b87aa0-755f-4cfa-802f-82395fcd6192",
   "metadata": {},
   "source": [
    "$g'(x) = 2.\\left( \\displaystyle\\frac{2x+1}{3x^2+2x} \\right).\\left( 2.\\displaystyle\\frac{(3x^2+2x)-(2x+1)(6x+2)}{(3x^2+2x)^2} \\right)$"
   ]
  },
  {
   "cell_type": "markdown",
   "id": "7f344fa7-56f7-4e7e-9935-3895f676c8e7",
   "metadata": {},
   "source": [
    "$g'(x) = \\displaystyle\\left( \\frac{4x+2}{3x^2+2x} \\right) . \\left( \\displaystyle\\frac{6x^2+4x-(12x^2+4x+6x+2)}{(3x^2+2x)^2} \\right)$"
   ]
  },
  {
   "cell_type": "code",
   "execution_count": null,
   "id": "19887054-70b5-47f1-8604-a4019da3c66c",
   "metadata": {},
   "outputs": [],
   "source": []
  }
 ],
 "metadata": {
  "kernelspec": {
   "display_name": "Python 3 (ipykernel)",
   "language": "python",
   "name": "python3"
  },
  "language_info": {
   "codemirror_mode": {
    "name": "ipython",
    "version": 3
   },
   "file_extension": ".py",
   "mimetype": "text/x-python",
   "name": "python",
   "nbconvert_exporter": "python",
   "pygments_lexer": "ipython3",
   "version": "3.12.0"
  }
 },
 "nbformat": 4,
 "nbformat_minor": 5
}
