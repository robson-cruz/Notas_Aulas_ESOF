{
 "cells": [
  {
   "cell_type": "markdown",
   "id": "315c111e",
   "metadata": {},
   "source": [
    "# Exercícios Derivada"
   ]
  },
  {
   "cell_type": "markdown",
   "id": "2f43b106",
   "metadata": {},
   "source": [
    "Seja a função $f(x)=x^2$, determinar a inclinação da reta tangente ou $f'(x) $ da função no ponto $(2,4)$."
   ]
  },
  {
   "cell_type": "markdown",
   "id": "52d15975",
   "metadata": {},
   "source": [
    "$f'(a)=\\displaystyle\\lim_{h \\to0}\\frac{f(a+h)-f(a)}{h}$"
   ]
  },
  {
   "cell_type": "markdown",
   "id": "9e01f58e",
   "metadata": {},
   "source": [
    "$f'(2)=\\displaystyle\\lim_{h \\to 0}\\frac{f(2+h)-f(2)}{h}$"
   ]
  },
  {
   "cell_type": "markdown",
   "id": "59fdaf7a",
   "metadata": {},
   "source": [
    "$f'(2)=\\displaystyle\\frac{(2+h)^2-(2)^2}{h}$"
   ]
  },
  {
   "cell_type": "markdown",
   "id": "dd8084c1",
   "metadata": {},
   "source": [
    "$f'(2)=\\displaystyle\\frac{4+4h+h^2-4}{h}$"
   ]
  },
  {
   "cell_type": "markdown",
   "id": "9900dcdc",
   "metadata": {},
   "source": [
    "$f'(2)=\\displaystyle\\frac{4h+h^2}{h}$"
   ]
  },
  {
   "cell_type": "markdown",
   "id": "44ae99ce",
   "metadata": {},
   "source": [
    "$f'(2)=\\displaystyle\\frac{h(4+h)}{h}$"
   ]
  },
  {
   "cell_type": "markdown",
   "id": "42335821",
   "metadata": {},
   "source": [
    "$f'(2)=4+h$"
   ]
  },
  {
   "cell_type": "markdown",
   "id": "a7530ed1",
   "metadata": {},
   "source": [
    "$f'(2)=4+0$"
   ]
  },
  {
   "cell_type": "markdown",
   "id": "4bc81d2c",
   "metadata": {},
   "source": [
    "$f'(2)=4$"
   ]
  },
  {
   "cell_type": "code",
   "execution_count": null,
   "id": "9331057f",
   "metadata": {},
   "outputs": [],
   "source": []
  },
  {
   "cell_type": "markdown",
   "id": "b29f1183",
   "metadata": {},
   "source": [
    "## Derivada do Produto"
   ]
  },
  {
   "cell_type": "markdown",
   "id": "21145dd4",
   "metadata": {},
   "source": [
    "Regra: $\\quad(f.g)'(x)=f'(x)g(x)+f(x)g'(x)$"
   ]
  },
  {
   "cell_type": "code",
   "execution_count": null,
   "id": "659928ab",
   "metadata": {},
   "outputs": [],
   "source": []
  },
  {
   "cell_type": "markdown",
   "id": "f4a5b72d",
   "metadata": {},
   "source": [
    "Considere as funções: $f(x)=x^3+2x$ e $g(x)=3x+1$"
   ]
  },
  {
   "cell_type": "markdown",
   "id": "78d19d6d",
   "metadata": {},
   "source": [
    "Determinar $f.g'(x)$"
   ]
  },
  {
   "cell_type": "markdown",
   "id": "0a72bfe3",
   "metadata": {},
   "source": [
    "$f.g(x)=(x^3+2x).(3x+1)$"
   ]
  },
  {
   "cell_type": "markdown",
   "id": "a9b7d00d",
   "metadata": {},
   "source": [
    "$f.g'(x)=(3.x^{3-1}+2).(3x+1)+(x^3+2x).(3+0)$"
   ]
  },
  {
   "cell_type": "markdown",
   "id": "21a18382",
   "metadata": {},
   "source": [
    "$f.g'(x)=(3x^2+2).(3x+1)+(x^3+2x).(3+0)$"
   ]
  },
  {
   "cell_type": "markdown",
   "id": "69e13184",
   "metadata": {},
   "source": [
    "$f.g'(x)=9x^3+3x^2+6x+2+3x^3+6x$"
   ]
  },
  {
   "cell_type": "markdown",
   "id": "4a5ed2f8",
   "metadata": {},
   "source": [
    "$\\boxed{f.g'(x)=12x^3+3x^2+12x+2}$"
   ]
  },
  {
   "cell_type": "code",
   "execution_count": null,
   "id": "ee2b7b09",
   "metadata": {},
   "outputs": [],
   "source": []
  },
  {
   "cell_type": "markdown",
   "id": "0a58a32d",
   "metadata": {},
   "source": [
    "## Derivada do Quociente"
   ]
  },
  {
   "cell_type": "markdown",
   "id": "8ac80293",
   "metadata": {},
   "source": [
    "Regra: $\\quad\\displaystyle\\left(\\frac{f}{g}\\right)'(x)=\\displaystyle\\frac{f'(x)g(x)-f(x)g'(x)}{g(x)^2}$"
   ]
  },
  {
   "cell_type": "code",
   "execution_count": null,
   "id": "bdf6a0bc",
   "metadata": {},
   "outputs": [],
   "source": []
  },
  {
   "cell_type": "markdown",
   "id": "908be4bd",
   "metadata": {},
   "source": [
    "Considere as funções: $f(x)=x^3+2x$ e $g(x)=3x+1$\n",
    "\n",
    "Determinar: $\\displaystyle\\left(\\frac{f}{g}\\right)'(x)$"
   ]
  },
  {
   "cell_type": "code",
   "execution_count": null,
   "id": "95392be7",
   "metadata": {},
   "outputs": [],
   "source": []
  },
  {
   "cell_type": "markdown",
   "id": "c67f0827",
   "metadata": {},
   "source": [
    "$\\displaystyle\\left(\\frac{f}{g}\\right)'(x)=\\displaystyle\\frac{f'(x^3+2x).(3x+1)-(x^3+2x).f'(3x+1)}{(3x+1)^2}$"
   ]
  },
  {
   "cell_type": "markdown",
   "id": "7246f47e",
   "metadata": {},
   "source": [
    "$\\displaystyle\\left(\\frac{f}{g}\\right)'(x)=\\displaystyle\\frac{(3x^2+2).(3x+1)-(x^3+2x).(3)}{(3x+1)^2}$"
   ]
  },
  {
   "cell_type": "markdown",
   "id": "76861edf",
   "metadata": {},
   "source": [
    "$\\displaystyle\\left(\\frac{f}{g}\\right)'(x)=\\displaystyle\\frac{(3x^2+2).(3x+1)-(x^3+2x).(3)}{(3x+1)^2}$"
   ]
  },
  {
   "cell_type": "markdown",
   "id": "b42dbc75",
   "metadata": {},
   "source": [
    "$\\displaystyle\\left(\\frac{f}{g}\\right)'(x)=\\displaystyle\\frac{(9x^3+3x^2+6x+2)-(9x^2+6)}{9x^2+6x+1}$"
   ]
  },
  {
   "cell_type": "markdown",
   "id": "b22f5cf2",
   "metadata": {},
   "source": [
    "$\\displaystyle\\left(\\frac{f}{g}\\right)'(x)=\\displaystyle\\frac{9x^3+3x^2+6x+2-9x^2-6}{9x^2+6x+1}$"
   ]
  },
  {
   "cell_type": "markdown",
   "id": "b628cd80",
   "metadata": {},
   "source": [
    "$\\displaystyle\\left(\\frac{f}{g}\\right)'(x)=\\displaystyle\\frac{9x^3+3x^2+6x+2-9x^2-6}{9x^2+6x+1}$"
   ]
  },
  {
   "cell_type": "markdown",
   "id": "f1e75f74",
   "metadata": {},
   "source": [
    "$\\displaystyle\\left(\\frac{f}{g}\\right)'(x)=\\displaystyle\\frac{9x^3-6x^2+6x-4}{9x^2+6x+1}$"
   ]
  },
  {
   "cell_type": "code",
   "execution_count": null,
   "id": "4ca34784",
   "metadata": {},
   "outputs": [],
   "source": []
  }
 ],
 "metadata": {
  "kernelspec": {
   "display_name": "Python 3 (ipykernel)",
   "language": "python",
   "name": "python3"
  },
  "language_info": {
   "codemirror_mode": {
    "name": "ipython",
    "version": 3
   },
   "file_extension": ".py",
   "mimetype": "text/x-python",
   "name": "python",
   "nbconvert_exporter": "python",
   "pygments_lexer": "ipython3",
   "version": "3.9.12"
  }
 },
 "nbformat": 4,
 "nbformat_minor": 5
}
