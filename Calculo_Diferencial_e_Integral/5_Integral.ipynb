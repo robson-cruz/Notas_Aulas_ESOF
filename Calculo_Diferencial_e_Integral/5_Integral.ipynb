{
 "cells": [
  {
   "cell_type": "markdown",
   "id": "21320852",
   "metadata": {},
   "source": [
    "# Integral"
   ]
  },
  {
   "cell_type": "code",
   "execution_count": null,
   "id": "7575c274",
   "metadata": {},
   "outputs": [],
   "source": []
  },
  {
   "cell_type": "code",
   "execution_count": null,
   "id": "d8b674f2",
   "metadata": {},
   "outputs": [],
   "source": []
  },
  {
   "cell_type": "code",
   "execution_count": null,
   "id": "96df617e",
   "metadata": {},
   "outputs": [],
   "source": []
  },
  {
   "cell_type": "markdown",
   "id": "843cd235",
   "metadata": {},
   "source": [
    "## Exemplos"
   ]
  },
  {
   "cell_type": "markdown",
   "id": "69c540f6",
   "metadata": {},
   "source": [
    "Calcular $\\displaystyle\\int_{0}^{1}3d(x)$"
   ]
  },
  {
   "cell_type": "code",
   "execution_count": null,
   "id": "8e13a154",
   "metadata": {},
   "outputs": [],
   "source": []
  },
  {
   "cell_type": "markdown",
   "id": "0e4f14a3",
   "metadata": {},
   "source": [
    "$$\\displaystyle\\int_{0}^{1}3d(x)=1.3=3\\,u.a$$"
   ]
  },
  {
   "cell_type": "markdown",
   "id": "00c1e006",
   "metadata": {},
   "source": [
    "<img src=\"./img/int0.png\" width=\"450px\"/>"
   ]
  },
  {
   "cell_type": "code",
   "execution_count": null,
   "id": "2cc6d198",
   "metadata": {},
   "outputs": [],
   "source": []
  },
  {
   "cell_type": "markdown",
   "id": "db67a99d",
   "metadata": {},
   "source": [
    "Calcule $\\displaystyle\\int_{0}^{3}2x\\,dx$"
   ]
  },
  {
   "cell_type": "code",
   "execution_count": null,
   "id": "be61e082",
   "metadata": {},
   "outputs": [],
   "source": []
  },
  {
   "cell_type": "markdown",
   "id": "3f20c695",
   "metadata": {},
   "source": [
    "$$\\displaystyle\\int_{0}^{3}2x\\,dx=\\frac{3.6}{2}=9 \\,u.a$$"
   ]
  },
  {
   "cell_type": "markdown",
   "id": "9809779c",
   "metadata": {},
   "source": [
    "<img src=\"./img/int1.png\" width=\"450px\"/>"
   ]
  },
  {
   "cell_type": "code",
   "execution_count": null,
   "id": "0f4bb3fa",
   "metadata": {},
   "outputs": [],
   "source": []
  },
  {
   "cell_type": "markdown",
   "id": "68989506",
   "metadata": {},
   "source": [
    "Calcule $\\displaystyle\\int_{-1}^{1}x^2dx$"
   ]
  },
  {
   "cell_type": "code",
   "execution_count": null,
   "id": "bfd95b77",
   "metadata": {},
   "outputs": [],
   "source": []
  },
  {
   "cell_type": "markdown",
   "id": "ccae7883",
   "metadata": {},
   "source": [
    "$\\displaystyle\\int_{-1}^{1}x^2dx=\\frac{x^{2+1}}{2+1}=\\frac{x^3}{3}=\\frac{(1)^3}{3}-\\frac{(-1)^3}{3}=\\frac{1}{3}-\\frac{(-1)}{3}=\\frac{1}{3}+\\frac{1}{3}=\\frac{2}{3}$"
   ]
  },
  {
   "cell_type": "markdown",
   "id": "a3552a2a",
   "metadata": {},
   "source": [
    "<img src=\"./img/int2.png\" width=\"450px\"/>"
   ]
  },
  {
   "cell_type": "code",
   "execution_count": null,
   "id": "3b56f68a",
   "metadata": {},
   "outputs": [],
   "source": []
  },
  {
   "cell_type": "markdown",
   "id": "b981c948",
   "metadata": {},
   "source": [
    "Calcule $\\displaystyle\\int_{0}^{2}x^3-2x^2+3dx$"
   ]
  },
  {
   "cell_type": "code",
   "execution_count": null,
   "id": "69df74ca",
   "metadata": {},
   "outputs": [],
   "source": []
  },
  {
   "cell_type": "markdown",
   "id": "8017fe4e",
   "metadata": {},
   "source": [
    "$\\displaystyle\\int_{0}^{2}x^3-2x^2+3dx=\\frac{x4}{4}-2\\frac{x^3}{3}+3x=\\frac{(2)^4}{4}-2\\frac{(2)^3}{3}-[0]=4-\\frac{16}{3}+6=10-\\frac{16}{3}=\\frac{30-16}{3}=\\frac{14}{3}\\,u.a$"
   ]
  },
  {
   "cell_type": "code",
   "execution_count": null,
   "id": "f0d80728",
   "metadata": {},
   "outputs": [],
   "source": []
  },
  {
   "cell_type": "markdown",
   "id": "a1c4dbae",
   "metadata": {},
   "source": [
    "Calcule $\\displaystyle\\int_{-1}^{3}x^2+3x-1\\,dx$"
   ]
  },
  {
   "cell_type": "code",
   "execution_count": null,
   "id": "c844ae02",
   "metadata": {},
   "outputs": [],
   "source": []
  },
  {
   "cell_type": "markdown",
   "id": "f57fe050",
   "metadata": {},
   "source": [
    "$\\displaystyle\\int_{-1}^{3}x^2+3x-1\\,dx=\\frac{x^3}{3}+3\\frac{x^2}{2}-x$"
   ]
  },
  {
   "cell_type": "markdown",
   "id": "5908d39f",
   "metadata": {},
   "source": [
    "$=\\displaystyle\\frac{(3)^3}{3}+3\\frac{(3)^2}{2}-(3)-\\left[\\frac{(-1)^3}{3}+3\\frac{(-1)^2}{2}-(-1)\\right]$"
   ]
  },
  {
   "cell_type": "markdown",
   "id": "9e310ba0",
   "metadata": {},
   "source": [
    "$=\\displaystyle\\frac{27}{3}+\\frac{27}{2}-3+\\frac{1}{3}-\\frac{3}{2}-1=\\frac{28}{3}+\\frac{24}{2}-4=\\frac{56+72-24}{6}=\\frac{104}{6}=\\frac{52}{3}$"
   ]
  },
  {
   "cell_type": "markdown",
   "id": "48756921",
   "metadata": {},
   "source": [
    "<img src=\"./img/int3.png\" width=\"450px\"/>"
   ]
  },
  {
   "cell_type": "code",
   "execution_count": null,
   "id": "ba690935",
   "metadata": {},
   "outputs": [],
   "source": []
  },
  {
   "cell_type": "markdown",
   "id": "4b849dbe",
   "metadata": {},
   "source": [
    "## Integrais Indefinidas"
   ]
  },
  {
   "cell_type": "markdown",
   "id": "03051c41",
   "metadata": {},
   "source": [
    "Calcule $\\displaystyle\\int_{}^{}xdx$"
   ]
  },
  {
   "cell_type": "code",
   "execution_count": null,
   "id": "cb26a1d6",
   "metadata": {},
   "outputs": [],
   "source": []
  },
  {
   "cell_type": "markdown",
   "id": "833f7485",
   "metadata": {},
   "source": [
    "Calcule $\\displaystyle\\int_{}^{}xdx=\\frac{x^{1+1}}{1+1}+C=\\frac{x^2}{2}+C$"
   ]
  },
  {
   "cell_type": "code",
   "execution_count": null,
   "id": "9cc51ed1",
   "metadata": {},
   "outputs": [],
   "source": []
  },
  {
   "cell_type": "markdown",
   "id": "00affb9b",
   "metadata": {},
   "source": [
    "Calcule $\\displaystyle \\int_{}^{} \\sin{x} dx$"
   ]
  },
  {
   "cell_type": "markdown",
   "id": "d1ae70c3",
   "metadata": {},
   "source": [
    "$\\displaystyle \\int_{}^{} \\sin{x} dx=-\\cos{x}+C$"
   ]
  },
  {
   "cell_type": "code",
   "execution_count": null,
   "id": "f53c18db",
   "metadata": {},
   "outputs": [],
   "source": []
  }
 ],
 "metadata": {
  "kernelspec": {
   "display_name": "Python 3 (ipykernel)",
   "language": "python",
   "name": "python3"
  },
  "language_info": {
   "codemirror_mode": {
    "name": "ipython",
    "version": 3
   },
   "file_extension": ".py",
   "mimetype": "text/x-python",
   "name": "python",
   "nbconvert_exporter": "python",
   "pygments_lexer": "ipython3",
   "version": "3.9.12"
  }
 },
 "nbformat": 4,
 "nbformat_minor": 5
}
