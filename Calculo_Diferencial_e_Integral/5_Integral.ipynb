{
 "cells": [
  {
   "cell_type": "markdown",
   "id": "21320852",
   "metadata": {},
   "source": [
    "# Integral"
   ]
  },
  {
   "cell_type": "code",
   "execution_count": null,
   "id": "7575c274",
   "metadata": {},
   "outputs": [],
   "source": []
  },
  {
   "cell_type": "code",
   "execution_count": null,
   "id": "d8b674f2",
   "metadata": {},
   "outputs": [],
   "source": []
  },
  {
   "cell_type": "code",
   "execution_count": null,
   "id": "96df617e",
   "metadata": {},
   "outputs": [],
   "source": []
  },
  {
   "cell_type": "markdown",
   "id": "843cd235",
   "metadata": {},
   "source": [
    "## Exemplos"
   ]
  },
  {
   "cell_type": "markdown",
   "id": "69c540f6",
   "metadata": {},
   "source": [
    "Calcular $\\displaystyle\\int_{0}^{1}3d(x)$"
   ]
  },
  {
   "cell_type": "code",
   "execution_count": null,
   "id": "8e13a154",
   "metadata": {},
   "outputs": [],
   "source": []
  },
  {
   "cell_type": "markdown",
   "id": "0e4f14a3",
   "metadata": {},
   "source": [
    "$$\\displaystyle\\int_{0}^{1}3d(x)=1.3=3\\,u.a$$"
   ]
  },
  {
   "cell_type": "markdown",
   "id": "00c1e006",
   "metadata": {},
   "source": [
    "<img src=\"./img/int0.png\" width=\"450px\"/>"
   ]
  },
  {
   "cell_type": "code",
   "execution_count": null,
   "id": "2cc6d198",
   "metadata": {},
   "outputs": [],
   "source": []
  },
  {
   "cell_type": "markdown",
   "id": "db67a99d",
   "metadata": {},
   "source": [
    "Calcule $\\displaystyle\\int_{0}^{3}2x\\,dx$"
   ]
  },
  {
   "cell_type": "code",
   "execution_count": null,
   "id": "be61e082",
   "metadata": {},
   "outputs": [],
   "source": []
  },
  {
   "cell_type": "markdown",
   "id": "3f20c695",
   "metadata": {},
   "source": [
    "$$\\displaystyle\\int_{0}^{3}2x\\,dx=\\frac{3.6}{2}=9 \\,u.a$$"
   ]
  },
  {
   "cell_type": "markdown",
   "id": "9809779c",
   "metadata": {},
   "source": [
    "<img src=\"./img/int1.png\" width=\"450px\"/>"
   ]
  },
  {
   "cell_type": "code",
   "execution_count": null,
   "id": "0f4bb3fa",
   "metadata": {},
   "outputs": [],
   "source": []
  },
  {
   "cell_type": "markdown",
   "id": "68989506",
   "metadata": {},
   "source": [
    "Calcule $\\displaystyle\\int_{-1}^{1}x^2dx$"
   ]
  },
  {
   "cell_type": "code",
   "execution_count": null,
   "id": "bfd95b77",
   "metadata": {},
   "outputs": [],
   "source": []
  },
  {
   "cell_type": "markdown",
   "id": "ccae7883",
   "metadata": {},
   "source": [
    "$\\displaystyle\\int_{-1}^{1}x^2dx=\\frac{x^{2+1}}{2+1}=\\frac{x^3}{3}=\\frac{(1)^3}{3}-\\frac{(-1)^3}{3}=\\frac{1}{3}-\\frac{(-1)}{3}=\\frac{1}{3}+\\frac{1}{3}=\\frac{2}{3}$"
   ]
  },
  {
   "cell_type": "markdown",
   "id": "a3552a2a",
   "metadata": {},
   "source": [
    "<img src=\"./img/int2.png\" width=\"450px\"/>"
   ]
  },
  {
   "cell_type": "code",
   "execution_count": null,
   "id": "3b56f68a",
   "metadata": {},
   "outputs": [],
   "source": []
  },
  {
   "cell_type": "markdown",
   "id": "b981c948",
   "metadata": {},
   "source": [
    "Calcule $\\displaystyle\\int_{0}^{2}x^3-2x^2+3dx$"
   ]
  },
  {
   "cell_type": "code",
   "execution_count": null,
   "id": "69df74ca",
   "metadata": {},
   "outputs": [],
   "source": []
  },
  {
   "cell_type": "markdown",
   "id": "8017fe4e",
   "metadata": {},
   "source": [
    "$\\displaystyle\\int_{0}^{2}x^3-2x^2+3dx=\\frac{x4}{4}-2\\frac{x^3}{3}+3x=\\frac{(2)^4}{4}-2\\frac{(2)^3}{3}-[0]=4-\\frac{16}{3}+6=10-\\frac{16}{3}=\\frac{30-16}{3}=\\frac{14}{3}\\,u.a$"
   ]
  },
  {
   "cell_type": "code",
   "execution_count": null,
   "id": "f0d80728",
   "metadata": {},
   "outputs": [],
   "source": []
  },
  {
   "cell_type": "markdown",
   "id": "a1c4dbae",
   "metadata": {},
   "source": [
    "Calcule $\\displaystyle\\int_{-1}^{3}x^2+3x-1\\,dx$"
   ]
  },
  {
   "cell_type": "code",
   "execution_count": null,
   "id": "c844ae02",
   "metadata": {},
   "outputs": [],
   "source": []
  },
  {
   "cell_type": "markdown",
   "id": "f57fe050",
   "metadata": {},
   "source": [
    "$\\displaystyle\\int_{-1}^{3}x^2+3x-1\\,dx=\\frac{x^3}{3}+3\\frac{x^2}{2}-x$"
   ]
  },
  {
   "cell_type": "markdown",
   "id": "5908d39f",
   "metadata": {},
   "source": [
    "$=\\displaystyle\\frac{(3)^3}{3}+3\\frac{(3)^2}{2}-(3)-\\left[\\frac{(-1)^3}{3}+3\\frac{(-1)^2}{2}-(-1)\\right]$"
   ]
  },
  {
   "cell_type": "markdown",
   "id": "9e310ba0",
   "metadata": {},
   "source": [
    "$=\\displaystyle\\frac{27}{3}+\\frac{27}{2}-3+\\frac{1}{3}-\\frac{3}{2}-1=\\frac{28}{3}+\\frac{24}{2}-4=\\frac{56+72-24}{6}=\\frac{104}{6}=\\frac{52}{3}$"
   ]
  },
  {
   "cell_type": "markdown",
   "id": "48756921",
   "metadata": {},
   "source": [
    "<img src=\"./img/int3.png\" width=\"450px\"/>"
   ]
  },
  {
   "cell_type": "code",
   "execution_count": null,
   "id": "ba690935",
   "metadata": {},
   "outputs": [],
   "source": []
  },
  {
   "cell_type": "markdown",
   "id": "4b849dbe",
   "metadata": {},
   "source": [
    "## Integrais Indefinidas"
   ]
  },
  {
   "cell_type": "markdown",
   "id": "03051c41",
   "metadata": {},
   "source": [
    "Calcule $\\displaystyle\\int_{}^{}xdx$"
   ]
  },
  {
   "cell_type": "code",
   "execution_count": null,
   "id": "cb26a1d6",
   "metadata": {},
   "outputs": [],
   "source": []
  },
  {
   "cell_type": "markdown",
   "id": "833f7485",
   "metadata": {},
   "source": [
    "Calcule $\\displaystyle\\int_{}^{}xdx=\\frac{x^{1+1}}{1+1}+C=\\frac{x^2}{2}+C$"
   ]
  },
  {
   "cell_type": "code",
   "execution_count": null,
   "id": "9cc51ed1",
   "metadata": {},
   "outputs": [],
   "source": []
  },
  {
   "cell_type": "markdown",
   "id": "00affb9b",
   "metadata": {},
   "source": [
    "Calcule $\\displaystyle \\int_{}^{} \\sin{x} dx$"
   ]
  },
  {
   "cell_type": "markdown",
   "id": "d1ae70c3",
   "metadata": {},
   "source": [
    "$\\displaystyle \\int_{}^{} \\sin{x} dx=-\\cos{x}+C$"
   ]
  },
  {
   "cell_type": "code",
   "execution_count": null,
   "id": "f53c18db",
   "metadata": {},
   "outputs": [],
   "source": []
  },
  {
   "cell_type": "markdown",
   "id": "40bd0717-a57e-4e55-a067-55ffff5bddc2",
   "metadata": {},
   "source": [
    "## Integral por Substituição Quando Não se Conhece os Limites\n",
    "\n",
    "Seja a funçõ composta F(x)=f(g(x)), a sua derivada é obtida por meio da regra da cadeia:\n",
    "\n",
    "$$F'(x)=f'(g(x)).g'(x)$$\n",
    "\n",
    "e a integral de $f'(g(x)).g'(x)$ é:\n",
    "\n",
    "$$\\displaystyle \\int_{}^{} f'(g(x)).g'(x)dx=f(g(x))+C$$\n",
    "\n",
    "Fazendo a mudança da variável $u=g(x)$, então:\n",
    "\n",
    "$$\\displaystyle \\int_{}^{} f'(g(x)).g'(x)dx = f(g(x))+C=f(u)+C=\\int_{}^{} f(u)du $$"
   ]
  },
  {
   "cell_type": "code",
   "execution_count": null,
   "id": "523dcd53-2918-4605-bdd1-5ac6b773a7d9",
   "metadata": {},
   "outputs": [],
   "source": []
  },
  {
   "cell_type": "markdown",
   "id": "b297dc9a-cb25-4329-95bb-8eafa02af8ee",
   "metadata": {},
   "source": [
    "Exemplos:"
   ]
  },
  {
   "cell_type": "markdown",
   "id": "58ef0d03-4b60-4c0d-9453-873715020d98",
   "metadata": {},
   "source": [
    "Calcular $\\displaystyle \\int_{}^{} {2xe^x} ^{2} dx$"
   ]
  },
  {
   "cell_type": "markdown",
   "id": "5375653d-49ff-4135-a1b1-7ceefab67fc8",
   "metadata": {},
   "source": [
    "$u=x^2$, $\\quad du=\\frac{d(x^2)}{dx}=2xdx$"
   ]
  },
  {
   "cell_type": "markdown",
   "id": "9202b32e-ecbe-40ca-9a04-cb08abc21d70",
   "metadata": {},
   "source": [
    "$\\displaystyle \\int_{}^{} {e^x}^{2}.2xdx$"
   ]
  },
  {
   "cell_type": "markdown",
   "id": "d5175808-3d07-4378-a0cb-bf86b1d5a935",
   "metadata": {},
   "source": [
    "$\\displaystyle \\int{}^{} e^u.du$"
   ]
  },
  {
   "cell_type": "markdown",
   "id": "9095a4ef-d2cb-460a-965f-868a64cf64aa",
   "metadata": {},
   "source": [
    "$e^u+C$"
   ]
  },
  {
   "cell_type": "markdown",
   "id": "0a05bf02-8681-4a81-bfd4-8d3324c7e8e0",
   "metadata": {},
   "source": [
    "${e^x}^2+C$"
   ]
  },
  {
   "cell_type": "code",
   "execution_count": null,
   "id": "d09be46d-5d52-4c46-9656-f9541a2fcfff",
   "metadata": {},
   "outputs": [],
   "source": []
  },
  {
   "cell_type": "markdown",
   "id": "06fac327-1e97-4b4b-a555-8ba02fee1b27",
   "metadata": {},
   "source": [
    "Calcule $\\displaystyle \\int_{}^{} x^3 \\cos{(x^4+2)}dx$"
   ]
  },
  {
   "cell_type": "code",
   "execution_count": null,
   "id": "ee6db038-69e7-47c9-8965-25f1ab6c6f73",
   "metadata": {},
   "outputs": [],
   "source": []
  },
  {
   "cell_type": "markdown",
   "id": "21ec1502-b7af-4dd0-a9ee-c948c212c000",
   "metadata": {},
   "source": [
    "$u=x^4+2$\n",
    "\n",
    "$\\frac{du}{dx}=\\frac{d(x^4+2)}{dx}$\n",
    "\n",
    "$\\frac{du}{dx}=4x^3$\n",
    "\n",
    "$du=4x^3dx$\n",
    "\n",
    "$\\frac{du}{4}=x^3dx$"
   ]
  },
  {
   "cell_type": "markdown",
   "id": "c4830c7e-bb9f-461a-962f-3bbbe28bc02c",
   "metadata": {},
   "source": [
    "$\\displaystyle \\int_{}^{} \\cos{(x^4+2)}.x^3dx$"
   ]
  },
  {
   "cell_type": "markdown",
   "id": "60c23ed3-8d8e-45f6-9f1c-e8a6f5d47613",
   "metadata": {},
   "source": [
    "$\\displaystyle \\int_{}^{} \\cos{(u)}.\\frac{du}{4}$"
   ]
  },
  {
   "cell_type": "markdown",
   "id": "3b6e9348-62ec-40c9-9823-4cbf9bbcd96c",
   "metadata": {},
   "source": [
    "$\\displaystyle \\frac{1}{4} \\int_{}^{} \\cos{(u)}.du$"
   ]
  },
  {
   "cell_type": "markdown",
   "id": "8067ddee-018b-4551-b4cb-3c12fd326d7c",
   "metadata": {},
   "source": [
    "$\\frac{1}{4}.\\sin{u}+C$"
   ]
  },
  {
   "cell_type": "markdown",
   "id": "bde6799d-377d-449a-b3e7-1be0d321a1de",
   "metadata": {},
   "source": [
    "$\\boxed{\\frac{1}{4}.\\sin{(x^4+2)}+C}$"
   ]
  },
  {
   "cell_type": "code",
   "execution_count": null,
   "id": "4dbcb017-1735-4fff-9a0f-7adaa7b746ff",
   "metadata": {},
   "outputs": [],
   "source": []
  },
  {
   "cell_type": "markdown",
   "id": "e9f85b78-974e-47bc-87fa-815665d437a1",
   "metadata": {},
   "source": [
    "## Integral por Substituição Quando se Conhece os Limites"
   ]
  },
  {
   "cell_type": "markdown",
   "id": "55bb7bc6-500c-43d0-87cf-bded993c9095",
   "metadata": {},
   "source": [
    "Exemplo: calcular $\\displaystyle \\int_{1}^{2} 2x(x^2+1)^3dx$"
   ]
  },
  {
   "cell_type": "markdown",
   "id": "e778d99c-7331-4013-9d05-a5e52dc353c1",
   "metadata": {},
   "source": [
    "## Método 1\n",
    "Fazer a mudança de variável e calcular os novos limites de integração"
   ]
  },
  {
   "cell_type": "code",
   "execution_count": null,
   "id": "ae544d26-2249-40db-8e9e-cdb97ece5def",
   "metadata": {},
   "outputs": [],
   "source": []
  },
  {
   "cell_type": "markdown",
   "id": "631c4338-3d3b-43a8-bc8e-702c149a6f75",
   "metadata": {},
   "source": [
    "$u=x^2+1$"
   ]
  },
  {
   "cell_type": "markdown",
   "id": "b2e2aca1-962d-4289-b713-7c3f95f08e9c",
   "metadata": {},
   "source": [
    "$\\frac{du}{dx}=2x \\rightarrow du = 2xdx$"
   ]
  },
  {
   "cell_type": "markdown",
   "id": "f82b9d75-a8fd-40a0-a629-b23395e67823",
   "metadata": {},
   "source": [
    "$u_{1}=(1)^2+1=2$"
   ]
  },
  {
   "cell_type": "markdown",
   "id": "ab86ee59-a917-451e-a0d7-d49764119ef3",
   "metadata": {},
   "source": [
    "$u_{2}=(2)^2+1=5$"
   ]
  },
  {
   "cell_type": "code",
   "execution_count": null,
   "id": "24004b5b-6fd6-4369-87ff-ea606f3af7f7",
   "metadata": {},
   "outputs": [],
   "source": []
  },
  {
   "cell_type": "markdown",
   "id": "a3647b7b-60be-4676-91ba-157f5f1ca429",
   "metadata": {},
   "source": [
    "$\\displaystyle \\int_{2}^{5} u^3.du$"
   ]
  },
  {
   "cell_type": "markdown",
   "id": "045a70a4-be4b-414d-af3c-5b85d021fdd4",
   "metadata": {},
   "source": [
    "$\\displaystyle \\frac{u^4}{4} \\bigg|_{5}^{2}$"
   ]
  },
  {
   "cell_type": "markdown",
   "id": "b37015d4-2aa7-45d8-b116-357b4241282e",
   "metadata": {},
   "source": [
    "$\\displaystyle \\frac{(5)^4}{4} - \\frac{(2)^4}{4}$"
   ]
  },
  {
   "cell_type": "markdown",
   "id": "19014ce9-7ea1-4af3-b422-b99b1f36dd06",
   "metadata": {},
   "source": [
    "$\\displaystyle \\frac{625}{4} - \\frac{16}{4}$"
   ]
  },
  {
   "cell_type": "markdown",
   "id": "18b08948-5c71-46c8-bd17-ec0372275524",
   "metadata": {},
   "source": [
    "$\\boxed{\\frac{609}{4}}$"
   ]
  },
  {
   "cell_type": "code",
   "execution_count": null,
   "id": "888d9d53-2959-4e2f-b219-df35637dedb3",
   "metadata": {},
   "outputs": [],
   "source": []
  },
  {
   "cell_type": "markdown",
   "id": "4969b30a-491c-461f-9a81-b652c87f3418",
   "metadata": {},
   "source": [
    "## Método 2\n",
    "\n",
    "Fazer a mudança de variável para a integral indefinida e depois substituir os limites de integração."
   ]
  },
  {
   "cell_type": "markdown",
   "id": "f91f75c3-720a-4f60-93a8-a6e1f9b16546",
   "metadata": {},
   "source": [
    "$\\displaystyle \\int_{2}^{5} u^3.du$"
   ]
  },
  {
   "cell_type": "markdown",
   "id": "899acf18-e67a-4b78-82dc-c85ca1f310a6",
   "metadata": {},
   "source": [
    "$\\displaystyle \\frac{u^4}{4} + C$"
   ]
  },
  {
   "cell_type": "markdown",
   "id": "c3a179be-68cc-44c4-9b61-a7632a02cc28",
   "metadata": {},
   "source": [
    "$\\displaystyle \\frac{(x^2+1)^4}{4} \\bigg|_{1}^{2} = \\frac{(2^2+1)^4}{4} - \\frac{(1^2+1^4)}{4} = \\frac{(5)^4}{4} - \\frac{(2)^4}{4} = \\frac{625}{4} - \\frac{16}{4} = \\frac{609}{4}$"
   ]
  },
  {
   "cell_type": "code",
   "execution_count": null,
   "id": "66596b4b-a9bd-4f53-b6de-731e98ef9a76",
   "metadata": {},
   "outputs": [],
   "source": []
  },
  {
   "cell_type": "markdown",
   "id": "8e1b1c71-bc85-489b-ae77-842c4db92848",
   "metadata": {},
   "source": [
    "## Integração por Partes\n",
    "\n",
    "Seja o produto entre duas funções $f(x).g(x)$, então:\n",
    "$$\\frac{d}{dx}[f(x).g(x)] = f'(x).g(x)+f(x).g'(x)$$\n",
    "Integrando ambos os lados:\n",
    "$$\\displaystyle \\int_{}^{}\\frac{d}{dx}[f(x).g(x)]dx = \\int_{}^{}f'(x).g(x)dx+\\int_{}^{}f(x).g'(x)dx$$\n",
    "Rearranjando os termos:\n",
    "$$\\int_{}^{}f'(x).g(x)dx = f(x).g(x) - \\int_{}^{}f(x).g'(x)dx$$\n",
    "\n",
    "ou $$\\displaystyle \\int_{}^{} u\\,dv = u\\,v  - \\int_{}^{}v\\,du$$"
   ]
  },
  {
   "cell_type": "code",
   "execution_count": null,
   "id": "5226d42e-01b0-43e6-a692-d34de0e6ce7e",
   "metadata": {},
   "outputs": [],
   "source": []
  },
  {
   "cell_type": "markdown",
   "id": "781b56bf-a010-4029-ba2b-24ec2aaec3ab",
   "metadata": {},
   "source": [
    "Exemplos:\n",
    "\n",
    "Calcular $\\displaystyle \\int_{}^{}x.\\cos{x}\\,dx$"
   ]
  },
  {
   "cell_type": "markdown",
   "id": "8aaeebad-d878-4f1a-a037-10ae2e1d6531",
   "metadata": {},
   "source": [
    "$u=x$"
   ]
  },
  {
   "cell_type": "markdown",
   "id": "b3c492e7-06b5-49bd-969b-13adcd2ca015",
   "metadata": {},
   "source": [
    "$du=dx$"
   ]
  },
  {
   "cell_type": "markdown",
   "id": "edf03ce8-6b85-4abc-bf12-d25b1fd69ff1",
   "metadata": {},
   "source": [
    "$dv=\\cos{x}dx$"
   ]
  },
  {
   "cell_type": "markdown",
   "id": "36e6db26-2b3a-449f-adab-460cd7633055",
   "metadata": {},
   "source": [
    "$\\displaystyle \\int_{}^{}dv = \\displaystyle \\int_{}^{}\\cos{x}\\,dx \\rightarrow v=\\sin{x}$"
   ]
  },
  {
   "cell_type": "markdown",
   "id": "05afe4c0-5f6b-4406-8f59-fefaa0b33f83",
   "metadata": {},
   "source": [
    "$\\displaystyle \\int_{}^{}x\\,\\cos{x}\\,dx = x.\\sin{x} - \\displaystyle \\int_{}^{}\\sin{x}\\,dx$"
   ]
  },
  {
   "cell_type": "markdown",
   "id": "7447e4c4-931b-45af-b1f6-6f006812f733",
   "metadata": {},
   "source": [
    "$\\displaystyle \\int_{}^{}x\\,\\cos{x}\\,dx = x\\,\\sin{x} - (-\\cos{x}) + C$"
   ]
  },
  {
   "cell_type": "markdown",
   "id": "82241d16-07c6-49d4-ac74-fef7cb782666",
   "metadata": {},
   "source": [
    "$\\displaystyle \\int_{}^{}x\\,\\cos{x}\\,dx = x\\,\\sin{x} + \\cos{x} + C$"
   ]
  },
  {
   "cell_type": "code",
   "execution_count": null,
   "id": "9b3d14da-7fb3-4974-8cc1-bc0233e03cf4",
   "metadata": {},
   "outputs": [],
   "source": []
  },
  {
   "cell_type": "markdown",
   "id": "d125eb37-38b8-4815-800d-e117af6a2a0d",
   "metadata": {},
   "source": [
    "Calcular $\\displaystyle \\int_{}^{}x\\,e^xdx$"
   ]
  },
  {
   "cell_type": "markdown",
   "id": "e0c66363-824e-4700-a36a-1ec56a990bab",
   "metadata": {},
   "source": [
    "$u=x$"
   ]
  },
  {
   "cell_type": "markdown",
   "id": "abbd0516-fc03-4de5-b997-b4f3ed7d9f66",
   "metadata": {},
   "source": [
    "$du=dx$"
   ]
  },
  {
   "cell_type": "markdown",
   "id": "4a64922c-0848-4b7d-a85a-5e2e8828abcd",
   "metadata": {},
   "source": [
    "$dv=e^xdx$"
   ]
  },
  {
   "cell_type": "markdown",
   "id": "23d4163e-1f43-4a11-aed9-f76c03e5e0a0",
   "metadata": {},
   "source": [
    "$\\displaystyle \\int_{}^{}dv = \\displaystyle \\int_{}^{}e^xdx \\rightarrow v=e^x$"
   ]
  },
  {
   "cell_type": "markdown",
   "id": "c4b971b6-05cc-4079-9c11-2e42fca23ff8",
   "metadata": {},
   "source": [
    "$\\displaystyle \\int_{}^{}x\\,e^xdx = x.e^x - \\displaystyle \\int_{}^{}e^xdx$"
   ]
  },
  {
   "cell_type": "markdown",
   "id": "13c5d574-66dc-4cd2-bea5-4d4660db3ac1",
   "metadata": {},
   "source": [
    "$\\displaystyle \\int_{}^{}x\\,e^xdx = x\\,e^x - e^x+C$"
   ]
  },
  {
   "cell_type": "code",
   "execution_count": null,
   "id": "5c233ee9-3d00-454f-be5f-4349f3a5e611",
   "metadata": {},
   "outputs": [],
   "source": []
  },
  {
   "cell_type": "markdown",
   "id": "f4ddb09f-f3de-4819-a1b4-3f7bb742aba9",
   "metadata": {},
   "source": [
    "Calcular $\\displaystyle \\int_{0}^{5}x\\,e^{-x}dx$"
   ]
  },
  {
   "cell_type": "markdown",
   "id": "1ae47213-be59-44c0-8169-f2fa6c2260b4",
   "metadata": {},
   "source": [
    "$u=x$"
   ]
  },
  {
   "cell_type": "markdown",
   "id": "60e72a81-a95c-49f7-aeed-b4320384c28d",
   "metadata": {},
   "source": [
    "$du=dx$"
   ]
  },
  {
   "cell_type": "markdown",
   "id": "bd43fef7-9407-4920-a277-af0e40a88fab",
   "metadata": {},
   "source": [
    "$dv=e^{-x}dx$"
   ]
  },
  {
   "cell_type": "markdown",
   "id": "4ae05113-8f37-430b-88b9-9e3f7ff3c2fe",
   "metadata": {},
   "source": [
    "$\\displaystyle \\int_{}^{}dv = \\displaystyle \\int_{}^{}e^{-x}dx \\rightarrow v=-e^{-x}$"
   ]
  },
  {
   "cell_type": "markdown",
   "id": "c8cdf4b3-a1bb-42a9-bbd5-f35a072b3f3b",
   "metadata": {},
   "source": [
    "$\\displaystyle \\int_{}^{}x\\,e^{-x}dx = x.(-e^{-x})\\bigg|_{0}^{5} - \\int_{0}^{5}-e^{-x}dx$"
   ]
  },
  {
   "cell_type": "markdown",
   "id": "7402e07b-dacd-4910-8b7d-8e460478477a",
   "metadata": {},
   "source": [
    "$\\displaystyle \\int_{}^{}x\\,e^{-x}dx = -x\\,e^{-x} \\bigg|_{0}^{5} + (-e^{-x})\\bigg|_{0}^{5}$"
   ]
  },
  {
   "cell_type": "markdown",
   "id": "b79673a2-f0b9-4185-8265-4f56a7cb0a66",
   "metadata": {},
   "source": [
    "$\\displaystyle \\int_{}^{}x\\,e^{-x}dx = -5e^{-5} + 0 - e^{-5} - (-e^0)$"
   ]
  },
  {
   "cell_type": "markdown",
   "id": "4c01b267-7df0-4a18-b0b2-b696dad0f076",
   "metadata": {},
   "source": [
    "$\\displaystyle \\int_{}^{}x\\,e^{-x}dx = -5e^{-5} - e^{-5} + 1$"
   ]
  },
  {
   "cell_type": "markdown",
   "id": "23e1e3ac-283a-483d-b485-12b387e0d03b",
   "metadata": {},
   "source": [
    "$\\displaystyle \\int_{}^{}x\\,e^{-x}dx = -6e^{-5}+1$"
   ]
  },
  {
   "cell_type": "code",
   "execution_count": null,
   "id": "1bf7af12-1249-492e-bd14-b23f1ca2cef9",
   "metadata": {},
   "outputs": [],
   "source": []
  }
 ],
 "metadata": {
  "kernelspec": {
   "display_name": "Python 3 (ipykernel)",
   "language": "python",
   "name": "python3"
  },
  "language_info": {
   "codemirror_mode": {
    "name": "ipython",
    "version": 3
   },
   "file_extension": ".py",
   "mimetype": "text/x-python",
   "name": "python",
   "nbconvert_exporter": "python",
   "pygments_lexer": "ipython3",
   "version": "3.12.0"
  }
 },
 "nbformat": 4,
 "nbformat_minor": 5
}
