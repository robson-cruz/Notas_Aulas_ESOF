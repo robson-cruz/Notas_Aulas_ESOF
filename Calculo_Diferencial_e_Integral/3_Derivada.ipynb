{
 "cells": [
  {
   "cell_type": "markdown",
   "id": "2d1d9ac7-24d9-4990-8b70-79e758e2aa0a",
   "metadata": {},
   "source": [
    "# Derivada\n",
    "## O Problema da Tangente\n",
    "Em uma circunferência, uma determinada reta no plano é tangente a essa circunferência se a reta toca a circunferência em apenas um ponto.\n",
    "\n",
    "<img src=\"./img/reta-tangente.PNG\" />"
   ]
  },
  {
   "cell_type": "markdown",
   "id": "23376dec-bda6-4585-b1ec-adcdaf292145",
   "metadata": {},
   "source": [
    "## Reta Tangente\n",
    "**Definição**: A reta tangente à curva $y=f(x)$ em um ponto $P(a,f(a))$ é a reta passando por $P$ com inclinação\n",
    "$$ m = \\displaystyle\\lim_{x \\to a} \\frac{f(x)-f(a)}{x-a}$$ Desde que esse limite exista."
   ]
  },
  {
   "cell_type": "markdown",
   "id": "43200267-1289-4ce0-9b83-3aa12c0d2087",
   "metadata": {},
   "source": [
    "Logo: $y=mx+b$, equivalente a $y=ax+b$"
   ]
  },
  {
   "cell_type": "markdown",
   "id": "483e3106-40c6-4f0f-b03a-89c7dd5b3477",
   "metadata": {},
   "source": [
    "**Exemplo:** Encontrar a equação da reta tangente à parábola $y=x^2$ no ponto $P(1,1)$"
   ]
  },
  {
   "cell_type": "code",
   "execution_count": null,
   "id": "83f11cd7-dfa4-485d-90a9-34ec9aec8f01",
   "metadata": {},
   "outputs": [],
   "source": []
  },
  {
   "cell_type": "markdown",
   "id": "d737d7f4-f39f-4de7-b2dc-fda7dc16159b",
   "metadata": {},
   "source": [
    "<p style=\"color:red;\">Solução</p>"
   ]
  },
  {
   "cell_type": "markdown",
   "id": "99ea3220-25c2-40fd-99d6-493a0a15e19e",
   "metadata": {},
   "source": [
    "Se $y=x^2$, tem-se uma função quadrática com concavidade para baixo e com coeficientes $b,c=0$ e $a=1$. Veja a representação gráfica da função.\n",
    "\n",
    "<img src=\"./img/funcao-quadratica.PNG\" />"
   ]
  },
  {
   "cell_type": "markdown",
   "id": "8aaaa9d5-dbd9-4671-98d1-3fa102f880c3",
   "metadata": {},
   "source": [
    "Para encontrar a equação da reta tangente, temos que utilizar a definição do limite para calcular o coeficiente angular da reta."
   ]
  },
  {
   "cell_type": "markdown",
   "id": "3dcdd02b-6503-4aca-837f-2b47eb6c9192",
   "metadata": {},
   "source": [
    "\\begin{align}\n",
    "m=\\displaystyle\\lim_{x \\to a} \\frac{f(x) - f(a)} {x-a}\\\\\n",
    "\\\\\n",
    "m=\\displaystyle\\lim_{x \\to 1} \\frac{x^2 - f(1)} {x-1}\\\\\n",
    "\\\\\n",
    "m=\\displaystyle\\lim_{x \\to 1} \\frac{x^2 - 1} {x-1}\\\\\n",
    "\\\\\n",
    "m=\\displaystyle\\lim_{x \\to 1} \\frac{(x - 1).(x+1)} {x-1}\\\\\n",
    "\\\\\n",
    "m=\\displaystyle\\lim_{x \\to 1} (x + 1)\\\\\n",
    "\\\\\n",
    "m=\\displaystyle\\lim_{x \\to 1} x + \\displaystyle\\lim_{x \\to 1} 1\\\\\n",
    "\\\\\n",
    "m=1+1\\\\\n",
    "\\\\\n",
    "m=2\n",
    "\\end{align}"
   ]
  },
  {
   "cell_type": "markdown",
   "id": "833c7e7f-e6fc-46c0-a72e-fb90829ce84b",
   "metadata": {},
   "source": [
    "Conhecendo o coeficiente angular ($m$), podemos calcular a equação da reta tangente através da equação $y-y_{0}=m(x-x_{0})$"
   ]
  },
  {
   "cell_type": "markdown",
   "id": "30785cb3-e6b8-46ea-84f3-9020e71cc7c7",
   "metadata": {},
   "source": [
    "\\begin{align}\n",
    "y-y_{0}=m(x-x_{0})\\\\\n",
    "\\\\\n",
    "y-1=2(x-1)\\\\\n",
    "\\\\\n",
    "y-1=2x-2\\\\\n",
    "\\\\\n",
    "y=2x-2+1\\\\\n",
    "\\\\\n",
    "\\color{red}\\boxed{y=2x-1}\n",
    "\\end{align}"
   ]
  },
  {
   "cell_type": "markdown",
   "id": "4713455c-3e66-4856-9562-78d2f8ed106a",
   "metadata": {},
   "source": [
    "Limites do tipo $$\\displaystyle\\lim_{h \\to 0} \\frac{f(a+h)-f(a)}{h}$$ sempre surgem quando calcula-se um ataxa de variação, por exemplo: taxa de reação química, custo marginal em econômia, taxa de variação da umidade do solo em relação ao tempo, visando ajustar sistemas de irrigação..."
   ]
  },
  {
   "cell_type": "markdown",
   "id": "d51ad9a5-a84b-4490-b8b0-4226de9a5325",
   "metadata": {},
   "source": [
    "## Definição de Derivada de uma Função\n",
    "A derivada de uma função $f$ em um número $a$, denotado por $f'(a)$, é $$f'(a)=\\displaystyle\\lim_{h \\to 0} \\frac{f(a+h) - f(a)}{h}$$ se o limite existir."
   ]
  },
  {
   "cell_type": "markdown",
   "id": "bd93968f-aa50-474d-8e1f-3addb68a2ff9",
   "metadata": {},
   "source": [
    "### Outras Notações de Derivada de uma Função\n",
    "Se usarmos a notação tradicional $y=f(x)$ pr indicar que a variável indenpendente é $x$ e a variável dependente é $y$, então algumas notações alternativas para as derivadas são: $$f'(x)=y'=\\frac{dy}{dx}=\\frac{df}{dx}=\\frac{d}{dx}f(x)=Df(x)=D_{x}f(x)$$"
   ]
  },
  {
   "cell_type": "markdown",
   "id": "c9bc8399-12d2-4fa1-ac3d-cf027b5591bc",
   "metadata": {},
   "source": [
    "### Regras de Derivação\n",
    "1. $\\quad$ $\\frac{d}{dx}(c)=0$\n",
    "   \n",
    "Exemplo: A derivada da constante 5 em relação a derivada de $x$: \n",
    "\n",
    "$\\frac{d}{dx}(5)=0$"
   ]
  },
  {
   "cell_type": "markdown",
   "id": "ea6ff3bd-f23c-456d-93db-695aadaed560",
   "metadata": {},
   "source": [
    "2. $\\quad$ $\\frac{d}{dx}(x)=1$"
   ]
  },
  {
   "cell_type": "markdown",
   "id": "f3591680-7bd2-4523-ad3c-0afdde54c861",
   "metadata": {},
   "source": [
    "3. $\\quad$ $\\frac{d}{dx}(x^n)=nx^{n-1}$\n",
    "\n",
    "Exemplo: $\\frac{d}{dx}x^3 = 3.x^{3-1} = 3x^2$"
   ]
  },
  {
   "cell_type": "markdown",
   "id": "71a1ab1f-9399-4aa2-be27-25c8a4325d00",
   "metadata": {},
   "source": [
    "4. $\\quad$ $\\frac{d}{dx}[cf(x)]=c\\frac{d}{dx}f(x)$\n",
    "\n",
    "Exemplo: $\\frac{d}{dx}2x = 2\\frac{d}{dx}x = 2.1 = 2$"
   ]
  },
  {
   "cell_type": "markdown",
   "id": "dad072d8-9af8-4ae1-8a03-0391ddf28a81",
   "metadata": {},
   "source": [
    "5. Regra da adição: $\\quad$ $\\frac{d}{dx}[f(x)+g(x)]=\\frac{d}{dx}f(x)+\\frac{d}{dx}g(x)$\n",
    "\n",
    "6. Regra da subtração: $\\quad$ $\\frac{d}{dx}[f(x)-g(x)]=\\frac{d}{dx}f(x)-\\frac{d}{dx}g(x)$\n",
    "\n",
    "7. Regra do produto: $\\quad$ $\\frac{d}{dx}[f(x)g(x)]=f(x)\\frac{d}{dx}[g(x)]+g(x)\\frac{d}{dx}[f(x)]$\n",
    "\n",
    "8. Regra do quociente: $\\quad$ $\\frac{d}{dx}\\left[\\frac{f(x)}{g(x)}\\right] = \\frac{g(x)\\frac{d}{dx}[f(x)] - f(x)\\frac{d}{dx}[g(x)] }{[g(x)]^2}$\n",
    "\n",
    "9. Regra do exponencial: $\\frac{d}{dx}(e^x) = e^x$\n",
    "\n",
    "10. Regra do logarítmo natural: $\\frac{d}{dx}(\\ln{x}) = \\frac{1}{x}$\n",
    "\n",
    "11. Regra do logarítmo: $\\frac{d}{dx}(\\log_{a}x) = \\frac{1}{x\\,ln{a}}$\n",
    "\n",
    "12. Regra do seno: $\\frac{d}{dx}(\\sin{x}) = \\cos{x}$\n",
    "\n",
    "13. Regra do cosseno: $\\frac{d}{dx}(\\cos{x}) = -\\sin{x}$\n",
    "14. Regra da tangente: $\\frac{d}{dx}(\\tan{x}) = \\sec^2{x}$"
   ]
  },
  {
   "cell_type": "code",
   "execution_count": null,
   "id": "543652fc-a81d-4eac-ba77-39447aaca603",
   "metadata": {},
   "outputs": [],
   "source": []
  },
  {
   "cell_type": "markdown",
   "id": "6bf3dbf7-c2c2-4662-a6c5-c86148fa2069",
   "metadata": {},
   "source": [
    "## Derivada de uma função\n",
    "$$\\color{blue}f(x)=x^3-2x+5$$"
   ]
  },
  {
   "cell_type": "code",
   "execution_count": null,
   "id": "ad86026f-9094-461d-a4fe-daba19e9ef0b",
   "metadata": {},
   "outputs": [],
   "source": []
  },
  {
   "cell_type": "markdown",
   "id": "fe6a0afc-d6d2-4627-b1ca-5b33dd5cc2be",
   "metadata": {},
   "source": [
    "\\begin{align}\n",
    "\\frac{d}{dx}f(x)\\\\\n",
    "\\\\\n",
    "\\frac{d}{dx}(x^3 - 2x + 5) = \\frac{d}{dx}(x^3) - \\frac{d}{dx}(2x) + \\frac{d}{dx}(5)\\\\\n",
    "\\\\\n",
    "\\frac{d}{dx}(x^3 - 2x + 5) =3.x^{3-1} - 2.\\frac{d}{dx}(x) + 0\\\\\n",
    "\\\\=3x^2 - 2.1\\\\\n",
    "\\\\\n",
    "=3x^2-2\\\\\n",
    "\\\\\n",
    "\\boxed{f'(x)=3x^2-2}\n",
    "\\end{align}"
   ]
  },
  {
   "cell_type": "code",
   "execution_count": null,
   "id": "f00aff3a-8f45-49f8-b6f6-19df77d8526a",
   "metadata": {},
   "outputs": [],
   "source": []
  },
  {
   "cell_type": "markdown",
   "id": "c44c4919-9bf6-4951-9d95-05d8e7c16153",
   "metadata": {},
   "source": [
    "$$\\color{blue}f(x)=x^{-4} + 3x^2 -2x^{-1} - 1$$"
   ]
  },
  {
   "cell_type": "markdown",
   "id": "b3315ae2-fbbf-4ff8-8d8e-30356738c1d5",
   "metadata": {},
   "source": [
    "\\begin{align}\n",
    "\\frac{d}{dx} (x^{-4}) + 3x^2 -2x^{-1} - 1) = \\frac{d}{dx} (x^{-4}) + \\frac{d}{dx}(3x^2) - \\frac{d}{dx}(2x^{-1}) + \\frac{d}{dx}(-1)\\\\\n",
    "\\\\\n",
    "f'(x) = -4x^{-4-1} + 3\\frac{d}{dx}(x^2) - 2.\\frac{d}{dx}(x^{-1}) + 0\\\\\n",
    "\\\\\n",
    "f'(x) = -4x^{-5} + 3.2x^{2-1} - 2.-1x^{-1-1}\\\\\n",
    "\\\\\n",
    "f'(x) = -4x^{-5} + 6x + 2x^{-2}\\\\\n",
    "\\\\\n",
    "\\boxed{f'(x) = \\frac{-4}{x^{5}} + 6x + \\frac{2}{x^{2}}}\n",
    "\\end{align}"
   ]
  },
  {
   "cell_type": "code",
   "execution_count": null,
   "id": "e4c2bf21-ba69-460a-a140-e3385002cfba",
   "metadata": {},
   "outputs": [],
   "source": []
  },
  {
   "cell_type": "markdown",
   "id": "2be4d9ac-e761-467c-8805-f706938f9346",
   "metadata": {},
   "source": [
    "**Aplicação da Regra do Produto de Uma Derivada**: $$\\frac{d}{dx}[f(x)g(x)]=f(x)\\frac{d}{dx}[g(x)]+g(x)\\frac{d}{dx}[f(x)]$$\n",
    "\n",
    "Produto entre $f(x) = 3x - 1 \\quad$ e $\\quad g(x) = x^2 + 2x$"
   ]
  },
  {
   "cell_type": "code",
   "execution_count": null,
   "id": "09ef37f7-5e60-4248-a56e-5ebd5c1d0635",
   "metadata": {},
   "outputs": [],
   "source": []
  },
  {
   "cell_type": "markdown",
   "id": "9e211eb8-361d-4a35-9f80-b8b6c7e7d267",
   "metadata": {},
   "source": [
    "\\begin{align}\n",
    "\\frac{d}{dx}[(3x-1)(x^2+2x)] = (3x-1).\\frac{d}{dx}(x^2+2x) + (x^2+2x).\\frac{d}{dx}(3x-1)\\\\\n",
    "\\\\\n",
    "f'(x) = (3x-1).(2x+2) + (x^2+2x).3\\\\\n",
    "\\\\\n",
    "f'(x) = 6x^2+6x-2x-2+3x^2+6x\\\\\n",
    "\\\\\n",
    "\\boxed{f'(x)=9x^2+10x-2}\n",
    "\\end{align}"
   ]
  },
  {
   "cell_type": "code",
   "execution_count": null,
   "id": "a2af8adf-532f-428e-81ea-d3804abc125f",
   "metadata": {},
   "outputs": [],
   "source": []
  },
  {
   "cell_type": "markdown",
   "id": "d20f2642-478f-4ff6-ac52-41b8187ea66d",
   "metadata": {},
   "source": [
    "$f(x)=x^2 \\quad$ e $\\quad g(x)=x+5$"
   ]
  },
  {
   "cell_type": "markdown",
   "id": "75b22c2a-ba04-4f86-a9a3-4fa583f51e9c",
   "metadata": {},
   "source": [
    "\\begin{align}\n",
    "\\frac{d}{dx}[x^2.(x+5)] = x^2.\\frac{d}{dx}(x+5) + (x+5).\\frac{d}{dx}(x^2)\\\\\n",
    "\\\\\n",
    "f'(x) = x^2.(1) + (x+5).(2x)\\\\\n",
    "\\\\\n",
    "f'(x) = x^2+2x^2+10x\\\\\n",
    "\\\\\n",
    "\\boxed{f'(x)=3x^2+10x}\n",
    "\\end{align}"
   ]
  },
  {
   "cell_type": "markdown",
   "id": "297dcc0b-52d7-460b-884c-81771d96f746",
   "metadata": {},
   "source": [
    "**Aplicação da Regra do Quociente de Uma Derivada**\n",
    "$$\\frac{d}{dx}\\left[\\frac{f(x)}{g(x)}\\right]=\\frac{g(x)\\frac{d}{dx}[f(x)] - f(x)\\frac{d}{dx}[g(x)] }{[g(x)]^2}$$"
   ]
  },
  {
   "cell_type": "code",
   "execution_count": null,
   "id": "53bd56b1-38b0-4302-b2ea-2262a283a66b",
   "metadata": {},
   "outputs": [],
   "source": []
  },
  {
   "cell_type": "markdown",
   "id": "089a4776-d56d-4115-b815-31a7d9a97f19",
   "metadata": {},
   "source": [
    "$f(x)=3x-1\\quad$ e $\\quad g(x)=x^2+2x$"
   ]
  },
  {
   "cell_type": "markdown",
   "id": "781c8467-7de0-4d74-83f7-0eec6f9bbf02",
   "metadata": {},
   "source": [
    "\\begin{align}\n",
    "\\frac{d}{dx}\\left[\\frac{3x-1}{x^2+2x}\\right] = \\frac{ (x^2+2x).\\frac{d}{dx}(3x-1) - (3x-1)\\frac{d}{dx}(x^2+2x)} {(x^2+2x)^2 }\\\\\n",
    "\\\\\n",
    "\\frac{(x^2+2x).(3)-(3x-1).(2x+2)}{(x^2+2x)^2}\\\\\n",
    "\\\\\\frac{3x^2+6x-6x^2-6x+2x+2}{(x^2+2x)^2}\\\\\n",
    "\\\\\n",
    "\\boxed{\\frac{-3x^2+2x+2}{(x^2+2x)^2}}\\\\\n",
    "\\end{align}"
   ]
  },
  {
   "cell_type": "code",
   "execution_count": null,
   "id": "6ac4f868-f504-439a-8db8-9e0dc45b580d",
   "metadata": {},
   "outputs": [],
   "source": []
  },
  {
   "cell_type": "markdown",
   "id": "35ce4e37-a3d7-4aa6-9d5a-6865a0287aa1",
   "metadata": {},
   "source": [
    "$f(x)=x^2 \\quad$ e $\\quad g(x)=x+5$"
   ]
  },
  {
   "cell_type": "markdown",
   "id": "779cff68-3af0-44a7-b7b4-d1731c694973",
   "metadata": {},
   "source": [
    "\\begin{align}\n",
    "\\frac{d}{dx}\\left[\\frac{x^2}{x+5}\\right] = \\frac{ (x+5).\\frac{d}{dx}(x^2) - (x^2)\\frac{d}{dx}(x+5)} {(x+5)^2 }\\\\\n",
    "\\\\\n",
    "\\frac{(x+5).(2x) - (x^2).(1)}{(x+52)^2}\\\\\n",
    "\\\\\\frac{(x+5).(2x).(1)}{(x+5)^2}\\\\\n",
    "\\\\\n",
    "\\frac{2x^2+10x-x^2}{(x+5)^2}\\\\\n",
    "\\\\\n",
    "\\boxed{\\frac{x^2+10x}{(x+5)^2}}\\\\\n",
    "\\end{align}"
   ]
  },
  {
   "cell_type": "code",
   "execution_count": null,
   "id": "30299a09-39ce-47d4-abe3-680a0cb17f74",
   "metadata": {},
   "outputs": [],
   "source": []
  },
  {
   "cell_type": "code",
   "execution_count": null,
   "id": "27514cb5-4808-49dd-aad5-4be06be77ada",
   "metadata": {},
   "outputs": [],
   "source": []
  }
 ],
 "metadata": {
  "kernelspec": {
   "display_name": "Python 3 (ipykernel)",
   "language": "python",
   "name": "python3"
  },
  "language_info": {
   "codemirror_mode": {
    "name": "ipython",
    "version": 3
   },
   "file_extension": ".py",
   "mimetype": "text/x-python",
   "name": "python",
   "nbconvert_exporter": "python",
   "pygments_lexer": "ipython3",
   "version": "3.12.0"
  }
 },
 "nbformat": 4,
 "nbformat_minor": 5
}
