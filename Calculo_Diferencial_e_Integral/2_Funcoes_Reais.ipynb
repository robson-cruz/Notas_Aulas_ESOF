{
 "cells": [
  {
   "cell_type": "markdown",
   "id": "e24a1c56",
   "metadata": {},
   "source": [
    "# Função Real"
   ]
  },
  {
   "cell_type": "markdown",
   "id": "a85f47b6",
   "metadata": {},
   "source": [
    "Seja uma função $f:A\\rightarrow B$, então:\n",
    "* O conjunto $A$ é o **domínio**. Representa os valores que a variável independente ($x$) assume.\n",
    "* O conjunto $B$ é o **contradomínio**. Representa os valores que a variável dependente ($y$) *pode* assumir.\n",
    "* O subconjunto $B$ dado por todos os valores produzidos pela associação é a **imagem**. Representa os valores que a variável dependente ($y$) assume."
   ]
  },
  {
   "cell_type": "markdown",
   "id": "d98d1554",
   "metadata": {},
   "source": [
    "<img src=\"funcao.PNG\" style=\"width:650px;height:350px;\" />"
   ]
  },
  {
   "cell_type": "code",
   "execution_count": null,
   "id": "937353a6",
   "metadata": {},
   "outputs": [],
   "source": []
  },
  {
   "cell_type": "markdown",
   "id": "33c41983",
   "metadata": {},
   "source": [
    "Seja a função $f(x) = x + 1$, e os conjuntos $A=\\{0, 1, 2, 3\\}$ e $ B=\\{1, 2, 3, 4, 5\\} $, então:"
   ]
  },
  {
   "cell_type": "markdown",
   "id": "4260725d",
   "metadata": {},
   "source": [
    "$f(0) = 0 + 1 = 1$\n",
    "\n",
    "$f(1) = 1 + 1 = 2$\n",
    "\n",
    "$f(2) = 2 + 1 = 3$\n",
    "\n",
    "$f(3) = 3 + 1 = 4$"
   ]
  },
  {
   "cell_type": "markdown",
   "id": "fff5c695",
   "metadata": {},
   "source": [
    "<img src=\"funcao2.PNG\" style=\"width:350px;height:300px;\" />"
   ]
  },
  {
   "cell_type": "markdown",
   "id": "36eb6240",
   "metadata": {},
   "source": [
    "$D(f) = \\{0, 1, 2, 3\\}$\n",
    "\n",
    "$CD(f) = \\{1, 2, 3, 4, 5\\}$\n",
    "\n",
    "$Im(f) = \\{1, 2, 3, 4\\}$"
   ]
  },
  {
   "cell_type": "markdown",
   "id": "3978835b",
   "metadata": {},
   "source": [
    "# Domínio de uma Função Real\n",
    "$$f(x) = \\sqrt{3x - 12} \\over x - 4$$"
   ]
  },
  {
   "cell_type": "markdown",
   "id": "991c6f24",
   "metadata": {},
   "source": [
    "Condições:\n",
    "\n",
    "$3x - 12 \\ge 0$\n",
    "\n",
    "$x - 4 \\ne 4$"
   ]
  },
  {
   "cell_type": "markdown",
   "id": "1412db5b",
   "metadata": {},
   "source": [
    "Logo: $ D(f) = \\{x \\in \\mathbb{R} | x > 4\\} $"
   ]
  },
  {
   "cell_type": "markdown",
   "id": "622dfc95",
   "metadata": {},
   "source": [
    "<img src=\"geogebra-export.png\" style=\"width:750px;height:550px\" />"
   ]
  },
  {
   "cell_type": "markdown",
   "id": "c385292a",
   "metadata": {},
   "source": [
    "# Função Polinominal\n",
    "Uma função polinomial de grau $n$ pode ser escrita como $f(x) = a_{n}x^n+a_{n-1}x^{n-1} ... + a_{2}x^2+a_{1}x+a_{x}$"
   ]
  },
  {
   "cell_type": "markdown",
   "id": "a8cfc7cd",
   "metadata": {},
   "source": [
    "|Nome |Forma|Grau |\n",
    "|:----|:----:|:----:|\n",
    "|Função zero | $$ f(x) = 0 $$ | Indefinido|\n",
    "|Função Constante | $$f(x)=k, k \\ne 0$$ | 0\n",
    "|Função Identidade | $$f(x)=x$$ | 1\n",
    "|Função linear | $$f(x)=ax, a\\ne0$$ | 1\n",
    "|Função de Primeiro Grau | $$f(x)=ax+b, a\\ne0$$ | 1\n",
    "|Função de Segundo Grau | $$f(x)=ax^2+bx+c, a\\ne0$$ | 2\n",
    "|... | ... | ..."
   ]
  },
  {
   "cell_type": "markdown",
   "id": "ca2496d0",
   "metadata": {},
   "source": [
    "## Função Constante\n",
    "Toda função $f:\\mathbb{R} \\rightarrow \\mathbb{R}$ na forma $f(x)=K$, com $K\\in \\mathbb{R}$, é uma função constante.\n",
    "\n",
    "$$f(x)=2$$"
   ]
  },
  {
   "cell_type": "markdown",
   "id": "4c9f9d6a",
   "metadata": {},
   "source": [
    "<img src=\"funcao-k.png\" style=\"width:750px;height:550px\" />"
   ]
  },
  {
   "cell_type": "markdown",
   "id": "202f6254",
   "metadata": {},
   "source": [
    "$$f(x)=-4$$"
   ]
  },
  {
   "cell_type": "markdown",
   "id": "cb309097",
   "metadata": {},
   "source": [
    "<img src=\"funcao-k2.png\" style=\"width:750px;height:550px\" />"
   ]
  },
  {
   "cell_type": "markdown",
   "id": "3ed37d28",
   "metadata": {},
   "source": [
    "## Função Linear\n",
    "Toda função $f: \\mathbb{R} \\rightarrow \\mathbb{R}$ na forma $f(x)=ax$, com $a \\ne 0$, é uma função linear."
   ]
  },
  {
   "cell_type": "markdown",
   "id": "894d598e",
   "metadata": {},
   "source": [
    "$$f(x)=2x$$"
   ]
  },
  {
   "cell_type": "markdown",
   "id": "cdc1d937",
   "metadata": {},
   "source": [
    "<img src=\"funcao-linear1.png\" style=\"width:750px;height:550px\" />"
   ]
  },
  {
   "cell_type": "markdown",
   "id": "6366482b",
   "metadata": {},
   "source": [
    "$$f(x)=-2x$$"
   ]
  },
  {
   "cell_type": "markdown",
   "id": "1fe712cf",
   "metadata": {},
   "source": [
    "<img src=\"funcao-linear2.png\" style=\"width:750px;height:550px\" />"
   ]
  },
  {
   "cell_type": "markdown",
   "id": "a512873a",
   "metadata": {},
   "source": [
    "## Função Identidade\n",
    "Toda função $f: \\mathbb{R} \\rightarrow \\mathbb{R}$ na forma $f(x)=x$, é uma função identidade."
   ]
  },
  {
   "cell_type": "markdown",
   "id": "cd726e4d",
   "metadata": {},
   "source": [
    "<img src=\"funcao-identidade.png\" style=\"width:750px;height:550px\" />"
   ]
  },
  {
   "cell_type": "code",
   "execution_count": null,
   "id": "32d2df17",
   "metadata": {},
   "outputs": [],
   "source": []
  },
  {
   "cell_type": "markdown",
   "id": "a977aeb5",
   "metadata": {},
   "source": [
    "## Função do Primeiro Grau ou Função Afim\n",
    "Toda função $f: \\mathbb{R} \\rightarrow \\mathbb{R}$ na forma $f(x)=ax + b$, com $b \\ne 0$, é uma **função do primeiro grau ou função afim.**\n",
    "\n",
    "Em $f(x)=ax+b$:\n",
    "* $a$ é o coeficiente angular, e representa a variação de $y$ correspondente a um aumento do valor de $x$ igual a 1. Quando $a > 0$, a função é crescente e quando $a < 0$, a função é decrescente.\n",
    "* $b$ é o coeficiente linear, e representa a ordenada do ponto de intersecção da reta com o eixo $y$ no ponto $(0, b)$.\n",
    "* A raiz da função é obtida fazendo $y=0$ em $y=ax+b$."
   ]
  },
  {
   "cell_type": "markdown",
   "id": "bde05c9f",
   "metadata": {},
   "source": [
    "$$0=ax + b$$\n",
    "$$ax = -b$$\n",
    "$$x = \\frac{-b}{a}$$"
   ]
  },
  {
   "cell_type": "code",
   "execution_count": null,
   "id": "126f4a24",
   "metadata": {},
   "outputs": [],
   "source": []
  },
  {
   "cell_type": "markdown",
   "id": "e59f6f5a",
   "metadata": {},
   "source": [
    "$$f(x)=2x+1$$"
   ]
  },
  {
   "cell_type": "markdown",
   "id": "644f88c6",
   "metadata": {},
   "source": [
    "<img src=\"func-primeiro-grau1.PNG\" style=\"width:650px;height:450px\"/>"
   ]
  },
  {
   "cell_type": "markdown",
   "id": "d273dc8d",
   "metadata": {},
   "source": [
    "$$f(x)=-2x+1$$"
   ]
  },
  {
   "cell_type": "markdown",
   "id": "2aef2cdd",
   "metadata": {},
   "source": [
    "<img src=\"func-primeiro-grau2.PNG\" style=\"width:650px;height:450px\"/>"
   ]
  },
  {
   "cell_type": "code",
   "execution_count": null,
   "id": "6d4dbb8e",
   "metadata": {},
   "outputs": [],
   "source": []
  },
  {
   "cell_type": "markdown",
   "id": "ec67d02b",
   "metadata": {},
   "source": [
    "## Função Quadrática ou Função do Segundo Grau\n",
    "Toda função $f: \\mathbb{R} \\rightarrow \\mathbb{R}$ na forma $f(x)=ax^2+bx+c$, é uma função do segundo grau ou função quadrática.\n",
    "\n",
    "O gráfico da função quadrática é uma parábola, de concavidade voltada para cima quando $a>0$ e voltada para baixo quando $a < 0$, e que intercepta o euixo $y$ no ponto $(0, c)$.\n",
    "\n",
    "As raízes da função quadrática são obtidas fazendo $y=0$ em $y=ax^2+bx+c$.\n",
    "\n",
    "O vértice está localizado no ponto: $V(x_{v}, Y_{v}) = \\left(- \\frac{b}{2a}, - \\frac{\\Delta}{4a}\\right)$"
   ]
  },
  {
   "cell_type": "markdown",
   "id": "1ac2699a",
   "metadata": {},
   "source": [
    "Quando o discriminante $\\Delta > 0$ a parábola intercepta em dois pontos do eixo $x$.\n",
    "\n",
    "Quando o discriminante $\\Delta = 0$ a parábola intercepta em apenas um ponto do eixo $x$.\n",
    "\n",
    "Quando o discriminante $\\Delta < 0$ não há raiz real e a parábola não intercepta o eixo $x$."
   ]
  },
  {
   "cell_type": "markdown",
   "id": "251a8348",
   "metadata": {},
   "source": [
    "$$f(x)=2x^2+2x+3$$"
   ]
  },
  {
   "cell_type": "markdown",
   "id": "9048db55",
   "metadata": {},
   "source": [
    "<img src=\"func-quadratica1.PNG\" style=\"width:650px;height:450px\"/>"
   ]
  },
  {
   "cell_type": "code",
   "execution_count": null,
   "id": "97b1a023",
   "metadata": {},
   "outputs": [],
   "source": []
  },
  {
   "cell_type": "markdown",
   "id": "be1e0e58",
   "metadata": {},
   "source": [
    "$$f(x)=-x^2+x+3$$"
   ]
  },
  {
   "cell_type": "markdown",
   "id": "c308c370",
   "metadata": {},
   "source": [
    "<img src=\"func-quadratica2.PNG\" style=\"width:650px;height:450px\"/>"
   ]
  },
  {
   "cell_type": "markdown",
   "id": "8f5b8f47",
   "metadata": {},
   "source": [
    "# Função Potência\n",
    "Toda função $f:\\mathbb{R} \\rightarrow \\mathbb{R}$ na forma $f(x)=kx^n$, é uma **função potência**, em que $k$ e $n$ são constantes diferentes de zero; $k$ é a constante de proporção e $n$ é a potência. \n",
    "Os gráficos da função pontência podem apresentar quatro formas possíveis:\n",
    "* Quando $k>0$, o gráfico está no primeiro quadrante.\n",
    "<img src=\"func-potencia1.PNG\">"
   ]
  },
  {
   "cell_type": "markdown",
   "id": "ccb06b44",
   "metadata": {},
   "source": [
    "* Quando $k<0$, o gráfico está no quarto quadrante.\n",
    "<img src=\"func-potencia2.PNG\" />"
   ]
  },
  {
   "cell_type": "markdown",
   "id": "082b8622",
   "metadata": {},
   "source": []
  },
  {
   "cell_type": "markdown",
   "id": "0b63225d",
   "metadata": {},
   "source": [
    "# Função Exponencial\n",
    "Toda função $f:\\mathbb{R} \\rightarrow \\mathbb{R}$, na forma $f(x)=a^x$, em que $a$ é uma constante positiva e $x$ é o expoente variável, é uma **função exponencial**.\n",
    "\n",
    "$$D(f)=\\mathbb{R}$$\n",
    "$$Im(f)=(0, +\\infty)$$"
   ]
  },
  {
   "cell_type": "markdown",
   "id": "1c29f815",
   "metadata": {},
   "source": [
    "O gráfico da função exponencial pode ter três formas diferentes:\n",
    "\n",
    "* Se $a>1$, $a^x$ cresce com $x$ crescente.\n",
    "* se $0<a<1$, $a^x$ decresce com $x$ crescente.\n",
    "* Se $a=1$, $a^x$ é constante."
   ]
  },
  {
   "cell_type": "markdown",
   "id": "f9ad8d8f",
   "metadata": {},
   "source": [
    "<img src=\"func-exponencial.PNG\" />"
   ]
  },
  {
   "cell_type": "code",
   "execution_count": null,
   "id": "b46d58e0",
   "metadata": {},
   "outputs": [],
   "source": []
  },
  {
   "cell_type": "markdown",
   "id": "12bb3e9c",
   "metadata": {},
   "source": [
    "# Função Logarítmica\n",
    "Toda função $f:\\mathbb{R} \\rightarrow \\mathbb{R}$, na forma $f(x)=log_{a}x$, em que $a$ é uma constante positiva e $a \\ne  1$ é uma **função logarítmica**.\n",
    "\n",
    "$$D(f)=(0, +\\infty)$$\n",
    "$$Im(f)=\\mathbb{R}$$"
   ]
  },
  {
   "cell_type": "markdown",
   "id": "df479292",
   "metadata": {},
   "source": [
    "Se $a>0$ e $a\\ne1$, temos que a função $f(x)=log_{a}x$ é a inversa da função exponencial, uma vez que a definição de logarítmos nos diz que $log_{a}x=y \\leftrightarrow a^y=x$\n",
    "\n",
    "<img src=\"func-exponencial2.PNG\" />"
   ]
  },
  {
   "cell_type": "markdown",
   "id": "05a1922b",
   "metadata": {},
   "source": [
    "# Funções Trigonométricas\n",
    "# Função Seno\n",
    "Toda função $f:\\mathbb{R} \\rightarrow \\mathbb{R}$ na forma $f(x)=senx$ é uma **função seno**.\n",
    "\n",
    "A função seno é uma função ímpar, contínua, períodica e limitada.\n",
    "\n",
    "<img src=\"func-seno.PNG\" />\n",
    "\n",
    "O domínio da função é $D(f)=\\mathbb{R}$ e a imagem é $Im(f)=\\{y \\in R | -1 \\leq y \\leq 1\\}$"
   ]
  },
  {
   "cell_type": "markdown",
   "id": "84395af6",
   "metadata": {},
   "source": [
    "## Função coseno\n",
    "Toda função $f:\\mathbb{R} \\rightarrow \\mathbb{R}$ na forma $f(x)=cosenox$ é uma **função coseno**.\n",
    "A função coseno é unma função par, contínua, períodica e limitada.\n",
    "<img src=\"func-coseno.PNG\" />\n",
    "O domínio da função é $D(f)=\\mathbb{R}$ e a imagem é $Im(f)=\\{y \\in \\mathbb{R} | -1 \\leq y \\leq 1\\}$"
   ]
  },
  {
   "cell_type": "code",
   "execution_count": null,
   "id": "8f751522",
   "metadata": {},
   "outputs": [],
   "source": []
  },
  {
   "cell_type": "markdown",
   "id": "4b923921",
   "metadata": {},
   "source": [
    "## Função Tangente\n",
    "Toda função $f:\\mathbb{R} \\rightarrow \\mathbb{R}$ na forma $f(x)=tgx$ é uma **função tangente**.\n",
    "A função tangente é uma função ímpar.\n",
    "<img src=\"func-tangente.PNG\" />\n",
    "O domínio da função é $D(f)= \\{ x \\in \\mathbb{R} | x \\ne \\frac{\\pi}{2} + n\\pi,n \\in \\mathbb{Z} \\}$ e a imagem é $Im(f)=\\mathbb{R}$"
   ]
  },
  {
   "cell_type": "markdown",
   "id": "98e5f71c",
   "metadata": {},
   "source": [
    "## Noção intuitiva de limite de uma função"
   ]
  },
  {
   "cell_type": "markdown",
   "id": "8a22bc38",
   "metadata": {},
   "source": [
    "$$f(x) = x^2 + 4x \\quad \\quad x \\rightarrow 1$$\n",
    "<img src=\"fun-limit.PNG\" style=\"width:650px;height:450px\" />"
   ]
  },
  {
   "cell_type": "markdown",
   "id": "d323a02f",
   "metadata": {},
   "source": [
    "| $x$  | $$f(x)=x^2+4x$$ |\n",
    "|:--:|:---------------:|\n",
    "|0|0|\n",
    "|0.5|2.25|\n",
    "|0.6|2.75|\n",
    "|0.8|0.6400000000000001|\n",
    "|0.99|4.9401|\n",
    "|$$\\vdots$$|$$\\vdots$$|\n",
    "|1,01|5.0601|\n",
    "|1.5|8.25|\n",
    "|2|12|"
   ]
  },
  {
   "cell_type": "markdown",
   "id": "f6b1b54c",
   "metadata": {},
   "source": [
    "$$\\lim_{x \\rightarrow 1} x^2 + 4x = 5$$"
   ]
  },
  {
   "cell_type": "code",
   "execution_count": null,
   "id": "2e0e3003",
   "metadata": {},
   "outputs": [],
   "source": []
  },
  {
   "cell_type": "markdown",
   "id": "6ecba467",
   "metadata": {},
   "source": [
    "\\begin{gather*}\n",
    "f(x)=\\frac{x^2-4}{x-2} \\quad\\quad x \\rightarrow 2\n",
    "\\end{gather*}\n",
    "\n",
    "\\begin{align}\n",
    "D(f)=\\{x \\in \\mathbb{R} | x \\neq 2\\}\n",
    "\\end{align}"
   ]
  },
  {
   "cell_type": "markdown",
   "id": "5ac990fc",
   "metadata": {},
   "source": [
    "<img src=\"fun-limit2.PNG\" style=\"width:650px;height:450px\" />"
   ]
  },
  {
   "cell_type": "markdown",
   "id": "47bf04a2",
   "metadata": {},
   "source": [
    "| $x$  | $$f(x)=\\frac{x^2-4}{x-2}$$ |\n",
    "|:--:|:---------------:|\n",
    "|0|2|\n",
    "|1.5|3.5|\n",
    "|1.99|3.99|\n",
    "|$$\\vdots$$|$$\\vdots$$|\n",
    "|2,01|4.01|\n",
    "|2.5|4.5|\n",
    "|3|5|"
   ]
  },
  {
   "cell_type": "markdown",
   "id": "37a4faed",
   "metadata": {},
   "source": [
    "$$\\lim_{x \\rightarrow 1} f(x)=\\frac{x^2-4}{x-2} = 4$$"
   ]
  },
  {
   "cell_type": "markdown",
   "id": "3254690f",
   "metadata": {},
   "source": [
    "## Limite de uma função\n",
    "Seja uma função $f(x)$ qualquer, queremos saber para qual valor ela se aproxima quando o número $x$ se aproxima, e está sificientemente perto, de algum determinado número $a$. Representamos essa ideia de aproximação por:\n",
    "$$\\lim_{x \\rightarrow a} f(x) = L$$\n",
    "\n",
    "que se lê $f(x)$ está suficientemente próximo de $L$ quando $x$ está suficientemente próximo do ponto $a$"
   ]
  },
  {
   "cell_type": "code",
   "execution_count": null,
   "id": "aba445d1",
   "metadata": {},
   "outputs": [],
   "source": []
  },
  {
   "cell_type": "markdown",
   "id": "f80a8634",
   "metadata": {},
   "source": [
    "# Definição formal do limite de uma função\n",
    "Seja uma função $f(x)$ definida em um intervalo aberto contendo $a$, exceto possivelmente em $x=a$, e seja $l$ um número real, então $\\lim_{x \\rightarrow a} = L$ significa que para todo $\\in 0$, existe um $\\delta > 0$"
   ]
  }
 ],
 "metadata": {
  "kernelspec": {
   "display_name": "Python 3 (ipykernel)",
   "language": "python",
   "name": "python3"
  },
  "language_info": {
   "codemirror_mode": {
    "name": "ipython",
    "version": 3
   },
   "file_extension": ".py",
   "mimetype": "text/x-python",
   "name": "python",
   "nbconvert_exporter": "python",
   "pygments_lexer": "ipython3",
   "version": "3.9.12"
  }
 },
 "nbformat": 4,
 "nbformat_minor": 5
}
