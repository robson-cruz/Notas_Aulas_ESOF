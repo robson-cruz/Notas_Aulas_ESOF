{
 "cells": [
  {
   "cell_type": "markdown",
   "id": "e24a1c56",
   "metadata": {},
   "source": [
    "# Função Real"
   ]
  },
  {
   "cell_type": "markdown",
   "id": "a85f47b6",
   "metadata": {},
   "source": [
    "Seja uma função $f:A\\rightarrow B$, então:\n",
    "* O conjunto $A$ é o **domínio**. Representa os valores que a variável independente ($x$) assume.\n",
    "* O conjunto $B$ é o **contradomínio**. Representa os valores que a variável dependente ($y$) *pode* assumir.\n",
    "* O subconjunto $B$ dado por todos os valores produzidos pela associação é a **imagem**. Representa os valores que a variável dependente ($y$) assume."
   ]
  },
  {
   "cell_type": "markdown",
   "id": "d98d1554",
   "metadata": {},
   "source": [
    "<img src=\"./img/funcao.PNG\" style=\"width:650px;height:350px;\" />"
   ]
  },
  {
   "cell_type": "code",
   "execution_count": null,
   "id": "937353a6",
   "metadata": {},
   "outputs": [],
   "source": []
  },
  {
   "cell_type": "markdown",
   "id": "33c41983",
   "metadata": {},
   "source": [
    "Seja a função $f(x) = x + 1$, e os conjuntos $A=\\{0, 1, 2, 3\\}$ e $ B=\\{1, 2, 3, 4, 5\\} $, então:"
   ]
  },
  {
   "cell_type": "markdown",
   "id": "4260725d",
   "metadata": {},
   "source": [
    "$f(0) = 0 + 1 = 1$\n",
    "\n",
    "$f(1) = 1 + 1 = 2$\n",
    "\n",
    "$f(2) = 2 + 1 = 3$\n",
    "\n",
    "$f(3) = 3 + 1 = 4$"
   ]
  },
  {
   "cell_type": "markdown",
   "id": "fff5c695",
   "metadata": {},
   "source": [
    "<img src=\"./img/funcao2.PNG\" style=\"width:350px;height:300px;\" />"
   ]
  },
  {
   "cell_type": "markdown",
   "id": "36eb6240",
   "metadata": {},
   "source": [
    "$D(f) = \\{0, 1, 2, 3\\}$\n",
    "\n",
    "$CD(f) = \\{1, 2, 3, 4, 5\\}$\n",
    "\n",
    "$Im(f) = \\{1, 2, 3, 4\\}$"
   ]
  },
  {
   "cell_type": "markdown",
   "id": "3978835b",
   "metadata": {},
   "source": [
    "# Domínio de uma Função Real\n",
    "$$f(x) = \\sqrt{3x - 12} \\over x - 4$$"
   ]
  },
  {
   "cell_type": "markdown",
   "id": "991c6f24",
   "metadata": {},
   "source": [
    "Condições:\n",
    "\n",
    "$3x - 12 \\ge 0$\n",
    "\n",
    "$x - 4 \\ne 4$"
   ]
  },
  {
   "cell_type": "markdown",
   "id": "1412db5b",
   "metadata": {},
   "source": [
    "Logo: $ D(f) = \\{x \\in \\mathbb{R} | x > 4\\} $"
   ]
  },
  {
   "cell_type": "markdown",
   "id": "622dfc95",
   "metadata": {},
   "source": [
    "<img src=\"./img/geogebra-export.png\" style=\"width:750px;height:550px\" />"
   ]
  },
  {
   "cell_type": "markdown",
   "id": "c385292a",
   "metadata": {},
   "source": [
    "# Função Polinominal\n",
    "Uma função polinomial de grau $n$ pode ser escrita como $f(x) = a_{n}x^n+a_{n-1}x^{n-1} ... + a_{2}x^2+a_{1}x+a_{x}$"
   ]
  },
  {
   "cell_type": "markdown",
   "id": "a8cfc7cd",
   "metadata": {},
   "source": [
    "|Nome |Forma|Grau |\n",
    "|:----|:----:|:----:|\n",
    "|Função zero | $$ f(x) = 0 $$ | Indefinido|\n",
    "|Função Constante | $$f(x)=k, k \\ne 0$$ | 0\n",
    "|Função Identidade | $$f(x)=x$$ | 1\n",
    "|Função linear | $$f(x)=ax, a\\ne0$$ | 1\n",
    "|Função de Primeiro Grau | $$f(x)=ax+b, a\\ne0$$ | 1\n",
    "|Função de Segundo Grau | $$f(x)=ax^2+bx+c, a\\ne0$$ | 2\n",
    "|... | ... | ..."
   ]
  },
  {
   "cell_type": "markdown",
   "id": "ca2496d0",
   "metadata": {},
   "source": [
    "## Função Constante\n",
    "Toda função $f:\\mathbb{R} \\rightarrow \\mathbb{R}$ na forma $f(x)=K$, com $K\\in \\mathbb{R}$, é uma função constante.\n",
    "\n",
    "$$f(x)=2$$"
   ]
  },
  {
   "cell_type": "markdown",
   "id": "4c9f9d6a",
   "metadata": {},
   "source": [
    "<img src=\"./img/funcao-k.png\" style=\"width:750px;height:550px\" />"
   ]
  },
  {
   "cell_type": "markdown",
   "id": "202f6254",
   "metadata": {},
   "source": [
    "$$f(x)=-4$$"
   ]
  },
  {
   "cell_type": "markdown",
   "id": "cb309097",
   "metadata": {},
   "source": [
    "<img src=\"./img/funcao-k2.png\" style=\"width:750px;height:550px\" />"
   ]
  },
  {
   "cell_type": "markdown",
   "id": "3ed37d28",
   "metadata": {},
   "source": [
    "## Função Linear\n",
    "Toda função $f: \\mathbb{R} \\rightarrow \\mathbb{R}$ na forma $f(x)=ax$, com $a \\ne 0$, é uma função linear."
   ]
  },
  {
   "cell_type": "markdown",
   "id": "894d598e",
   "metadata": {},
   "source": [
    "$$f(x)=2x$$"
   ]
  },
  {
   "cell_type": "markdown",
   "id": "cdc1d937",
   "metadata": {},
   "source": [
    "<img src=\"./img/funcao-linear1.png\" style=\"width:750px;height:550px\" />"
   ]
  },
  {
   "cell_type": "markdown",
   "id": "6366482b",
   "metadata": {},
   "source": [
    "$$f(x)=-2x$$"
   ]
  },
  {
   "cell_type": "markdown",
   "id": "1fe712cf",
   "metadata": {},
   "source": [
    "<img src=\"./img/funcao-linear2.png\" style=\"width:750px;height:550px\" />"
   ]
  },
  {
   "cell_type": "markdown",
   "id": "a512873a",
   "metadata": {},
   "source": [
    "## Função Identidade\n",
    "Toda função $f: \\mathbb{R} \\rightarrow \\mathbb{R}$ na forma $f(x)=x$, é uma função identidade."
   ]
  },
  {
   "cell_type": "markdown",
   "id": "cd726e4d",
   "metadata": {},
   "source": [
    "<img src=\"./img/funcao-identidade.png\" style=\"width:750px;height:550px\" />"
   ]
  },
  {
   "cell_type": "code",
   "execution_count": null,
   "id": "32d2df17",
   "metadata": {},
   "outputs": [],
   "source": []
  },
  {
   "cell_type": "markdown",
   "id": "a977aeb5",
   "metadata": {},
   "source": [
    "## Função do Primeiro Grau ou Função Afim\n",
    "Toda função $f: \\mathbb{R} \\rightarrow \\mathbb{R}$ na forma $f(x)=ax + b$, com $b \\ne 0$, é uma **função do primeiro grau ou função afim.**\n",
    "\n",
    "Em $f(x)=ax+b$:\n",
    "* $a$ é o coeficiente angular, e representa a variação de $y$ correspondente a um aumento do valor de $x$ igual a 1. Quando $a > 0$, a função é crescente e quando $a < 0$, a função é decrescente.\n",
    "* $b$ é o coeficiente linear, e representa a ordenada do ponto de intersecção da reta com o eixo $y$ no ponto $(0, b)$.\n",
    "* A raiz da função é obtida fazendo $y=0$ em $y=ax+b$."
   ]
  },
  {
   "cell_type": "markdown",
   "id": "bde05c9f",
   "metadata": {},
   "source": [
    "$$0=ax + b$$\n",
    "$$ax = -b$$\n",
    "$$x = \\frac{-b}{a}$$"
   ]
  },
  {
   "cell_type": "code",
   "execution_count": null,
   "id": "126f4a24",
   "metadata": {},
   "outputs": [],
   "source": []
  },
  {
   "cell_type": "markdown",
   "id": "e59f6f5a",
   "metadata": {},
   "source": [
    "$$f(x)=2x+1$$"
   ]
  },
  {
   "cell_type": "markdown",
   "id": "644f88c6",
   "metadata": {},
   "source": [
    "<img src=\"./img/func-primeiro-grau1.PNG\" style=\"width:650px;height:450px\"/>"
   ]
  },
  {
   "cell_type": "markdown",
   "id": "d273dc8d",
   "metadata": {},
   "source": [
    "$$f(x)=-2x+1$$"
   ]
  },
  {
   "cell_type": "markdown",
   "id": "2aef2cdd",
   "metadata": {},
   "source": [
    "<img src=\"./img/func-primeiro-grau2.PNG\" style=\"width:650px;height:450px\"/>"
   ]
  },
  {
   "cell_type": "code",
   "execution_count": null,
   "id": "6d4dbb8e",
   "metadata": {},
   "outputs": [],
   "source": []
  },
  {
   "cell_type": "markdown",
   "id": "ec67d02b",
   "metadata": {},
   "source": [
    "## Função Quadrática ou Função do Segundo Grau\n",
    "Toda função $f: \\mathbb{R} \\rightarrow \\mathbb{R}$ na forma $f(x)=ax^2+bx+c$, é uma função do segundo grau ou função quadrática.\n",
    "\n",
    "O gráfico da função quadrática é uma parábola, de concavidade voltada para cima quando $a>0$ e voltada para baixo quando $a < 0$, e que intercepta o euixo $y$ no ponto $(0, c)$.\n",
    "\n",
    "As raízes da função quadrática são obtidas fazendo $y=0$ em $y=ax^2+bx+c$.\n",
    "\n",
    "O vértice está localizado no ponto: $V(x_{v}, Y_{v}) = \\left(- \\frac{b}{2a}, - \\frac{\\Delta}{4a}\\right)$"
   ]
  },
  {
   "cell_type": "markdown",
   "id": "1ac2699a",
   "metadata": {},
   "source": [
    "Quando o discriminante $\\Delta > 0$ a parábola intercepta em dois pontos do eixo $x$.\n",
    "\n",
    "Quando o discriminante $\\Delta = 0$ a parábola intercepta em apenas um ponto do eixo $x$.\n",
    "\n",
    "Quando o discriminante $\\Delta < 0$ não há raiz real e a parábola não intercepta o eixo $x$."
   ]
  },
  {
   "cell_type": "markdown",
   "id": "251a8348",
   "metadata": {},
   "source": [
    "$$f(x)=2x^2+2x+3$$"
   ]
  },
  {
   "cell_type": "markdown",
   "id": "9048db55",
   "metadata": {},
   "source": [
    "<img src=\"./img/func-quadratica1.PNG\" style=\"width:650px;height:450px\"/>"
   ]
  },
  {
   "cell_type": "code",
   "execution_count": null,
   "id": "97b1a023",
   "metadata": {},
   "outputs": [],
   "source": []
  },
  {
   "cell_type": "markdown",
   "id": "be1e0e58",
   "metadata": {},
   "source": [
    "$$f(x)=-x^2+x+3$$"
   ]
  },
  {
   "cell_type": "markdown",
   "id": "c308c370",
   "metadata": {},
   "source": [
    "<img src=\"./img/func-quadratica2.PNG\" style=\"width:650px;height:450px\"/>"
   ]
  },
  {
   "cell_type": "markdown",
   "id": "8f5b8f47",
   "metadata": {},
   "source": [
    "# Função Potência\n",
    "Toda função $f:\\mathbb{R} \\rightarrow \\mathbb{R}$ na forma $f(x)=kx^n$, é uma **função potência**, em que $k$ e $n$ são constantes diferentes de zero; $k$ é a constante de proporção e $n$ é a potência. \n",
    "Os gráficos da função pontência podem apresentar quatro formas possíveis:\n",
    "* Quando $k>0$, o gráfico está no primeiro quadrante.\n",
    "<img src=\"./img/func-potencia1.PNG\">"
   ]
  },
  {
   "cell_type": "markdown",
   "id": "ccb06b44",
   "metadata": {},
   "source": [
    "* Quando $k<0$, o gráfico está no quarto quadrante.\n",
    "<img src=\"./img/func-potencia2.PNG\" />"
   ]
  },
  {
   "cell_type": "markdown",
   "id": "082b8622",
   "metadata": {},
   "source": []
  },
  {
   "cell_type": "markdown",
   "id": "0b63225d",
   "metadata": {},
   "source": [
    "# Função Exponencial\n",
    "Toda função $f:\\mathbb{R} \\rightarrow \\mathbb{R}$, na forma $f(x)=a^x$, em que $a$ é uma constante positiva e $x$ é o expoente variável, é uma **função exponencial**.\n",
    "\n",
    "$$D(f)=\\mathbb{R}$$\n",
    "$$Im(f)=(0, +\\infty)$$"
   ]
  },
  {
   "cell_type": "markdown",
   "id": "1c29f815",
   "metadata": {},
   "source": [
    "O gráfico da função exponencial pode ter três formas diferentes:\n",
    "\n",
    "* Se $a>1$, $a^x$ cresce com $x$ crescente.\n",
    "* se $0<a<1$, $a^x$ decresce com $x$ crescente.\n",
    "* Se $a=1$, $a^x$ é constante."
   ]
  },
  {
   "cell_type": "markdown",
   "id": "f9ad8d8f",
   "metadata": {},
   "source": [
    "<img src=\"./img/func-exponencial.PNG\" />"
   ]
  },
  {
   "cell_type": "code",
   "execution_count": null,
   "id": "b46d58e0",
   "metadata": {},
   "outputs": [],
   "source": []
  },
  {
   "cell_type": "markdown",
   "id": "12bb3e9c",
   "metadata": {},
   "source": [
    "# Função Logarítmica\n",
    "Toda função $f:\\mathbb{R} \\rightarrow \\mathbb{R}$, na forma $f(x)=log_{a}x$, em que $a$ é uma constante positiva e $a \\ne  1$ é uma **função logarítmica**.\n",
    "\n",
    "$$D(f)=(0, +\\infty)$$\n",
    "$$Im(f)=\\mathbb{R}$$"
   ]
  },
  {
   "cell_type": "markdown",
   "id": "df479292",
   "metadata": {},
   "source": [
    "Se $a>0$ e $a\\ne1$, temos que a função $f(x)=log_{a}x$ é a inversa da função exponencial, uma vez que a definição de logarítmos nos diz que $log_{a}x=y \\leftrightarrow a^y=x$\n",
    "\n",
    "<img src=\"./img/func-exponencial2.PNG\" />"
   ]
  },
  {
   "cell_type": "markdown",
   "id": "05a1922b",
   "metadata": {},
   "source": [
    "# Funções Trigonométricas\n",
    "# Função Seno\n",
    "Toda função $f:\\mathbb{R} \\rightarrow \\mathbb{R}$ na forma $f(x)=senx$ é uma **função seno**.\n",
    "\n",
    "A função seno é uma função ímpar, contínua, períodica e limitada.\n",
    "\n",
    "<img src=\"./img/func-seno.PNG\" />\n",
    "\n",
    "O domínio da função é $D(f)=\\mathbb{R}$ e a imagem é $Im(f)=\\{y \\in R | -1 \\leq y \\leq 1\\}$"
   ]
  },
  {
   "cell_type": "markdown",
   "id": "84395af6",
   "metadata": {},
   "source": [
    "## Função coseno\n",
    "Toda função $f:\\mathbb{R} \\rightarrow \\mathbb{R}$ na forma $f(x)=cosenox$ é uma **função coseno**.\n",
    "A função coseno é unma função par, contínua, períodica e limitada.\n",
    "<img src=\"./img/func-coseno.PNG\" />\n",
    "O domínio da função é $D(f)=\\mathbb{R}$ e a imagem é $Im(f)=\\{y \\in \\mathbb{R} | -1 \\leq y \\leq 1\\}$"
   ]
  },
  {
   "cell_type": "code",
   "execution_count": null,
   "id": "8f751522",
   "metadata": {},
   "outputs": [],
   "source": []
  },
  {
   "cell_type": "markdown",
   "id": "4b923921",
   "metadata": {},
   "source": [
    "## Função Tangente\n",
    "Toda função $f:\\mathbb{R} \\rightarrow \\mathbb{R}$ na forma $f(x)=tgx$ é uma **função tangente**.\n",
    "A função tangente é uma função ímpar.\n",
    "<img src=\"./img/func-tangente.PNG\" />\n",
    "O domínio da função é $D(f)= \\{ x \\in \\mathbb{R} | x \\ne \\frac{\\pi}{2} + n\\pi,n \\in \\mathbb{Z} \\}$ e a imagem é $Im(f)=\\mathbb{R}$"
   ]
  },
  {
   "cell_type": "markdown",
   "id": "98e5f71c",
   "metadata": {},
   "source": [
    "## Noção intuitiva de limite de uma função"
   ]
  },
  {
   "cell_type": "markdown",
   "id": "8a22bc38",
   "metadata": {},
   "source": [
    "$$f(x) = x^2 + 4x \\quad \\quad x \\rightarrow 1$$\n",
    "<img src=\"../img/fun-limit.PNG\" style=\"width:650px;height:450px\"/>"
   ]
  },
  {
   "cell_type": "markdown",
   "id": "d323a02f",
   "metadata": {},
   "source": [
    "| $x$  | $$f(x)=x^2+4x$$ |\n",
    "|:--:|:---------------:|\n",
    "|0|0|\n",
    "|0.5|2.25|\n",
    "|0.6|2.75|\n",
    "|0.8|0.6400000000000001|\n",
    "|0.99|4.9401|\n",
    "|$$\\vdots$$|$$\\vdots$$|\n",
    "|1,01|5.0601|\n",
    "|1.5|8.25|\n",
    "|2|12|"
   ]
  },
  {
   "cell_type": "markdown",
   "id": "f6b1b54c",
   "metadata": {},
   "source": [
    "$$\\lim_{x \\rightarrow 1} x^2 + 4x = 5$$"
   ]
  },
  {
   "cell_type": "code",
   "execution_count": null,
   "id": "2e0e3003",
   "metadata": {},
   "outputs": [],
   "source": []
  },
  {
   "cell_type": "markdown",
   "id": "6ecba467",
   "metadata": {},
   "source": [
    "\\begin{gather*}\n",
    "f(x)=\\frac{x^2-4}{x-2} \\quad\\quad x \\rightarrow 2\n",
    "\\end{gather*}\n",
    "\n",
    "\\begin{align}\n",
    "D(f)=\\{x \\in \\mathbb{R} | x \\neq 2\\}\n",
    "\\end{align}"
   ]
  },
  {
   "cell_type": "markdown",
   "id": "5ac990fc",
   "metadata": {},
   "source": [
    "<img src=\"../img/fun-limit2.PNG\" style=\"width:650px;height:450px\" />"
   ]
  },
  {
   "cell_type": "markdown",
   "id": "47bf04a2",
   "metadata": {},
   "source": [
    "| $x$  | $$f(x)=\\frac{x^2-4}{x-2}$$ |\n",
    "|:--:|:---------------:|\n",
    "|0|2|\n",
    "|1.5|3.5|\n",
    "|1.99|3.99|\n",
    "|$$\\vdots$$|$$\\vdots$$|\n",
    "|2,01|4.01|\n",
    "|2.5|4.5|\n",
    "|3|5|"
   ]
  },
  {
   "cell_type": "markdown",
   "id": "37a4faed",
   "metadata": {},
   "source": [
    "$$\\lim_{x \\rightarrow 1} f(x)=\\frac{x^2-4}{x-2} = 4$$"
   ]
  },
  {
   "cell_type": "markdown",
   "id": "3254690f",
   "metadata": {},
   "source": [
    "# Limite de uma função\n",
    "Seja uma função $f(x)$ qualquer, queremos saber para qual valor ela se aproxima quando o número $x$ se aproxima, e está sificientemente perto, de algum determinado número $a$. Representamos essa ideia de aproximação por:\n",
    "$$\\lim_{x \\rightarrow a} f(x) = L$$\n",
    "\n",
    "que se lê $f(x)$ está suficientemente próximo de $L$ quando $x$ está suficientemente próximo do ponto $a$"
   ]
  },
  {
   "cell_type": "code",
   "execution_count": null,
   "id": "aba445d1",
   "metadata": {},
   "outputs": [],
   "source": []
  },
  {
   "cell_type": "markdown",
   "id": "f80a8634",
   "metadata": {},
   "source": [
    "# Definição formal do limite de uma função\n",
    "Seja uma função $f(x)$ definida em um intervalo aberto contendo $a$, exceto possivelmente em $x=a$, e seja $L$ um número real, então $\\displaystyle{\\lim_{x \\rightarrow a} f(x) = L}$ significa que para todo $\\epsilon > 0$, existe um $\\delta > 0$, tal que se $0<|x-a|<\\delta$, então $|f(x)-L|< \\epsilon$."
   ]
  },
  {
   "cell_type": "markdown",
   "id": "b4650f54-2892-418a-a3c8-c5c376228d47",
   "metadata": {},
   "source": [
    "Utilizando a definição de limite para provar que $\\displaystyle{\\lim_{x \\to 2} 2x - 3 = 1}$"
   ]
  },
  {
   "cell_type": "markdown",
   "id": "80444935-9528-4dd3-8b90-8eab167b20b9",
   "metadata": {},
   "source": [
    "Para tal é preciso mostrar que para $\\epsilon > 0$ existe $\\delta > 0$, tal que:\n",
    "se $o < |x-2| < \\delta$, então $|(2x-3)-1|< \\epsilon$"
   ]
  },
  {
   "cell_type": "markdown",
   "id": "c1abbc52-3470-43ca-8031-0e139fe3f1dc",
   "metadata": {},
   "source": [
    "\\begin{equation*}\n",
    "|(2x-3)-1| < \\epsilon\n",
    "\\end{equation*}\n",
    "\\begin{align}\n",
    "|2x-4|< \\epsilon\\\\\n",
    "|2(x-2)|<\\epsilon\\\\\n",
    "2|x-2|<\\epsilon\\\\\n",
    "|x-2|<\\frac{\\epsilon}{2}\n",
    "\\end{align}\n"
   ]
  },
  {
   "cell_type": "markdown",
   "id": "218e3ab6-e916-474d-ae9b-8e69b9a7058f",
   "metadata": {},
   "source": [
    "Fazendo $\\delta=\\frac{\\epsilon}{2}$ e observando que se a última desigualdade é verdadeira, a primeira também é, e temos que:\n",
    "Se $0<|x-2|>\\delta$, então $|(2x-3)-1| < \\epsilon$, logo o $\\displaystyle\\lim_{x \\to 2}2x-3=1$"
   ]
  },
  {
   "cell_type": "markdown",
   "id": "7c6cedab-5950-4a11-8e19-0dde1ae89e10",
   "metadata": {},
   "source": [
    "## Propriedades do limite de uma função\n",
    "Supondo que $a$ e $c$ são números reais quaisquer e os limites $\\displaystyle\\lim_{x \\to a}f(x)$ e $\\displaystyle\\lim_{x \\to a}g(x)$ existam, então:\n",
    "1. ${\\displaystyle\\lim_{x \\to a}[f(x) + g(x)] = \\lim_{x \\to a}f(x) + \\lim_{x \\to a}g(x)}$\n",
    "\n",
    "2. ${\\displaystyle\\lim_{x \\to a}[f(x) - g(x)] = \\lim_{x \\to a}f(x) - \\lim_{x \\to a}g(x)}$\n",
    "\n",
    "3. ${\\displaystyle\\lim_{x \\to a}[cf(x)] = c\\lim_{x \\to a}f(x)}$\n",
    "\n",
    "4. ${\\displaystyle\\lim_{x \\to a}[f(x) . g(x)] = \\lim_{x \\to a}f(x) . \\lim_{x \\to a}g(x)}$\n",
    "\n",
    "5. ${\\displaystyle\\lim_{x \\to a} \\frac{f(x)}{g(x)}} = \\frac{\\lim_{x \\to a}f(x)}{\\lim_{x \\to a}g(x)} se \\displaystyle\\lim_{x \\to a}g(x) \\neq 0$"
   ]
  },
  {
   "cell_type": "markdown",
   "id": "337a3a5d-2caf-4b07-865a-8f314633f0ff",
   "metadata": {},
   "source": [
    "Se $a$ e $c$ são números reais quaisquer, então:\n",
    "1. $\\displaystyle\\lim_{x \\to a}c=c$\n",
    "2. $\\displaystyle\\lim_{x \\to a}x=a$"
   ]
  },
  {
   "cell_type": "markdown",
   "id": "990e09c5-a07a-4313-997f-4588e93c4210",
   "metadata": {},
   "source": [
    "Supondo que $a$ e $c$ são números reais quaisquer e os limites $\\displaystyle\\lim_{x \\to a}f(x)$ e $\\displaystyle\\lim_{x \\to a}g(x)$ existam, então:\n",
    "1. $\\displaystyle\\lim_{x \\to a}[f(x)]^n = \\left[\\lim_{x \\to a}f(x)\\right]^n$\n",
    "2. $\\displaystyle\\lim_{x \\to a}x^n = a^n$\n",
    "3. $\\displaystyle\\lim_{x \\to a} \\sqrt[n]{x} = \\sqrt[n]{a}$, em que $n$ é um número inteiro."
   ]
  },
  {
   "cell_type": "markdown",
   "id": "ef4839f9-ed44-4a6a-a105-76962dd9e462",
   "metadata": {},
   "source": [
    "### Exemplos\n",
    "$\\text{Ex.: 1}\\quad\\quad\\displaystyle\\lim_{x \\to 2} x^2 + 2x + 5 $"
   ]
  },
  {
   "cell_type": "markdown",
   "id": "86843723-5d83-4363-88a0-5fd8a46ab72e",
   "metadata": {},
   "source": [
    "\\begin{equation*}\n",
    "\\displaystyle\\lim_{x \\to 2} x^2 + \\displaystyle\\lim_{x \\to 2} 2x + \\displaystyle\\lim_{x \\to 2} 5\n",
    "\\end{equation*}\n",
    "\\begin{align}\n",
    "2^2 + 2\\displaystyle\\lim_{x \\to 2} + 5\\\\\n",
    "\\end{align}\n",
    "\\begin{align}\n",
    "4+2.2+5\n",
    "\\end{align}\n",
    "\\begin{align}\n",
    "4+4+5\n",
    "\\end{align}\n",
    "\\begin{align}\n",
    "\\boxed{13}\n",
    "\\end{align}"
   ]
  },
  {
   "cell_type": "markdown",
   "id": "77566eaa-f896-4cc9-a5f3-d3b433c5b796",
   "metadata": {},
   "source": [
    "<img src=\"../img/fun-limit3.PNG\" style=\"width:650px;height:450px\" />"
   ]
  },
  {
   "cell_type": "code",
   "execution_count": null,
   "id": "55265764-e4de-47ed-b3ff-90efb7a532f3",
   "metadata": {},
   "outputs": [],
   "source": []
  },
  {
   "cell_type": "markdown",
   "id": "e00643df-ef44-44af-9da8-0de8dacaada4",
   "metadata": {},
   "source": [
    "$\\text{Ex.: 2}\\quad\\quad\\displaystyle\\lim_{x \\to 1} \\frac{4x^2 - x} {x + 1} $"
   ]
  },
  {
   "cell_type": "markdown",
   "id": "4b705f25-4fc2-4f29-83ab-df5f57dfdc94",
   "metadata": {},
   "source": [
    "$$D(f)=\\{x \\in \\mathbb{R} | x \\neq -1\\}$$"
   ]
  },
  {
   "cell_type": "markdown",
   "id": "d34e2a32-e6f3-4a58-b66c-a8c79bd09ca4",
   "metadata": {},
   "source": [
    "\\begin{equation*}\n",
    "\\frac{\\displaystyle\\lim_{x \\to 1}4x^2 - \\lim_{x \\to 1}x} {\\displaystyle\\lim_{x \\to 1}x + \\lim_{x \\to 1}1}\n",
    "\\end{equation*}\n",
    "\\begin{align}\n",
    "\\frac{4.1^2 - 1}{1+1}\n",
    "\\end{align}\n",
    "\\begin{align}\n",
    "\\frac{4-1}{2}\n",
    "\\end{align}\n",
    "\\begin{align}\n",
    "\\boxed{\\frac{3}{2}}\n",
    "\\end{align}"
   ]
  },
  {
   "cell_type": "code",
   "execution_count": null,
   "id": "e97f4e83-e891-4771-b6ff-cae597ecd8ee",
   "metadata": {},
   "outputs": [],
   "source": []
  },
  {
   "cell_type": "markdown",
   "id": "6977bd05-99ee-4653-a0d7-849ff0542fe0",
   "metadata": {},
   "source": [
    "$\\text{Ex.: 3}\\quad\\quad\\displaystyle\\lim_{x \\to 1} \\frac{x^2 - 1} {x - 1} $"
   ]
  },
  {
   "cell_type": "markdown",
   "id": "40df1075-ba03-4eed-9775-f99590d51533",
   "metadata": {},
   "source": [
    "O domínio da função é dado por: $$D(f)=\\{x \\in \\mathbb{R} | x \\neq 1\\}$$ Do contrário teríamos:"
   ]
  },
  {
   "cell_type": "markdown",
   "id": "92e26910-d1ef-426b-9f65-51f1adc3c0ce",
   "metadata": {},
   "source": [
    "\\begin{equation*}\n",
    "\\frac{\\displaystyle\\lim_{x \\to 1}x^2 - \\lim_{x \\to 1}1} {\\displaystyle\\lim_{x \\to 1}x - \\lim_{x \\to 1}1}\n",
    "\\end{equation*}\n",
    "\\begin{align}\n",
    "\\frac{1^2 - 1}{1 - 1}\n",
    "\\end{align}\n",
    "\\begin{align}\n",
    "\\frac{0}{0}\n",
    "\\end{align}"
   ]
  },
  {
   "cell_type": "markdown",
   "id": "aff18d8f-2732-441a-935f-8bacf9a1f395",
   "metadata": {},
   "source": [
    "Reescrevendo o denominador da função, considerando a restrição imposta pelo seu domínio, temos:\n",
    "\\begin{equation*}\n",
    "\\displaystyle\\lim_{x \\to 1} \\frac{x^2 - 1} {x - 1}\n",
    "\\end{equation*}\n",
    "\\begin{align}\n",
    "\\displaystyle\\lim_{x \\to 1} \\frac{(x-1)(x+1)} {(x - 1)}\n",
    "\\end{align}\n",
    "\\begin{align}\n",
    "\\displaystyle\\lim_{x \\to 1} x+1\n",
    "\\end{align}\n",
    "\\begin{align}\n",
    "\\displaystyle\\lim_{x \\to 1} x + \\lim_{x \\to 1} 1\n",
    "\\end{align}\n",
    "\\begin{align}\n",
    "1+1\n",
    "\\end{align}\n",
    "\\begin{align}\n",
    "2\n",
    "\\end{align}"
   ]
  },
  {
   "cell_type": "markdown",
   "id": "7db254ad-788a-4873-a893-13e343c46693",
   "metadata": {},
   "source": [
    "$\\text{Ex.: 3.}\\quad \\text{Mostre que}\\quad \\displaystyle\\lim_{x \\to 0} x^2 sen \\frac{1}{x^3}=0 $"
   ]
  },
  {
   "cell_type": "markdown",
   "id": "eed95dca-7a7a-464e-9a7f-ae4d2ae92133",
   "metadata": {},
   "source": [
    "## Teorema do Sanduíche\n",
    "Se $f(x) \\leq g(x) \\leq h(x)$ quando $x$ está próximo a $a$, exceto possivelmente em $a$, e $\\displaystyle\\lim_{x \\to a} f(x) = L$, então $\\displaystyle\\lim_{x \\to a}g(x)=L$.\n",
    "\n",
    "<img src=\"../img/teorema-do-sanduba.PNG\" style=\"width:450px;height:250px\" />"
   ]
  },
  {
   "cell_type": "markdown",
   "id": "a9aacece-2010-4bcf-a02d-54496543ec7f",
   "metadata": {},
   "source": [
    "Como a função trigonométrica seno é limitada com imagem apresentado $-1 \\leq y \\leq 1$, logo: \n",
    "\\begin{equation*}\n",
    "-1 \\leq sen x \\leq 1\n",
    "\\end{equation*}\n",
    "\\begin{align}\n",
    "-1 \\leq sen \\frac{1}{x^3} \\leq 1\n",
    "\\end{align}\n",
    "\\begin{align}\n",
    "-1 \\leq sen \\frac{1}{x^3} \\leq 1 \\quad \\color{red}{.(x^2)}\n",
    "\\end{align}\n",
    "\\begin{align}\n",
    "-x^2 \\leq x^2 sen \\frac{1}{x^3} \\leq x^2\n",
    "\\end{align}\n",
    "\n",
    "Utilizando o Teorema do Sanduíche:\n",
    "\n",
    "\\begin{align}\n",
    "\\displaystyle\\lim_{x \\to 0} -x^2 = 0\\\\\n",
    "\\displaystyle\\lim_{x \\to 0} x^2 = 0\\\\\n",
    "\\therefore \\displaystyle\\lim_{x \\to 0} x^2 sen \\frac{1}{x^3}=0\n",
    "\\end{align}"
   ]
  },
  {
   "cell_type": "code",
   "execution_count": null,
   "id": "127eeb76-cf90-4b9f-8b86-cd6863246986",
   "metadata": {},
   "outputs": [],
   "source": []
  }
 ],
 "metadata": {
  "kernelspec": {
   "display_name": "Python 3 (ipykernel)",
   "language": "python",
   "name": "python3"
  },
  "language_info": {
   "codemirror_mode": {
    "name": "ipython",
    "version": 3
   },
   "file_extension": ".py",
   "mimetype": "text/x-python",
   "name": "python",
   "nbconvert_exporter": "python",
   "pygments_lexer": "ipython3",
   "version": "3.12.0"
  }
 },
 "nbformat": 4,
 "nbformat_minor": 5
}
