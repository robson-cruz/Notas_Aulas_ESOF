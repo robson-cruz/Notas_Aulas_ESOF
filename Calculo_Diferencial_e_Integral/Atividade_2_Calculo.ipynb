{
 "cells": [
  {
   "cell_type": "markdown",
   "id": "f0c097e0",
   "metadata": {},
   "source": [
    "# Atividade 2"
   ]
  },
  {
   "cell_type": "markdown",
   "id": "8ad36c27",
   "metadata": {},
   "source": [
    "### QUESTÃO 1\n",
    "O crescimento e o decrescimento de uma função descrevem como os valores da função estão mudando à medida que a variável independente se move ao longo do domínio da função. Uma função f(x) é considerada crescente em um intervalo se, à medida que você se move da esquerda para a direita nesse intervalo, os valores da função aumentam. Isso significa que quanto maior o valor de x, maior será o valor correspondente de f(x).\n",
    "\n",
    "Além do exposto, ao examinar geometricamente o sinal da derivada, é possível determinar os intervalos nos quais uma função derivável demonstra crescimento ou decrescimento. Como uma consequência do Teorema do Valor Médio, obtém-se o seguinte resultado:"
   ]
  },
  {
   "cell_type": "markdown",
   "id": "a96c62ab",
   "metadata": {},
   "source": [
    "**Teorema (Teste Crescente/Decrescente)**: Seja $f$ contínua no intervalo $[a, b]$ e derivável no intervalo $]a, b[$,\n",
    "\n",
    "a) Se $f'(x)>0$ para todo $x \\in \\,]a, b[$, então, $f$ é crescente em $[a, b]$\n",
    "\n",
    "b) Se $f'(x)<0$ para todo $x \\in \\,]a, b[$, então, $f$ é decrescente em [a, b]"
   ]
  },
  {
   "cell_type": "markdown",
   "id": "fd7d125c",
   "metadata": {},
   "source": [
    "Fonte: BRESCANSIN, A. Y. F. **Cálculo Diferencial e Integral I**. Aplicações da derivada e da integral definida. Maringá: UniCesumar, 2017. p. 260.\n",
    "\n",
    "Com base no que foi apresentado e considerando a função $f(x)=x^2+6x-1$, é possível dizer que os intervalos em que a função é crescente e decrescente são:"
   ]
  },
  {
   "cell_type": "markdown",
   "id": "8fd9f0c7",
   "metadata": {},
   "source": [
    "Alternativa 1:\n",
    "função é crescente no intervalo de ]-∞,0[ e ]3,+∞[ e decrescente no intervalo ]2,0[\n",
    "\n",
    "Alternativa 2:\n",
    "A função é crescente no intervalo de ]-∞,-2[ e ]-2,+∞[ e decrescente no intervalo ]-3,0[\n",
    "\n",
    "Alternativa 3:\n",
    "A função é crescente no intervalo de ]-∞,0[ e em ]0,+∞[ e não apresenta intervalo decrescente.\n",
    "\n",
    "Alternativa 4:\n",
    "A função é crescente no intervalo de ]-∞,-4[ e ]0,+∞[ e decrescente no intervalo ]-4,0[\n",
    "\n",
    "Alternativa 5:\n",
    "A função não apresenta intervalos crescente e decrescente no intervalo ]-4,0["
   ]
  },
  {
   "cell_type": "code",
   "execution_count": null,
   "id": "d5855f08",
   "metadata": {},
   "outputs": [],
   "source": []
  },
  {
   "cell_type": "markdown",
   "id": "b406f1cb",
   "metadata": {},
   "source": [
    "Para determinar os intervalos em que a função $f(x)=x^3+6x−1$ é crescente e decrescente, você precisa analisar a primeira derivada da função. A função é crescente onde a primeira derivada é positiva e decrescente onde a primeira derivada é negativa.\n",
    "\n",
    "Vamos calcular a primeira derivada da função:"
   ]
  },
  {
   "cell_type": "markdown",
   "id": "4e211fd9",
   "metadata": {},
   "source": [
    "$f(x)=x^3+6x-1$\n",
    "\n",
    "$f(x)=3x^2+12x$"
   ]
  },
  {
   "cell_type": "markdown",
   "id": "7ad289e1",
   "metadata": {},
   "source": [
    "Agora, igualamos a primeira derivada a zero para encontrar os pontos críticos:\n",
    "\n",
    "$3x^2+12x=0$"
   ]
  },
  {
   "cell_type": "markdown",
   "id": "854ce198",
   "metadata": {},
   "source": [
    "Fatorando $3x$ fora:\n",
    "    \n",
    "$3x(x+4)=0$   \n",
    "\n",
    "Isso nos dá dois valores críticos: $x=0$ e $x=-4$$"
   ]
  },
  {
   "cell_type": "markdown",
   "id": "86183d2d",
   "metadata": {},
   "source": [
    "Agora, vamos analisar os intervalos entre esses valores críticos para determinar onde a função é crescente e decrescente. Podemos fazer isso usando os testes de intervalos:\n",
    "\n"
   ]
  },
  {
   "cell_type": "markdown",
   "id": "0b6f57fa",
   "metadata": {},
   "source": [
    "1. Para $x<-4$, escolhemos um valor de teste, como $x=-5$, e substituímos na derivada:\n",
    "\n",
    "$f'(-5)=3(-5)^2+12(-5)$\n",
    "\n",
    "$f'(-5)=3(25)-60$\n",
    "\n",
    "$f'(-5)=75-60$\n",
    "\n",
    "$f'(-5)=15$"
   ]
  },
  {
   "cell_type": "markdown",
   "id": "cad081ca",
   "metadata": {},
   "source": [
    "Como a derivada é positiva em $x=-5$, a função é crescente no intervalo $(-\\infty,-4)$."
   ]
  },
  {
   "cell_type": "markdown",
   "id": "c5950863",
   "metadata": {},
   "source": [
    "2. Entre -4 e 0, escolhemos um valor de teste, como $x=-2$, e substituímos na derivada:\n",
    "    \n",
    "$f'(-2)=3(-2)^2+12(-2)$\n",
    "\n",
    "$f'(-2)=3.4-24$\n",
    "\n",
    "$f'(-2)=12-24$\n",
    "\n",
    "$f'(-2)=-12$"
   ]
  },
  {
   "cell_type": "markdown",
   "id": "7879c811",
   "metadata": {},
   "source": [
    "3. Para $x>0$, escolhemos um valor de teste, como $x=1$, e substituímos na derivada:\n",
    "\n",
    "$f'(1)=3(1)^2+12(1)$\n",
    "\n",
    "$f'(1)=3+12$\n",
    "\n",
    "$f'(1)=15$"
   ]
  },
  {
   "cell_type": "markdown",
   "id": "eb10892b",
   "metadata": {},
   "source": [
    "Como a derivada é positiva em $x=1$, a função é crescente no intervalo $(0,+\\infty)$"
   ]
  },
  {
   "cell_type": "markdown",
   "id": "028c3882",
   "metadata": {},
   "source": [
    "Portanto, a alternativa correta é: **A função é crescente no intervalo de $] -\\infty,-4[$ e $]0,+\\infty[$ e decrescente no intervalo $]-4,0[$**"
   ]
  },
  {
   "cell_type": "code",
   "execution_count": null,
   "id": "d34832f0",
   "metadata": {},
   "outputs": [],
   "source": []
  },
  {
   "cell_type": "markdown",
   "id": "4769c951",
   "metadata": {},
   "source": [
    "### QUESTÃO 2\n",
    "Os conceitos de limite são amplamente utilizados na matemática, especialmente na análise matemática, cálculo e outras áreas relacionadas. Eles são fundamentais para compreender o comportamento das funções em pontos específicos à medida que variáveis se aproximam de valores particulares.\n",
    "\n",
    "Seja o seguinte limite:\n",
    "$\\displaystyle\\lim_{x \\to 2} \\frac{x^2+6x-16}{x^2+x-6}$"
   ]
  },
  {
   "cell_type": "markdown",
   "id": "e8acaab6",
   "metadata": {},
   "source": [
    "Alternativa 1:\n",
    "-1.\n",
    "\n",
    "Alternativa 2:\n",
    "-2.\n",
    "\n",
    "Alternativa 3:\n",
    "0.\n",
    "\n",
    "Alternativa 4:\n",
    "1.\n",
    "\n",
    "Alternativa 5:\n",
    "2."
   ]
  },
  {
   "cell_type": "code",
   "execution_count": null,
   "id": "d45a5928",
   "metadata": {},
   "outputs": [],
   "source": []
  },
  {
   "cell_type": "markdown",
   "id": "7ef3ae81",
   "metadata": {},
   "source": [
    "É possível dizer que o valor do limite da função em questão é:"
   ]
  },
  {
   "cell_type": "markdown",
   "id": "80881107",
   "metadata": {},
   "source": [
    "$\\displaystyle \\begin{array}{ c l l }\n",
    "\\lim\\limits_{x\\to 2}\\dfrac{x^{2} +6x-16}{x^{2} +x-6} & =\\dfrac{2^{2} +6( 2) -16}{2^{2} +2-6}\\\n",
    "& =\\dfrac{4+12-16}{4+2-6}\\\n",
    "& =\\dfrac{4}{0}\n",
    "\\end{array}$"
   ]
  },
  {
   "cell_type": "markdown",
   "id": "ce9cf967",
   "metadata": {},
   "source": [
    "$\\displaystyle \\begin{array}{ r l }\n",
    "\\dfrac{x^{2} +6x-16}{x^{2} +x-6} & =\\dfrac{( x+8)( x-2)}{( x+3)( x-2)}\n",
    "\\end{array}$"
   ]
  },
  {
   "cell_type": "markdown",
   "id": "79f5511d",
   "metadata": {},
   "source": [
    "$\\displaystyle \\begin{array}{ r l }\n",
    "\\lim\\limits_{x\\to 2}\\dfrac{( x+8)( x-2)}{( x+3)( x-2)} & =\\lim\\limits_{x\\to 2}\\dfrac{x+8}{x+3}\n",
    "\\end{array}$"
   ]
  },
  {
   "cell_type": "markdown",
   "id": "a504b01b",
   "metadata": {},
   "source": [
    "$\\displaystyle \\begin{array}{ r l }\n",
    "\\lim\\limits_{x\\to 2}\\dfrac{x+8}{x+3} & =\\dfrac{2+8}{2+3}\\\n",
    "& =\\dfrac{10}{5}\\\n",
    "& =\\boxed{2}\n",
    "\\end{array}$"
   ]
  },
  {
   "cell_type": "code",
   "execution_count": null,
   "id": "059abfa4",
   "metadata": {},
   "outputs": [],
   "source": []
  },
  {
   "cell_type": "markdown",
   "id": "be266089",
   "metadata": {},
   "source": [
    "### QUESTÃO 3\n",
    "\n",
    "O limite de uma função é um conceito fundamental na análise matemática que descreve o comportamento de uma função à medida que sua variável independente se aproxima de um determinado valor. Isso significa que estamos observando como a função se comporta quando $x$ se torna cada vez mais próximo de $a$, mas não necessariamente igual $a$. O limite pode existir mesmo que o valor da função em $a$ não esteja definido."
   ]
  },
  {
   "cell_type": "markdown",
   "id": "945c9627",
   "metadata": {},
   "source": [
    "Visto isso, considere a função $f:\\mathbb{R} \\rightarrow \\mathbb{R}$ definida por:"
   ]
  },
  {
   "cell_type": "markdown",
   "id": "87d5154b",
   "metadata": {},
   "source": [
    "$f(x)=\\left\\{\\begin{matrix}\n",
    "2x-1,\\quad se\\, x<-1\\\\\n",
    "\\frac{x^2-x-5}{x+2}, \\quad se\\, x \\ge-1\n",
    "\\end{matrix}\\right.$"
   ]
  },
  {
   "cell_type": "markdown",
   "id": "63b1d775",
   "metadata": {},
   "source": [
    "Com base no exposto e considerando $x = -1$, sobre a continuidade e a diferenciabilidade da função $f$ nesse ponto, é possível dizer que:"
   ]
  },
  {
   "cell_type": "markdown",
   "id": "4dc860f8",
   "metadata": {},
   "source": [
    "Alternativa 1:\n",
    "f não é continua em x=-1 e não é diferenciável em x=-1.\n",
    "\n",
    "Alternativa 2:\n",
    "f é continua em x=-1 e f não é diferenciável em x=-1.\n",
    "\n",
    "Alternativa 3:\n",
    "f não é continua em x=-1 e é diferenciável em x=-1.\n",
    "\n",
    "Alternativa 4:\n",
    "f é continua em x=-1 e f é diferenciável em x=-1.\n",
    "\n",
    "Alternativa 5:\n",
    "O valor x=-1 não é objeto de análise da função."
   ]
  },
  {
   "cell_type": "code",
   "execution_count": null,
   "id": "f8e5cd31",
   "metadata": {},
   "outputs": [],
   "source": []
  },
  {
   "cell_type": "code",
   "execution_count": null,
   "id": "21b9b524",
   "metadata": {},
   "outputs": [],
   "source": []
  },
  {
   "cell_type": "markdown",
   "id": "4a721e84",
   "metadata": {},
   "source": [
    "Para determinar a continuidade e a diferenciabilidade da função $f(x)$ em $x = -1$, primeiro, vamos calcular o valor da função em $x = -1$ para ver se a função é contínua nesse ponto. Em seguida, vamos verificar se a derivada da função existe em $x = -1$ para avaliar a diferenciabilidade."
   ]
  },
  {
   "cell_type": "markdown",
   "id": "0be61f29",
   "metadata": {},
   "source": [
    "1. Continuidade:\n",
    "\n",
    "Para verificar a continuidade, precisamos calcular os limites à esquerda e à direita de $x = -1$ e verificar se eles são iguais ao valor da função em $x = -1$.\n",
    "\n",
    "a) Limite à esquerda de $x = -1$:\n"
   ]
  },
  {
   "cell_type": "markdown",
   "id": "4048ec16",
   "metadata": {},
   "source": [
    "$\\displaystyle\\lim_{x \\to -1^-} f(x)=\\displaystyle\\lim_{x \\to -1^-} (2x-1)$"
   ]
  },
  {
   "cell_type": "markdown",
   "id": "dfb09fdf",
   "metadata": {},
   "source": [
    "$\\displaystyle\\lim_{x \\to -1^-} f(x)=2(-1)-1$"
   ]
  },
  {
   "cell_type": "markdown",
   "id": "013f306d",
   "metadata": {},
   "source": [
    "$\\displaystyle\\lim_{x \\to -1^-} f(x)=-2-1$"
   ]
  },
  {
   "cell_type": "markdown",
   "id": "50ef1b50",
   "metadata": {},
   "source": [
    "$\\boxed{\\displaystyle\\lim_{x \\to -1^-} f(x)=-3}$"
   ]
  },
  {
   "cell_type": "markdown",
   "id": "1e50859e",
   "metadata": {},
   "source": [
    "b) Limite à direita de $x = -1$:\n",
    "\n",
    "$\\displaystyle\\lim_{x \\to -1^+} f(x)=\\displaystyle\\lim_{x \\to -1^+} \\frac{x^2-x-5}{x+2}$"
   ]
  },
  {
   "cell_type": "markdown",
   "id": "b05dd470",
   "metadata": {},
   "source": [
    "$\\displaystyle\\lim_{x \\to -1^+} f(x)=\\displaystyle\\lim_{x \\to -1^+} \\frac{(-1)^2-(-1)-5}{-1+2}$"
   ]
  },
  {
   "cell_type": "markdown",
   "id": "8300ef26",
   "metadata": {},
   "source": [
    "$\\displaystyle\\lim_{x \\to -1^+} f(x)=\\displaystyle\\lim_{x \\to -1^+} \\frac{1+1-5}{1}$"
   ]
  },
  {
   "cell_type": "markdown",
   "id": "039db56a",
   "metadata": {},
   "source": [
    "$\\boxed{\\displaystyle\\lim_{x \\to -1^+} f(x)= -3}$"
   ]
  },
  {
   "cell_type": "markdown",
   "id": "ea5e36b0",
   "metadata": {},
   "source": [
    "Agora, vamos verificar o valor da função em $x = -1$:\n",
    "\n",
    "$f(−1)=2(−1)−1=−2−1=−3$"
   ]
  },
  {
   "cell_type": "markdown",
   "id": "11e7bc85",
   "metadata": {},
   "source": [
    "Os limites à esquerda e à direita, bem como o valor da função em $x = -1$, são todos iguais a -3. Portanto, a função é contínua em $x = -1$."
   ]
  },
  {
   "cell_type": "markdown",
   "id": "befffe5f",
   "metadata": {},
   "source": [
    "2. Diferenciabilidade\n",
    "\n",
    "Para verificar a diferenciabilidade em $x = -1$, precisamos calcular a derivada da função em $x = -1$ e ver se ela existe.\n",
    "\n",
    "Vamos calcular a derivada da função no intervalo em que $x \\ge -1$ usando a regra do quociente:"
   ]
  },
  {
   "cell_type": "markdown",
   "id": "55d4e621",
   "metadata": {},
   "source": [
    "$f'(x)= \\frac{d}{dx} \\left(\\frac{x^2-x-5}{x+2}\\right)=\\frac{((x+2).(2x-1)-(x^2-x-5).1)}{(x+2)^2}$"
   ]
  },
  {
   "cell_type": "markdown",
   "id": "643bba26",
   "metadata": {},
   "source": [
    "Agora, calcularemos a derivada em $x = -1$:\n",
    "\n",
    "$f'(x)=\\frac{((−1+2)⋅(2(−1)−1)−(−1^2−(−1)−5)⋅1)}{(-1+2)^2}=\\frac{(1⋅(−2−1)−(1+1−5))}{1}=\\frac{(-3+4)}{1}=1$"
   ]
  },
  {
   "cell_type": "markdown",
   "id": "25963011",
   "metadata": {},
   "source": [
    "A derivada da função em $x = -1$ é igual a 1.\n",
    "\n",
    "Portanto, a função é contínua e diferenciável em $x = -1$.\n",
    "A alternativa correta é: **$f$ é contínua em $x=-1$ e $f$ é diferenciável em $x=-1$.**"
   ]
  },
  {
   "cell_type": "code",
   "execution_count": null,
   "id": "d84c8d21",
   "metadata": {},
   "outputs": [],
   "source": []
  },
  {
   "cell_type": "markdown",
   "id": "f9d2613a",
   "metadata": {},
   "source": [
    "### Questão 4\n",
    "\n",
    "Encontrar os valores máximos e mínimos de uma função é um problema comum na análise de funções, e tem diversas aplicações em matemática, ciências, economia, entre outros campos. Para encontrar o máximo absoluto (global) e o mínimo absoluto, você precisa considerar todo o domínio da função e comparar os valores da função em diferentes pontos.\n",
    "\n",
    "Com base na função $f(x)=x^2-4x+1$, assinale a alternativa correta que indica os valores de máximo e mínimo absolutos de f no intervalo [1, 4]:"
   ]
  },
  {
   "cell_type": "markdown",
   "id": "f9ba3758",
   "metadata": {},
   "source": [
    "Alternativa 1:\n",
    "Máximo absoluto em x = 4 e mínimo absoluto em x = 2.\n",
    "\n",
    "Alternativa 2:\n",
    "Máximo absoluto em x = 3 e mínimo absoluto em x = 1.\n",
    "\n",
    "Alternativa 3:\n",
    "Máximo absoluto em x = 0 e mínimo absoluto em x = 2.\n",
    "\n",
    "Alternativa 4:\n",
    "Máximo absoluto em x = 4 e mínimo absoluto em x = 0.\n",
    "\n",
    "Alternativa 5:\n",
    "Máximo absoluto em x = 1 e mínimo absoluto em x = 3."
   ]
  },
  {
   "cell_type": "code",
   "execution_count": null,
   "id": "699d74c4",
   "metadata": {},
   "outputs": [],
   "source": []
  },
  {
   "cell_type": "markdown",
   "id": "6b6618d8-4bcf-4d5d-a75f-1df50d8ec08f",
   "metadata": {},
   "source": [
    "Para encontrar os valores de máximo e mínimo absolutos da função $f(x)=x^2 −4x + 1$ no intervalo $[1,4]$, deve-se considerar os valores da função nesse intervalo e compará-los."
   ]
  },
  {
   "cell_type": "markdown",
   "id": "c9db7023-0dfa-4732-b6b1-d8d7b8530afc",
   "metadata": {},
   "source": [
    "Primeiro, deve-se calcular os valores da função nos extremos do intervalo:"
   ]
  },
  {
   "cell_type": "markdown",
   "id": "c8c41778-c646-459d-ae78-69266cd8d283",
   "metadata": {},
   "source": [
    "Para $x=1$"
   ]
  },
  {
   "cell_type": "markdown",
   "id": "5432b731-557a-4458-ac73-21bb1be07d68",
   "metadata": {},
   "source": [
    "$f(1)=1^2 − 4.1 + 1 = 1 − 4 + 1 = −2$"
   ]
  },
  {
   "cell_type": "code",
   "execution_count": null,
   "id": "94fc23a0-23c9-4255-ac12-699570a5481c",
   "metadata": {},
   "outputs": [],
   "source": []
  },
  {
   "cell_type": "markdown",
   "id": "e76139f4-62c0-4c13-8220-7cbbd928af48",
   "metadata": {},
   "source": [
    "Para $x=4$"
   ]
  },
  {
   "cell_type": "markdown",
   "id": "326e005e-1069-49ca-b155-58808ea76385",
   "metadata": {},
   "source": [
    "$f(4)=4^2 − 4.4 + 1 = 16 − 16 + 1 = 1$"
   ]
  },
  {
   "cell_type": "markdown",
   "id": "39a0cedb-7ca3-4ffa-aee7-18f4a8458042",
   "metadata": {},
   "source": [
    "Agora, deve-se encontrar os pontos críticos da função onde a derivada é zero. Vamos calcular a derivada de $f(x)$:"
   ]
  },
  {
   "cell_type": "markdown",
   "id": "61f477c2-4f72-4832-8db8-af0a48c87350",
   "metadata": {},
   "source": [
    "$f'(x)=2x−4$"
   ]
  },
  {
   "cell_type": "markdown",
   "id": "53ac032e-82f7-487d-96e6-65c0efd1c301",
   "metadata": {},
   "source": [
    "Agora iguala-se $f'(x)$ a zero:"
   ]
  },
  {
   "cell_type": "markdown",
   "id": "9a553472-0e9e-45d9-8d0d-d06a43075c56",
   "metadata": {},
   "source": [
    "$2x-4=0$"
   ]
  },
  {
   "cell_type": "markdown",
   "id": "6900411a-a8b1-486f-ae2d-0268d9c86626",
   "metadata": {},
   "source": [
    "$2x = 4$"
   ]
  },
  {
   "cell_type": "markdown",
   "id": "7c08fb90-b4e8-48b4-ac57-82935aea8d9c",
   "metadata": {},
   "source": [
    "$x=2$"
   ]
  },
  {
   "cell_type": "markdown",
   "id": "2a4636a6-36c6-4076-a86c-a4ded01cbee5",
   "metadata": {},
   "source": [
    "Então, $x=2$ é um ponto crítico. Vamos encontrar o valor de $f(x)$ nesse ponto:"
   ]
  },
  {
   "cell_type": "markdown",
   "id": "c462a193-691c-43cc-a000-2d6b3c603376",
   "metadata": {},
   "source": [
    "$f(2) = 2^2 -4.2 +1 = 4-8+1=-3$"
   ]
  },
  {
   "cell_type": "markdown",
   "id": "78819339-b398-4733-8067-376b396b2af2",
   "metadata": {},
   "source": [
    "Agora, podemos comparar os valores encontrados:"
   ]
  },
  {
   "cell_type": "markdown",
   "id": "f0e171cc-faae-419a-b8cb-9edf7e52ca6f",
   "metadata": {},
   "source": [
    "$f(1)=-2$\n",
    "\n",
    "$f(2)=-3$\n",
    "\n",
    "$f(4)=1$"
   ]
  },
  {
   "cell_type": "markdown",
   "id": "f5ab95b2-816e-47d2-90b1-e7a196770dee",
   "metadata": {},
   "source": [
    "Portanto, o valor máximo absoluto ocorre em $x=4$ com $f(4)=1$ e o valor mínimo absoluto ocorre em $x=2$ com $f(2)=−3$.\n",
    "\n",
    "A alternativa correta é a **Alternativa 1**:\n",
    "\n",
    "Máximo absoluto em $x=4$ e mínimo absoluto em $x=2$."
   ]
  },
  {
   "cell_type": "code",
   "execution_count": null,
   "id": "c63ba48b-c6e1-48d4-a802-6e06c6ed8ada",
   "metadata": {},
   "outputs": [],
   "source": []
  },
  {
   "cell_type": "code",
   "execution_count": null,
   "id": "be41cc82-b697-45e2-b7ad-eb690e8736a6",
   "metadata": {},
   "outputs": [],
   "source": []
  },
  {
   "cell_type": "markdown",
   "id": "ae32744c",
   "metadata": {},
   "source": [
    "### Questão 5\n",
    "\n",
    "Os máximos e mínimos relativos de um gráfico estão relacionados aos pontos em que uma função atinge os valores mais altos (máximos) e mais baixos (mínimos) em uma vizinhança próxima, mas não necessariamente em todo o domínio da função. Esses pontos são conhecidos como pontos de extremo local ou pontos críticos.\n",
    "\n",
    "\n",
    "Dada a função $f(x)=x^3-6x2+9x+1$, é possível dizer que os pontos de máximo e de mínimo do gráfico da função são:"
   ]
  },
  {
   "cell_type": "markdown",
   "id": "386d05e0",
   "metadata": {},
   "source": [
    "Alternativa 1:\n",
    "Máximo é (0,5) e mínimo é (3,0).\n",
    "\n",
    "Alternativa 2:\n",
    "Máximo é (5,1) e mínimo é (3,1).\n",
    "\n",
    "Alternativa 3:\n",
    "Máximo é (1,5) e mínimo é (3,1).\n",
    "\n",
    "Alternativa 4:\n",
    "Máximo é (2,5) e mínimo é (3,2).\n",
    "\n",
    "Alternativa 5:\n",
    "Máximo é (0,0) e mínimo é (1,1)."
   ]
  },
  {
   "cell_type": "code",
   "execution_count": null,
   "id": "5e25c0e7",
   "metadata": {},
   "outputs": [],
   "source": []
  },
  {
   "cell_type": "markdown",
   "id": "11b5703f-39de-493c-bf2d-5cc373711f5b",
   "metadata": {},
   "source": [
    "Para encontrar os pontos de máximo e mínimo de uma função, você precisa primeiro calcular a derivada da função e, em seguida, encontrar os valores de $x$ onde a derivada é igual a zero (pontos críticos). Depois disso, você pode usar o teste da segunda derivada para determinar se esses pontos são máximos ou mínimos.\r\n",
    "\r\n"
   ]
  },
  {
   "cell_type": "markdown",
   "id": "ab477074-d071-4c62-88f2-a9cfea5cfd10",
   "metadata": {},
   "source": [
    "Vamos começar calculando a derivada da função $f(x)=x^3-6x^2+9x+1$:"
   ]
  },
  {
   "cell_type": "markdown",
   "id": "307d071e-70b3-4fc8-85cd-f1cbe2fe2517",
   "metadata": {},
   "source": [
    "$f'(x) = 3x^2 - 12x + 9$"
   ]
  },
  {
   "cell_type": "markdown",
   "id": "62d3ae51-2c99-4faa-8802-4eb770848f8b",
   "metadata": {},
   "source": [
    "Agora, vamos encontrar os pontos críticos igualando a derivada a zero e resolvendo para $x$:"
   ]
  },
  {
   "cell_type": "markdown",
   "id": "9986b59a-9acf-460f-8e7b-992fe01e14dc",
   "metadata": {},
   "source": [
    "$3x^2 - 12x + 9 = 0$"
   ]
  },
  {
   "cell_type": "markdown",
   "id": "daad6960-9f3e-45e3-a07a-c62b2507deb5",
   "metadata": {},
   "source": [
    "Dividindo todos os termos por 3 para simplificar:"
   ]
  },
  {
   "cell_type": "markdown",
   "id": "c70dbe1f-4898-4c9c-b8a0-b2a3c4c13f78",
   "metadata": {},
   "source": [
    "$x^2 - 4x + 3 = 0$"
   ]
  },
  {
   "cell_type": "markdown",
   "id": "402a2f98-9417-457f-adbc-d34049d262b5",
   "metadata": {},
   "source": [
    "Agora, vamos fatorar a equação:"
   ]
  },
  {
   "cell_type": "markdown",
   "id": "f2ed5693-e4f9-4498-8875-1ebd6efb0ffe",
   "metadata": {},
   "source": [
    "$(x - 3)(x - 1) = 0$"
   ]
  },
  {
   "cell_type": "markdown",
   "id": "ae329ccb-5aeb-4a6c-8d24-322dfd8b70e7",
   "metadata": {},
   "source": [
    "Isso nos dá dois valores de $x$:"
   ]
  },
  {
   "cell_type": "markdown",
   "id": "6409f208-25f4-4f8a-b60b-594fea2f88ce",
   "metadata": {},
   "source": [
    "1. $\\quad x - 3 = 0 \\implies x = 3$\r\n",
    "2. $\\quad x - 1 = 0 \\implies x = 1$\r\n",
    "\n"
   ]
  },
  {
   "cell_type": "markdown",
   "id": "13950a39-f430-4594-af8b-befbefd55d73",
   "metadata": {},
   "source": [
    "Agora que temos os pontos críticos em $x = 3$ e $x = 1$, podemos usar o teste da segunda derivada para determinar se eles são máximos ou mínimos."
   ]
  },
  {
   "cell_type": "markdown",
   "id": "1b73f571-09ff-4182-87d1-7a0fe6a47bfe",
   "metadata": {},
   "source": [
    "Vamos calcular a segunda derivada:"
   ]
  },
  {
   "cell_type": "markdown",
   "id": "a41d7546-49e6-4f50-82ee-6345f978316a",
   "metadata": {},
   "source": [
    "$f''(x) = 6x - 12$\r\n"
   ]
  },
  {
   "cell_type": "markdown",
   "id": "bf779a19-8e10-4397-b2b3-f13f0a4987ca",
   "metadata": {},
   "source": [
    "Agora, avaliamos a segunda derivada nos pontos críticos:"
   ]
  },
  {
   "cell_type": "markdown",
   "id": "289de959-e481-4005-8ede-7984a22ddeb1",
   "metadata": {},
   "source": [
    "1. Para $\\quad x=3$:\n",
    "\n",
    "$f''(3) = 6.(3)-12=18-12=6$"
   ]
  },
  {
   "cell_type": "markdown",
   "id": "a8644b95-aed6-476d-bfd9-61be67ab0501",
   "metadata": {},
   "source": [
    "Como a segunda derivada é positiva em $x = 3$, isso indica que há um mínimo local em $x = 3$."
   ]
  },
  {
   "cell_type": "markdown",
   "id": "0525e7bc-f1bd-4689-ae68-128d628629d0",
   "metadata": {},
   "source": [
    "1. Para $\\quad x=1$:\n",
    "\n",
    "$f''(3) = 6.(1)-12=6-12=-6$"
   ]
  },
  {
   "cell_type": "markdown",
   "id": "5c0392c2-adba-480d-8ff2-5813ff5e24de",
   "metadata": {},
   "source": [
    "Como a segunda derivada é negativa em $x = 1$, isso indica que há um máximo local em $x = 1$.\r\n"
   ]
  },
  {
   "cell_type": "markdown",
   "id": "02dac40b-39da-43fd-a773-52dd2eb11d94",
   "metadata": {},
   "source": [
    "Agora que sabemos que $x = 3$ é um mínimo local e $x = 1$ é um máximo local, podemos encontrar os valores correspondentes de $(f(x))$ para esses valores de $x$:"
   ]
  },
  {
   "cell_type": "markdown",
   "id": "a20fc6bd-0a39-4667-b5bc-fac019aca732",
   "metadata": {},
   "source": [
    "Para o mínimo relativo em $x = 3$:\r\n"
   ]
  },
  {
   "cell_type": "markdown",
   "id": "ea017068-fc34-4440-84c3-92e0d9a56d02",
   "metadata": {},
   "source": [
    "$f(3) = 3^3 - 6(3)^2 + 9(3) + 1 = 27 - 54 + 27 + 1 = 1$\r\n"
   ]
  },
  {
   "cell_type": "markdown",
   "id": "aae89e9b-0b31-4d11-a927-d4a9e5820846",
   "metadata": {},
   "source": [
    "Portanto, o ponto de mínimo relativo é $(3, 1)$."
   ]
  },
  {
   "cell_type": "markdown",
   "id": "d350600b-bf49-4526-bbfb-79de7021b996",
   "metadata": {},
   "source": [
    "Para o máximo relativo em $x = 1$:"
   ]
  },
  {
   "cell_type": "markdown",
   "id": "b6236562-019d-4734-9f35-ef52b2a62dd6",
   "metadata": {},
   "source": [
    "$f(1) = 1^3 - 6(1)^2 + 9(1) + 1 = 1 - 6 + 9 + 1 = 5$\r\n"
   ]
  },
  {
   "cell_type": "markdown",
   "id": "46f931f8-b71d-4285-8980-13dcd7a53668",
   "metadata": {},
   "source": [
    "Portanto, o ponto de máximo relativo é $(1, 5)$.\r\n"
   ]
  },
  {
   "cell_type": "markdown",
   "id": "683ea963-694c-40ea-93e6-dba06351241e",
   "metadata": {},
   "source": [
    "Assim, a resposta correta é a **\"Alternativa 3\"**: Máximo é (1,5) e mínimo é (3,1)."
   ]
  },
  {
   "cell_type": "code",
   "execution_count": null,
   "id": "83a79ffc-d3d8-4756-bc1a-7ec89396959e",
   "metadata": {},
   "outputs": [],
   "source": []
  }
 ],
 "metadata": {
  "kernelspec": {
   "display_name": "Python 3 (ipykernel)",
   "language": "python",
   "name": "python3"
  },
  "language_info": {
   "codemirror_mode": {
    "name": "ipython",
    "version": 3
   },
   "file_extension": ".py",
   "mimetype": "text/x-python",
   "name": "python",
   "nbconvert_exporter": "python",
   "pygments_lexer": "ipython3",
   "version": "3.12.0"
  }
 },
 "nbformat": 4,
 "nbformat_minor": 5
}
