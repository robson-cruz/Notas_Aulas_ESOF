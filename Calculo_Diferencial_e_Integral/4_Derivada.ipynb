{
 "cells": [
  {
   "cell_type": "markdown",
   "id": "2d1d9ac7-24d9-4990-8b70-79e758e2aa0a",
   "metadata": {},
   "source": [
    "# Derivada\n",
    "## O Problema da Tangente\n",
    "Em uma circunferência, uma determinada reta no plano é tangente a essa circunferência se a reta toca a circunferência em apenas um ponto.\n",
    "\n",
    "<img src=\"./img/reta-tangente.PNG\" />"
   ]
  },
  {
   "cell_type": "code",
   "execution_count": null,
   "id": "c9217bff-7fe1-40b1-8bcf-476000e5dee0",
   "metadata": {},
   "outputs": [],
   "source": []
  },
  {
   "cell_type": "markdown",
   "id": "b933785b-c1c8-4632-8dfd-d17e6cd7e6ca",
   "metadata": {},
   "source": [
    "**Definição**: Seja $f$ uma função definida numa vizinhança de $a$. Para definir a reta tangente de uma curva $y=f(x)$ num ponto $P(a,f(a))$, consideremos um ponto vizinho $Q(x,f(x))$, em que $x \\ne a$ e calculamos a inclinação (ou coeficiente angular) da reta secante $PQ$, que é obtida por:"
   ]
  },
  {
   "cell_type": "markdown",
   "id": "2739c528-4ed6-4d8e-a4f6-198ba5c5cccf",
   "metadata": {},
   "source": [
    "$(y-y_1)=m(x-x_1) \\rightarrow m= \\frac{(y-y_1)}{x-x_1}$"
   ]
  },
  {
   "cell_type": "markdown",
   "id": "108cd311-d6b0-4971-bd9c-087632e24b3d",
   "metadata": {},
   "source": [
    "$m=\\frac{f(x)-f(a)}{x-a}$"
   ]
  },
  {
   "cell_type": "markdown",
   "id": "b4b2a8bb-7b03-4c37-ab79-74da29a77761",
   "metadata": {},
   "source": [
    "### Exemplo\n",
    "\n",
    "Determinar a reta que passa pelos pontos $C(1,-2)$ e $B(2,2)$"
   ]
  },
  {
   "cell_type": "markdown",
   "id": "3cba60b3-aa8a-46c6-a0a8-5b969a8c7866",
   "metadata": {},
   "source": [
    "$m=\\frac{2-(-2)}{2-1}$"
   ]
  },
  {
   "cell_type": "markdown",
   "id": "134a61d7-fa57-42e4-932b-22ac3a317fec",
   "metadata": {},
   "source": [
    "$m=\\frac{2+2}{1}$"
   ]
  },
  {
   "cell_type": "markdown",
   "id": "d07d04f6-b188-43a3-9ef4-c2e17579864c",
   "metadata": {},
   "source": [
    "$\\boxed{m=4}$"
   ]
  },
  {
   "cell_type": "markdown",
   "id": "5acf9ac1-c0d0-44a6-8a8b-8cf1916d3cab",
   "metadata": {},
   "source": [
    "Por $B$"
   ]
  },
  {
   "cell_type": "markdown",
   "id": "3f7da185-2248-40c0-94c4-865a7d2bd179",
   "metadata": {},
   "source": [
    "$(y-2)=4(x-2)$"
   ]
  },
  {
   "cell_type": "markdown",
   "id": "b22c8a8a-aeb1-43be-94cd-d4f575b64efa",
   "metadata": {},
   "source": [
    "$y-2=4x-8$"
   ]
  },
  {
   "cell_type": "markdown",
   "id": "0665a091-10ce-427f-b77a-1b534c0af5fe",
   "metadata": {},
   "source": [
    "$y=4x-8+2$"
   ]
  },
  {
   "cell_type": "markdown",
   "id": "2fbe4823-eddd-4a94-81a7-1ac962b5108b",
   "metadata": {},
   "source": [
    "$y=4x-6$"
   ]
  },
  {
   "cell_type": "code",
   "execution_count": null,
   "id": "47d399e6-acde-42d4-ab0f-be6dbc1eb83e",
   "metadata": {},
   "outputs": [],
   "source": []
  },
  {
   "cell_type": "markdown",
   "id": "898a5582-10da-4b05-9ac4-55eef2f2ec66",
   "metadata": {},
   "source": [
    "<img src=\"./img/reta-tangente2.png\" />"
   ]
  },
  {
   "cell_type": "markdown",
   "id": "23376dec-bda6-4585-b1ec-adcdaf292145",
   "metadata": {},
   "source": [
    "## Reta Tangente\n",
    "**Definição**: A reta tangente à curva $y=f(x)$ em um ponto $P(a,f(a))$ é a reta passando por $P$ com inclinação\n",
    "$$ m = \\displaystyle\\lim_{x \\to a} \\frac{f(x)-f(a)}{x-a}$$ Desde que esse limite exista."
   ]
  },
  {
   "cell_type": "markdown",
   "id": "43200267-1289-4ce0-9b83-3aa12c0d2087",
   "metadata": {},
   "source": [
    "Logo: $y=mx+b$, equivalente a $y=ax+b$"
   ]
  },
  {
   "cell_type": "markdown",
   "id": "483e3106-40c6-4f0f-b03a-89c7dd5b3477",
   "metadata": {},
   "source": [
    "**Exemplo:** Encontrar a equação da reta tangente à parábola $y=x^2$ no ponto $P(1,1)$"
   ]
  },
  {
   "cell_type": "code",
   "execution_count": null,
   "id": "83f11cd7-dfa4-485d-90a9-34ec9aec8f01",
   "metadata": {},
   "outputs": [],
   "source": []
  },
  {
   "cell_type": "markdown",
   "id": "d737d7f4-f39f-4de7-b2dc-fda7dc16159b",
   "metadata": {},
   "source": [
    "<p style=\"color:red;\">Solução</p>"
   ]
  },
  {
   "cell_type": "markdown",
   "id": "99ea3220-25c2-40fd-99d6-493a0a15e19e",
   "metadata": {},
   "source": [
    "Se $y=x^2$, tem-se uma função quadrática com concavidade para baixo e com coeficientes $b,c=0$ e $a=1$. Veja a representação gráfica da função.\n",
    "\n",
    "<img src=\"./img/funcao-quadratica.PNG\" />"
   ]
  },
  {
   "cell_type": "markdown",
   "id": "8aaaa9d5-dbd9-4671-98d1-3fa102f880c3",
   "metadata": {},
   "source": [
    "Para encontrar a equação da reta tangente, temos que utilizar a definição do limite para calcular o coeficiente angular da reta."
   ]
  },
  {
   "cell_type": "markdown",
   "id": "3dcdd02b-6503-4aca-837f-2b47eb6c9192",
   "metadata": {},
   "source": [
    "\\begin{align}\n",
    "m=\\displaystyle\\lim_{x \\to a} \\frac{f(x) - f(a)} {x-a}\\\\\n",
    "\\\\\n",
    "m=\\displaystyle\\lim_{x \\to 1} \\frac{x^2 - f(1)} {x-1}\\\\\n",
    "\\\\\n",
    "m=\\displaystyle\\lim_{x \\to 1} \\frac{x^2 - 1} {x-1}\\\\\n",
    "\\\\\n",
    "m=\\displaystyle\\lim_{x \\to 1} \\frac{(x - 1).(x+1)} {x-1}\\\\\n",
    "\\\\\n",
    "m=\\displaystyle\\lim_{x \\to 1} (x + 1)\\\\\n",
    "\\\\\n",
    "m=\\displaystyle\\lim_{x \\to 1} x + \\displaystyle\\lim_{x \\to 1} 1\\\\\n",
    "\\\\\n",
    "m=1+1\\\\\n",
    "\\\\\n",
    "m=2\n",
    "\\end{align}"
   ]
  },
  {
   "cell_type": "markdown",
   "id": "833c7e7f-e6fc-46c0-a72e-fb90829ce84b",
   "metadata": {},
   "source": [
    "Conhecendo o coeficiente angular ($m$), podemos calcular a equação da reta tangente através da equação $y-y_{0}=m(x-x_{0})$"
   ]
  },
  {
   "cell_type": "markdown",
   "id": "30785cb3-e6b8-46ea-84f3-9020e71cc7c7",
   "metadata": {},
   "source": [
    "\\begin{align}\n",
    "y-y_{0}=m(x-x_{0})\\\\\n",
    "\\\\\n",
    "y-1=2(x-1)\\\\\n",
    "\\\\\n",
    "y-1=2x-2\\\\\n",
    "\\\\\n",
    "y=2x-2+1\\\\\n",
    "\\\\\n",
    "\\color{red}\\boxed{y=2x-1}\n",
    "\\end{align}"
   ]
  },
  {
   "cell_type": "markdown",
   "id": "4713455c-3e66-4856-9562-78d2f8ed106a",
   "metadata": {},
   "source": [
    "Limites do tipo $$\\displaystyle\\lim_{h \\to 0} \\frac{f(a+h)-f(a)}{h}$$ sempre surgem quando calcula-se um ataxa de variação, por exemplo: taxa de reação química, custo marginal em econômia, taxa de variação da umidade do solo em relação ao tempo, visando ajustar sistemas de irrigação..."
   ]
  },
  {
   "cell_type": "code",
   "execution_count": null,
   "id": "9c35d25c-431e-4c9c-91e4-76242af43c19",
   "metadata": {},
   "outputs": [],
   "source": []
  },
  {
   "cell_type": "markdown",
   "id": "669a35b1-5dd1-4eca-972a-2b5a1147cf24",
   "metadata": {},
   "source": [
    "**Exemplo**\n",
    "\n",
    "Seja $f(x)=x^2$, determine a inclinação da reta tangente ou $f'(x)$ da função no ponto $(2,4)$"
   ]
  },
  {
   "cell_type": "markdown",
   "id": "483aaafb-f6ea-4caa-97e7-dffd1cc0187d",
   "metadata": {},
   "source": [
    "$f'(a)=\\displaystyle\\lim_{h \\to 0}\\frac{f(a+h)-f(a)}{h}$"
   ]
  },
  {
   "cell_type": "markdown",
   "id": "1f3a3b96-2e8a-4aa6-a521-24be98a6554b",
   "metadata": {},
   "source": [
    "$f'(2)=\\displaystyle\\lim_{h \\to 0}\\frac{f(2+h)-f(2)}{h}$"
   ]
  },
  {
   "cell_type": "markdown",
   "id": "243c7144-2d33-4686-ae0c-34eb37ade089",
   "metadata": {},
   "source": [
    "$f'(2)=\\displaystyle\\lim_{h \\to 0}\\frac{(2+h)^2-(2)^2}{h}$"
   ]
  },
  {
   "cell_type": "markdown",
   "id": "b1293c1a-6071-4784-8871-eba2bc65b50d",
   "metadata": {},
   "source": [
    "$f'(2)=\\displaystyle\\lim_{h \\to 0}\\frac{4+4h+h^2-4}{h}$"
   ]
  },
  {
   "cell_type": "markdown",
   "id": "0b540e63-8c37-401e-b75e-55098b06910b",
   "metadata": {},
   "source": [
    "$f'(2)=\\displaystyle\\lim_{h \\to 0}\\frac{4h+h^2}{h}$"
   ]
  },
  {
   "cell_type": "markdown",
   "id": "63f69591-8f09-4e5a-811e-2dcec3c512e1",
   "metadata": {},
   "source": [
    "$f'(2)=\\displaystyle\\lim_{h \\to 0}\\frac{h(4+h)}{h}$"
   ]
  },
  {
   "cell_type": "markdown",
   "id": "d3cce219-46e4-4fb9-9757-5f3af5ffe8a3",
   "metadata": {},
   "source": [
    "$f'(2)=\\displaystyle\\lim_{h \\to 0}4+h$"
   ]
  },
  {
   "cell_type": "markdown",
   "id": "9e467358-3716-4282-b470-08af526387eb",
   "metadata": {},
   "source": [
    "$\\boxed{f'(2)=4}$"
   ]
  },
  {
   "cell_type": "code",
   "execution_count": null,
   "id": "58203f04-60f0-4281-ab69-d63627d8d784",
   "metadata": {},
   "outputs": [],
   "source": []
  },
  {
   "cell_type": "markdown",
   "id": "d51ad9a5-a84b-4490-b8b0-4226de9a5325",
   "metadata": {},
   "source": [
    "## Definição de Derivada de uma Função\n",
    "A derivada de uma função $f$ em um número $a$, denotado por $f'(a)$, é $$f'(a)=\\displaystyle\\lim_{h \\to 0} \\frac{f(a+h) - f(a)}{h}$$ se o limite existir."
   ]
  },
  {
   "cell_type": "markdown",
   "id": "bd93968f-aa50-474d-8e1f-3addb68a2ff9",
   "metadata": {},
   "source": [
    "### Outras Notações de Derivada de uma Função\n",
    "Se usarmos a notação tradicional $y=f(x)$ pr indicar que a variável indenpendente é $x$ e a variável dependente é $y$, então algumas notações alternativas para as derivadas são: $$f'(x)=y'=\\frac{dy}{dx}=\\frac{df}{dx}=\\frac{d}{dx}f(x)=Df(x)=D_{x}f(x)$$"
   ]
  },
  {
   "cell_type": "markdown",
   "id": "c9bc8399-12d2-4fa1-ac3d-cf027b5591bc",
   "metadata": {},
   "source": [
    "### Regras de Derivação\n",
    "1. $\\quad$ $\\frac{d}{dx}(c)=0$\n",
    "   \n",
    "Exemplo: A derivada da constante 5 em relação a derivada de $x$: \n",
    "\n",
    "$\\frac{d}{dx}(5)=0$"
   ]
  },
  {
   "cell_type": "markdown",
   "id": "ea6ff3bd-f23c-456d-93db-695aadaed560",
   "metadata": {},
   "source": [
    "2. $\\quad$ $\\frac{d}{dx}(x)=1$"
   ]
  },
  {
   "cell_type": "markdown",
   "id": "f3591680-7bd2-4523-ad3c-0afdde54c861",
   "metadata": {},
   "source": [
    "3. $\\quad$ $\\frac{d}{dx}(x^n)=nx^{n-1}$\n",
    "\n",
    "Exemplo: $\\frac{d}{dx}x^3 = 3.x^{3-1} = 3x^2$"
   ]
  },
  {
   "cell_type": "markdown",
   "id": "71a1ab1f-9399-4aa2-be27-25c8a4325d00",
   "metadata": {},
   "source": [
    "4. $\\quad$ $\\frac{d}{dx}[cf(x)]=c\\frac{d}{dx}f(x)$\n",
    "\n",
    "Exemplo: $\\frac{d}{dx}2x = 2\\frac{d}{dx}x = 2.1 = 2$"
   ]
  },
  {
   "cell_type": "markdown",
   "id": "dad072d8-9af8-4ae1-8a03-0391ddf28a81",
   "metadata": {},
   "source": [
    "5. Regra da adição: $\\quad$ $\\frac{d}{dx}[f(x)+g(x)]=\\frac{d}{dx}f(x)+\\frac{d}{dx}g(x)$\n",
    "\n",
    "6. Regra da subtração: $\\quad$ $\\frac{d}{dx}[f(x)-g(x)]=\\frac{d}{dx}f(x)-\\frac{d}{dx}g(x)$\n",
    "\n",
    "7. Regra do produto: $\\quad$ $\\frac{d}{dx}[f(x)g(x)]=f(x)\\frac{d}{dx}[g(x)]+g(x)\\frac{d}{dx}[f(x)]$\n",
    "\n",
    "8. Regra do quociente: $\\quad$ $\\frac{d}{dx}\\left[\\frac{f(x)}{g(x)}\\right] = \\frac{g(x)\\frac{d}{dx}[f(x)] - f(x)\\frac{d}{dx}[g(x)] }{[g(x)]^2}$\n",
    "\n",
    "9. Regra do exponencial: $\\frac{d}{dx}(e^x) = e^x$\n",
    "\n",
    "10. Regra do logarítmo natural: $\\frac{d}{dx}(\\ln{x}) = \\frac{1}{x}$\n",
    "\n",
    "11. Regra do logarítmo: $\\frac{d}{dx}(\\log_{a}x) = \\frac{1}{x\\,ln{a}}$\n",
    "\n",
    "12. Regra do seno: $\\frac{d}{dx}(\\sin{x}) = \\cos{x}$\n",
    "\n",
    "13. Regra do cosseno: $\\frac{d}{dx}(\\cos{x}) = -\\sin{x}$\n",
    "14. Regra da tangente: $\\frac{d}{dx}(\\tan{x}) = \\sec^2{x}$"
   ]
  },
  {
   "cell_type": "code",
   "execution_count": null,
   "id": "543652fc-a81d-4eac-ba77-39447aaca603",
   "metadata": {},
   "outputs": [],
   "source": []
  },
  {
   "cell_type": "markdown",
   "id": "6bf3dbf7-c2c2-4662-a6c5-c86148fa2069",
   "metadata": {},
   "source": [
    "## Derivada de uma função\n",
    "$$\\color{blue}f(x)=x^3-2x+5$$"
   ]
  },
  {
   "cell_type": "code",
   "execution_count": null,
   "id": "ad86026f-9094-461d-a4fe-daba19e9ef0b",
   "metadata": {},
   "outputs": [],
   "source": []
  },
  {
   "cell_type": "markdown",
   "id": "fe6a0afc-d6d2-4627-b1ca-5b33dd5cc2be",
   "metadata": {},
   "source": [
    "\\begin{align}\n",
    "\\frac{d}{dx}f(x)\\\\\n",
    "\\\\\n",
    "\\frac{d}{dx}(x^3 - 2x + 5) = \\frac{d}{dx}(x^3) - \\frac{d}{dx}(2x) + \\frac{d}{dx}(5)\\\\\n",
    "\\\\\n",
    "\\frac{d}{dx}(x^3 - 2x + 5) =3.x^{3-1} - 2.\\frac{d}{dx}(x) + 0\\\\\n",
    "\\\\=3x^2 - 2.1\\\\\n",
    "\\\\\n",
    "=3x^2-2\\\\\n",
    "\\\\\n",
    "\\boxed{f'(x)=3x^2-2}\n",
    "\\end{align}"
   ]
  },
  {
   "cell_type": "code",
   "execution_count": null,
   "id": "f00aff3a-8f45-49f8-b6f6-19df77d8526a",
   "metadata": {},
   "outputs": [],
   "source": []
  },
  {
   "cell_type": "markdown",
   "id": "c44c4919-9bf6-4951-9d95-05d8e7c16153",
   "metadata": {},
   "source": [
    "$$\\color{blue}f(x)=x^{-4} + 3x^2 -2x^{-1} - 1$$"
   ]
  },
  {
   "cell_type": "markdown",
   "id": "b3315ae2-fbbf-4ff8-8d8e-30356738c1d5",
   "metadata": {},
   "source": [
    "\\begin{align}\n",
    "\\frac{d}{dx} (x^{-4}) + 3x^2 -2x^{-1} - 1) = \\frac{d}{dx} (x^{-4}) + \\frac{d}{dx}(3x^2) - \\frac{d}{dx}(2x^{-1}) + \\frac{d}{dx}(-1)\\\\\n",
    "\\\\\n",
    "f'(x) = -4x^{-4-1} + 3\\frac{d}{dx}(x^2) - 2.\\frac{d}{dx}(x^{-1}) + 0\\\\\n",
    "\\\\\n",
    "f'(x) = -4x^{-5} + 3.2x^{2-1} - 2.-1x^{-1-1}\\\\\n",
    "\\\\\n",
    "f'(x) = -4x^{-5} + 6x + 2x^{-2}\\\\\n",
    "\\\\\n",
    "\\boxed{f'(x) = \\frac{-4}{x^{5}} + 6x + \\frac{2}{x^{2}}}\n",
    "\\end{align}"
   ]
  },
  {
   "cell_type": "code",
   "execution_count": null,
   "id": "e4c2bf21-ba69-460a-a140-e3385002cfba",
   "metadata": {},
   "outputs": [],
   "source": []
  },
  {
   "cell_type": "markdown",
   "id": "2be4d9ac-e761-467c-8805-f706938f9346",
   "metadata": {},
   "source": [
    "**Aplicação da Regra do Produto de Uma Derivada**: $$\\frac{d}{dx}[f(x)g(x)]=f(x)\\frac{d}{dx}[g(x)]+g(x)\\frac{d}{dx}[f(x)]$$\n",
    "\n",
    "Produto entre $f(x) = 3x - 1 \\quad$ e $\\quad g(x) = x^2 + 2x$"
   ]
  },
  {
   "cell_type": "code",
   "execution_count": null,
   "id": "09ef37f7-5e60-4248-a56e-5ebd5c1d0635",
   "metadata": {},
   "outputs": [],
   "source": []
  },
  {
   "cell_type": "markdown",
   "id": "9e211eb8-361d-4a35-9f80-b8b6c7e7d267",
   "metadata": {},
   "source": [
    "\\begin{align}\n",
    "\\frac{d}{dx}[(3x-1)(x^2+2x)] = (3x-1).\\frac{d}{dx}(x^2+2x) + (x^2+2x).\\frac{d}{dx}(3x-1)\\\\\n",
    "\\\\\n",
    "f'(x) = (3x-1).(2x+2) + (x^2+2x).3\\\\\n",
    "\\\\\n",
    "f'(x) = 6x^2+6x-2x-2+3x^2+6x\\\\\n",
    "\\\\\n",
    "\\boxed{f'(x)=9x^2+10x-2}\n",
    "\\end{align}"
   ]
  },
  {
   "cell_type": "code",
   "execution_count": null,
   "id": "a2af8adf-532f-428e-81ea-d3804abc125f",
   "metadata": {},
   "outputs": [],
   "source": []
  },
  {
   "cell_type": "markdown",
   "id": "d20f2642-478f-4ff6-ac52-41b8187ea66d",
   "metadata": {},
   "source": [
    "$f(x)=x^2 \\quad$ e $\\quad g(x)=x+5$"
   ]
  },
  {
   "cell_type": "markdown",
   "id": "75b22c2a-ba04-4f86-a9a3-4fa583f51e9c",
   "metadata": {},
   "source": [
    "\\begin{align}\n",
    "\\frac{d}{dx}[x^2.(x+5)] = x^2.\\frac{d}{dx}(x+5) + (x+5).\\frac{d}{dx}(x^2)\\\\\n",
    "\\\\\n",
    "f'(x) = x^2.(1) + (x+5).(2x)\\\\\n",
    "\\\\\n",
    "f'(x) = x^2+2x^2+10x\\\\\n",
    "\\\\\n",
    "\\boxed{f'(x)=3x^2+10x}\n",
    "\\end{align}"
   ]
  },
  {
   "cell_type": "markdown",
   "id": "297dcc0b-52d7-460b-884c-81771d96f746",
   "metadata": {},
   "source": [
    "**Aplicação da Regra do Quociente de Uma Derivada**\n",
    "$$\\frac{d}{dx}\\left[\\frac{f(x)}{g(x)}\\right]=\\frac{g(x)\\frac{d}{dx}[f(x)] - f(x)\\frac{d}{dx}[g(x)] }{[g(x)]^2}$$"
   ]
  },
  {
   "cell_type": "code",
   "execution_count": null,
   "id": "53bd56b1-38b0-4302-b2ea-2262a283a66b",
   "metadata": {},
   "outputs": [],
   "source": []
  },
  {
   "cell_type": "markdown",
   "id": "089a4776-d56d-4115-b815-31a7d9a97f19",
   "metadata": {},
   "source": [
    "$f(x)=3x-1\\quad$ e $\\quad g(x)=x^2+2x$"
   ]
  },
  {
   "cell_type": "markdown",
   "id": "781c8467-7de0-4d74-83f7-0eec6f9bbf02",
   "metadata": {},
   "source": [
    "\\begin{align}\n",
    "\\frac{d}{dx}\\left[\\frac{3x-1}{x^2+2x}\\right] = \\frac{ (x^2+2x).\\frac{d}{dx}(3x-1) - (3x-1)\\frac{d}{dx}(x^2+2x)} {(x^2+2x)^2 }\\\\\n",
    "\\\\\n",
    "\\frac{(x^2+2x).(3)-(3x-1).(2x+2)}{(x^2+2x)^2}\\\\\n",
    "\\\\\\frac{3x^2+6x-6x^2-6x+2x+2}{(x^2+2x)^2}\\\\\n",
    "\\\\\n",
    "\\boxed{\\frac{-3x^2+2x+2}{(x^2+2x)^2}}\\\\\n",
    "\\end{align}"
   ]
  },
  {
   "cell_type": "code",
   "execution_count": null,
   "id": "6ac4f868-f504-439a-8db8-9e0dc45b580d",
   "metadata": {},
   "outputs": [],
   "source": []
  },
  {
   "cell_type": "markdown",
   "id": "35ce4e37-a3d7-4aa6-9d5a-6865a0287aa1",
   "metadata": {},
   "source": [
    "$f(x)=x^2 \\quad$ e $\\quad g(x)=x+5$"
   ]
  },
  {
   "cell_type": "markdown",
   "id": "779cff68-3af0-44a7-b7b4-d1731c694973",
   "metadata": {},
   "source": [
    "\\begin{align}\n",
    "\\frac{d}{dx}\\left[\\frac{x^2}{x+5}\\right] = \\frac{ (x+5).\\frac{d}{dx}(x^2) - (x^2)\\frac{d}{dx}(x+5)} {(x+5)^2 }\\\\\n",
    "\\\\\n",
    "\\frac{(x+5).(2x) - (x^2).(1)}{(x+52)^2}\\\\\n",
    "\\\\\\frac{(x+5).(2x).(1)}{(x+5)^2}\\\\\n",
    "\\\\\n",
    "\\frac{2x^2+10x-x^2}{(x+5)^2}\\\\\n",
    "\\\\\n",
    "\\boxed{\\frac{x^2+10x}{(x+5)^2}}\\\\\n",
    "\\end{align}"
   ]
  },
  {
   "cell_type": "code",
   "execution_count": null,
   "id": "30299a09-39ce-47d4-abe3-680a0cb17f74",
   "metadata": {},
   "outputs": [],
   "source": []
  },
  {
   "cell_type": "markdown",
   "id": "2f1137ec-2dd7-4096-b611-4b8cb28dc677",
   "metadata": {},
   "source": [
    "**Exemplo**\n",
    "\n",
    "Seja $f(x)=\\sqrt{x}$, qul é a derivada de $f$ e qual é o domínio de $f'$?"
   ]
  },
  {
   "cell_type": "markdown",
   "id": "74a046b3-629c-46d0-bcb1-dcdaaa89af65",
   "metadata": {},
   "source": [
    "<img src=\"./img/raiz-x.png\" />"
   ]
  },
  {
   "cell_type": "markdown",
   "id": "510fcc38-d596-447c-bd4b-f18e074fafe0",
   "metadata": {},
   "source": [
    "$f'(x)=\\displaystyle\\lim_{h \\to 0} \\frac{f(x+h)-f(x)}{h}$"
   ]
  },
  {
   "cell_type": "markdown",
   "id": "1c225f42-3707-4663-a80a-16f173a22632",
   "metadata": {},
   "source": [
    "$f'(x)=\\displaystyle\\lim_{h \\to 0} \\frac{\\sqrt{x+h}-\\sqrt{x}}{h}$"
   ]
  },
  {
   "cell_type": "markdown",
   "id": "b691cc03-57da-496a-8438-e63678a25e47",
   "metadata": {},
   "source": [
    "$f'(x)=\\displaystyle\\lim_{h \\to 0} \\left(\\frac{\\sqrt{x+h}-\\sqrt{x}}{h}.\\frac{\\sqrt{x+h}+\\sqrt{x}}{\\sqrt{x+h}+\\sqrt{x}}\\right)$"
   ]
  },
  {
   "cell_type": "markdown",
   "id": "4fa48d71-a179-4392-87ab-769ee571ab65",
   "metadata": {},
   "source": [
    "$f'(x)=\\displaystyle\\lim_{h \\to 0} \\frac{x+h-x}{h(\\sqrt{x+h})+\\sqrt{x}}$"
   ]
  },
  {
   "cell_type": "markdown",
   "id": "8f958b43-3922-4533-a16e-b9db25432df8",
   "metadata": {},
   "source": [
    "$f'(x)=\\displaystyle\\lim_{h \\to 0} \\frac{1}{\\sqrt{x+h}+\\sqrt{x}}$"
   ]
  },
  {
   "cell_type": "markdown",
   "id": "203ea53d-34df-4738-a969-8f22b5cc5ba7",
   "metadata": {},
   "source": [
    "$f'(x)=\\displaystyle\\lim_{h \\to 0} \\frac{1}{\\sqrt{x+0}+\\sqrt{x}}$"
   ]
  },
  {
   "cell_type": "markdown",
   "id": "602a5fc1-fbf1-45e4-9f20-29d5820f2473",
   "metadata": {},
   "source": [
    "$f'(x)=\\frac{1}{\\sqrt{x}+\\sqrt{x}}$"
   ]
  },
  {
   "cell_type": "markdown",
   "id": "9a9ebec8-9832-4435-828f-497592866535",
   "metadata": {},
   "source": [
    "$\\boxed{f'(x)= \\frac{1}{2\\sqrt{x}}}$"
   ]
  },
  {
   "cell_type": "markdown",
   "id": "0d924500-ab06-40db-94a9-bd5bb498947d",
   "metadata": {},
   "source": [
    "<img src=\"./img/func-deriva.png\" />"
   ]
  },
  {
   "cell_type": "markdown",
   "id": "262f516f-1db3-4eef-a822-00aa155b9a53",
   "metadata": {},
   "source": [
    "$D(f')=\\{x \\in \\mathbb{R}\\,|\\,x > 0\\}$"
   ]
  },
  {
   "cell_type": "code",
   "execution_count": null,
   "id": "74f9561a-63f4-4424-9557-309669be849d",
   "metadata": {},
   "outputs": [],
   "source": []
  },
  {
   "cell_type": "markdown",
   "id": "6db9b2d2-f24f-4dc2-9d12-003e5cf24cff",
   "metadata": {},
   "source": [
    "## Toda Função é Derivável?\n",
    "\n",
    "**Definição**: Uma função $f$ é derivável ou diferenciável em $a$, se $f'(a)$ existir.\n",
    "\n",
    "É derivável ou diferenciável em um intervalo aberto $(a,b)$ ou $(a,\\infty)$ ou $(-\\infty,a)$ ou $(-\\infty,\\infty)$ se for diferenciável em cada número do intervalo."
   ]
  },
  {
   "cell_type": "markdown",
   "id": "9dc87a65-85e1-4a82-a18e-3f52032cdafa",
   "metadata": {},
   "source": [
    "a) Se o _lim_ que define a derivada no ponto existe;\n",
    "\n",
    "b) Verificar se existe o valor numérico da derivada no ponto a partir de sua expressão analítica."
   ]
  },
  {
   "cell_type": "markdown",
   "id": "c81a6228-e508-4a5c-bba3-e6496c5e7d86",
   "metadata": {},
   "source": [
    "### Exemplo\n",
    "\n",
    "A função $f(x)=\\frac{1}{x}$, não é derivável em $x=0$, pois $\\frac{1}{0}$ tende ao infinito."
   ]
  },
  {
   "cell_type": "markdown",
   "id": "9ffb9d0a-e487-4411-982b-a2ae53523ad9",
   "metadata": {},
   "source": [
    "<img src=\"./img/func-nao-derivavel.png\" />"
   ]
  },
  {
   "cell_type": "code",
   "execution_count": null,
   "id": "923c52d6-dea5-4f7f-ba89-e3a142374365",
   "metadata": {},
   "outputs": [],
   "source": []
  },
  {
   "cell_type": "markdown",
   "id": "bed6ce91-e554-4ad5-949d-28d732e84a00",
   "metadata": {},
   "source": [
    "A função $f(x)=|x|$, não é derivável em $x=0$, pois $\\frac{1}{0}$ tende ao infinito."
   ]
  },
  {
   "cell_type": "markdown",
   "id": "2b9abdea-eb83-4b0e-8d0a-9cc52f341ea3",
   "metadata": {},
   "source": [
    "<img src=\"./img/func-nao-derivavel2.png\" />"
   ]
  },
  {
   "cell_type": "code",
   "execution_count": null,
   "id": "aa7470bd-b22f-4e55-9571-a6525296e85b",
   "metadata": {},
   "outputs": [],
   "source": []
  }
 ],
 "metadata": {
  "kernelspec": {
   "display_name": "Python 3 (ipykernel)",
   "language": "python",
   "name": "python3"
  },
  "language_info": {
   "codemirror_mode": {
    "name": "ipython",
    "version": 3
   },
   "file_extension": ".py",
   "mimetype": "text/x-python",
   "name": "python",
   "nbconvert_exporter": "python",
   "pygments_lexer": "ipython3",
   "version": "3.12.0"
  }
 },
 "nbformat": 4,
 "nbformat_minor": 5
}
