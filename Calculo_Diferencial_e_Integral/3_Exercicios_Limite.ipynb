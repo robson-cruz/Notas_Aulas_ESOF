{
 "cells": [
  {
   "cell_type": "markdown",
   "id": "94ffcf05-f62a-4740-a6c7-9a386ede118f",
   "metadata": {},
   "source": [
    "Exemplo: $\\quad\\displaystyle\\lim_{x \\to 0} \\frac{\\sqrt{x^2+9}-3}{x^2}$"
   ]
  },
  {
   "cell_type": "code",
   "execution_count": null,
   "id": "008c628a-ba5f-4f12-a4cc-eb9e0fe9f86d",
   "metadata": {},
   "outputs": [],
   "source": []
  },
  {
   "cell_type": "markdown",
   "id": "b9afa678-5ed4-467b-96da-3a2059b12622",
   "metadata": {},
   "source": [
    "\\begin{align}\n",
    "\\displaystyle\\lim_{x \\to 0} \\frac{(\\sqrt{x^2+9}-3).(\\sqrt{x^2+9}+3)} {x^2.(\\sqrt{x^2+9}+3)}\n",
    "\\end{align}"
   ]
  },
  {
   "cell_type": "markdown",
   "id": "5e0fe0ff-39f7-4a33-99f5-0247904afeb7",
   "metadata": {},
   "source": [
    "\\begin{align}\n",
    "\\displaystyle\\lim_{x \\to 0} \\frac{\\sqrt{x^2+9} . \\sqrt{x^2+9} + 3. \\sqrt{x^2+9} -3 .\\sqrt{x^2-9} -9} {x^2.(\\sqrt{x^2+9}+3)}\n",
    "\\end{align}"
   ]
  },
  {
   "cell_type": "markdown",
   "id": "d01df115-a846-4ce4-b50e-67f516d4a82b",
   "metadata": {},
   "source": [
    "\\begin{align}\n",
    "\\displaystyle\\lim_{x \\to 0} \\frac{(\\sqrt{x^2+9})^2 + 3. \\sqrt{x^2+9} -3 .\\sqrt{x^2-9} -9} {x^2.(\\sqrt{x^2+9}+3)}\n",
    "\\end{align}"
   ]
  },
  {
   "cell_type": "markdown",
   "id": "195f671e-db1c-4c28-8209-8e916b58ea4d",
   "metadata": {},
   "source": [
    "\\begin{align}\n",
    "\\displaystyle\\lim_{x \\to 0} \\frac{x^2+9 + 3. \\sqrt{x^2+9} -3 .\\sqrt{x^2-9} -9} {x^2.(\\sqrt{x^2+9}+3)}\n",
    "\\end{align}"
   ]
  },
  {
   "cell_type": "markdown",
   "id": "801639a9-46c7-4814-97d0-d39ad0a425da",
   "metadata": {},
   "source": [
    "\\begin{align}\n",
    "\\displaystyle\\lim_{x \\to 0} \\frac{x^2} {x^2.(\\sqrt{x^2+9}+3)}\n",
    "\\end{align}"
   ]
  },
  {
   "cell_type": "markdown",
   "id": "388e6e43-f860-4b4a-9e54-7266c5676781",
   "metadata": {},
   "source": [
    "\\begin{align}\n",
    "\\boxed{\\displaystyle\\lim_{x \\to 0} \\frac{1} {\\sqrt{x^2+9}+3}}\n",
    "\\end{align}"
   ]
  },
  {
   "cell_type": "markdown",
   "id": "e74689ed-cc2b-4f3c-961b-51abc10990d3",
   "metadata": {},
   "source": [
    "\\begin{align}\n",
    "\\displaystyle\\lim_{x \\to 0} \\frac{1} {\\sqrt{0^2+9}+3}\n",
    "\\end{align}"
   ]
  },
  {
   "cell_type": "markdown",
   "id": "7159afa8-94f7-4d65-9f43-8f6dc173804f",
   "metadata": {},
   "source": [
    "\\begin{align}\n",
    "\\displaystyle\\lim_{x \\to 0} \\frac{1} {0+3+3}\n",
    "\\end{align}"
   ]
  },
  {
   "cell_type": "markdown",
   "id": "a6eba656-cac3-4211-a37a-32d8f709ad57",
   "metadata": {},
   "source": [
    "\\begin{align}\n",
    "\\boxed{\\displaystyle\\lim_{x \\to 0} \\frac{\\sqrt{x^2+9}-3}{x^2} = \\frac{1} {6}}\n",
    "\\end{align}"
   ]
  },
  {
   "cell_type": "code",
   "execution_count": null,
   "id": "0af24c92-4212-4717-b3c2-2b29d6434822",
   "metadata": {},
   "outputs": [],
   "source": []
  }
 ],
 "metadata": {
  "kernelspec": {
   "display_name": "Python 3 (ipykernel)",
   "language": "python",
   "name": "python3"
  },
  "language_info": {
   "codemirror_mode": {
    "name": "ipython",
    "version": 3
   },
   "file_extension": ".py",
   "mimetype": "text/x-python",
   "name": "python",
   "nbconvert_exporter": "python",
   "pygments_lexer": "ipython3",
   "version": "3.12.0"
  }
 },
 "nbformat": 4,
 "nbformat_minor": 5
}
